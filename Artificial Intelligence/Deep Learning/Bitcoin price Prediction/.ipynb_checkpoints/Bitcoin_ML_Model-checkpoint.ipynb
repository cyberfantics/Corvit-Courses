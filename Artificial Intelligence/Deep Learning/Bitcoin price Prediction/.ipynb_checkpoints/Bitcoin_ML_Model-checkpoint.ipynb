{
 "cells": [
  {
   "cell_type": "markdown",
   "id": "86331949-ba40-4bd7-8e5a-2d79e707bf63",
   "metadata": {},
   "source": [
    "### Load Necessary Libraries"
   ]
  },
  {
   "cell_type": "markdown",
   "id": "ba9c0fcf-dd97-4102-a4d2-764b645edc03",
   "metadata": {},
   "source": [
    "##### Install Necessary libraries using pip command. add -q flag for quiet mode"
   ]
  },
  {
   "cell_type": "code",
   "execution_count": 4,
   "id": "9a4fad2a-1927-47cb-8645-c30541c6d64b",
   "metadata": {},
   "outputs": [],
   "source": [
    "# !pip install yfinance -q"
   ]
  },
  {
   "cell_type": "code",
   "execution_count": 5,
   "id": "2801d053-54bc-427c-b6aa-d5ad4829b20e",
   "metadata": {},
   "outputs": [],
   "source": [
    "import yfinance as yf\n",
    "import pandas as pd\n",
    "import numpy as np\n",
    "import matplotlib.pyplot as plt"
   ]
  },
  {
   "cell_type": "markdown",
   "id": "1b7589bd-18a6-4033-9efa-e9c8e490d140",
   "metadata": {},
   "source": [
    "#### Download dataset from finace library till todays date, and load it in data variable"
   ]
  },
  {
   "cell_type": "code",
   "execution_count": 6,
   "id": "aa1d7684-958f-48d6-b1e6-fc34465205b8",
   "metadata": {},
   "outputs": [
    {
     "name": "stderr",
     "output_type": "stream",
     "text": [
      "[*********************100%***********************]  1 of 1 completed\n"
     ]
    }
   ],
   "source": [
    "data = yf.download('BTC-USD','2015-01-01','2024-09-18')"
   ]
  },
  {
   "cell_type": "markdown",
   "id": "cc607954-a353-43bd-b074-bcec4a9e3967",
   "metadata": {},
   "source": [
    "##### Convert it into dataframe using pandas library"
   ]
  },
  {
   "cell_type": "code",
   "execution_count": 8,
   "id": "eecb3108-1cca-42c5-94b4-98493f9f170c",
   "metadata": {},
   "outputs": [],
   "source": [
    "data = pd.DataFrame(data)"
   ]
  },
  {
   "cell_type": "code",
   "execution_count": 9,
   "id": "6207167c-4956-46a2-a6fd-f72664f5663b",
   "metadata": {},
   "outputs": [
    {
     "data": {
      "text/html": [
       "<div>\n",
       "<style scoped>\n",
       "    .dataframe tbody tr th:only-of-type {\n",
       "        vertical-align: middle;\n",
       "    }\n",
       "\n",
       "    .dataframe tbody tr th {\n",
       "        vertical-align: top;\n",
       "    }\n",
       "\n",
       "    .dataframe thead th {\n",
       "        text-align: right;\n",
       "    }\n",
       "</style>\n",
       "<table border=\"1\" class=\"dataframe\">\n",
       "  <thead>\n",
       "    <tr style=\"text-align: right;\">\n",
       "      <th></th>\n",
       "      <th>Open</th>\n",
       "      <th>High</th>\n",
       "      <th>Low</th>\n",
       "      <th>Close</th>\n",
       "      <th>Adj Close</th>\n",
       "      <th>Volume</th>\n",
       "    </tr>\n",
       "    <tr>\n",
       "      <th>Date</th>\n",
       "      <th></th>\n",
       "      <th></th>\n",
       "      <th></th>\n",
       "      <th></th>\n",
       "      <th></th>\n",
       "      <th></th>\n",
       "    </tr>\n",
       "  </thead>\n",
       "  <tbody>\n",
       "    <tr>\n",
       "      <th>2015-01-01</th>\n",
       "      <td>320.434998</td>\n",
       "      <td>320.434998</td>\n",
       "      <td>314.002991</td>\n",
       "      <td>314.248993</td>\n",
       "      <td>314.248993</td>\n",
       "      <td>8036550</td>\n",
       "    </tr>\n",
       "    <tr>\n",
       "      <th>2015-01-02</th>\n",
       "      <td>314.079010</td>\n",
       "      <td>315.838989</td>\n",
       "      <td>313.565002</td>\n",
       "      <td>315.032013</td>\n",
       "      <td>315.032013</td>\n",
       "      <td>7860650</td>\n",
       "    </tr>\n",
       "    <tr>\n",
       "      <th>2015-01-03</th>\n",
       "      <td>314.846008</td>\n",
       "      <td>315.149994</td>\n",
       "      <td>281.082001</td>\n",
       "      <td>281.082001</td>\n",
       "      <td>281.082001</td>\n",
       "      <td>33054400</td>\n",
       "    </tr>\n",
       "    <tr>\n",
       "      <th>2015-01-04</th>\n",
       "      <td>281.145996</td>\n",
       "      <td>287.230011</td>\n",
       "      <td>257.612000</td>\n",
       "      <td>264.195007</td>\n",
       "      <td>264.195007</td>\n",
       "      <td>55629100</td>\n",
       "    </tr>\n",
       "    <tr>\n",
       "      <th>2015-01-05</th>\n",
       "      <td>265.084015</td>\n",
       "      <td>278.341003</td>\n",
       "      <td>265.084015</td>\n",
       "      <td>274.473999</td>\n",
       "      <td>274.473999</td>\n",
       "      <td>43962800</td>\n",
       "    </tr>\n",
       "  </tbody>\n",
       "</table>\n",
       "</div>"
      ],
      "text/plain": [
       "                  Open        High         Low       Close   Adj Close  \\\n",
       "Date                                                                     \n",
       "2015-01-01  320.434998  320.434998  314.002991  314.248993  314.248993   \n",
       "2015-01-02  314.079010  315.838989  313.565002  315.032013  315.032013   \n",
       "2015-01-03  314.846008  315.149994  281.082001  281.082001  281.082001   \n",
       "2015-01-04  281.145996  287.230011  257.612000  264.195007  264.195007   \n",
       "2015-01-05  265.084015  278.341003  265.084015  274.473999  274.473999   \n",
       "\n",
       "              Volume  \n",
       "Date                  \n",
       "2015-01-01   8036550  \n",
       "2015-01-02   7860650  \n",
       "2015-01-03  33054400  \n",
       "2015-01-04  55629100  \n",
       "2015-01-05  43962800  "
      ]
     },
     "execution_count": 9,
     "metadata": {},
     "output_type": "execute_result"
    }
   ],
   "source": [
    "data.head()"
   ]
  },
  {
   "cell_type": "markdown",
   "id": "8236734f-6458-4189-bf68-bed4353cd6f6",
   "metadata": {},
   "source": [
    "#### Reset index of dataframe"
   ]
  },
  {
   "cell_type": "code",
   "execution_count": 10,
   "id": "379ebeab-e712-47e5-8d46-7d92e324d2e7",
   "metadata": {},
   "outputs": [],
   "source": [
    "data.reset_index(inplace=True)"
   ]
  },
  {
   "cell_type": "code",
   "execution_count": 11,
   "id": "8ac103c4-5eb7-4a35-a4c6-eb0f4170dcef",
   "metadata": {},
   "outputs": [
    {
     "data": {
      "text/html": [
       "<div>\n",
       "<style scoped>\n",
       "    .dataframe tbody tr th:only-of-type {\n",
       "        vertical-align: middle;\n",
       "    }\n",
       "\n",
       "    .dataframe tbody tr th {\n",
       "        vertical-align: top;\n",
       "    }\n",
       "\n",
       "    .dataframe thead th {\n",
       "        text-align: right;\n",
       "    }\n",
       "</style>\n",
       "<table border=\"1\" class=\"dataframe\">\n",
       "  <thead>\n",
       "    <tr style=\"text-align: right;\">\n",
       "      <th></th>\n",
       "      <th>Date</th>\n",
       "      <th>Open</th>\n",
       "      <th>High</th>\n",
       "      <th>Low</th>\n",
       "      <th>Close</th>\n",
       "      <th>Adj Close</th>\n",
       "      <th>Volume</th>\n",
       "    </tr>\n",
       "  </thead>\n",
       "  <tbody>\n",
       "    <tr>\n",
       "      <th>0</th>\n",
       "      <td>2015-01-01</td>\n",
       "      <td>320.434998</td>\n",
       "      <td>320.434998</td>\n",
       "      <td>314.002991</td>\n",
       "      <td>314.248993</td>\n",
       "      <td>314.248993</td>\n",
       "      <td>8036550</td>\n",
       "    </tr>\n",
       "    <tr>\n",
       "      <th>1</th>\n",
       "      <td>2015-01-02</td>\n",
       "      <td>314.079010</td>\n",
       "      <td>315.838989</td>\n",
       "      <td>313.565002</td>\n",
       "      <td>315.032013</td>\n",
       "      <td>315.032013</td>\n",
       "      <td>7860650</td>\n",
       "    </tr>\n",
       "    <tr>\n",
       "      <th>2</th>\n",
       "      <td>2015-01-03</td>\n",
       "      <td>314.846008</td>\n",
       "      <td>315.149994</td>\n",
       "      <td>281.082001</td>\n",
       "      <td>281.082001</td>\n",
       "      <td>281.082001</td>\n",
       "      <td>33054400</td>\n",
       "    </tr>\n",
       "  </tbody>\n",
       "</table>\n",
       "</div>"
      ],
      "text/plain": [
       "        Date        Open        High         Low       Close   Adj Close  \\\n",
       "0 2015-01-01  320.434998  320.434998  314.002991  314.248993  314.248993   \n",
       "1 2015-01-02  314.079010  315.838989  313.565002  315.032013  315.032013   \n",
       "2 2015-01-03  314.846008  315.149994  281.082001  281.082001  281.082001   \n",
       "\n",
       "     Volume  \n",
       "0   8036550  \n",
       "1   7860650  \n",
       "2  33054400  "
      ]
     },
     "execution_count": 11,
     "metadata": {},
     "output_type": "execute_result"
    }
   ],
   "source": [
    "data.head(3)"
   ]
  },
  {
   "cell_type": "markdown",
   "id": "28d010e1-b222-4abb-b32c-6631c914b8c2",
   "metadata": {},
   "source": [
    "#### We only want close column, so drop all other columns"
   ]
  },
  {
   "cell_type": "code",
   "execution_count": 12,
   "id": "c98ff292-f0bd-4f4f-afc4-f2294321934d",
   "metadata": {},
   "outputs": [],
   "source": [
    "data.drop(columns = ['Date','Open','High','Low','Adj Close','Volume'], inplace=True)"
   ]
  },
  {
   "cell_type": "code",
   "execution_count": 13,
   "id": "48dff259-927e-4674-b415-2c2b9f3667f9",
   "metadata": {},
   "outputs": [
    {
     "data": {
      "text/html": [
       "<div>\n",
       "<style scoped>\n",
       "    .dataframe tbody tr th:only-of-type {\n",
       "        vertical-align: middle;\n",
       "    }\n",
       "\n",
       "    .dataframe tbody tr th {\n",
       "        vertical-align: top;\n",
       "    }\n",
       "\n",
       "    .dataframe thead th {\n",
       "        text-align: right;\n",
       "    }\n",
       "</style>\n",
       "<table border=\"1\" class=\"dataframe\">\n",
       "  <thead>\n",
       "    <tr style=\"text-align: right;\">\n",
       "      <th></th>\n",
       "      <th>Close</th>\n",
       "    </tr>\n",
       "  </thead>\n",
       "  <tbody>\n",
       "    <tr>\n",
       "      <th>0</th>\n",
       "      <td>314.248993</td>\n",
       "    </tr>\n",
       "    <tr>\n",
       "      <th>1</th>\n",
       "      <td>315.032013</td>\n",
       "    </tr>\n",
       "    <tr>\n",
       "      <th>2</th>\n",
       "      <td>281.082001</td>\n",
       "    </tr>\n",
       "    <tr>\n",
       "      <th>3</th>\n",
       "      <td>264.195007</td>\n",
       "    </tr>\n",
       "    <tr>\n",
       "      <th>4</th>\n",
       "      <td>274.473999</td>\n",
       "    </tr>\n",
       "    <tr>\n",
       "      <th>...</th>\n",
       "      <td>...</td>\n",
       "    </tr>\n",
       "    <tr>\n",
       "      <th>3543</th>\n",
       "      <td>60571.300781</td>\n",
       "    </tr>\n",
       "    <tr>\n",
       "      <th>3544</th>\n",
       "      <td>60005.121094</td>\n",
       "    </tr>\n",
       "    <tr>\n",
       "      <th>3545</th>\n",
       "      <td>59182.835938</td>\n",
       "    </tr>\n",
       "    <tr>\n",
       "      <th>3546</th>\n",
       "      <td>58192.507812</td>\n",
       "    </tr>\n",
       "    <tr>\n",
       "      <th>3547</th>\n",
       "      <td>60308.539062</td>\n",
       "    </tr>\n",
       "  </tbody>\n",
       "</table>\n",
       "<p>3548 rows × 1 columns</p>\n",
       "</div>"
      ],
      "text/plain": [
       "             Close\n",
       "0       314.248993\n",
       "1       315.032013\n",
       "2       281.082001\n",
       "3       264.195007\n",
       "4       274.473999\n",
       "...            ...\n",
       "3543  60571.300781\n",
       "3544  60005.121094\n",
       "3545  59182.835938\n",
       "3546  58192.507812\n",
       "3547  60308.539062\n",
       "\n",
       "[3548 rows x 1 columns]"
      ]
     },
     "execution_count": 13,
     "metadata": {},
     "output_type": "execute_result"
    }
   ],
   "source": [
    "data"
   ]
  },
  {
   "cell_type": "markdown",
   "id": "a6f59ffe-5468-40d0-9848-6b239817b983",
   "metadata": {},
   "source": [
    "#### Show trends of closing price"
   ]
  },
  {
   "cell_type": "code",
   "execution_count": 15,
   "id": "80f8e2a6-563d-49f5-a3c5-c5f52e8c66c6",
   "metadata": {},
   "outputs": [
    {
     "data": {
      "image/png": "[encoded data removed]",
      "text/plain": [
       "<Figure size 800x1000 with 1 Axes>"
      ]
     },
     "metadata": {},
     "output_type": "display_data"
    }
   ],
   "source": [
    "plt.figure(figsize=(8,10))\n",
    "plt.plot(data)\n",
    "plt.title(\"Bitcoin Price Closing Trends\")\n",
    "plt.show()"
   ]
  },
  {
   "cell_type": "code",
   "execution_count": 16,
   "id": "5c5dcb78-56b0-4e1d-9dc9-522afc19ab7c",
   "metadata": {},
   "outputs": [
    {
     "data": {
      "text/plain": [
       "(3548, 1)"
      ]
     },
     "execution_count": 16,
     "metadata": {},
     "output_type": "execute_result"
    }
   ],
   "source": [
    "data.shape"
   ]
  },
  {
   "cell_type": "markdown",
   "id": "eb04faf0-2068-423a-9a29-aca85c73969d",
   "metadata": {},
   "source": [
    "### Get training data, and testing data"
   ]
  },
  {
   "cell_type": "code",
   "execution_count": 18,
   "id": "ec7c961a-6783-4289-b102-98facb5142bb",
   "metadata": {},
   "outputs": [],
   "source": [
    "train_data = data[:-100]\n",
    "test_data = data[-100:]"
   ]
  },
  {
   "cell_type": "markdown",
   "id": "916ce303-ff6f-4f2f-95ef-73fe4ef88ea5",
   "metadata": {},
   "source": [
    "### Shape of trainging and testing"
   ]
  },
  {
   "cell_type": "code",
   "execution_count": 19,
   "id": "70d9f005-edb6-47ac-ae47-04c70b6e0214",
   "metadata": {},
   "outputs": [
    {
     "data": {
      "text/plain": [
       "(3448, 1)"
      ]
     },
     "execution_count": 19,
     "metadata": {},
     "output_type": "execute_result"
    }
   ],
   "source": [
    "train_data.shape"
   ]
  },
  {
   "cell_type": "code",
   "execution_count": 20,
   "id": "17461adf-dd77-4ad6-9e82-0cee9f3e0fc2",
   "metadata": {},
   "outputs": [
    {
     "data": {
      "text/plain": [
       "(100, 1)"
      ]
     },
     "execution_count": 20,
     "metadata": {},
     "output_type": "execute_result"
    }
   ],
   "source": [
    "test_data.shape"
   ]
  },
  {
   "cell_type": "markdown",
   "id": "b842fc43-cb9b-4926-a037-d0fd47768446",
   "metadata": {},
   "source": [
    "### Preprocess data using min max scaller"
   ]
  },
  {
   "cell_type": "code",
   "execution_count": 21,
   "id": "bdeacaf3-7db7-40e7-8385-45bbd7dd31c5",
   "metadata": {},
   "outputs": [],
   "source": [
    "from sklearn.preprocessing import MinMaxScaler\n",
    "scaler = MinMaxScaler(feature_range=(0,1))"
   ]
  },
  {
   "cell_type": "markdown",
   "id": "acaa17ff-9db7-4f7c-97b2-c8708997709b",
   "metadata": {},
   "source": [
    "#### Transform train data"
   ]
  },
  {
   "cell_type": "code",
   "execution_count": 22,
   "id": "96af2fa8-6e35-41b0-9186-3d48b9fe6c81",
   "metadata": {},
   "outputs": [],
   "source": [
    "train_data_scale = scaler.fit_transform(train_data)"
   ]
  },
  {
   "cell_type": "code",
   "execution_count": 23,
   "id": "01178263-4f35-408d-bcc0-bbe5d807aca8",
   "metadata": {},
   "outputs": [],
   "source": [
    "base_days = 100"
   ]
  },
  {
   "cell_type": "code",
   "execution_count": 24,
   "id": "16faf40a-a0b2-4f81-a085-28f4e8162661",
   "metadata": {},
   "outputs": [],
   "source": [
    "x = []\n",
    "y = []\n",
    "for i in range(base_days, train_data_scale.shape[0]):\n",
    "    x.append(train_data_scale[i-base_days:i])\n",
    "    y.append(train_data_scale[i,0])"
   ]
  },
  {
   "cell_type": "code",
   "execution_count": 25,
   "id": "1a1648d5-98be-4775-b815-92e832b76363",
   "metadata": {},
   "outputs": [],
   "source": [
    "x, y = np.array(x), np.array(y)"
   ]
  },
  {
   "cell_type": "code",
   "execution_count": 26,
   "id": "f735ac5f-ce83-443b-bcff-32745bb41f06",
   "metadata": {},
   "outputs": [],
   "source": [
    "x = np.reshape(x, (x.shape[0],x.shape[1],1))"
   ]
  },
  {
   "cell_type": "markdown",
   "id": "03c7e5a7-9494-4020-881f-fd1aad695dbe",
   "metadata": {},
   "source": [
    "### Load Libraries for training network"
   ]
  },
  {
   "cell_type": "code",
   "execution_count": 29,
   "id": "08173c3a-f069-46a4-a165-88c5ae11c564",
   "metadata": {},
   "outputs": [],
   "source": [
    "from keras.layers import LSTM, Dense, Dropout\n",
    "from keras.models import Sequential"
   ]
  },
  {
   "cell_type": "markdown",
   "id": "8ea79e9c-77b2-401d-a766-29d99bac1223",
   "metadata": {},
   "source": [
    "## Define Model"
   ]
  },
  {
   "cell_type": "code",
   "execution_count": 30,
   "id": "ca64e68e-753d-4c09-900c-ab6551e679f2",
   "metadata": {},
   "outputs": [
    {
     "name": "stderr",
     "output_type": "stream",
     "text": [
      "C:\\Users\\Mansoor\\AppData\\Roaming\\Python\\Python312\\site-packages\\keras\\src\\layers\\rnn\\rnn.py:204: UserWarning: Do not pass an `input_shape`/`input_dim` argument to a layer. When using Sequential models, prefer using an `Input(shape)` object as the first layer in the model instead.\n",
      "  super().__init__(**kwargs)\n"
     ]
    }
   ],
   "source": [
    "model = Sequential()\n",
    "model.add(LSTM(50, activation = 'relu', return_sequences=True, input_shape=(x.shape[1],1)))\n",
    "model.add(Dropout(0.2))\n",
    "model.add(LSTM(60, activation='relu',return_sequences=True))\n",
    "model.add(Dropout(0.3))\n",
    "model.add(LSTM(80, activation='relu',return_sequences=True))\n",
    "model.add(Dropout(0.4))\n",
    "model.add(LSTM(120, activation='relu'))\n",
    "model.add(Dropout(0.5))\n",
    "\n",
    "model.add(Dense(units=1))"
   ]
  },
  {
   "cell_type": "code",
   "execution_count": null,
   "id": "2b4030ee-ed46-478a-b126-606d6a0d4e42",
   "metadata": {},
   "outputs": [],
   "source": []
  },
  {
   "cell_type": "markdown",
   "id": "abb0ae59-48f3-4975-a90c-1eb321efbfda",
   "metadata": {},
   "source": [
    "## Summary of model"
   ]
  },
  {
   "cell_type": "code",
   "execution_count": 31,
   "id": "1ed41f8b-f408-4144-935d-5415f4649a1a",
   "metadata": {},
   "outputs": [
    {
     "data": {
      "text/html": [
       "<pre style=\"white-space:pre;overflow-x:auto;line-height:normal;font-family:Menlo,'DejaVu Sans Mono',consolas,'Courier New',monospace\"><span style=\"font-weight: bold\">Model: \"sequential\"</span>\n",
       "</pre>\n"
      ],
      "text/plain": [
       "\u001b[1mModel: \"sequential\"\u001b[0m\n"
      ]
     },
     "metadata": {},
     "output_type": "display_data"
    },
    {
     "data": {
      "text/html": [
       "<pre style=\"white-space:pre;overflow-x:auto;line-height:normal;font-family:Menlo,'DejaVu Sans Mono',consolas,'Courier New',monospace\">┏━━━━━━━━━━━━━━━━━━━━━━━━━━━━━━━━━━━━━━┳━━━━━━━━━━━━━━━━━━━━━━━━━━━━━┳━━━━━━━━━━━━━━━━━┓\n",
       "┃<span style=\"font-weight: bold\"> Layer (type)                         </span>┃<span style=\"font-weight: bold\"> Output Shape                </span>┃<span style=\"font-weight: bold\">         Param # </span>┃\n",
       "┡━━━━━━━━━━━━━━━━━━━━━━━━━━━━━━━━━━━━━━╇━━━━━━━━━━━━━━━━━━━━━━━━━━━━━╇━━━━━━━━━━━━━━━━━┩\n",
       "│ lstm (<span style=\"color: #0087ff; text-decoration-color: #0087ff\">LSTM</span>)                          │ (<span style=\"color: #00d7ff; text-decoration-color: #00d7ff\">None</span>, <span style=\"color: #00af00; text-decoration-color: #00af00\">100</span>, <span style=\"color: #00af00; text-decoration-color: #00af00\">50</span>)             │          <span style=\"color: #00af00; text-decoration-color: #00af00\">10,400</span> │\n",
       "├──────────────────────────────────────┼─────────────────────────────┼─────────────────┤\n",
       "│ dropout (<span style=\"color: #0087ff; text-decoration-color: #0087ff\">Dropout</span>)                    │ (<span style=\"color: #00d7ff; text-decoration-color: #00d7ff\">None</span>, <span style=\"color: #00af00; text-decoration-color: #00af00\">100</span>, <span style=\"color: #00af00; text-decoration-color: #00af00\">50</span>)             │               <span style=\"color: #00af00; text-decoration-color: #00af00\">0</span> │\n",
       "├──────────────────────────────────────┼─────────────────────────────┼─────────────────┤\n",
       "│ lstm_1 (<span style=\"color: #0087ff; text-decoration-color: #0087ff\">LSTM</span>)                        │ (<span style=\"color: #00d7ff; text-decoration-color: #00d7ff\">None</span>, <span style=\"color: #00af00; text-decoration-color: #00af00\">100</span>, <span style=\"color: #00af00; text-decoration-color: #00af00\">60</span>)             │          <span style=\"color: #00af00; text-decoration-color: #00af00\">26,640</span> │\n",
       "├──────────────────────────────────────┼─────────────────────────────┼─────────────────┤\n",
       "│ dropout_1 (<span style=\"color: #0087ff; text-decoration-color: #0087ff\">Dropout</span>)                  │ (<span style=\"color: #00d7ff; text-decoration-color: #00d7ff\">None</span>, <span style=\"color: #00af00; text-decoration-color: #00af00\">100</span>, <span style=\"color: #00af00; text-decoration-color: #00af00\">60</span>)             │               <span style=\"color: #00af00; text-decoration-color: #00af00\">0</span> │\n",
       "├──────────────────────────────────────┼─────────────────────────────┼─────────────────┤\n",
       "│ lstm_2 (<span style=\"color: #0087ff; text-decoration-color: #0087ff\">LSTM</span>)                        │ (<span style=\"color: #00d7ff; text-decoration-color: #00d7ff\">None</span>, <span style=\"color: #00af00; text-decoration-color: #00af00\">100</span>, <span style=\"color: #00af00; text-decoration-color: #00af00\">80</span>)             │          <span style=\"color: #00af00; text-decoration-color: #00af00\">45,120</span> │\n",
       "├──────────────────────────────────────┼─────────────────────────────┼─────────────────┤\n",
       "│ dropout_2 (<span style=\"color: #0087ff; text-decoration-color: #0087ff\">Dropout</span>)                  │ (<span style=\"color: #00d7ff; text-decoration-color: #00d7ff\">None</span>, <span style=\"color: #00af00; text-decoration-color: #00af00\">100</span>, <span style=\"color: #00af00; text-decoration-color: #00af00\">80</span>)             │               <span style=\"color: #00af00; text-decoration-color: #00af00\">0</span> │\n",
       "├──────────────────────────────────────┼─────────────────────────────┼─────────────────┤\n",
       "│ lstm_3 (<span style=\"color: #0087ff; text-decoration-color: #0087ff\">LSTM</span>)                        │ (<span style=\"color: #00d7ff; text-decoration-color: #00d7ff\">None</span>, <span style=\"color: #00af00; text-decoration-color: #00af00\">120</span>)                 │          <span style=\"color: #00af00; text-decoration-color: #00af00\">96,480</span> │\n",
       "├──────────────────────────────────────┼─────────────────────────────┼─────────────────┤\n",
       "│ dropout_3 (<span style=\"color: #0087ff; text-decoration-color: #0087ff\">Dropout</span>)                  │ (<span style=\"color: #00d7ff; text-decoration-color: #00d7ff\">None</span>, <span style=\"color: #00af00; text-decoration-color: #00af00\">120</span>)                 │               <span style=\"color: #00af00; text-decoration-color: #00af00\">0</span> │\n",
       "├──────────────────────────────────────┼─────────────────────────────┼─────────────────┤\n",
       "│ dense (<span style=\"color: #0087ff; text-decoration-color: #0087ff\">Dense</span>)                        │ (<span style=\"color: #00d7ff; text-decoration-color: #00d7ff\">None</span>, <span style=\"color: #00af00; text-decoration-color: #00af00\">1</span>)                   │             <span style=\"color: #00af00; text-decoration-color: #00af00\">121</span> │\n",
       "└──────────────────────────────────────┴─────────────────────────────┴─────────────────┘\n",
       "</pre>\n"
      ],
      "text/plain": [
       "┏━━━━━━━━━━━━━━━━━━━━━━━━━━━━━━━━━━━━━━┳━━━━━━━━━━━━━━━━━━━━━━━━━━━━━┳━━━━━━━━━━━━━━━━━┓\n",
       "┃\u001b[1m \u001b[0m\u001b[1mLayer (type)                        \u001b[0m\u001b[1m \u001b[0m┃\u001b[1m \u001b[0m\u001b[1mOutput Shape               \u001b[0m\u001b[1m \u001b[0m┃\u001b[1m \u001b[0m\u001b[1m        Param #\u001b[0m\u001b[1m \u001b[0m┃\n",
       "┡━━━━━━━━━━━━━━━━━━━━━━━━━━━━━━━━━━━━━━╇━━━━━━━━━━━━━━━━━━━━━━━━━━━━━╇━━━━━━━━━━━━━━━━━┩\n",
       "│ lstm (\u001b[38;5;33mLSTM\u001b[0m)                          │ (\u001b[38;5;45mNone\u001b[0m, \u001b[38;5;34m100\u001b[0m, \u001b[38;5;34m50\u001b[0m)             │          \u001b[38;5;34m10,400\u001b[0m │\n",
       "├──────────────────────────────────────┼─────────────────────────────┼─────────────────┤\n",
       "│ dropout (\u001b[38;5;33mDropout\u001b[0m)                    │ (\u001b[38;5;45mNone\u001b[0m, \u001b[38;5;34m100\u001b[0m, \u001b[38;5;34m50\u001b[0m)             │               \u001b[38;5;34m0\u001b[0m │\n",
       "├──────────────────────────────────────┼─────────────────────────────┼─────────────────┤\n",
       "│ lstm_1 (\u001b[38;5;33mLSTM\u001b[0m)                        │ (\u001b[38;5;45mNone\u001b[0m, \u001b[38;5;34m100\u001b[0m, \u001b[38;5;34m60\u001b[0m)             │          \u001b[38;5;34m26,640\u001b[0m │\n",
       "├──────────────────────────────────────┼─────────────────────────────┼─────────────────┤\n",
       "│ dropout_1 (\u001b[38;5;33mDropout\u001b[0m)                  │ (\u001b[38;5;45mNone\u001b[0m, \u001b[38;5;34m100\u001b[0m, \u001b[38;5;34m60\u001b[0m)             │               \u001b[38;5;34m0\u001b[0m │\n",
       "├──────────────────────────────────────┼─────────────────────────────┼─────────────────┤\n",
       "│ lstm_2 (\u001b[38;5;33mLSTM\u001b[0m)                        │ (\u001b[38;5;45mNone\u001b[0m, \u001b[38;5;34m100\u001b[0m, \u001b[38;5;34m80\u001b[0m)             │          \u001b[38;5;34m45,120\u001b[0m │\n",
       "├──────────────────────────────────────┼─────────────────────────────┼─────────────────┤\n",
       "│ dropout_2 (\u001b[38;5;33mDropout\u001b[0m)                  │ (\u001b[38;5;45mNone\u001b[0m, \u001b[38;5;34m100\u001b[0m, \u001b[38;5;34m80\u001b[0m)             │               \u001b[38;5;34m0\u001b[0m │\n",
       "├──────────────────────────────────────┼─────────────────────────────┼─────────────────┤\n",
       "│ lstm_3 (\u001b[38;5;33mLSTM\u001b[0m)                        │ (\u001b[38;5;45mNone\u001b[0m, \u001b[38;5;34m120\u001b[0m)                 │          \u001b[38;5;34m96,480\u001b[0m │\n",
       "├──────────────────────────────────────┼─────────────────────────────┼─────────────────┤\n",
       "│ dropout_3 (\u001b[38;5;33mDropout\u001b[0m)                  │ (\u001b[38;5;45mNone\u001b[0m, \u001b[38;5;34m120\u001b[0m)                 │               \u001b[38;5;34m0\u001b[0m │\n",
       "├──────────────────────────────────────┼─────────────────────────────┼─────────────────┤\n",
       "│ dense (\u001b[38;5;33mDense\u001b[0m)                        │ (\u001b[38;5;45mNone\u001b[0m, \u001b[38;5;34m1\u001b[0m)                   │             \u001b[38;5;34m121\u001b[0m │\n",
       "└──────────────────────────────────────┴─────────────────────────────┴─────────────────┘\n"
      ]
     },
     "metadata": {},
     "output_type": "display_data"
    },
    {
     "data": {
      "text/html": [
       "<pre style=\"white-space:pre;overflow-x:auto;line-height:normal;font-family:Menlo,'DejaVu Sans Mono',consolas,'Courier New',monospace\"><span style=\"font-weight: bold\"> Total params: </span><span style=\"color: #00af00; text-decoration-color: #00af00\">178,761</span> (698.29 KB)\n",
       "</pre>\n"
      ],
      "text/plain": [
       "\u001b[1m Total params: \u001b[0m\u001b[38;5;34m178,761\u001b[0m (698.29 KB)\n"
      ]
     },
     "metadata": {},
     "output_type": "display_data"
    },
    {
     "data": {
      "text/html": [
       "<pre style=\"white-space:pre;overflow-x:auto;line-height:normal;font-family:Menlo,'DejaVu Sans Mono',consolas,'Courier New',monospace\"><span style=\"font-weight: bold\"> Trainable params: </span><span style=\"color: #00af00; text-decoration-color: #00af00\">178,761</span> (698.29 KB)\n",
       "</pre>\n"
      ],
      "text/plain": [
       "\u001b[1m Trainable params: \u001b[0m\u001b[38;5;34m178,761\u001b[0m (698.29 KB)\n"
      ]
     },
     "metadata": {},
     "output_type": "display_data"
    },
    {
     "data": {
      "text/html": [
       "<pre style=\"white-space:pre;overflow-x:auto;line-height:normal;font-family:Menlo,'DejaVu Sans Mono',consolas,'Courier New',monospace\"><span style=\"font-weight: bold\"> Non-trainable params: </span><span style=\"color: #00af00; text-decoration-color: #00af00\">0</span> (0.00 B)\n",
       "</pre>\n"
      ],
      "text/plain": [
       "\u001b[1m Non-trainable params: \u001b[0m\u001b[38;5;34m0\u001b[0m (0.00 B)\n"
      ]
     },
     "metadata": {},
     "output_type": "display_data"
    }
   ],
   "source": [
    "model.summary()"
   ]
  },
  {
   "cell_type": "markdown",
   "id": "0098be71-b461-4195-9af5-cac17d770d1c",
   "metadata": {},
   "source": [
    "## Compile the model"
   ]
  },
  {
   "cell_type": "code",
   "execution_count": 32,
   "id": "f0606cb2-9385-4a24-8f7b-2e60d00cd8d0",
   "metadata": {},
   "outputs": [],
   "source": [
    "model.compile(optimizer='adam', loss = 'mean_squared_error')"
   ]
  },
  {
   "cell_type": "markdown",
   "id": "401108ed-45f1-4470-94d6-1d71accb871c",
   "metadata": {},
   "source": [
    "## Add early stoping to stop model from overfitting"
   ]
  },
  {
   "cell_type": "code",
   "execution_count": 35,
   "id": "a4a535ea-b51f-461b-a36f-9e6a856a0994",
   "metadata": {},
   "outputs": [],
   "source": [
    "from keras.callbacks import EarlyStopping\n",
    "\n",
    "# Define early stopping\n",
    "early_stopping = EarlyStopping(\n",
    "    monitor='val_loss',  # Metric to monitor\n",
    "    patience=5,          # Number of epochs with no improvement after which training will be stopped\n",
    "    restore_best_weights=True  # Restore model weights from the epoch with the best value of the monitored quantity\n",
    ")"
   ]
  },
  {
   "cell_type": "code",
   "execution_count": 36,
   "id": "c6466623-7cb1-4368-990c-9d2831935f69",
   "metadata": {},
   "outputs": [
    {
     "name": "stdout",
     "output_type": "stream",
     "text": [
      "Epoch 1/60\n",
      "\u001b[1m84/84\u001b[0m \u001b[32m━━━━━━━━━━━━━━━━━━━━\u001b[0m\u001b[37m\u001b[0m \u001b[1m16s\u001b[0m 185ms/step - loss: 0.0026 - val_loss: 0.0024\n",
      "Epoch 2/60\n",
      "\u001b[1m84/84\u001b[0m \u001b[32m━━━━━━━━━━━━━━━━━━━━\u001b[0m\u001b[37m\u001b[0m \u001b[1m15s\u001b[0m 175ms/step - loss: 0.0022 - val_loss: 0.0016\n",
      "Epoch 3/60\n",
      "\u001b[1m84/84\u001b[0m \u001b[32m━━━━━━━━━━━━━━━━━━━━\u001b[0m\u001b[37m\u001b[0m \u001b[1m15s\u001b[0m 176ms/step - loss: 0.0031 - val_loss: 0.0019\n",
      "Epoch 4/60\n",
      "\u001b[1m84/84\u001b[0m \u001b[32m━━━━━━━━━━━━━━━━━━━━\u001b[0m\u001b[37m\u001b[0m \u001b[1m15s\u001b[0m 174ms/step - loss: 0.0024 - val_loss: 0.0020\n",
      "Epoch 5/60\n",
      "\u001b[1m84/84\u001b[0m \u001b[32m━━━━━━━━━━━━━━━━━━━━\u001b[0m\u001b[37m\u001b[0m \u001b[1m21s\u001b[0m 180ms/step - loss: 0.0022 - val_loss: 0.0020\n",
      "Epoch 6/60\n",
      "\u001b[1m84/84\u001b[0m \u001b[32m━━━━━━━━━━━━━━━━━━━━\u001b[0m\u001b[37m\u001b[0m \u001b[1m15s\u001b[0m 180ms/step - loss: 0.0022 - val_loss: 0.0022\n",
      "Epoch 7/60\n",
      "\u001b[1m84/84\u001b[0m \u001b[32m━━━━━━━━━━━━━━━━━━━━\u001b[0m\u001b[37m\u001b[0m \u001b[1m15s\u001b[0m 178ms/step - loss: 0.0026 - val_loss: 0.0029\n"
     ]
    },
    {
     "data": {
      "text/plain": [
       "<keras.src.callbacks.history.History at 0x2b634e34d70>"
      ]
     },
     "execution_count": 36,
     "metadata": {},
     "output_type": "execute_result"
    }
   ],
   "source": [
    "# Fit the model with early stopping\n",
    "model.fit(x, y, epochs=60, verbose=1, validation_split=0.2, callbacks=[early_stopping])"
   ]
  },
  {
   "cell_type": "markdown",
   "id": "25bcdf55-e36a-47b7-85a8-3254a55c922b",
   "metadata": {},
   "source": [
    "### Set test data"
   ]
  },
  {
   "cell_type": "code",
   "execution_count": 37,
   "id": "dafce5a7-5925-41ab-80c1-e419895edb22",
   "metadata": {},
   "outputs": [],
   "source": [
    "test_data = pd.concat((train_data.tail(100), test_data), ignore_index=True)"
   ]
  },
  {
   "cell_type": "code",
   "execution_count": 38,
   "id": "5ce72073-66b7-4fb9-871d-e67d0b982671",
   "metadata": {},
   "outputs": [
    {
     "data": {
      "text/html": [
       "<div>\n",
       "<style scoped>\n",
       "    .dataframe tbody tr th:only-of-type {\n",
       "        vertical-align: middle;\n",
       "    }\n",
       "\n",
       "    .dataframe tbody tr th {\n",
       "        vertical-align: top;\n",
       "    }\n",
       "\n",
       "    .dataframe thead th {\n",
       "        text-align: right;\n",
       "    }\n",
       "</style>\n",
       "<table border=\"1\" class=\"dataframe\">\n",
       "  <thead>\n",
       "    <tr style=\"text-align: right;\">\n",
       "      <th></th>\n",
       "      <th>Close</th>\n",
       "    </tr>\n",
       "  </thead>\n",
       "  <tbody>\n",
       "    <tr>\n",
       "      <th>0</th>\n",
       "      <td>62029.847656</td>\n",
       "    </tr>\n",
       "    <tr>\n",
       "      <th>1</th>\n",
       "      <td>63167.371094</td>\n",
       "    </tr>\n",
       "    <tr>\n",
       "      <th>2</th>\n",
       "      <td>68330.414062</td>\n",
       "    </tr>\n",
       "    <tr>\n",
       "      <th>3</th>\n",
       "      <td>63801.199219</td>\n",
       "    </tr>\n",
       "    <tr>\n",
       "      <th>4</th>\n",
       "      <td>66106.804688</td>\n",
       "    </tr>\n",
       "    <tr>\n",
       "      <th>...</th>\n",
       "      <td>...</td>\n",
       "    </tr>\n",
       "    <tr>\n",
       "      <th>195</th>\n",
       "      <td>60571.300781</td>\n",
       "    </tr>\n",
       "    <tr>\n",
       "      <th>196</th>\n",
       "      <td>60005.121094</td>\n",
       "    </tr>\n",
       "    <tr>\n",
       "      <th>197</th>\n",
       "      <td>59182.835938</td>\n",
       "    </tr>\n",
       "    <tr>\n",
       "      <th>198</th>\n",
       "      <td>58192.507812</td>\n",
       "    </tr>\n",
       "    <tr>\n",
       "      <th>199</th>\n",
       "      <td>60308.539062</td>\n",
       "    </tr>\n",
       "  </tbody>\n",
       "</table>\n",
       "<p>200 rows × 1 columns</p>\n",
       "</div>"
      ],
      "text/plain": [
       "            Close\n",
       "0    62029.847656\n",
       "1    63167.371094\n",
       "2    68330.414062\n",
       "3    63801.199219\n",
       "4    66106.804688\n",
       "..            ...\n",
       "195  60571.300781\n",
       "196  60005.121094\n",
       "197  59182.835938\n",
       "198  58192.507812\n",
       "199  60308.539062\n",
       "\n",
       "[200 rows x 1 columns]"
      ]
     },
     "execution_count": 38,
     "metadata": {},
     "output_type": "execute_result"
    }
   ],
   "source": [
    "test_data"
   ]
  },
  {
   "cell_type": "code",
   "execution_count": 39,
   "id": "ad3624ce-0112-4958-b66a-dbbf5c0f9f39",
   "metadata": {},
   "outputs": [],
   "source": [
    "test_data_scale = scaler.transform(test_data)"
   ]
  },
  {
   "cell_type": "code",
   "execution_count": 40,
   "id": "3ee2fbb6-02bc-4d45-b74c-8152607c5e01",
   "metadata": {},
   "outputs": [],
   "source": [
    "x = []\n",
    "y = [] \n",
    "\n",
    "for i in range(base_days, test_data_scale.shape[0]):\n",
    "    x.append(test_data_scale[i-base_days:i])\n",
    "    y.append(test_data_scale[i,0])"
   ]
  },
  {
   "cell_type": "code",
   "execution_count": 41,
   "id": "c9de8a50-45da-4d7a-a718-f0bb354bd518",
   "metadata": {},
   "outputs": [],
   "source": [
    "x, y = np.array(x), np.array(y)"
   ]
  },
  {
   "cell_type": "code",
   "execution_count": 42,
   "id": "3889063d-4c04-4fa8-90dd-420904abdda5",
   "metadata": {},
   "outputs": [],
   "source": [
    "x = np.reshape(x, (x.shape[0],x.shape[1],1))"
   ]
  },
  {
   "cell_type": "markdown",
   "id": "e1d25213-88ce-4691-bec7-81d593b2b5db",
   "metadata": {},
   "source": [
    "### Get pridiction from model"
   ]
  },
  {
   "cell_type": "code",
   "execution_count": 43,
   "id": "6e7d9dda-d914-42db-b7f1-752e0e34559b",
   "metadata": {},
   "outputs": [
    {
     "name": "stdout",
     "output_type": "stream",
     "text": [
      "\u001b[1m4/4\u001b[0m \u001b[32m━━━━━━━━━━━━━━━━━━━━\u001b[0m\u001b[37m\u001b[0m \u001b[1m2s\u001b[0m 312ms/step\n"
     ]
    }
   ],
   "source": [
    "pred = model.predict(x)"
   ]
  },
  {
   "cell_type": "code",
   "execution_count": 44,
   "id": "eb0ff70b-6c4b-4680-ad59-dc38d7d452f0",
   "metadata": {},
   "outputs": [],
   "source": [
    "pred = scaler.inverse_transform(pred)"
   ]
  },
  {
   "cell_type": "code",
   "execution_count": 88,
   "id": "38733809-609d-420e-9904-e27030f36a42",
   "metadata": {},
   "outputs": [
    {
     "data": {
      "text/plain": [
       "array([[64239.266],\n",
       "       [64145.64 ],\n",
       "       [63939.6  ],\n",
       "       [63641.99 ],\n",
       "       [63291.363],\n",
       "       [62940.047],\n",
       "       [62631.695],\n",
       "       [62404.375],\n",
       "       [62316.766],\n",
       "       [62364.344],\n",
       "       [62531.695],\n",
       "       [62794.617],\n",
       "       [63127.71 ],\n",
       "       [63498.902],\n",
       "       [63876.145],\n",
       "       [64253.03 ],\n",
       "       [64614.703],\n",
       "       [64954.293],\n",
       "       [65248.79 ],\n",
       "       [65462.684],\n",
       "       [65546.37 ],\n",
       "       [65501.28 ],\n",
       "       [65347.254],\n",
       "       [65076.82 ],\n",
       "       [64740.957],\n",
       "       [64382.66 ],\n",
       "       [64026.85 ],\n",
       "       [63696.27 ],\n",
       "       [63433.566],\n",
       "       [63291.24 ],\n",
       "       [63296.465],\n",
       "       [63439.75 ],\n",
       "       [63697.805],\n",
       "       [64024.08 ],\n",
       "       [64365.48 ],\n",
       "       [64690.004],\n",
       "       [64962.707],\n",
       "       [65129.57 ],\n",
       "       [65166.28 ],\n",
       "       [65094.74 ],\n",
       "       [64947.04 ],\n",
       "       [64765.42 ],\n",
       "       [64590.773],\n",
       "       [64469.492],\n",
       "       [64410.605],\n",
       "       [64416.98 ],\n",
       "       [64476.973],\n",
       "       [64550.957],\n",
       "       [64580.484],\n",
       "       [64543.387],\n",
       "       [64425.117],\n",
       "       [64233.34 ],\n",
       "       [63973.008],\n",
       "       [63675.625],\n",
       "       [63381.133],\n",
       "       [63132.926],\n",
       "       [62961.043],\n",
       "       [62892.4  ],\n",
       "       [62931.047],\n",
       "       [63044.19 ],\n",
       "       [63193.312],\n",
       "       [63339.547],\n",
       "       [63452.695],\n",
       "       [63514.45 ],\n",
       "       [63525.547],\n",
       "       [63473.305],\n",
       "       [63338.45 ],\n",
       "       [63125.168],\n",
       "       [62881.004],\n",
       "       [62663.195],\n",
       "       [62515.383],\n",
       "       [62452.406],\n",
       "       [62462.996],\n",
       "       [62516.746],\n",
       "       [62597.582],\n",
       "       [62676.727],\n",
       "       [62731.617],\n",
       "       [62755.492],\n",
       "       [62760.953],\n",
       "       [62752.676],\n",
       "       [62768.47 ],\n",
       "       [62829.566],\n",
       "       [62953.402],\n",
       "       [63138.77 ],\n",
       "       [63362.656],\n",
       "       [63636.215],\n",
       "       [63948.727],\n",
       "       [64267.582],\n",
       "       [64549.34 ],\n",
       "       [64766.12 ],\n",
       "       [64910.84 ],\n",
       "       [64982.707],\n",
       "       [64994.758],\n",
       "       [64956.273],\n",
       "       [64873.613],\n",
       "       [64762.66 ],\n",
       "       [64634.92 ],\n",
       "       [64503.324],\n",
       "       [64380.426],\n",
       "       [64283.945],\n",
       "       [64239.266],\n",
       "       [64263.285],\n",
       "       [64353.8  ],\n",
       "       [64484.285],\n",
       "       [64624.71 ],\n",
       "       [64753.074],\n",
       "       [64854.23 ],\n",
       "       [64904.89 ],\n",
       "       [64899.992],\n",
       "       [64835.867],\n",
       "       [64713.48 ],\n",
       "       [64545.332],\n",
       "       [64354.223],\n",
       "       [64163.223],\n",
       "       [63982.293],\n",
       "       [63817.152],\n",
       "       [63671.99 ],\n",
       "       [63545.32 ],\n",
       "       [63437.453],\n",
       "       [63341.99 ],\n",
       "       [63233.957],\n",
       "       [63108.34 ],\n",
       "       [62964.27 ],\n",
       "       [62813.555],\n",
       "       [62662.08 ],\n",
       "       [62520.4  ],\n",
       "       [62412.062],\n",
       "       [62355.81 ],\n",
       "       [62352.3  ],\n",
       "       [62378.496],\n",
       "       [62387.55 ],\n",
       "       [62343.78 ],\n",
       "       [62245.125],\n",
       "       [62088.49 ],\n",
       "       [61887.81 ],\n",
       "       [61674.637],\n",
       "       [61478.023],\n",
       "       [61316.45 ],\n",
       "       [61203.793],\n",
       "       [61155.3  ],\n",
       "       [61187.055],\n",
       "       [61331.33 ],\n",
       "       [61599.566],\n",
       "       [61965.06 ],\n",
       "       [62379.33 ],\n",
       "       [62812.43 ],\n",
       "       [63238.688],\n",
       "       [63640.195],\n",
       "       [63994.816],\n",
       "       [64271.094],\n",
       "       [64445.48 ],\n",
       "       [64515.66 ],\n",
       "       [64509.28 ],\n",
       "       [64457.38 ],\n",
       "       [64389.67 ],\n",
       "       [64317.55 ],\n",
       "       [64241.777],\n",
       "       [64151.125],\n",
       "       [64044.92 ],\n",
       "       [63900.97 ],\n",
       "       [63703.89 ],\n",
       "       [63437.477],\n",
       "       [63076.69 ],\n",
       "       [62635.39 ],\n",
       "       [62142.312],\n",
       "       [61682.53 ],\n",
       "       [61328.273],\n",
       "       [61122.688],\n",
       "       [61059.664],\n",
       "       [61114.523],\n",
       "       [61262.06 ],\n",
       "       [61457.75 ],\n",
       "       [61650.78 ],\n",
       "       [61813.402],\n",
       "       [61936.926],\n",
       "       [62014.484],\n",
       "       [62052.953],\n",
       "       [62059.676],\n",
       "       [62058.516],\n",
       "       [62063.527],\n",
       "       [62108.395],\n",
       "       [62214.2  ],\n",
       "       [62384.21 ],\n",
       "       [62592.184],\n",
       "       [62779.508],\n",
       "       [62898.105],\n",
       "       [62927.105],\n",
       "       [62865.65 ],\n",
       "       [62727.777],\n",
       "       [62525.625],\n",
       "       [62290.664],\n",
       "       [62044.56 ],\n",
       "       [61809.832],\n",
       "       [61592.52 ],\n",
       "       [61379.97 ],\n",
       "       [61165.234],\n",
       "       [60955.055],\n",
       "       [60777.203],\n",
       "       [60660.773],\n",
       "       [60619.31 ]], dtype=float32)"
      ]
     },
     "execution_count": 88,
     "metadata": {},
     "output_type": "execute_result"
    }
   ],
   "source": [
    "pred"
   ]
  },
  {
   "cell_type": "markdown",
   "id": "8430ba4e-07fe-42ef-af85-75d6d2647b19",
   "metadata": {},
   "source": [
    "# `Future Bitcoin Price`"
   ]
  },
  {
   "cell_type": "code",
   "execution_count": 45,
   "id": "6f47376a-50bb-43ea-9e2a-eaadc54ecaaa",
   "metadata": {},
   "outputs": [
    {
     "name": "stdout",
     "output_type": "stream",
     "text": [
      "\u001b[1m1/1\u001b[0m \u001b[32m━━━━━━━━━━━━━━━━━━━━\u001b[0m\u001b[37m\u001b[0m \u001b[1m0s\u001b[0m 42ms/step\n",
      "\u001b[1m1/1\u001b[0m \u001b[32m━━━━━━━━━━━━━━━━━━━━\u001b[0m\u001b[37m\u001b[0m \u001b[1m0s\u001b[0m 57ms/step\n",
      "\u001b[1m1/1\u001b[0m \u001b[32m━━━━━━━━━━━━━━━━━━━━\u001b[0m\u001b[37m\u001b[0m \u001b[1m0s\u001b[0m 49ms/step\n",
      "\u001b[1m1/1\u001b[0m \u001b[32m━━━━━━━━━━━━━━━━━━━━\u001b[0m\u001b[37m\u001b[0m \u001b[1m0s\u001b[0m 48ms/step\n",
      "\u001b[1m1/1\u001b[0m \u001b[32m━━━━━━━━━━━━━━━━━━━━\u001b[0m\u001b[37m\u001b[0m \u001b[1m0s\u001b[0m 64ms/step\n",
      "\u001b[1m1/1\u001b[0m \u001b[32m━━━━━━━━━━━━━━━━━━━━\u001b[0m\u001b[37m\u001b[0m \u001b[1m0s\u001b[0m 62ms/step\n",
      "\u001b[1m1/1\u001b[0m \u001b[32m━━━━━━━━━━━━━━━━━━━━\u001b[0m\u001b[37m\u001b[0m \u001b[1m0s\u001b[0m 90ms/step\n",
      "\u001b[1m1/1\u001b[0m \u001b[32m━━━━━━━━━━━━━━━━━━━━\u001b[0m\u001b[37m\u001b[0m \u001b[1m0s\u001b[0m 53ms/step\n",
      "\u001b[1m1/1\u001b[0m \u001b[32m━━━━━━━━━━━━━━━━━━━━\u001b[0m\u001b[37m\u001b[0m \u001b[1m0s\u001b[0m 39ms/step\n",
      "\u001b[1m1/1\u001b[0m \u001b[32m━━━━━━━━━━━━━━━━━━━━\u001b[0m\u001b[37m\u001b[0m \u001b[1m0s\u001b[0m 49ms/step\n",
      "\u001b[1m1/1\u001b[0m \u001b[32m━━━━━━━━━━━━━━━━━━━━\u001b[0m\u001b[37m\u001b[0m \u001b[1m0s\u001b[0m 53ms/step\n",
      "\u001b[1m1/1\u001b[0m \u001b[32m━━━━━━━━━━━━━━━━━━━━\u001b[0m\u001b[37m\u001b[0m \u001b[1m0s\u001b[0m 34ms/step\n",
      "\u001b[1m1/1\u001b[0m \u001b[32m━━━━━━━━━━━━━━━━━━━━\u001b[0m\u001b[37m\u001b[0m \u001b[1m0s\u001b[0m 38ms/step\n",
      "\u001b[1m1/1\u001b[0m \u001b[32m━━━━━━━━━━━━━━━━━━━━\u001b[0m\u001b[37m\u001b[0m \u001b[1m0s\u001b[0m 63ms/step\n",
      "\u001b[1m1/1\u001b[0m \u001b[32m━━━━━━━━━━━━━━━━━━━━\u001b[0m\u001b[37m\u001b[0m \u001b[1m0s\u001b[0m 59ms/step\n",
      "\u001b[1m1/1\u001b[0m \u001b[32m━━━━━━━━━━━━━━━━━━━━\u001b[0m\u001b[37m\u001b[0m \u001b[1m0s\u001b[0m 59ms/step\n",
      "\u001b[1m1/1\u001b[0m \u001b[32m━━━━━━━━━━━━━━━━━━━━\u001b[0m\u001b[37m\u001b[0m \u001b[1m0s\u001b[0m 45ms/step\n",
      "\u001b[1m1/1\u001b[0m \u001b[32m━━━━━━━━━━━━━━━━━━━━\u001b[0m\u001b[37m\u001b[0m \u001b[1m0s\u001b[0m 50ms/step\n",
      "\u001b[1m1/1\u001b[0m \u001b[32m━━━━━━━━━━━━━━━━━━━━\u001b[0m\u001b[37m\u001b[0m \u001b[1m0s\u001b[0m 52ms/step\n",
      "\u001b[1m1/1\u001b[0m \u001b[32m━━━━━━━━━━━━━━━━━━━━\u001b[0m\u001b[37m\u001b[0m \u001b[1m0s\u001b[0m 40ms/step\n",
      "\u001b[1m1/1\u001b[0m \u001b[32m━━━━━━━━━━━━━━━━━━━━\u001b[0m\u001b[37m\u001b[0m \u001b[1m0s\u001b[0m 35ms/step\n",
      "\u001b[1m1/1\u001b[0m \u001b[32m━━━━━━━━━━━━━━━━━━━━\u001b[0m\u001b[37m\u001b[0m \u001b[1m0s\u001b[0m 37ms/step\n",
      "\u001b[1m1/1\u001b[0m \u001b[32m━━━━━━━━━━━━━━━━━━━━\u001b[0m\u001b[37m\u001b[0m \u001b[1m0s\u001b[0m 47ms/step\n",
      "\u001b[1m1/1\u001b[0m \u001b[32m━━━━━━━━━━━━━━━━━━━━\u001b[0m\u001b[37m\u001b[0m \u001b[1m0s\u001b[0m 60ms/step\n",
      "\u001b[1m1/1\u001b[0m \u001b[32m━━━━━━━━━━━━━━━━━━━━\u001b[0m\u001b[37m\u001b[0m \u001b[1m0s\u001b[0m 50ms/step\n",
      "\u001b[1m1/1\u001b[0m \u001b[32m━━━━━━━━━━━━━━━━━━━━\u001b[0m\u001b[37m\u001b[0m \u001b[1m0s\u001b[0m 99ms/step\n",
      "\u001b[1m1/1\u001b[0m \u001b[32m━━━━━━━━━━━━━━━━━━━━\u001b[0m\u001b[37m\u001b[0m \u001b[1m0s\u001b[0m 66ms/step\n",
      "\u001b[1m1/1\u001b[0m \u001b[32m━━━━━━━━━━━━━━━━━━━━\u001b[0m\u001b[37m\u001b[0m \u001b[1m0s\u001b[0m 68ms/step\n",
      "\u001b[1m1/1\u001b[0m \u001b[32m━━━━━━━━━━━━━━━━━━━━\u001b[0m\u001b[37m\u001b[0m \u001b[1m0s\u001b[0m 62ms/step\n",
      "\u001b[1m1/1\u001b[0m \u001b[32m━━━━━━━━━━━━━━━━━━━━\u001b[0m\u001b[37m\u001b[0m \u001b[1m0s\u001b[0m 68ms/step\n"
     ]
    }
   ],
   "source": [
    "m = y\n",
    "z= []\n",
    "future_days = 30\n",
    "for i in range(base_days, len(m)+future_days):\n",
    "    m = m.reshape(-1,1)\n",
    "    inter = [m[-base_days:,0]]\n",
    "    inter = np.array(inter)\n",
    "    inter = np.reshape(inter, (inter.shape[0], inter.shape[1],1))\n",
    "    pred = model.predict(inter)\n",
    "    m = np.append(m ,pred)\n",
    "    z = np.append(z, pred)\n"
   ]
  },
  {
   "cell_type": "code",
   "execution_count": 46,
   "id": "ffe629b8-a508-4165-a6ed-cd1bcfcc1fcd",
   "metadata": {},
   "outputs": [],
   "source": [
    "z = np.array(z)\n",
    "z = scaler.inverse_transform(z.reshape(-1,1))"
   ]
  },
  {
   "cell_type": "code",
   "execution_count": 47,
   "id": "efcc3b51-cb09-434c-be4d-aeaddf48db90",
   "metadata": {},
   "outputs": [
    {
     "data": {
      "text/plain": [
       "array([[55874.31938422],\n",
       "       [56210.86534523],\n",
       "       [56400.48559591],\n",
       "       [56434.94541321],\n",
       "       [56335.52471207],\n",
       "       [56136.97880379],\n",
       "       [55875.5143968 ],\n",
       "       [55581.77595916],\n",
       "       [55278.23407286],\n",
       "       [54979.24192537],\n",
       "       [54692.5084342 ],\n",
       "       [54421.13194105],\n",
       "       [54165.38621245],\n",
       "       [53924.14576382],\n",
       "       [53695.82014205],\n",
       "       [53478.89711304],\n",
       "       [53272.16428222],\n",
       "       [53074.70040351],\n",
       "       [52885.90579789],\n",
       "       [52705.34591532],\n",
       "       [52532.66877027],\n",
       "       [52367.57886873],\n",
       "       [52209.78940768],\n",
       "       [52059.00054759],\n",
       "       [51914.86030296],\n",
       "       [51777.07752524],\n",
       "       [51645.29153793],\n",
       "       [51519.1851195 ],\n",
       "       [51398.43670292],\n",
       "       [51282.78555819]])"
      ]
     },
     "execution_count": 47,
     "metadata": {},
     "output_type": "execute_result"
    }
   ],
   "source": [
    "z"
   ]
  },
  {
   "cell_type": "code",
   "execution_count": 48,
   "id": "765cf1cd-c5e8-4530-99b0-00098fcff513",
   "metadata": {},
   "outputs": [],
   "source": [
    "# `Save the Model`"
   ]
  },
  {
   "cell_type": "code",
   "execution_count": 49,
   "id": "b78de981-8d62-4340-bc70-6b91728b1331",
   "metadata": {},
   "outputs": [],
   "source": [
    "model.save('Bitcoin_Future_Price_prediction_Model.keras')"
   ]
  },
  {
   "cell_type": "code",
   "execution_count": null,
   "id": "f09d70a7-df12-43fd-aec5-3fd939abf3da",
   "metadata": {},
   "outputs": [],
   "source": []
  }
 ],
 "metadata": {
  "kernelspec": {
   "display_name": "Python 3 (ipykernel)",
   "language": "python",
   "name": "python3"
  },
  "language_info": {
   "codemirror_mode": {
    "name": "ipython",
    "version": 3
   },
   "file_extension": ".py",
   "mimetype": "text/x-python",
   "name": "python",
   "nbconvert_exporter": "python",
   "pygments_lexer": "ipython3",
   "version": "3.12.4"
  }
 },
 "nbformat": 4,
 "nbformat_minor": 5
}
