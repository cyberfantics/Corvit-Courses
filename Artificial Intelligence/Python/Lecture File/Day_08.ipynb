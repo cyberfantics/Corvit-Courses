{
 "cells": [
  {
   "cell_type": "markdown",
   "id": "7a4e05ab-c92d-4796-9dae-b7b05093b2b3",
   "metadata": {},
   "source": [
    "## LISTS: \n",
    "- Lists are ordered collection of data items.\n",
    "They store multiple items in a single varaible.\n",
    "List items are separated by commas and enclosed\n",
    "within square brackets[].\n",
    "Lists are changeable meaning we can alter them \n",
    "after creation."
   ]
  },
  {
   "cell_type": "code",
   "execution_count": 1,
   "id": "485a2a1f-9dce-4a39-ba60-7d60b7d46b86",
   "metadata": {},
   "outputs": [
    {
     "name": "stdout",
     "output_type": "stream",
     "text": [
      "[3, 5, 6]\n"
     ]
    }
   ],
   "source": [
    "l = [3, 5, 6]\n",
    "print(l)"
   ]
  },
  {
   "cell_type": "code",
   "execution_count": 2,
   "id": "bfdb5f63-8363-4562-b1c3-7bcfa9d64b61",
   "metadata": {},
   "outputs": [
    {
     "name": "stdout",
     "output_type": "stream",
     "text": [
      "<class 'list'>\n",
      "3\n"
     ]
    }
   ],
   "source": [
    "print(type(l))\n",
    "print(l[0])\t#Accessing the index"
   ]
  },
  {
   "cell_type": "code",
   "execution_count": 3,
   "id": "e8b86116-03ce-4607-982e-961f109c5735",
   "metadata": {},
   "outputs": [
    {
     "name": "stdout",
     "output_type": "stream",
     "text": [
      "[3, 5, 6, 'MRK', True, 9.8]\n"
     ]
    }
   ],
   "source": [
    "# Example: Each list multiple data types.\n",
    "l = [3, 5, 6, \"MRK\", True, 9.8]\n",
    "print(l)\n"
   ]
  },
  {
   "cell_type": "code",
   "execution_count": 4,
   "id": "57ffbf72-2030-4e90-bf08-610c988080b1",
   "metadata": {},
   "outputs": [
    {
     "name": "stdout",
     "output_type": "stream",
     "text": [
      "<class 'list'>\n",
      "3\n"
     ]
    }
   ],
   "source": [
    "print(type(l))\n",
    "print(l[0])\t#Accessing the index"
   ]
  },
  {
   "cell_type": "code",
   "execution_count": 5,
   "id": "3d7ce316-8bb3-48cc-b219-cb39319a333b",
   "metadata": {},
   "outputs": [
    {
     "name": "stdout",
     "output_type": "stream",
     "text": [
      "[1, 2, 3, 4, 5, 6]\n",
      "['red', 'blue', 'Yellow']\n"
     ]
    }
   ],
   "source": [
    "lst1 = [1,2,3,4,5,6]\n",
    "lst2 = [\"red\", \"blue\" , \"Yellow\"]\n",
    "print(lst1)\n",
    "print(lst2)"
   ]
  },
  {
   "cell_type": "code",
   "execution_count": null,
   "id": "3cfc4acc-819b-480d-86e9-97561160104f",
   "metadata": {},
   "outputs": [],
   "source": []
  },
  {
   "cell_type": "markdown",
   "id": "1808f52c-ff8e-4983-823b-55fe525700c3",
   "metadata": {},
   "source": [
    "## LIST INDEX: \n",
    "- Each item/element in a list has\r\n",
    "its own unique index. This index can be used\r\n",
    "to access any particular item from the list.\r\n",
    "The first item has index [0], and so on.\r\n"
   ]
  },
  {
   "cell_type": "code",
   "execution_count": 6,
   "id": "024aec52-7b9c-407f-bd94-980bb9338672",
   "metadata": {},
   "outputs": [
    {
     "name": "stdout",
     "output_type": "stream",
     "text": [
      "3\n",
      "5\n",
      "6\n"
     ]
    }
   ],
   "source": [
    "l = [3, 5, 6]\n",
    "print(l[0])\t#Accessing the index\n",
    "print(l[1])\n",
    "print(l[2])"
   ]
  },
  {
   "cell_type": "code",
   "execution_count": null,
   "id": "3efa22ea-dbc2-4171-822b-bae0b4929691",
   "metadata": {},
   "outputs": [],
   "source": []
  },
  {
   "cell_type": "markdown",
   "id": "c8fa2c18-73fb-4da9-a92f-f7183c9313f9",
   "metadata": {},
   "source": [
    "## ACCESSING LIST ITEMS:\r",
    "- \n",
    "We can access list items by using the index with \r\n",
    "the square bracket syntax[]. \r\n"
   ]
  },
  {
   "cell_type": "markdown",
   "id": "25be6777-45c6-48b2-9d50-c74b16691f61",
   "metadata": {},
   "source": [
    "## POSITIVE INDEXING:\n",
    "- As we have seen that list items have index, as such \n",
    "we can access items using these indexes.\n"
   ]
  },
  {
   "cell_type": "markdown",
   "id": "c23cb526-82be-4da7-ae85-f039ccfdc081",
   "metadata": {},
   "source": [
    "## NEGATIVE INDEXING: \n",
    "- Similar to positive indexing, negative indexing is\n",
    "also used to access items, but from the end of \n",
    "list. The last item has index [-1],[-2] and so on.\n"
   ]
  },
  {
   "cell_type": "code",
   "execution_count": 8,
   "id": "ca916287-1ea3-49b6-bb26-920a69ffdc8a",
   "metadata": {},
   "outputs": [],
   "source": [
    "colors = [\"Red\", \"blue\", \"Green\"]"
   ]
  },
  {
   "cell_type": "code",
   "execution_count": 10,
   "id": "b3ddef1f-3f9c-4081-af44-5f4c4ee9ec97",
   "metadata": {},
   "outputs": [
    {
     "data": {
      "text/plain": [
       "'Green'"
      ]
     },
     "execution_count": 10,
     "metadata": {},
     "output_type": "execute_result"
    }
   ],
   "source": [
    "colors[-1]"
   ]
  },
  {
   "cell_type": "code",
   "execution_count": 11,
   "id": "aa286998-d270-4bc7-8ea2-4b78a61703e4",
   "metadata": {},
   "outputs": [
    {
     "data": {
      "text/plain": [
       "'blue'"
      ]
     },
     "execution_count": 11,
     "metadata": {},
     "output_type": "execute_result"
    }
   ],
   "source": [
    "colors[-2]"
   ]
  },
  {
   "cell_type": "code",
   "execution_count": null,
   "id": "2630b535-2f24-4d39-a66f-9d2eba7283cd",
   "metadata": {},
   "outputs": [],
   "source": []
  },
  {
   "cell_type": "markdown",
   "id": "8a28f06b-242f-46de-a3af-190814bd4651",
   "metadata": {},
   "source": [
    "## CHECKING OF ITEM IN THE LIST:\r",
    "- \n",
    "We can check if a given item is present in the list.\r\n",
    "This is done by using the \"in\" keyword.\r\n"
   ]
  },
  {
   "cell_type": "code",
   "execution_count": 12,
   "id": "e91df33a-4e99-4239-a710-eb149ce1ed1c",
   "metadata": {},
   "outputs": [
    {
     "name": "stdout",
     "output_type": "stream",
     "text": [
      "Y is present\n"
     ]
    }
   ],
   "source": [
    "colors = [\"Red\", \"G\", \"B\",\"y\"]\n",
    "if \"y\" in colors:\n",
    "\tprint(\"Y is present\")\n",
    "else:\n",
    "\tprint(\"Y is not present in the list\")"
   ]
  },
  {
   "cell_type": "code",
   "execution_count": 15,
   "id": "e8fca586-7afc-43a2-b5dd-e60d4fbe7ea7",
   "metadata": {},
   "outputs": [
    {
     "data": {
      "text/plain": [
       "'Red is present'"
      ]
     },
     "execution_count": 15,
     "metadata": {},
     "output_type": "execute_result"
    }
   ],
   "source": [
    "'Red is present' if 'Red' in colors else 'No Red'"
   ]
  },
  {
   "cell_type": "code",
   "execution_count": null,
   "id": "b2743d45-2a07-4d62-afb2-3fd7902f7179",
   "metadata": {},
   "outputs": [],
   "source": []
  },
  {
   "cell_type": "markdown",
   "id": "4a450aa9-be9d-48bc-8615-136c55efc234",
   "metadata": {},
   "source": [
    "## RANGE OF INDEX: \n",
    "- You can print a range of list \n",
    "items by specifying where you want to start, \n",
    "where do you want to end and if you want to \n",
    "skips elements in between the range."
   ]
  },
  {
   "cell_type": "code",
   "execution_count": 16,
   "id": "fd19ca6b-805b-4b60-bc39-9e70d87a1740",
   "metadata": {},
   "outputs": [],
   "source": [
    "animals = [\"cat\", \"dog\", \"bat\", \"mouse\", \"horse\", \"elephant\"]"
   ]
  },
  {
   "cell_type": "code",
   "execution_count": 17,
   "id": "614e7f20-ecb9-4e5b-b8c5-2c4e3eea0b2b",
   "metadata": {},
   "outputs": [
    {
     "name": "stdout",
     "output_type": "stream",
     "text": [
      "['bat', 'mouse', 'horse']\n"
     ]
    }
   ],
   "source": [
    "print(animals[2:5]) # positive indexing"
   ]
  },
  {
   "cell_type": "code",
   "execution_count": 18,
   "id": "23fbedca-a699-4050-95df-500d9858bd92",
   "metadata": {},
   "outputs": [
    {
     "name": "stdout",
     "output_type": "stream",
     "text": [
      "['dog', 'bat', 'mouse']\n"
     ]
    }
   ],
   "source": [
    "print(animals[-5:-2]) # Negetive indexing"
   ]
  },
  {
   "cell_type": "code",
   "execution_count": null,
   "id": "33c5a3a9-fa7a-4f92-b8b3-92fbe40a3bfa",
   "metadata": {},
   "outputs": [],
   "source": []
  },
  {
   "cell_type": "code",
   "execution_count": 19,
   "id": "f86c09b3-5f41-443a-ae92-72a7a6f6422b",
   "metadata": {},
   "outputs": [],
   "source": [
    "# EXAMPLE: printing every 3rd consecutive value within a given range.\n",
    "animals = [\"cat\", \"dog\", \"bat\", \"mouse\", \"horse\", \"elephant\"]"
   ]
  },
  {
   "cell_type": "code",
   "execution_count": 20,
   "id": "10d55dbd-db70-4e69-980a-46d3df1ae484",
   "metadata": {},
   "outputs": [
    {
     "name": "stdout",
     "output_type": "stream",
     "text": [
      "['dog', 'horse']\n"
     ]
    }
   ],
   "source": [
    "print(animals[1:6:3])"
   ]
  },
  {
   "cell_type": "code",
   "execution_count": null,
   "id": "c07226a1-4451-4f18-a2fd-073b80c9c4d4",
   "metadata": {},
   "outputs": [],
   "source": []
  },
  {
   "cell_type": "markdown",
   "id": "30d6022d-8ed9-4559-a1b8-b349e8d137a6",
   "metadata": {},
   "source": [
    "## LIST COMPREHENSION:\n",
    "- List comprehensions are used \n",
    "for creating new lists from other iterables like \n",
    "lists, tuples, dictionaries, sets, and even in\n",
    "arrays and strings.\n"
   ]
  },
  {
   "cell_type": "code",
   "execution_count": 22,
   "id": "6bab8696-da90-4b60-9a43-fded519615a4",
   "metadata": {},
   "outputs": [
    {
     "name": "stdout",
     "output_type": "stream",
     "text": [
      "[0, 1, 4, 9]\n"
     ]
    }
   ],
   "source": [
    "lst = [i*i for i in range(4)]\n",
    "print(lst)"
   ]
  },
  {
   "cell_type": "code",
   "execution_count": 23,
   "id": "32563a18-2070-4340-8196-aeedf7463932",
   "metadata": {},
   "outputs": [],
   "source": [
    "even = [i for i in range(0,100) if i%2==0]"
   ]
  },
  {
   "cell_type": "code",
   "execution_count": 26,
   "id": "2b575f93-ae30-472f-8bfc-205afca30e22",
   "metadata": {},
   "outputs": [
    {
     "name": "stdout",
     "output_type": "stream",
     "text": [
      "0 2 4 6 8 10 12 14 16 18 20 22 24 26 28 30 32 34 36 38 40 42 44 46 48 50 52 54 56 58 60 62 64 66 68 70 72 74 76 78 80 82 84 86 88 90 92 94 96 98 \n",
      "Loop End Successfully\n"
     ]
    }
   ],
   "source": [
    "for num in even:\n",
    "    print(num, end=' ')\n",
    "else:\n",
    "    print(\"\\nLoop End Successfully\")"
   ]
  },
  {
   "cell_type": "code",
   "execution_count": null,
   "id": "4729f58e-0ab9-4ac8-909f-3ebf1b8e72da",
   "metadata": {},
   "outputs": [],
   "source": []
  },
  {
   "cell_type": "code",
   "execution_count": 27,
   "id": "528fd7bf-6b84-47d6-8db5-036fe3c09c7b",
   "metadata": {},
   "outputs": [],
   "source": [
    "names = [\"oleh\", \"Mohammad\", \"Allah\", \"Ahmad\"]\n",
    "namesWith_o = [item for item in names if \"o\" in item]"
   ]
  },
  {
   "cell_type": "code",
   "execution_count": 28,
   "id": "5c8ffb54-0d7f-4d5f-befa-dd2200c72693",
   "metadata": {},
   "outputs": [
    {
     "name": "stdout",
     "output_type": "stream",
     "text": [
      "['oleh', 'Mohammad']\n"
     ]
    }
   ],
   "source": [
    "print(namesWith_o)"
   ]
  },
  {
   "cell_type": "code",
   "execution_count": 29,
   "id": "0b733c04-2e6f-473b-a087-697acafd111a",
   "metadata": {},
   "outputs": [],
   "source": [
    "names = [\"oleh\", \"Mohammad\", \"Allah\", \"Ahmad\"]\n",
    "namesWith_o = [item for item in names if (len(item)>4)]"
   ]
  },
  {
   "cell_type": "code",
   "execution_count": 30,
   "id": "132879b0-4b94-40b7-baa4-a29361c3e7df",
   "metadata": {},
   "outputs": [
    {
     "name": "stdout",
     "output_type": "stream",
     "text": [
      "['Mohammad', 'Allah', 'Ahmad']\n"
     ]
    }
   ],
   "source": [
    "print(namesWith_o) "
   ]
  },
  {
   "cell_type": "code",
   "execution_count": null,
   "id": "22fa5d46-28a4-487d-9af3-38fd0b2fcc12",
   "metadata": {},
   "outputs": [],
   "source": []
  }
 ],
 "metadata": {
  "kernelspec": {
   "display_name": "Python 3 (ipykernel)",
   "language": "python",
   "name": "python3"
  },
  "language_info": {
   "codemirror_mode": {
    "name": "ipython",
    "version": 3
   },
   "file_extension": ".py",
   "mimetype": "text/x-python",
   "name": "python",
   "nbconvert_exporter": "python",
   "pygments_lexer": "ipython3",
   "version": "3.12.4"
  }
 },
 "nbformat": 4,
 "nbformat_minor": 5
}
