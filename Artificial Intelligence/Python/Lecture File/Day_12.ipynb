{
 "cells": [
  {
   "cell_type": "markdown",
   "id": "3c840046-ac86-4e90-b6c3-3539ad368176",
   "metadata": {},
   "source": [
    "## File Handling\n",
    "**File I/O: Different Operations perform on different files.\r\n",
    "How the data is write, read, delete in the file**\r\n"
   ]
  },
  {
   "cell_type": "markdown",
   "id": "6ff45225-ec83-4042-99fe-198d9e71b755",
   "metadata": {},
   "source": [
    "File I/O: Python can be used to perform the operations on\r\n",
    "the file. reading, writing, deleting, appending, data in \r\n",
    "the file....\r\n",
    "Types of files: Text files (Data in the form of char)\r\n",
    "& Binary files(img, videos etc) in the end Binary form.\r\n"
   ]
  },
  {
   "cell_type": "markdown",
   "id": "65d0af17-c279-4b7d-8a0e-8accf3d73552",
   "metadata": {},
   "source": [
    "Why Need file handling::: Because RAM is Volatile and \n",
    "after restarting the data vanished that's why we use files \n",
    "to save the data, store the data--->SSD, HDD\n"
   ]
  },
  {
   "cell_type": "markdown",
   "id": "441b7d0a-b7bc-4cf0-8942-2a6d29850d64",
   "metadata": {},
   "source": [
    "### Syntax\n",
    "--------------------------------------------\n",
    "\n",
    "f = open(\"file_name\" , \"mode\")</br>\r\n",
    "data = f.read</br>()\r\n",
    "f.close</br>()\r\n",
    "mode shows the any operation like reading, writing etc.\r\n"
   ]
  },
  {
   "cell_type": "code",
   "execution_count": 1,
   "id": "224fe77a-6649-4b7d-9c27-1f38a48dcb92",
   "metadata": {},
   "outputs": [
    {
     "name": "stdout",
     "output_type": "stream",
     "text": [
      "Hello, Salfi Hacker is hereCyber Fantics\n",
      "Mansoor Bukhari\n",
      "Programming\n",
      "Coding\n"
     ]
    }
   ],
   "source": [
    "f = open(\"demo.txt\" , \"r\")\n",
    "data = f.read()\n",
    "print(data)\n",
    "\n",
    "# r mode mean read file if it is present, if any file with name demo.txt exist, it read it otherwise give error"
   ]
  },
  {
   "cell_type": "code",
   "execution_count": 2,
   "id": "0c49a61d-aae4-4d7a-a04e-eef2abe30ad3",
   "metadata": {},
   "outputs": [],
   "source": [
    "# write a file\n",
    "f = open('demo.txt','w')\n",
    "f.write(\"Hello, Salfi Hacker is here\")\n",
    "f.close() # On every file operation closing of file is important, wheter reading or writing"
   ]
  },
  {
   "cell_type": "code",
   "execution_count": 3,
   "id": "455baafb-9f38-4e02-8f4a-11e3cae9990d",
   "metadata": {},
   "outputs": [
    {
     "name": "stdout",
     "output_type": "stream",
     "text": [
      "Hello, Salfi Hacker is here\n"
     ]
    }
   ],
   "source": [
    "# Now open the file on read mode\n",
    "f = open('demo.txt','r')\n",
    "print(f.read())\n",
    "f.close()"
   ]
  },
  {
   "cell_type": "code",
   "execution_count": null,
   "id": "f3c8d874-087f-4b7a-9a4c-49fe8a0a3f47",
   "metadata": {},
   "outputs": [],
   "source": []
  },
  {
   "cell_type": "markdown",
   "id": "89ce47bd-6ab4-41c4-a97d-4bac8e92584a",
   "metadata": {},
   "source": [
    "## Now we have multiple operations that we can perform on\n",
    "files...\n",
    "</br>\"r\" : Reading the file(default)\n",
    "</br>\"w\" : Open for writing, truncating the file first(overwriting)\n",
    "</br>\"x\" : create new file and open for writing.\n",
    "</br>\"b\" : Binary mode\n",
    "</br>\"t\" : Text Mode\n",
    "</br>\"a\" : Appending "
   ]
  },
  {
   "cell_type": "code",
   "execution_count": null,
   "id": "2ee60703-7d9a-4ebb-b915-2974f70d0ee8",
   "metadata": {},
   "outputs": [],
   "source": []
  },
  {
   "cell_type": "code",
   "execution_count": 4,
   "id": "416588a6-27df-482b-8c4f-9ae14b2bcb12",
   "metadata": {},
   "outputs": [
    {
     "data": {
      "text/plain": [
       "'Hello, Salfi H'"
      ]
     },
     "execution_count": 4,
     "metadata": {},
     "output_type": "execute_result"
    }
   ],
   "source": [
    "# read a specific length of character of file\n",
    "f = open('demo.txt','r')\n",
    "f.read(14) "
   ]
  },
  {
   "cell_type": "code",
   "execution_count": 5,
   "id": "99a8b71e-d8a4-41c3-af31-3f09864cc42b",
   "metadata": {},
   "outputs": [],
   "source": [
    "f.close()"
   ]
  },
  {
   "cell_type": "markdown",
   "id": "98bf77b3-4920-44bc-9184-92ee1b9fd7ee",
   "metadata": {},
   "source": [
    "## Append some more lines in file"
   ]
  },
  {
   "cell_type": "code",
   "execution_count": 6,
   "id": "25bf0a51-af3d-4c63-b03c-2a9cc2cd8c35",
   "metadata": {},
   "outputs": [],
   "source": [
    "f = open('demo.txt','a')\n",
    "f.write(\"Cyber Fantics\\nMansoor Bukhari\\nProgramming\\nCoding\")\n",
    "f.close()"
   ]
  },
  {
   "cell_type": "code",
   "execution_count": 7,
   "id": "70f686a0-6400-4eca-b490-e1fb89e68c81",
   "metadata": {},
   "outputs": [
    {
     "name": "stdout",
     "output_type": "stream",
     "text": [
      "Hello, Salfi Hacker is hereCyber Fantics\n",
      "Mansoor Bukhari\n",
      "Programming\n",
      "Coding\n"
     ]
    }
   ],
   "source": [
    "f = open('demo.txt','r')\n",
    "print(f.read())\n",
    "f.close()"
   ]
  },
  {
   "cell_type": "markdown",
   "id": "ad1c3ed3-ebb2-4ac7-bfb8-ba73acb655fb",
   "metadata": {},
   "source": []
  },
  {
   "cell_type": "markdown",
   "id": "ea6ef75b-1fa2-41d7-8b39-e904ec794a0f",
   "metadata": {},
   "source": [
    "## read the file line by line through readlines"
   ]
  },
  {
   "cell_type": "code",
   "execution_count": 8,
   "id": "c468b4a2-9108-4792-a4e0-297912a7540d",
   "metadata": {},
   "outputs": [
    {
     "name": "stdout",
     "output_type": "stream",
     "text": [
      "Hello, Salfi Hacker is hereCyber Fantics\n",
      "\n"
     ]
    }
   ],
   "source": [
    "f = open('demo.txt','r')\n",
    "print(f.readline())\n",
    "f.close()"
   ]
  },
  {
   "cell_type": "code",
   "execution_count": 9,
   "id": "541ea776-0485-4f7a-9192-38ac9c15eff9",
   "metadata": {},
   "outputs": [
    {
     "name": "stdout",
     "output_type": "stream",
     "text": [
      "He\n"
     ]
    }
   ],
   "source": [
    "f = open('demo.txt','r')\n",
    "print(f.readline(2))\n",
    "f.close()"
   ]
  },
  {
   "cell_type": "code",
   "execution_count": 10,
   "id": "87bac81d-a827-41b4-86bf-6e487bc75f04",
   "metadata": {},
   "outputs": [
    {
     "name": "stdout",
     "output_type": "stream",
     "text": [
      "['Hello, Salfi Hacker is hereCyber Fantics\\n', 'Mansoor Bukhari\\n', 'Programming\\n', 'Coding']\n"
     ]
    }
   ],
   "source": [
    "f = open('demo.txt','r')\n",
    "print(f.readlines())\n",
    "f.close()"
   ]
  },
  {
   "cell_type": "code",
   "execution_count": 11,
   "id": "dae435a0-71ba-432c-82eb-2f881f5036aa",
   "metadata": {},
   "outputs": [],
   "source": [
    "f = open('demo.txt','r')\n",
    "file = f.readlines()\n",
    "f.close()"
   ]
  },
  {
   "cell_type": "code",
   "execution_count": 12,
   "id": "c98d7494-5c2e-4f7f-afef-9838959a7ef6",
   "metadata": {},
   "outputs": [
    {
     "name": "stdout",
     "output_type": "stream",
     "text": [
      "Hello, Salfi Hacker is hereCyber Fantics\n",
      "\n",
      "Mansoor Bukhari\n",
      "\n",
      "Programming\n",
      "\n",
      "Coding\n"
     ]
    }
   ],
   "source": [
    "for f in file:\n",
    "    print(f)"
   ]
  },
  {
   "cell_type": "code",
   "execution_count": null,
   "id": "6225bd2d-5ff9-4339-8d29-e76387163b14",
   "metadata": {},
   "outputs": [],
   "source": []
  },
  {
   "cell_type": "markdown",
   "id": "f280996e-1ac4-4bba-a7bd-23b9f7abef20",
   "metadata": {},
   "source": [
    "## Now I would to over write the starting things \n",
    "then we have to use."
   ]
  },
  {
   "cell_type": "code",
   "execution_count": 13,
   "id": "abb9c59a-7008-4f92-8e27-c2fac243a71e",
   "metadata": {},
   "outputs": [],
   "source": [
    "f = open(\"demo.txt\" , \"r+\")\n",
    "f.write(\"Hello Citizen of the World\")\n",
    "f.close()"
   ]
  },
  {
   "cell_type": "code",
   "execution_count": 14,
   "id": "75231705-a559-415b-8a2e-4dfa1377c56d",
   "metadata": {},
   "outputs": [
    {
     "name": "stdout",
     "output_type": "stream",
     "text": [
      "Hello Citizen of the WorldeCyber Fantics\n",
      "Mansoor Bukhari\n",
      "Programming\n",
      "Coding"
     ]
    }
   ],
   "source": [
    "f = open('demo.txt','r')\n",
    "# as it take all lines in a list, so we can use a for loop on it\n",
    "file = f.readlines()\n",
    "for line in file:\n",
    "    print(line, end='')\n",
    "f.close()"
   ]
  },
  {
   "cell_type": "code",
   "execution_count": 15,
   "id": "89d68037-ee50-4f49-8f4c-1a4e8d5a87f2",
   "metadata": {},
   "outputs": [],
   "source": [
    "# It not only replace first line, but it start replacing characters how many they are\n",
    "f = open(\"demo.txt\" , \"r+\")\n",
    "f.write(\"Hello citizen of the world,\\nSalfi Hacker is here\\n From Cyber Fantics\")\n",
    "f.close()"
   ]
  },
  {
   "cell_type": "code",
   "execution_count": 16,
   "id": "ab020f09-ad56-4371-872c-54498b802ac5",
   "metadata": {},
   "outputs": [
    {
     "name": "stdout",
     "output_type": "stream",
     "text": [
      "Hello citizen of the world,\n",
      "Salfi Hacker is here\n",
      " From Cyber Fantics\n",
      "Coding"
     ]
    }
   ],
   "source": [
    "f = open('demo.txt','r')\n",
    "# as it take all lines in a list, so we can use a for loop on it\n",
    "file = f.readlines()\n",
    "for line in file:\n",
    "    print(line, end='')\n",
    "f.close()"
   ]
  },
  {
   "cell_type": "markdown",
   "id": "70e76e23-84f0-4dd5-b773-b3637e8d1f06",
   "metadata": {},
   "source": [
    "# Alternative syntax of  reading  writeing files?\n",
    "yes we have, we use `with` keyword"
   ]
  },
  {
   "cell_type": "code",
   "execution_count": 17,
   "id": "ec527fa9-078e-41ad-a404-b6d2a63276e7",
   "metadata": {},
   "outputs": [],
   "source": [
    "with open('demo.txt','w') as f:\n",
    "    f.write('S4lfi H4cker') # we dont need to close file, with `with` keyword"
   ]
  },
  {
   "cell_type": "code",
   "execution_count": 18,
   "id": "9db78a24-7227-415c-b534-d897a3a7a9ff",
   "metadata": {},
   "outputs": [
    {
     "name": "stdout",
     "output_type": "stream",
     "text": [
      "S4lfi H4cker\n"
     ]
    }
   ],
   "source": [
    "with open('demo.txt','r') as f:\n",
    "    print(f.read())"
   ]
  },
  {
   "cell_type": "markdown",
   "id": "652493d1-0768-4fb3-b9be-9678b01f7247",
   "metadata": {},
   "source": [
    "# delete the file"
   ]
  },
  {
   "cell_type": "code",
   "execution_count": 19,
   "id": "9b965fed-f158-49dc-b311-2b3dcc9169b9",
   "metadata": {},
   "outputs": [],
   "source": [
    "# for deletig we use os library\n",
    "import os\n",
    "os.remove('demo.txt')"
   ]
  }
 ],
 "metadata": {
  "kernelspec": {
   "display_name": "Python 3 (ipykernel)",
   "language": "python",
   "name": "python3"
  },
  "language_info": {
   "codemirror_mode": {
    "name": "ipython",
    "version": 3
   },
   "file_extension": ".py",
   "mimetype": "text/x-python",
   "name": "python",
   "nbconvert_exporter": "python",
   "pygments_lexer": "ipython3",
   "version": "3.12.4"
  }
 },
 "nbformat": 4,
 "nbformat_minor": 5
}
