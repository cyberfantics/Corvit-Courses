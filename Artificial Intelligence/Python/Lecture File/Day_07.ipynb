{
 "cells": [
  {
   "cell_type": "markdown",
   "id": "ec2871b6-c1e3-47c2-9fe1-62e744fd33fc",
   "metadata": {},
   "source": [
    "## FUNCTIONS:::::::::\r\n",
    "Why? Because using functions, the line of code \r\n",
    "become less and error free. A function is a block \r\n",
    "of code that performs a specific task whenever \r\n",
    "it is called. in bigger programs, where we have \r\n",
    "large amounts of code, it is available to create\r\n",
    "for use existing functions that make the program \r\n",
    "flow organized and neat."
   ]
  },
  {
   "cell_type": "markdown",
   "id": "2052c429-2b10-4cc5-bd79-61621a447010",
   "metadata": {},
   "source": [
    "## TYPES:::::::::::::\n",
    "- User defined functions\n",
    "- Built-in Functions\n",
    "- Pre-Defined Functions: Defined and pre-coded.\n",
    "min(), max(), len(), sum(), type(), range(), \n",
    "dict(), list(), tuple(), set(), print() etc."
   ]
  },
  {
   "cell_type": "markdown",
   "id": "a9e51ad8-fc72-45d8-a71a-ffef098aac93",
   "metadata": {},
   "source": [
    "## User defined functions: Created by user as per \n",
    "their needs. \n",
    "It is usually starts from def ur function(argument)\n"
   ]
  },
  {
   "cell_type": "code",
   "execution_count": 1,
   "id": "09c7545d-f797-4e8b-a298-a74e8926d0d9",
   "metadata": {},
   "outputs": [
    {
     "name": "stdout",
     "output_type": "stream",
     "text": [
      "Hello Mansoor\n"
     ]
    }
   ],
   "source": [
    "def greet(name):\n",
    "    print(f\"Hello {name}\")\n",
    "\n",
    "greet(\"Mansoor\")"
   ]
  },
  {
   "cell_type": "code",
   "execution_count": 2,
   "id": "26e966de-b484-4b76-a71f-f54fa519fb33",
   "metadata": {},
   "outputs": [
    {
     "data": {
      "text/plain": [
       "9"
      ]
     },
     "execution_count": 2,
     "metadata": {},
     "output_type": "execute_result"
    }
   ],
   "source": [
    "def add(a,b): # it takes two argument, a and b\n",
    "    return a+b # Return the sum of two values\n",
    "add(4,5)"
   ]
  },
  {
   "cell_type": "code",
   "execution_count": 3,
   "id": "ce759574-2251-4da5-8510-b413fb944b60",
   "metadata": {},
   "outputs": [],
   "source": [
    "def sub(a,b,c):\n",
    "    return (a-b)-c"
   ]
  },
  {
   "cell_type": "code",
   "execution_count": 4,
   "id": "4057d156-cde6-4c63-ae35-4d0fcc93512e",
   "metadata": {},
   "outputs": [
    {
     "data": {
      "text/plain": [
       "-8"
      ]
     },
     "execution_count": 4,
     "metadata": {},
     "output_type": "execute_result"
    }
   ],
   "source": [
    "sub(5,6,7)"
   ]
  },
  {
   "cell_type": "code",
   "execution_count": 5,
   "id": "e4c561a4-1969-4d2a-8672-c09a4b4264be",
   "metadata": {},
   "outputs": [
    {
     "name": "stdin",
     "output_type": "stream",
     "text": [
      "Enter Radius of circle:  7\n"
     ]
    },
    {
     "name": "stdout",
     "output_type": "stream",
     "text": [
      "The area of the circle with radius 7 is: 153.93791\n"
     ]
    }
   ],
   "source": [
    "def calculate_area(radius):\n",
    "    area = 3.14159 * radius ** 2\n",
    "    return area\n",
    "    \n",
    "radius = int(input(\"Enter Radius of circle: \"))\n",
    "area = calculate_area(radius)\n",
    "print(\"The area of the circle with radius\", radius, \"is:\", area)"
   ]
  },
  {
   "cell_type": "code",
   "execution_count": null,
   "id": "f17ece8b-f0da-4e41-8e19-28c25f48edf4",
   "metadata": {},
   "outputs": [],
   "source": []
  },
  {
   "cell_type": "code",
   "execution_count": null,
   "id": "0f359a62-2d19-434c-914f-ff9c9900963f",
   "metadata": {},
   "outputs": [],
   "source": []
  },
  {
   "cell_type": "markdown",
   "id": "f24639b9-33a2-4bab-a745-9322d38e7b50",
   "metadata": {},
   "source": [
    "## Builtin Functions:\n",
    "- Functions that are builtin in Programming Language, For example to calculate length of string we use len function"
   ]
  },
  {
   "cell_type": "code",
   "execution_count": 6,
   "id": "089a3be8-f928-4581-8a2b-fb1b8c5afa48",
   "metadata": {},
   "outputs": [
    {
     "data": {
      "text/plain": [
       "7"
      ]
     },
     "execution_count": 6,
     "metadata": {},
     "output_type": "execute_result"
    }
   ],
   "source": [
    "name = \"Mansoor\"\n",
    "len(name)"
   ]
  },
  {
   "cell_type": "code",
   "execution_count": 7,
   "id": "02d753fa-3a34-4e84-94c8-a5ea6ab076fc",
   "metadata": {},
   "outputs": [
    {
     "name": "stdout",
     "output_type": "stream",
     "text": [
      "Hello\n"
     ]
    }
   ],
   "source": [
    "print('Hello') # Print is also a function that display value on screen"
   ]
  },
  {
   "cell_type": "code",
   "execution_count": 8,
   "id": "228550a6-751d-4844-abf8-027ca25b34e4",
   "metadata": {},
   "outputs": [
    {
     "name": "stdout",
     "output_type": "stream",
     "text": [
      "13\n"
     ]
    }
   ],
   "source": [
    "my_string = \"Hello, world!\"\n",
    "print(len(my_string)) "
   ]
  },
  {
   "cell_type": "code",
   "execution_count": 9,
   "id": "33203cb7-9404-46a3-b0ba-81c145196bf2",
   "metadata": {},
   "outputs": [
    {
     "name": "stdout",
     "output_type": "stream",
     "text": [
      "15\n"
     ]
    }
   ],
   "source": [
    "my_list = [1, 2, 3, 4, 5]\n",
    "print(sum(my_list)) "
   ]
  },
  {
   "cell_type": "code",
   "execution_count": 10,
   "id": "b7cfacbd-df1b-4a35-be59-46168732515d",
   "metadata": {},
   "outputs": [
    {
     "name": "stdout",
     "output_type": "stream",
     "text": [
      "5\n"
     ]
    }
   ],
   "source": [
    "my_number = -5\n",
    "print(abs(my_number))  "
   ]
  },
  {
   "cell_type": "code",
   "execution_count": 11,
   "id": "f82fe036-bc74-4013-92a5-68dde4ab91e5",
   "metadata": {},
   "outputs": [
    {
     "name": "stdout",
     "output_type": "stream",
     "text": [
      "[1, 1, 3, 4, 5, 9]\n"
     ]
    }
   ],
   "source": [
    "my_tuple = (3, 1, 4, 1, 5, 9)\n",
    "print(sorted(my_tuple))"
   ]
  },
  {
   "cell_type": "code",
   "execution_count": null,
   "id": "d1a978df-dd9c-41b2-9a90-347f94219eff",
   "metadata": {},
   "outputs": [],
   "source": []
  },
  {
   "cell_type": "markdown",
   "id": "a65df3fc-6234-4b1a-94a0-e94b2e23e35b",
   "metadata": {},
   "source": [
    "## FUNCTION ARGUMENTS & RETURN STATEMENT:nts\r\n"
   ]
  },
  {
   "cell_type": "markdown",
   "id": "63cabb11-55bc-4b2a-8e5b-a0ab9e684b7c",
   "metadata": {},
   "source": [
    "## DEFAULT ARGUMENTS: \n",
    "- We can provide a default \n",
    "value while creating a function. This way the \n",
    "function assumes a default value even if a value\n",
    "is not provided in the function call for that \n",
    "argument. \n"
   ]
  },
  {
   "cell_type": "code",
   "execution_count": 12,
   "id": "0003944c-fa8e-4e7a-a4c4-023af6d2d5a9",
   "metadata": {},
   "outputs": [],
   "source": [
    "def add(a=0, b=0):\n",
    "    return a+b"
   ]
  },
  {
   "cell_type": "code",
   "execution_count": 13,
   "id": "5dff3e0e-f4cf-456f-ab50-bedb980ae988",
   "metadata": {},
   "outputs": [
    {
     "data": {
      "text/plain": [
       "0"
      ]
     },
     "execution_count": 13,
     "metadata": {},
     "output_type": "execute_result"
    }
   ],
   "source": [
    "add()"
   ]
  },
  {
   "cell_type": "code",
   "execution_count": 14,
   "id": "2e2d14d4-da28-46d5-8a19-d10ea3d23d2a",
   "metadata": {},
   "outputs": [
    {
     "data": {
      "text/plain": [
       "1"
      ]
     },
     "execution_count": 14,
     "metadata": {},
     "output_type": "execute_result"
    }
   ],
   "source": [
    "add(1)"
   ]
  },
  {
   "cell_type": "code",
   "execution_count": 15,
   "id": "333e9803-90c2-4266-bf9d-de7d087ca2ab",
   "metadata": {},
   "outputs": [
    {
     "data": {
      "text/plain": [
       "6"
      ]
     },
     "execution_count": 15,
     "metadata": {},
     "output_type": "execute_result"
    }
   ],
   "source": [
    "add(1,5)"
   ]
  },
  {
   "cell_type": "code",
   "execution_count": null,
   "id": "7ea98afe-9fae-48d4-889f-23af166caabc",
   "metadata": {},
   "outputs": [],
   "source": []
  },
  {
   "cell_type": "code",
   "execution_count": 17,
   "id": "5bff5e77-8bae-4fb1-ad3b-cb5a5936a7f0",
   "metadata": {},
   "outputs": [
    {
     "name": "stdout",
     "output_type": "stream",
     "text": [
      "Welcome Mansoor ul Hassan Bukhari\n"
     ]
    }
   ],
   "source": [
    "def name(fname, mname = \"ul Hassan\", lname = \"Bukhari\"):\n",
    "\tprint(\"Welcome\", fname, mname, lname)\n",
    "\n",
    "name(\"Mansoor\")"
   ]
  },
  {
   "cell_type": "code",
   "execution_count": 18,
   "id": "a5fb002e-dc1f-40f4-85f1-6a8734246752",
   "metadata": {},
   "outputs": [
    {
     "name": "stdout",
     "output_type": "stream",
     "text": [
      "Average of two numbers:  5.0\n"
     ]
    }
   ],
   "source": [
    "def average(a=4,b=6):\n",
    "\tprint(\"Average of two numbers: \", (a+b)/2)\n",
    "average()"
   ]
  },
  {
   "cell_type": "code",
   "execution_count": null,
   "id": "bf94d00a-43c1-43ee-8fba-eedada214460",
   "metadata": {},
   "outputs": [],
   "source": []
  },
  {
   "cell_type": "markdown",
   "id": "aaa4a204-a85c-4855-8d7a-e2a4f9a505e1",
   "metadata": {},
   "source": [
    "## KEYWORD ARGUMENT: \n",
    "- if we wish the order does not\n",
    "matter then we use the keyword argument. We can \n",
    "provide arguments with key = value, this way the \n",
    "interpreter recognize the arguments by parameter \n",
    "name. Hence, the order in which the arguments are \n",
    "passed does not matter.\n"
   ]
  },
  {
   "cell_type": "code",
   "execution_count": 20,
   "id": "221175b9-e7e3-4ad9-b643-6e99b68b4f9e",
   "metadata": {},
   "outputs": [
    {
     "name": "stdout",
     "output_type": "stream",
     "text": [
      "Hello! Muhammad Ali Khan\n"
     ]
    }
   ],
   "source": [
    "def name(fname,mname,lname):\n",
    "\tprint(\"Hello!\", fname, mname, lname)\n",
    "\n",
    "name(mname = \"Ali\", lname = \"Khan\", fname = \"Muhammad\")"
   ]
  },
  {
   "cell_type": "code",
   "execution_count": 21,
   "id": "1d615c78-e502-4334-a4c8-52dc53d1b707",
   "metadata": {},
   "outputs": [
    {
     "data": {
      "text/plain": [
       "'Hello Mansoor Bukhari'"
      ]
     },
     "execution_count": 21,
     "metadata": {},
     "output_type": "execute_result"
    }
   ],
   "source": [
    "def greet(fname,lname):\n",
    "    return f'Hello {fname} {lname}'\n",
    "greet(lname='Bukhari', fname='Mansoor')"
   ]
  },
  {
   "cell_type": "code",
   "execution_count": null,
   "id": "fb112425-b797-4e64-92ea-dbbabba91356",
   "metadata": {},
   "outputs": [],
   "source": []
  },
  {
   "cell_type": "markdown",
   "id": "2be0b4d8-72d3-4427-988c-3b676fa48be5",
   "metadata": {},
   "source": [
    "## REQUIRED ARGUMENT: \n",
    "- In this case we should have to\r\n",
    "provide the value of arguments must. In case we\r\n",
    "don't pass the arguments with a key = value syntax\r\n",
    "passing should be exact positional order with actual\r\n",
    "function definition.\r\n"
   ]
  },
  {
   "cell_type": "code",
   "execution_count": 22,
   "id": "9c126fe2-d2c3-44bf-b0d7-624de2907674",
   "metadata": {},
   "outputs": [],
   "source": [
    "def average(a,b):\t#to check values.\n",
    "\tprint(\"Average of two numbers: \", (a+b)/2)"
   ]
  },
  {
   "cell_type": "code",
   "execution_count": 23,
   "id": "d2b5c8a4-8856-4905-a185-3ec400c78505",
   "metadata": {},
   "outputs": [
    {
     "ename": "TypeError",
     "evalue": "average() missing 2 required positional arguments: 'a' and 'b'",
     "output_type": "error",
     "traceback": [
      "\u001b[1;31m---------------------------------------------------------------------------\u001b[0m",
      "\u001b[1;31mTypeError\u001b[0m                                 Traceback (most recent call last)",
      "Cell \u001b[1;32mIn[23], line 1\u001b[0m\n\u001b[1;32m----> 1\u001b[0m average()\n",
      "\u001b[1;31mTypeError\u001b[0m: average() missing 2 required positional arguments: 'a' and 'b'"
     ]
    }
   ],
   "source": [
    "average() # if we run it without passing argument it give error"
   ]
  },
  {
   "cell_type": "code",
   "execution_count": 24,
   "id": "fef2e20b-315b-4342-9489-c54b646064a3",
   "metadata": {},
   "outputs": [
    {
     "name": "stdout",
     "output_type": "stream",
     "text": [
      "Average of two numbers:  3.5\n"
     ]
    }
   ],
   "source": [
    "average(3,4) # Now it work, b/c it need two argument"
   ]
  },
  {
   "cell_type": "markdown",
   "id": "da4cdec2-4d1d-480d-9776-02965448c15b",
   "metadata": {},
   "source": [
    "## ARBITARY ARGUMENTS:\n",
    "- While creating a function, pass a * before parameter\n",
    "name while defining function. The function accesses\n",
    "the arguments by processing thme in the form of \n",
    "tuple.\n"
   ]
  },
  {
   "cell_type": "code",
   "execution_count": 26,
   "id": "a8e44a3d-8c3e-4598-9dd2-c6272a029c8b",
   "metadata": {},
   "outputs": [],
   "source": [
    "def avg(*num):\n",
    "    sum = 0\n",
    "    for i in num:\n",
    "     sum = sum+i\n",
    "     print(\"Average is: \", sum/len(num))"
   ]
  },
  {
   "cell_type": "code",
   "execution_count": 27,
   "id": "46f117a3-61b5-4fce-88b6-a0d3f4286d76",
   "metadata": {},
   "outputs": [
    {
     "name": "stdout",
     "output_type": "stream",
     "text": [
      "Average is:  5.0\n",
      "Average is:  10.0\n"
     ]
    }
   ],
   "source": [
    "avg(10,10)"
   ]
  },
  {
   "cell_type": "code",
   "execution_count": 30,
   "id": "c62f22f1-bd2e-498e-9f54-c0ce68c931c3",
   "metadata": {},
   "outputs": [
    {
     "data": {
      "text/plain": [
       "6"
      ]
     },
     "execution_count": 30,
     "metadata": {},
     "output_type": "execute_result"
    }
   ],
   "source": [
    "def sum(*nums):\n",
    "    add = 0\n",
    "    for num in nums:\n",
    "        add += num\n",
    "    return add\n",
    "\n",
    "sum(1,2,3)"
   ]
  },
  {
   "cell_type": "code",
   "execution_count": null,
   "id": "24354215-e558-4d48-9961-0d1661da6a25",
   "metadata": {},
   "outputs": [],
   "source": []
  },
  {
   "cell_type": "code",
   "execution_count": 33,
   "id": "b333f682-e004-43af-87a8-2dfab17cdf4c",
   "metadata": {},
   "outputs": [],
   "source": [
    "def sum_1(**kwargs):\n",
    "    total = 0\n",
    "    for key, value in kwargs.items():\n",
    "        total += value\n",
    "    return total"
   ]
  },
  {
   "cell_type": "code",
   "execution_count": 34,
   "id": "fb4b0bbe-a566-43a2-beb3-adb7792c78f2",
   "metadata": {},
   "outputs": [
    {
     "data": {
      "text/plain": [
       "75"
      ]
     },
     "execution_count": 34,
     "metadata": {},
     "output_type": "execute_result"
    }
   ],
   "source": [
    "sum_1(a=6,b=7,c=8,d=54)"
   ]
  },
  {
   "cell_type": "code",
   "execution_count": null,
   "id": "8a267887-531c-4638-a42c-e5ab54612d76",
   "metadata": {},
   "outputs": [],
   "source": []
  },
  {
   "cell_type": "markdown",
   "id": "10091a65-dc1c-46fd-91b7-a6216b15e21b",
   "metadata": {},
   "source": [
    "## Lambda Functions "
   ]
  },
  {
   "cell_type": "code",
   "execution_count": 35,
   "id": "f2a7a97a-f627-4b37-a350-bb33fda64230",
   "metadata": {},
   "outputs": [],
   "source": [
    "sum = lambda a,b:a+b"
   ]
  },
  {
   "cell_type": "code",
   "execution_count": 36,
   "id": "9dc42d7c-d5ed-4ba6-a645-d75b1ba3551f",
   "metadata": {},
   "outputs": [
    {
     "data": {
      "text/plain": [
       "11"
      ]
     },
     "execution_count": 36,
     "metadata": {},
     "output_type": "execute_result"
    }
   ],
   "source": [
    "sum(5,6)"
   ]
  },
  {
   "cell_type": "code",
   "execution_count": 42,
   "id": "19fa1cc5-9fbb-4159-acd8-60388f84ac86",
   "metadata": {},
   "outputs": [],
   "source": [
    "sub = lambda a,b:a-b"
   ]
  },
  {
   "cell_type": "code",
   "execution_count": 44,
   "id": "3e1c1f5b-bb57-4ce1-9115-9bb417787e7e",
   "metadata": {},
   "outputs": [
    {
     "data": {
      "text/plain": [
       "-2"
      ]
     },
     "execution_count": 44,
     "metadata": {},
     "output_type": "execute_result"
    }
   ],
   "source": [
    "sub(6,8)"
   ]
  },
  {
   "cell_type": "code",
   "execution_count": null,
   "id": "6b8adb48-0838-4afd-8f1b-279622353a8c",
   "metadata": {},
   "outputs": [],
   "source": []
  },
  {
   "cell_type": "markdown",
   "id": "ff21e928-6bd1-432e-8a6c-c670ef0c16a3",
   "metadata": {},
   "source": [
    "## DECORATORS:\r",
    "- \n",
    "Decorators in Python are a way to modify or extend the behavior of functions or\r\n",
    "methods without changing their code. They allow you to wrap another function or method in order \r\n",
    "to execute code before and/or after the wrapped function runs, or to modify its arguments or return \r\n",
    "valuMPLE:\r\n",
    "def my_decorator(func):\r\n",
    "    def wrapper():\r\n",
    "        print(\"Something is happening before the function is called.\")\r\n",
    "        func()\r\n",
    "        print(\"Something is happening after the function is called.\")\r\n",
    "    return wrapper\r\n",
    "\r\n",
    "@my_decorator\r\n",
    "def say_hello():\r\n",
    "    print(\"Hello!\")\r\n",
    "\r\n",
    "say_hello()\r\n"
   ]
  },
  {
   "cell_type": "code",
   "execution_count": 45,
   "id": "3507a000-08f9-4483-8ef8-c59db90d8fa3",
   "metadata": {},
   "outputs": [
    {
     "name": "stdout",
     "output_type": "stream",
     "text": [
      "Hello\n",
      "World\n",
      "Good Bye\n"
     ]
    }
   ],
   "source": [
    "def my_decorator(func):\n",
    "    print(\"Hello\")\n",
    "    func()\n",
    "    print(\"Good Bye\")\n",
    "\n",
    "@my_decorator\n",
    "def hello():\n",
    "    print(\"World\")"
   ]
  },
  {
   "cell_type": "code",
   "execution_count": 47,
   "id": "c1ef47be-4351-4d53-9524-29567995021e",
   "metadata": {},
   "outputs": [],
   "source": []
  },
  {
   "cell_type": "code",
   "execution_count": 49,
   "id": "5f77eeff-4bb9-4722-8003-baf0cf84e27a",
   "metadata": {},
   "outputs": [],
   "source": [
    "def my_decorator(func):\n",
    "    def wrapper():\n",
    "        print(\"Something is happening before the function is called.\")\n",
    "        func()\n",
    "        print(\"Something is happening after the function is called.\")\n",
    "    return wrapper\n",
    "\n",
    "@my_decorator\n",
    "def say_hello():\n",
    "    print(\"Hello!\")"
   ]
  },
  {
   "cell_type": "code",
   "execution_count": 50,
   "id": "aec07a09-3c53-4e57-9666-a1473d0233fc",
   "metadata": {},
   "outputs": [
    {
     "name": "stdout",
     "output_type": "stream",
     "text": [
      "Something is happening before the function is called.\n",
      "Hello!\n",
      "Something is happening after the function is called.\n"
     ]
    }
   ],
   "source": [
    "say_hello()"
   ]
  },
  {
   "cell_type": "code",
   "execution_count": 51,
   "id": "0d7c4bb5-8d20-4869-b26e-3c91a872e1c6",
   "metadata": {},
   "outputs": [
    {
     "name": "stdout",
     "output_type": "stream",
     "text": [
      "Something is happening before the function is called.\n",
      "Hello!\n",
      "Something is happening after the function is called.\n"
     ]
    }
   ],
   "source": [
    "say_hello()"
   ]
  },
  {
   "cell_type": "code",
   "execution_count": null,
   "id": "15b2c4fc-0e72-423a-af04-a3d177349eb9",
   "metadata": {},
   "outputs": [],
   "source": []
  },
  {
   "cell_type": "markdown",
   "id": "874b3ac1-0088-4a96-8702-a989749247d2",
   "metadata": {},
   "source": []
  },
  {
   "cell_type": "code",
   "execution_count": 52,
   "id": "87a7e405-b021-4646-9769-831c31e7ae16",
   "metadata": {},
   "outputs": [],
   "source": [
    "def decorator(func):\n",
    "    def wrapper():\n",
    "        print(\"Hello, I am coming before function is called\")\n",
    "        func()\n",
    "        print(\"After function is run\")\n",
    "    return wrapper"
   ]
  },
  {
   "cell_type": "code",
   "execution_count": 54,
   "id": "6d0a8308-c828-4bc7-8707-172d7b0e07af",
   "metadata": {},
   "outputs": [],
   "source": [
    "@decorator\n",
    "def greet():\n",
    "    print(\"How are You\")"
   ]
  },
  {
   "cell_type": "code",
   "execution_count": 55,
   "id": "7bf5f633-bafa-4879-acd1-0de0e36b5d4c",
   "metadata": {},
   "outputs": [
    {
     "name": "stdout",
     "output_type": "stream",
     "text": [
      "Hello, I am coming before function is called\n",
      "How are You\n",
      "After function is run\n"
     ]
    }
   ],
   "source": [
    "greet()"
   ]
  },
  {
   "cell_type": "code",
   "execution_count": null,
   "id": "76537834-d532-491a-b7fb-104258fa72eb",
   "metadata": {},
   "outputs": [],
   "source": []
  },
  {
   "cell_type": "code",
   "execution_count": 56,
   "id": "ac3ee0a1-417b-408e-afe5-dbe96880a68f",
   "metadata": {},
   "outputs": [],
   "source": [
    "def measure_time(func):\n",
    "    import time\n",
    "    \n",
    "    def wrapper(*args, **kwargs):\n",
    "        start_time = time.time()\n",
    "        result = func(*args, **kwargs)\n",
    "        end_time = time.time()\n",
    "        print(f\"Execution time of {func.__name__}: {end_time - start_time} seconds\")\n",
    "        return result\n",
    "    \n",
    "    return wrapper"
   ]
  },
  {
   "cell_type": "code",
   "execution_count": 57,
   "id": "8c73d6e5-1484-4417-b7bb-10f54ddd611f",
   "metadata": {},
   "outputs": [],
   "source": [
    "@measure_time\n",
    "def slow_function(n):\n",
    "    # Simulate a slow function\n",
    "    total = 0\n",
    "    for i in range(n):\n",
    "        total += i\n",
    "    return total\n",
    "\n"
   ]
  },
  {
   "cell_type": "code",
   "execution_count": 58,
   "id": "62feb904-b986-4212-bad2-eb306eee56f5",
   "metadata": {},
   "outputs": [
    {
     "name": "stdout",
     "output_type": "stream",
     "text": [
      "Execution time of slow_function: 0.14397883415222168 seconds\n",
      "Result: 499999500000\n"
     ]
    }
   ],
   "source": [
    "result = slow_function(1000000)\n",
    "print(\"Result:\", result)\n"
   ]
  },
  {
   "cell_type": "code",
   "execution_count": null,
   "id": "520202f7-d9a9-4b65-844a-76a15ecf7809",
   "metadata": {},
   "outputs": [],
   "source": []
  }
 ],
 "metadata": {
  "kernelspec": {
   "display_name": "Python 3 (ipykernel)",
   "language": "python",
   "name": "python3"
  },
  "language_info": {
   "codemirror_mode": {
    "name": "ipython",
    "version": 3
   },
   "file_extension": ".py",
   "mimetype": "text/x-python",
   "name": "python",
   "nbconvert_exporter": "python",
   "pygments_lexer": "ipython3",
   "version": "3.12.4"
  }
 },
 "nbformat": 4,
 "nbformat_minor": 5
}
