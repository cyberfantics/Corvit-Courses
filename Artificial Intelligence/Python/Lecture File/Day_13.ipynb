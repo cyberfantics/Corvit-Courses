{
 "cells": [
  {
   "cell_type": "markdown",
   "id": "c4af6436-52f8-456f-9b7f-3ebc5ce71838",
   "metadata": {},
   "source": [
    "## Python Error and Exception\n",
    "**Errors represent conditions such as \n",
    "compilation error, syntax error, \n",
    "error in the logical part of the \n",
    "code, library incompatibility, \n",
    "infinite recursion, etc.**"
   ]
  },
  {
   "cell_type": "markdown",
   "id": "c3bfc914-9469-4d62-b1de-ef67c084534a",
   "metadata": {},
   "source": [
    "**Errors are usually beyond the control \n",
    "of the programmer and \n",
    "we should not try to handle errors.**"
   ]
  },
  {
   "cell_type": "markdown",
   "id": "17bec284-9ce4-4654-886a-ebe1fda721b0",
   "metadata": {},
   "source": [
    "## Python Logical Errors (Exceptions)\n",
    "Errors that occur at runtime \n",
    "(after passing the syntax test) are \n",
    "called exceptions or logical errors.\n",
    "\n",
    "For instance, they occur when we\n",
    "\n",
    "--> try to open a file(for reading) that \n",
    "   does not exist (FileNotFoundError)</br>\n",
    "--> try to divide a number by zero \n",
    "   (ZeroDivisionError)</br>\n",
    "--> try to import a module that does not \n",
    "   exist (ImportError) and so on.\n",
    "____________________________________________________________________\n",
    "\n",
    "    "
   ]
  },
  {
   "cell_type": "markdown",
   "id": "294cb58e-1fbe-454c-967c-68981d61f723",
   "metadata": {},
   "source": [
    "**The try...except block is used to handle exceptions in Python.**"
   ]
  },
  {
   "cell_type": "code",
   "execution_count": 5,
   "id": "fa275879-d91a-47d6-95b0-7ba81ad1f08e",
   "metadata": {},
   "outputs": [
    {
     "data": {
      "text/plain": [
       "'\\ntry:\\n    # code that may cause exception\\nexcept:\\n    # code to run when exception occurs\\n'"
      ]
     },
     "execution_count": 5,
     "metadata": {},
     "output_type": "execute_result"
    }
   ],
   "source": [
    "# Syntax\n",
    "'''\n",
    "try:\n",
    "    # code that may cause exception\n",
    "except:\n",
    "    # code to run when exception occurs\n",
    "'''"
   ]
  },
  {
   "cell_type": "code",
   "execution_count": null,
   "id": "2078ae65-165d-4dd0-b00d-bebbbb2809c2",
   "metadata": {},
   "outputs": [],
   "source": []
  },
  {
   "cell_type": "code",
   "execution_count": 6,
   "id": "855a7092-9e6f-471f-8ba8-bb40d14d92c6",
   "metadata": {},
   "outputs": [
    {
     "name": "stdout",
     "output_type": "stream",
     "text": [
      "Error: Denominator cannot be 0.\n"
     ]
    }
   ],
   "source": [
    "try:\n",
    "    numerator = 10\n",
    "    denominator = 0\n",
    "    result = numerator/denominator\n",
    "    print(result)\n",
    "except:\n",
    "    print(\"Error: Denominator cannot be 0.\") "
   ]
  },
  {
   "cell_type": "code",
   "execution_count": 7,
   "id": "4256806a-013e-49d8-af7e-fc99fae2ce66",
   "metadata": {},
   "outputs": [
    {
     "ename": "ZeroDivisionError",
     "evalue": "division by zero",
     "output_type": "error",
     "traceback": [
      "\u001b[1;31m---------------------------------------------------------------------------\u001b[0m",
      "\u001b[1;31mZeroDivisionError\u001b[0m                         Traceback (most recent call last)",
      "Cell \u001b[1;32mIn[7], line 4\u001b[0m\n\u001b[0;32m      2\u001b[0m numerator \u001b[38;5;241m=\u001b[39m \u001b[38;5;241m10\u001b[39m\n\u001b[0;32m      3\u001b[0m denominator \u001b[38;5;241m=\u001b[39m \u001b[38;5;241m0\u001b[39m\n\u001b[1;32m----> 4\u001b[0m result \u001b[38;5;241m=\u001b[39m numerator\u001b[38;5;241m/\u001b[39mdenominator\n\u001b[0;32m      5\u001b[0m \u001b[38;5;28mprint\u001b[39m(result)\n",
      "\u001b[1;31mZeroDivisionError\u001b[0m: division by zero"
     ]
    }
   ],
   "source": [
    "## IF we dont use try except, here's how it produced error\n",
    "numerator = 10\n",
    "denominator = 0\n",
    "result = numerator/denominator\n",
    "print(result)"
   ]
  },
  {
   "cell_type": "code",
   "execution_count": 8,
   "id": "5ff7b592-3ef1-498d-aaed-a707b0cd39b2",
   "metadata": {},
   "outputs": [
    {
     "name": "stdout",
     "output_type": "stream",
     "text": [
      "Error: Denominator cannot be 0.\n"
     ]
    }
   ],
   "source": [
    "## We can also catch specific error\n",
    "try:\n",
    "    numerator = 10\n",
    "    denominator = 0\n",
    "    result = numerator/denominator\n",
    "    print(result)\n",
    "except ZeroDivisionError:\n",
    "    print(\"Error: Denominator cannot be 0.\") \n",
    "except:\n",
    "    print(\"Any other Error Occured\")"
   ]
  },
  {
   "cell_type": "code",
   "execution_count": 9,
   "id": "0a71c9e2-b727-4efd-8cc9-ab768050ed83",
   "metadata": {},
   "outputs": [
    {
     "name": "stdout",
     "output_type": "stream",
     "text": [
      "Any other Error Occured\n"
     ]
    }
   ],
   "source": [
    "# Lets produce another error and check wheter it goes to except or not\n",
    "## We can also catch specific error\n",
    "try:\n",
    "    numerator = 10\n",
    "    denominator = \"1\"\n",
    "    result = numerator/denominator\n",
    "    print(result)\n",
    "except ZeroDivisionError:\n",
    "    print(\"Error: Denominator cannot be 0.\") \n",
    "except:\n",
    "    print(\"Any other Error Occured\")"
   ]
  },
  {
   "cell_type": "code",
   "execution_count": 10,
   "id": "3941af58-c12f-4834-ae6f-386d2ef20888",
   "metadata": {},
   "outputs": [
    {
     "ename": "TypeError",
     "evalue": "unsupported operand type(s) for /: 'int' and 'str'",
     "output_type": "error",
     "traceback": [
      "\u001b[1;31m---------------------------------------------------------------------------\u001b[0m",
      "\u001b[1;31mTypeError\u001b[0m                                 Traceback (most recent call last)",
      "Cell \u001b[1;32mIn[10], line 3\u001b[0m\n\u001b[0;32m      1\u001b[0m numerator \u001b[38;5;241m=\u001b[39m \u001b[38;5;241m10\u001b[39m\n\u001b[0;32m      2\u001b[0m denominator \u001b[38;5;241m=\u001b[39m \u001b[38;5;124m'\u001b[39m\u001b[38;5;124m1\u001b[39m\u001b[38;5;124m'\u001b[39m\n\u001b[1;32m----> 3\u001b[0m result \u001b[38;5;241m=\u001b[39m numerator\u001b[38;5;241m/\u001b[39mdenominator\n\u001b[0;32m      4\u001b[0m \u001b[38;5;28mprint\u001b[39m(result)\n",
      "\u001b[1;31mTypeError\u001b[0m: unsupported operand type(s) for /: 'int' and 'str'"
     ]
    }
   ],
   "source": [
    "numerator = 10\n",
    "denominator = '1'\n",
    "result = numerator/denominator\n",
    "print(result)\n"
   ]
  },
  {
   "cell_type": "code",
   "execution_count": 12,
   "id": "6cbc695d-250f-4428-9a98-e650340706f1",
   "metadata": {},
   "outputs": [
    {
     "name": "stdout",
     "output_type": "stream",
     "text": [
      "Type Error Occured\n"
     ]
    }
   ],
   "source": [
    "## We can also catch specific error\n",
    "try:\n",
    "    numerator = 10\n",
    "    denominator = '1'\n",
    "    result = numerator/denominator\n",
    "    print(result)\n",
    "except ZeroDivisionError:\n",
    "    print(\"Error: Denominator cannot be 0.\") \n",
    "except TypeError:\n",
    "    print(\"Type Error Occured\")\n",
    "except:\n",
    "    print(\"Something else occured\")"
   ]
  },
  {
   "cell_type": "markdown",
   "id": "acc6d475-6f12-4358-87e6-cdb62c74867d",
   "metadata": {},
   "source": [
    "``Note``: **Catching Specific Exceptions in Python:\n",
    "For each try block, there can be one \n",
    "or more except blocks. \n",
    "Multiple except blocks allow us to handle \n",
    "each exception differently.\n",
    "The argument type of each except block \n",
    "indicates the type of \n",
    "exception that can be handled by it.**"
   ]
  },
  {
   "cell_type": "code",
   "execution_count": null,
   "id": "c2a70fb9-f573-40fd-ae1f-28838dcf604e",
   "metadata": {},
   "outputs": [],
   "source": []
  },
  {
   "cell_type": "markdown",
   "id": "f0515da3-eb5a-4b18-9846-d754ca452860",
   "metadata": {},
   "source": [
    "## Python try with else clause:\n",
    "In some situations, we might want \n",
    "to run a certain block of code if the \n",
    "code block inside try runs without \n",
    "any errors. For these cases, you can \n",
    "use the optional else keyword with \n",
    "the try statement."
   ]
  },
  {
   "cell_type": "code",
   "execution_count": 13,
   "id": "101f3846-c38d-400a-921a-b397e79132ea",
   "metadata": {},
   "outputs": [
    {
     "name": "stdin",
     "output_type": "stream",
     "text": [
      "Enter a number:  6\n"
     ]
    },
    {
     "name": "stdout",
     "output_type": "stream",
     "text": [
      "0.16666666666666666\n"
     ]
    }
   ],
   "source": [
    "try:\n",
    "    num = int(input(\"Enter a number: \"))\n",
    "    assert num % 2 == 0\n",
    "except:\n",
    "    print(\"Not an even number!\")\n",
    "else:\n",
    "    reciprocal = 1/num\n",
    "    print(reciprocal)"
   ]
  },
  {
   "cell_type": "markdown",
   "id": "d89f0e03-1fc3-4466-9b2d-cdc3fb10a0e9",
   "metadata": {},
   "source": [
    "``The assert statement is used\n",
    "to ensure that the input number is even \n",
    "before proceeding with the \n",
    "calculation of its reciprocal.``"
   ]
  },
  {
   "cell_type": "markdown",
   "id": "c95426e2-190b-4b05-9d1e-5b664f5b0923",
   "metadata": {},
   "source": [
    "## Python try...finally:::\n",
    "In Python, the finally block is always \n",
    "executed no matter whether there is an \n",
    "exception or not. The finally block is \n",
    "optional. And, for each try block, there \n",
    "can be only one finally block. \n"
   ]
  },
  {
   "cell_type": "code",
   "execution_count": 14,
   "id": "f1c9942e-7d27-40a2-93ab-33a7e44c9aff",
   "metadata": {},
   "outputs": [
    {
     "name": "stdout",
     "output_type": "stream",
     "text": [
      "Error: Denominator cannot be 0.\n",
      "This is finally block.\n"
     ]
    }
   ],
   "source": [
    "try:\n",
    "    numerator = 10\n",
    "    denominator = 0\n",
    "    result = numerator/denominator\n",
    "    print(result)\n",
    "except:\n",
    "    print(\"Error: Denominator cannot be 0.\")    \n",
    "finally:\n",
    "    print(\"This is finally block.\")"
   ]
  },
  {
   "cell_type": "code",
   "execution_count": null,
   "id": "9012c148-3213-4e6d-a8ea-16b0117129a5",
   "metadata": {},
   "outputs": [],
   "source": []
  }
 ],
 "metadata": {
  "kernelspec": {
   "display_name": "Python 3 (ipykernel)",
   "language": "python",
   "name": "python3"
  },
  "language_info": {
   "codemirror_mode": {
    "name": "ipython",
    "version": 3
   },
   "file_extension": ".py",
   "mimetype": "text/x-python",
   "name": "python",
   "nbconvert_exporter": "python",
   "pygments_lexer": "ipython3",
   "version": "3.12.4"
  }
 },
 "nbformat": 4,
 "nbformat_minor": 5
}
