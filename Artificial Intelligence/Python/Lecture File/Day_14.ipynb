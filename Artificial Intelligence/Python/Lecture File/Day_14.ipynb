{
 "cells": [
  {
   "cell_type": "markdown",
   "id": "3622b5e2-71bd-4372-bc00-67b1a77051a6",
   "metadata": {},
   "source": [
    "## INHERITANCE:\n",
    "When a class derives from another \n",
    "class. The child class will inherit all the public\n",
    "& protected properties & methods from the parent\n",
    "class. In addition, it can have its own properties\n",
    "and methods, this is called as inheritance.\n",
    "It allows us to create a new class from an \n",
    "existing one."
   ]
  },
  {
   "cell_type": "markdown",
   "id": "1dec4cd0-f27e-4edf-a1cb-fe45deedabb7",
   "metadata": {},
   "source": [
    "## Private an Protected Variables:\n",
    "**`Private attributes:`** These are denoted by double underscores (__) before the attribute name. They are not directly accessible outside the class. Instead, you can access them using name mangling, which is _ClassName__attributeName.</br>\n",
    "**`Protected attributes:`** These are denoted by a single underscore (_) before the attribute name. They are intended to be accessed within the class and its subclasses but can be accessed directly outside the class (though this is generally discouraged).\n",
    "Here’s how you can access the private and protected attribute"
   ]
  },
  {
   "cell_type": "code",
   "execution_count": 1,
   "id": "37cb70fd-74ca-4f10-9fd3-0f83c184c7e9",
   "metadata": {},
   "outputs": [],
   "source": [
    "class Name:\n",
    "    def __init__(self, name, age):\n",
    "        self.__name = name # The variables which we created through __ are act as a private variable\n",
    "        self._age = age # The variable which we created through _ are act as protected"
   ]
  },
  {
   "cell_type": "code",
   "execution_count": 2,
   "id": "25e2e253-07bb-4be1-84f0-50ab860c4030",
   "metadata": {},
   "outputs": [
    {
     "ename": "AttributeError",
     "evalue": "'Name' object has no attribute '__name'",
     "output_type": "error",
     "traceback": [
      "\u001b[1;31m---------------------------------------------------------------------------\u001b[0m",
      "\u001b[1;31mAttributeError\u001b[0m                            Traceback (most recent call last)",
      "Cell \u001b[1;32mIn[2], line 2\u001b[0m\n\u001b[0;32m      1\u001b[0m c \u001b[38;5;241m=\u001b[39m Name(\u001b[38;5;124m\"\u001b[39m\u001b[38;5;124mMansoor\u001b[39m\u001b[38;5;124m\"\u001b[39m, \u001b[38;5;241m21\u001b[39m)\n\u001b[1;32m----> 2\u001b[0m c\u001b[38;5;241m.\u001b[39m__name\n",
      "\u001b[1;31mAttributeError\u001b[0m: 'Name' object has no attribute '__name'"
     ]
    }
   ],
   "source": [
    "c = Name(\"Mansoor\", 21)\n",
    "c.__name # We cannot access it directly"
   ]
  },
  {
   "cell_type": "code",
   "execution_count": 6,
   "id": "35c9e289-0ecb-4364-bb70-6849d2710184",
   "metadata": {},
   "outputs": [
    {
     "data": {
      "text/plain": [
       "'Mansoor'"
      ]
     },
     "execution_count": 6,
     "metadata": {},
     "output_type": "execute_result"
    }
   ],
   "source": [
    "c._Name__name # mangling"
   ]
  },
  {
   "cell_type": "code",
   "execution_count": 5,
   "id": "e5c50447-aa93-4d97-8b9e-5624ca54ea1d",
   "metadata": {},
   "outputs": [
    {
     "data": {
      "text/plain": [
       "21"
      ]
     },
     "execution_count": 5,
     "metadata": {},
     "output_type": "execute_result"
    }
   ],
   "source": [
    "c._age"
   ]
  },
  {
   "cell_type": "code",
   "execution_count": null,
   "id": "d9e52921-a7e8-4c4f-a5cb-97f898613138",
   "metadata": {},
   "outputs": [],
   "source": []
  },
  {
   "cell_type": "code",
   "execution_count": 7,
   "id": "9db61e31-9a0c-472b-9149-db4c9f1b0ed5",
   "metadata": {},
   "outputs": [],
   "source": [
    "class Name:\n",
    "    def __init__(self, name, age):\n",
    "        self.__name = name  # Private variable\n",
    "        self._age = age     # Protected variable\n",
    "\n",
    "    def get_name(self):\n",
    "        return self.__name\n",
    "\n",
    "    def get_age(self):\n",
    "        return self._age"
   ]
  },
  {
   "cell_type": "code",
   "execution_count": 8,
   "id": "b6acb8c6-64ce-4c03-9446-7c28dc59cae7",
   "metadata": {},
   "outputs": [],
   "source": [
    "n = Name(\"SalfiHacker\",21)"
   ]
  },
  {
   "cell_type": "code",
   "execution_count": 9,
   "id": "ef82be53-43cf-4f13-9d61-80850ea26fe7",
   "metadata": {},
   "outputs": [
    {
     "data": {
      "text/plain": [
       "21"
      ]
     },
     "execution_count": 9,
     "metadata": {},
     "output_type": "execute_result"
    }
   ],
   "source": [
    "n.get_age()"
   ]
  },
  {
   "cell_type": "code",
   "execution_count": 10,
   "id": "36b1612c-5eec-4ad7-a5e5-d4b708b2b6f5",
   "metadata": {},
   "outputs": [
    {
     "data": {
      "text/plain": [
       "'SalfiHacker'"
      ]
     },
     "execution_count": 10,
     "metadata": {},
     "output_type": "execute_result"
    }
   ],
   "source": [
    "n.get_name()"
   ]
  },
  {
   "cell_type": "code",
   "execution_count": null,
   "id": "648669e6-6fb3-4880-922f-262e5b958fc8",
   "metadata": {},
   "outputs": [],
   "source": []
  },
  {
   "cell_type": "markdown",
   "id": "b7b5813c-b9e3-4ab6-b499-4d569a0494c3",
   "metadata": {},
   "source": [
    "Let's come back towards class</br>\n",
    "The newly created class is known as the subclass \r\n",
    "(child or derived class). The existing class from \r\n",
    "which the child class inherits is known as the \r\n",
    "superclass (parent or base class).\r\n",
    "\r\n"
   ]
  },
  {
   "cell_type": "code",
   "execution_count": 12,
   "id": "e4d4312a-f6a9-450b-af00-3bb2d65020d5",
   "metadata": {},
   "outputs": [],
   "source": [
    "class BaseClass:\n",
    "  pass\n",
    "    # Body of base class\n",
    "class DeriveClass(BaseClass):\n",
    "  # Body of derived class\n",
    "    pass"
   ]
  },
  {
   "cell_type": "code",
   "execution_count": 13,
   "id": "a4c2a886-47cf-41f7-b944-4eb51ccae3e1",
   "metadata": {},
   "outputs": [],
   "source": [
    "class Employee:\n",
    "    def __init__(self, name, id):\n",
    "        self.name = name\n",
    "        self.id = id\n",
    "\n",
    "    def showDetails(self):\n",
    "        print(f\"The name of the Employee: {self.id} is {self.name}\")"
   ]
  },
  {
   "cell_type": "code",
   "execution_count": 14,
   "id": "5692015a-0322-4e13-8f8c-aea5909791e2",
   "metadata": {},
   "outputs": [
    {
     "name": "stdout",
     "output_type": "stream",
     "text": [
      "The name of the Employee: 776 is Muhammad Rizwan Khan\n"
     ]
    }
   ],
   "source": [
    "e1 = Employee(\"Muhammad Rizwan Khan\", 776)\n",
    "e1.showDetails()"
   ]
  },
  {
   "cell_type": "code",
   "execution_count": 15,
   "id": "72c6e295-43d3-41b2-a1c4-a78721df2289",
   "metadata": {},
   "outputs": [
    {
     "name": "stdout",
     "output_type": "stream",
     "text": [
      "The name of the Employee: 765 is Ahmad Khan\n"
     ]
    }
   ],
   "source": [
    "e2 = Employee(\"Ahmad Khan\", 765)\n",
    "e2.showDetails()"
   ]
  },
  {
   "cell_type": "code",
   "execution_count": null,
   "id": "8647bcc5-4d6a-4204-a5be-bff64c46dfeb",
   "metadata": {},
   "outputs": [],
   "source": []
  },
  {
   "cell_type": "markdown",
   "id": "2b1e7710-2540-4c26-a215-bbec7019148b",
   "metadata": {},
   "source": [
    "## is-a relationship\n",
    "Inheritance is an is-a relationship. That is, we use inheritance \n",
    "only if there exists an is-a relationship between two classes. \n",
    "</br>Car is a Vehicle\r",
    "</br>\n",
    "Apple is a Fruit</br>\r\n",
    "Cat is an Animal\r\n"
   ]
  },
  {
   "cell_type": "markdown",
   "id": "76781349-62fe-4bf6-b9fd-1f58c0a2896e",
   "metadata": {},
   "source": [
    "**Now let suppose the code is about 1000+ lines then someone want to change the class to other name like Employer etc. then there will be issue that's why for this we use the inheritance concept.**"
   ]
  },
  {
   "cell_type": "code",
   "execution_count": 16,
   "id": "25b10358-dcc2-4eae-a556-1592323b1cd0",
   "metadata": {},
   "outputs": [],
   "source": [
    "class Employee:\n",
    "    def __init__(self, name, id):\n",
    "        self.name = name\n",
    "        self.id = id\n",
    "\n",
    "    def showDetails(self):\n",
    "        print(f\"The name of the Employee: {self.id} is {self.name}\")\n",
    "\n",
    "class Programmer(Employee):\n",
    "    def showLanguage(self):\n",
    "        print(\"The Default Language is Python\")"
   ]
  },
  {
   "cell_type": "code",
   "execution_count": 17,
   "id": "2afb2534-2e0c-4bb0-bfe6-7f4ebd54646b",
   "metadata": {},
   "outputs": [
    {
     "name": "stdout",
     "output_type": "stream",
     "text": [
      "The name of the Employee: 776 is Muhammad Rizwan Khan\n"
     ]
    }
   ],
   "source": [
    "e1 = Employee(\"Muhammad Rizwan Khan\", 776)\n",
    "e1.showDetails()"
   ]
  },
  {
   "cell_type": "code",
   "execution_count": 18,
   "id": "dfb38c94-0f98-45b5-97bf-72eea6e8969b",
   "metadata": {},
   "outputs": [
    {
     "name": "stdout",
     "output_type": "stream",
     "text": [
      "The name of the Employee: 765 is Ahmad Khan\n"
     ]
    }
   ],
   "source": [
    "e2 = Employee(\"Ahmad Khan\", 765)\n",
    "e2.showDetails()"
   ]
  },
  {
   "cell_type": "code",
   "execution_count": 19,
   "id": "dc6bca10-fd87-4015-846f-f2aa6e44ea42",
   "metadata": {},
   "outputs": [
    {
     "ename": "AttributeError",
     "evalue": "'Employee' object has no attribute 'showLanguage'",
     "output_type": "error",
     "traceback": [
      "\u001b[1;31m---------------------------------------------------------------------------\u001b[0m",
      "\u001b[1;31mAttributeError\u001b[0m                            Traceback (most recent call last)",
      "Cell \u001b[1;32mIn[19], line 1\u001b[0m\n\u001b[1;32m----> 1\u001b[0m e2\u001b[38;5;241m.\u001b[39mshowLanguage()\n",
      "\u001b[1;31mAttributeError\u001b[0m: 'Employee' object has no attribute 'showLanguage'"
     ]
    }
   ],
   "source": [
    "e2.showLanguage()\t# It does not work b/c showLanguage is not in Employee class, instead it is present in Programmer"
   ]
  },
  {
   "cell_type": "code",
   "execution_count": 20,
   "id": "04dc3531-1597-411b-9642-025a839eac19",
   "metadata": {},
   "outputs": [],
   "source": [
    "e2 = Programmer(\"Ahmad Khan\", 765)"
   ]
  },
  {
   "cell_type": "code",
   "execution_count": 21,
   "id": "6d40e31e-80f0-4521-a3f1-893b9ddbd8ec",
   "metadata": {},
   "outputs": [
    {
     "name": "stdout",
     "output_type": "stream",
     "text": [
      "The name of the Employee: 765 is Ahmad Khan\n"
     ]
    }
   ],
   "source": [
    "e2.showDetails()"
   ]
  },
  {
   "cell_type": "code",
   "execution_count": 22,
   "id": "57039fb1-72e8-4798-9872-ef48eaed6cca",
   "metadata": {},
   "outputs": [
    {
     "name": "stdout",
     "output_type": "stream",
     "text": [
      "The Default Language is Python\n"
     ]
    }
   ],
   "source": [
    "e2.showLanguage()"
   ]
  },
  {
   "cell_type": "markdown",
   "id": "c4349520-5953-46f9-b36b-dc8f95cf67ce",
   "metadata": {},
   "source": [
    "**Now in this example the Programmer class has all the attribbutes which is in major class.**\n",
    "\n",
    "**Derived class inherit the features from the base class where new features can be added to it. This results in re-usability of code.**"
   ]
  },
  {
   "cell_type": "code",
   "execution_count": 23,
   "id": "00a1aab0-23fb-420f-8b5e-dba9bc7d58e2",
   "metadata": {},
   "outputs": [],
   "source": [
    "class Parent:\n",
    "    def func1(self):\n",
    "        print(\"This function is in parent class.\")\n",
    "\n",
    "class Child(Parent):\n",
    "    def func2(self):\n",
    "        print(\"This function is in child class.\")"
   ]
  },
  {
   "cell_type": "code",
   "execution_count": 24,
   "id": "021afe28-6849-4d03-ae4b-174c48b513c3",
   "metadata": {},
   "outputs": [],
   "source": [
    "object = Child()"
   ]
  },
  {
   "cell_type": "code",
   "execution_count": 25,
   "id": "0de24dfd-6702-4172-b2fd-a3a3a728bbd1",
   "metadata": {},
   "outputs": [
    {
     "name": "stdout",
     "output_type": "stream",
     "text": [
      "This function is in parent class.\n"
     ]
    }
   ],
   "source": [
    "object.func1()  "
   ]
  },
  {
   "cell_type": "code",
   "execution_count": 26,
   "id": "c42d571b-4c27-46bb-a2f5-a849b5015675",
   "metadata": {},
   "outputs": [
    {
     "name": "stdout",
     "output_type": "stream",
     "text": [
      "This function is in child class.\n"
     ]
    }
   ],
   "source": [
    "object.func2()  "
   ]
  },
  {
   "cell_type": "code",
   "execution_count": null,
   "id": "0b3b2970-4b78-4793-9770-6deade10fa62",
   "metadata": {},
   "outputs": [],
   "source": []
  },
  {
   "cell_type": "code",
   "execution_count": 27,
   "id": "8a853caa-c7fe-48f1-a3d6-cd2dd28039f8",
   "metadata": {},
   "outputs": [],
   "source": [
    "class Mother:\n",
    "\tmothername = \"\"\n",
    "\tdef mother(self):\n",
    "\t\tprint(self.mothername)\n",
    "\n",
    "class Father:\n",
    "\tfathername = \"\"\n",
    "\tdef father(self):\n",
    "\t\tprint(self.fathername)\n",
    "\n",
    "class Son(Mother, Father):\n",
    "\tdef parents(self):\n",
    "\t\tprint(\"Father :\", self.fathername)\n",
    "\t\tprint(\"Mother :\", self.mothername)\n",
    "\n",
    "\n",
    "s1 = Son()"
   ]
  },
  {
   "cell_type": "code",
   "execution_count": 28,
   "id": "5f2c8811-4127-4c75-94b6-b996f012aeef",
   "metadata": {},
   "outputs": [],
   "source": [
    "s1.fathername = \"ABC\""
   ]
  },
  {
   "cell_type": "code",
   "execution_count": 29,
   "id": "97d1201f-6025-490b-9172-b3a0ca40e4fe",
   "metadata": {},
   "outputs": [],
   "source": [
    "s1.mothername = \"XYZ\""
   ]
  },
  {
   "cell_type": "code",
   "execution_count": 30,
   "id": "430be162-5e3b-48f8-8401-30c36c8a97c5",
   "metadata": {},
   "outputs": [
    {
     "name": "stdout",
     "output_type": "stream",
     "text": [
      "Father : ABC\n",
      "Mother : XYZ\n"
     ]
    }
   ],
   "source": [
    "s1.parents()"
   ]
  },
  {
   "cell_type": "code",
   "execution_count": null,
   "id": "ce7328bb-7d5a-4497-86b5-305991f97a46",
   "metadata": {},
   "outputs": [],
   "source": []
  }
 ],
 "metadata": {
  "kernelspec": {
   "display_name": "Python 3 (ipykernel)",
   "language": "python",
   "name": "python3"
  },
  "language_info": {
   "codemirror_mode": {
    "name": "ipython",
    "version": 3
   },
   "file_extension": ".py",
   "mimetype": "text/x-python",
   "name": "python",
   "nbconvert_exporter": "python",
   "pygments_lexer": "ipython3",
   "version": "3.12.4"
  }
 },
 "nbformat": 4,
 "nbformat_minor": 5
}
