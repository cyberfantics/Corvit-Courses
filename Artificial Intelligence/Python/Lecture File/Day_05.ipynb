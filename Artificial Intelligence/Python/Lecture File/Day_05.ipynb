{
 "cells": [
  {
   "cell_type": "markdown",
   "id": "018c813a",
   "metadata": {},
   "source": [
    "### Match Case"
   ]
  },
  {
   "cell_type": "markdown",
   "id": "343de930",
   "metadata": {},
   "source": [
    "**MATCH CASE:** `A match statement will compare a \n",
    "given variable's value to different shapes, \n",
    "also referred to as the pattern. The main idea\n",
    "is to keep on compairing the varaible with\n",
    "all present patterns until it fits into one.\n",
    "\n",
    "Match statement was introduced in Python 3.10. \n",
    "It provides a more powerful and \n",
    "flexible alternative to the traditional \n",
    "if, elif, else statements for pattern matching.`"
   ]
  },
  {
   "cell_type": "markdown",
   "id": "ea6a18b1",
   "metadata": {},
   "source": [
    "**MAIN ENTITIES:** three main entities are \n",
    "there in Match Case.\n",
    "</br>1) The match Keyword.\n",
    "</br>2) One or more case clauses.\n",
    "</br>3) Expression for each case.\n"
   ]
  },
  {
   "cell_type": "code",
   "execution_count": 1,
   "id": "c4f17801",
   "metadata": {},
   "outputs": [
    {
     "name": "stdout",
     "output_type": "stream",
     "text": [
      "Five\n"
     ]
    }
   ],
   "source": [
    "x = 5 \n",
    "\n",
    "match x:  # match is a reserved keyword\n",
    "    case 0:\n",
    "        print('Zero')\n",
    "    case _ if x < 0:\n",
    "        print(\"Value is less than 0\")\n",
    "    case _ if x < 5:  # Use instead of else if\n",
    "        print(\"Value is less than five\")\n",
    "    case 5:\n",
    "        print(\"Five\")\n",
    "    case _:\n",
    "        print('Value is greater than five')\n"
   ]
  },
  {
   "cell_type": "code",
   "execution_count": 1,
   "id": "82ae6661",
   "metadata": {},
   "outputs": [
    {
     "name": "stdin",
     "output_type": "stream",
     "text": [
      "Enter the value of X:  43\n"
     ]
    },
    {
     "name": "stdout",
     "output_type": "stream",
     "text": [
      "43\n"
     ]
    }
   ],
   "source": [
    "x = int(input(\"Enter the value of X: \"))\n",
    "match x:\n",
    "    case 0:\n",
    "        print(\"case is zero\")\n",
    "    case 4:\n",
    "        print(\"case is 4\")\n",
    "    case _:\n",
    "        print(x)\n"
   ]
  },
  {
   "cell_type": "code",
   "execution_count": 2,
   "id": "b571b96f-52c2-4bfe-9b7a-fbac4d9a0fdc",
   "metadata": {},
   "outputs": [
    {
     "name": "stdin",
     "output_type": "stream",
     "text": [
      "Enter the value of X:  54\n"
     ]
    },
    {
     "name": "stdout",
     "output_type": "stream",
     "text": [
      "54 is not 90\n"
     ]
    }
   ],
   "source": [
    "x = int(input(\"Enter the value of X: \"))\n",
    "match x:\n",
    "    case 0:\n",
    "        print(\"case is zero\")\n",
    "    case 4:\n",
    "        print(\"case is 4\")\n",
    "    case _ if x!=90:\n",
    "        print(x, \"is not 90\")\n",
    "    case _ if x!=80:\n",
    "        print(x, \"is not 80\")\n",
    "    case _ if x!=70:\n",
    "        print(x, \"is not 70\")\n",
    "    case _:\t#working like else statement here \n",
    "        print(x)\n"
   ]
  },
  {
   "cell_type": "code",
   "execution_count": 4,
   "id": "6482fb09-af78-4b4f-959c-ad2930432879",
   "metadata": {},
   "outputs": [
    {
     "name": "stdout",
     "output_type": "stream",
     "text": [
      "x%2==0 and case is 4\n"
     ]
    }
   ],
   "source": [
    "x = 4\n",
    "match x:\n",
    "    case 0:\n",
    "        print(\"x is zero\")\n",
    "    case 4 if x%2==0:\n",
    "        print(\"x%2==0 and case is 4\")\n",
    "    case _ if x<10:\n",
    "         print(\"x is less than 10\")\n",
    "    case _:\n",
    "        print(x)\n"
   ]
  },
  {
   "cell_type": "markdown",
   "id": "4716a6ab-4bfb-476d-b96b-1345fa5657a0",
   "metadata": {},
   "source": [
    "**Even Odd**"
   ]
  },
  {
   "cell_type": "code",
   "execution_count": 7,
   "id": "991564a5-f0d8-455a-a009-3938de47793a",
   "metadata": {},
   "outputs": [
    {
     "name": "stdin",
     "output_type": "stream",
     "text": [
      "Enter number  5\n"
     ]
    },
    {
     "name": "stdout",
     "output_type": "stream",
     "text": [
      "Odd\n"
     ]
    }
   ],
   "source": [
    "x = int(input(\"Enter number \"))\n",
    "\n",
    "match x:\n",
    "    case _ if x%2==0:\n",
    "        print(\"Even\")\n",
    "    case _:\n",
    "        print(\"Odd\")"
   ]
  },
  {
   "cell_type": "code",
   "execution_count": null,
   "id": "7d73b25b-1b5f-4d59-baff-e1041057b17e",
   "metadata": {},
   "outputs": [],
   "source": []
  }
 ],
 "metadata": {
  "kernelspec": {
   "display_name": "Python 3 (ipykernel)",
   "language": "python",
   "name": "python3"
  },
  "language_info": {
   "codemirror_mode": {
    "name": "ipython",
    "version": 3
   },
   "file_extension": ".py",
   "mimetype": "text/x-python",
   "name": "python",
   "nbconvert_exporter": "python",
   "pygments_lexer": "ipython3",
   "version": "3.12.4"
  }
 },
 "nbformat": 4,
 "nbformat_minor": 5
}
