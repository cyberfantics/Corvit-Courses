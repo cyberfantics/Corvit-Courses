{
 "cells": [
  {
   "cell_type": "markdown",
   "id": "0fe95a63-72f4-467a-b407-e84bb9db3c85",
   "metadata": {},
   "source": [
    "**LOOPS in Python:** Sometimes a programmer wants to \r\n",
    "execute  a group of statements a certain number \r\n",
    "of times. This can be done using loops.\r\n"
   ]
  },
  {
   "cell_type": "markdown",
   "id": "eaa62cd9-06b4-4834-a13a-152ea63f44f2",
   "metadata": {},
   "source": [
    "**FOR LOOP:** for loops can be iterate over a sequence\n",
    "of iterable objects in python. Iterating over a \n",
    "sequence is nothing but iterating over strings,\n",
    "lists, tuples, sets and dictionaries.\n"
   ]
  },
  {
   "cell_type": "code",
   "execution_count": 1,
   "id": "ce37352a-a3f2-4b6a-aaeb-39bd84e4c8aa",
   "metadata": {},
   "outputs": [
    {
     "name": "stdout",
     "output_type": "stream",
     "text": [
      "Mansoor"
     ]
    }
   ],
   "source": [
    "name = \"Mansoor\"\n",
    "for i in name:\n",
    "    print(i, end=\"\")\n",
    "    if i == 'u':\n",
    "        print(\"This is amazing\")\n"
   ]
  },
  {
   "cell_type": "code",
   "execution_count": 2,
   "id": "1f6ff457-0e35-48b4-ac5c-86b04ac2a2af",
   "metadata": {},
   "outputs": [
    {
     "name": "stdout",
     "output_type": "stream",
     "text": [
      "Red\n",
      "Green\n",
      "Blue\n",
      "Yellow\n",
      "Magenta\n",
      "voilet\n",
      "indigo\n"
     ]
    }
   ],
   "source": [
    "colors = [\"Red\", \"Green\", \"Blue\", \"Yellow\", \"Magenta\", \"voilet\", \"indigo\"]\n",
    "for x in colors:\n",
    "\tprint(x)\n"
   ]
  },
  {
   "cell_type": "code",
   "execution_count": 3,
   "id": "6a44163d-b80c-4cd2-ae38-366a542344e1",
   "metadata": {},
   "outputs": [
    {
     "name": "stdout",
     "output_type": "stream",
     "text": [
      "Red\n",
      "R\n",
      "e\n",
      "d\n",
      "Green\n",
      "G\n",
      "r\n",
      "e\n",
      "e\n",
      "n\n",
      "Blue\n",
      "B\n",
      "l\n",
      "u\n",
      "e\n",
      "Yellow\n",
      "Y\n",
      "e\n",
      "l\n",
      "l\n",
      "o\n",
      "w\n",
      "Magenta\n",
      "M\n",
      "a\n",
      "g\n",
      "e\n",
      "n\n",
      "t\n",
      "a\n",
      "voilet\n",
      "v\n",
      "o\n",
      "i\n",
      "l\n",
      "e\n",
      "t\n",
      "indigo\n",
      "i\n",
      "n\n",
      "d\n",
      "i\n",
      "g\n",
      "o\n"
     ]
    }
   ],
   "source": [
    "#For More readable:\n",
    "colors = [\"Red\", \"Green\", \"Blue\", \"Yellow\", \"Magenta\", \"voilet\", \"indigo\"]\n",
    "for color in colors:\n",
    "    print(color)\n",
    "    for i in color:\n",
    "        print(i)\n"
   ]
  },
  {
   "cell_type": "markdown",
   "id": "71dbb64f-d395-488b-9fd5-25ea0e2779fc",
   "metadata": {},
   "source": [
    "**RANGE():** What if we dont want to iterate  over a \n",
    "sequence? what if we want to use for loop for a \n",
    "specific number of times?"
   ]
  },
  {
   "cell_type": "code",
   "execution_count": 4,
   "id": "78bdddbc-1543-45f9-a2ec-ef844f693a0a",
   "metadata": {},
   "outputs": [
    {
     "name": "stdout",
     "output_type": "stream",
     "text": [
      "0\n",
      "1\n",
      "2\n",
      "3\n",
      "4\n"
     ]
    }
   ],
   "source": [
    "for k in range(5):\n",
    "\tprint(k)"
   ]
  },
  {
   "cell_type": "code",
   "execution_count": 5,
   "id": "8488e96f-2d8a-4bf1-b47f-e33e4fb75f69",
   "metadata": {},
   "outputs": [
    {
     "name": "stdout",
     "output_type": "stream",
     "text": [
      "1\n",
      "2\n",
      "3\n",
      "4\n",
      "5\n"
     ]
    }
   ],
   "source": [
    "for k in range(5):#This will print upto 5 from 1\n",
    "\tprint(k+1)"
   ]
  },
  {
   "cell_type": "code",
   "execution_count": 6,
   "id": "18285b17-bd29-4e42-bcfb-8e6729711bf0",
   "metadata": {},
   "outputs": [
    {
     "name": "stdout",
     "output_type": "stream",
     "text": [
      "1\n",
      "2\n",
      "3\n",
      "4\n"
     ]
    }
   ],
   "source": [
    "for k in range(1,5):\n",
    "\tprint(k)"
   ]
  },
  {
   "cell_type": "code",
   "execution_count": 7,
   "id": "7b646047-fa95-4985-a89b-e0fd6c545e42",
   "metadata": {},
   "outputs": [
    {
     "name": "stdout",
     "output_type": "stream",
     "text": [
      "-10\n",
      "-9\n",
      "-8\n",
      "-7\n",
      "-6\n",
      "-5\n",
      "-4\n",
      "-3\n",
      "-2\n",
      "-1\n",
      "0\n",
      "1\n",
      "2\n",
      "3\n",
      "4\n",
      "5\n",
      "6\n",
      "7\n",
      "8\n",
      "9\n"
     ]
    }
   ],
   "source": [
    "for k in range(-10,10):\n",
    "\tprint(k)\n"
   ]
  },
  {
   "cell_type": "code",
   "execution_count": 8,
   "id": "1d6fd361-7f7e-4958-ab35-e969563b7202",
   "metadata": {},
   "outputs": [
    {
     "name": "stdout",
     "output_type": "stream",
     "text": [
      "0\n",
      "-1\n",
      "-2\n",
      "-3\n",
      "-4\n",
      "-5\n",
      "-6\n",
      "-7\n",
      "-8\n",
      "-9\n"
     ]
    }
   ],
   "source": [
    "for k in range(0,-10, -1):\n",
    "\tprint(k)"
   ]
  },
  {
   "cell_type": "code",
   "execution_count": 10,
   "id": "65d96195-a1e6-42ef-b13b-71ddfad7ea22",
   "metadata": {},
   "outputs": [
    {
     "name": "stdout",
     "output_type": "stream",
     "text": [
      "2\n",
      "4\n",
      "6\n",
      "8\n",
      "10\n",
      "12\n",
      "14\n"
     ]
    }
   ],
   "source": [
    "for k in range(1,15,2): # floating steps not working\n",
    "    print(k+1)\t#Print(Even Numbers upto 15)\n"
   ]
  },
  {
   "cell_type": "code",
   "execution_count": 11,
   "id": "dc737791-e25c-4c63-93c2-3a2536059bc2",
   "metadata": {},
   "outputs": [
    {
     "name": "stdout",
     "output_type": "stream",
     "text": [
      "1\n",
      "3\n",
      "5\n",
      "7\n",
      "9\n",
      "11\n",
      "13\n"
     ]
    }
   ],
   "source": [
    "for k in range(1,15,2):\n",
    "    print(k)\t#Print (odd Numbers upto 15)\n"
   ]
  },
  {
   "cell_type": "code",
   "execution_count": 13,
   "id": "29fc5009-f70e-401f-998f-bda4b796805b",
   "metadata": {},
   "outputs": [
    {
     "name": "stdout",
     "output_type": "stream",
     "text": [
      "r\n",
      "o\n",
      "o\n",
      "s\n",
      "n\n",
      "a\n",
      "M\n"
     ]
    }
   ],
   "source": [
    "name = \"Mansoor\"\n",
    "for k in name[::-1]:\n",
    "    print(k)"
   ]
  },
  {
   "cell_type": "code",
   "execution_count": null,
   "id": "85755cb7-dc38-4ed1-88f1-aa935efb51c1",
   "metadata": {},
   "outputs": [],
   "source": []
  },
  {
   "cell_type": "markdown",
   "id": "c2d0fcf8-6be8-4df3-a277-01d1af09b6cd",
   "metadata": {},
   "source": [
    "**WHILE LOOPS:** As the name suggests, while loops \n",
    "execute statments while the condition is True. As\n",
    "soon as the condition become False, the interpreter\n",
    "comes out of the whie loop."
   ]
  },
  {
   "cell_type": "code",
   "execution_count": 14,
   "id": "ea890509-8b1f-403f-baa0-038b97d19cb8",
   "metadata": {},
   "outputs": [
    {
     "name": "stdout",
     "output_type": "stream",
     "text": [
      "0\n",
      "1\n",
      "2\n",
      "3\n",
      "4\n",
      "Done with the Loop\n"
     ]
    }
   ],
   "source": [
    "x = 0\n",
    "while(x<5):\t#Check for all conditional signs\n",
    "\tprint(x)\n",
    "\tx=x+1\n",
    "print(\"Done with the Loop\")"
   ]
  },
  {
   "cell_type": "code",
   "execution_count": 15,
   "id": "b00a2fe1-626b-46b4-9c85-8e2c23aa43ed",
   "metadata": {},
   "outputs": [
    {
     "name": "stdout",
     "output_type": "stream",
     "text": [
      "15\n",
      "14\n",
      "13\n",
      "12\n",
      "11\n",
      "10\n",
      "9\n",
      "8\n",
      "7\n",
      "6\n",
      "5\n",
      "4\n",
      "3\n",
      "2\n",
      "1\n"
     ]
    }
   ],
   "source": [
    "count = 15\n",
    "while (count>0):\n",
    "\tprint(count)\n",
    "\tcount = count-1"
   ]
  },
  {
   "cell_type": "code",
   "execution_count": 16,
   "id": "1eb3ee3d-f262-4cfd-ad33-4c2cd4fde9a3",
   "metadata": {},
   "outputs": [
    {
     "name": "stdin",
     "output_type": "stream",
     "text": [
      "Enter the Value:  43\n"
     ]
    },
    {
     "name": "stdout",
     "output_type": "stream",
     "text": [
      "Limit exceeds\n"
     ]
    }
   ],
   "source": [
    "# Now taking input from user in while loop.\n",
    "x = int(input(\"Enter the Value: \"))\n",
    "while(x<=38):\n",
    "    x = int(input(\"Enter the Value: \"))\n",
    "    print(x)\n",
    "print(\"Limit exceeds\")\n"
   ]
  },
  {
   "cell_type": "code",
   "execution_count": null,
   "id": "2eb31fed-9c81-4820-a0e7-da3d79cef71f",
   "metadata": {},
   "outputs": [],
   "source": []
  },
  {
   "cell_type": "markdown",
   "id": "b6b6d02b-fedc-49f1-b816-23c882094363",
   "metadata": {},
   "source": [
    "**Actually DO while loop is not available in python\r\n",
    "coz instead of do while loop we do the above \r\n",
    "programming to fulfill our criteria'**.\r\n"
   ]
  },
  {
   "cell_type": "code",
   "execution_count": 23,
   "id": "7c1a8dd3-f906-446a-9f6b-47055f8f99fe",
   "metadata": {},
   "outputs": [
    {
     "name": "stdin",
     "output_type": "stream",
     "text": [
      "Enter the Number:  43\n"
     ]
    },
    {
     "name": "stdout",
     "output_type": "stream",
     "text": [
      "43\n"
     ]
    },
    {
     "name": "stdin",
     "output_type": "stream",
     "text": [
      "Enter the Number:  0\n"
     ]
    },
    {
     "name": "stdout",
     "output_type": "stream",
     "text": [
      "0\n"
     ]
    }
   ],
   "source": [
    "while True:\n",
    "    num = int(input(\"Enter the Number: \"))\n",
    "    print(num)\n",
    "    if not num>0:\n",
    "        break"
   ]
  },
  {
   "cell_type": "code",
   "execution_count": null,
   "id": "738e1ed0-4e95-4ba1-acf7-74c257e303be",
   "metadata": {},
   "outputs": [],
   "source": []
  },
  {
   "cell_type": "markdown",
   "id": "cc09e3ad-59fb-4427-b949-d6a60eeffb2d",
   "metadata": {},
   "source": [
    "**ELSE With WHILE LOOP:**\n",
    "As soon as the while loop condition is true it will\n",
    "print the values in while loop. When the condition\n",
    "of while loop false then it will print out the else\n",
    "statement. \n"
   ]
  },
  {
   "cell_type": "code",
   "execution_count": 24,
   "id": "c7dd9293-fa83-4b11-9927-fa79286ac6a8",
   "metadata": {},
   "outputs": [
    {
     "name": "stdout",
     "output_type": "stream",
     "text": [
      "5\n",
      "4\n",
      "3\n",
      "2\n",
      "1\n",
      "I  am Inside Else Block\n"
     ]
    }
   ],
   "source": [
    "x=5\n",
    "while(x>0):\n",
    "\tprint(x)\n",
    "\tx=x-1\n",
    "else:\n",
    "\tprint(\"I  am Inside Else Block\")\n"
   ]
  },
  {
   "cell_type": "code",
   "execution_count": 25,
   "id": "921b8d63-7cc3-45bb-b679-4b38e60f0970",
   "metadata": {},
   "outputs": [
    {
     "name": "stdout",
     "output_type": "stream",
     "text": [
      "I  am Inside Else Block\n"
     ]
    }
   ],
   "source": [
    "x=-5\n",
    "while(x>0):\n",
    "\tprint(x)\n",
    "\tx=x-1\n",
    "else:\n",
    "\tprint(\"I  am Inside Else Block\")\n"
   ]
  },
  {
   "cell_type": "code",
   "execution_count": null,
   "id": "4f38b919-3d8c-4e4e-b3f3-c4632e28465d",
   "metadata": {},
   "outputs": [],
   "source": []
  },
  {
   "cell_type": "markdown",
   "id": "ddce6df1-8f77-4102-8356-c04e7f8d547b",
   "metadata": {},
   "source": [
    "**Break & Continue Statement:**\n",
    "The break statement enables a program to skip over \n",
    "a part of code. A break statement terminates the \n",
    "very loop it lies within.\n"
   ]
  },
  {
   "cell_type": "markdown",
   "id": "9a7cab8b-8641-4f72-8a7c-0d48a19276dd",
   "metadata": {},
   "source": [
    "**Break:** Break statement left the loop and get out\n",
    "of the loop."
   ]
  },
  {
   "cell_type": "code",
   "execution_count": 26,
   "id": "4e686c36-45bf-4cce-b13a-df882bcca749",
   "metadata": {},
   "outputs": [
    {
     "name": "stdout",
     "output_type": "stream",
     "text": [
      "5 X  1 = 5\n",
      "5 X  2 = 10\n",
      "5 X  3 = 15\n",
      "5 X  4 = 20\n",
      "5 X  5 = 25\n",
      "5 X  6 = 30\n",
      "5 X  7 = 35\n",
      "5 X  8 = 40\n",
      "5 X  9 = 45\n",
      "5 X  10 = 50\n",
      "Left the loop and get out of the loop\n"
     ]
    }
   ],
   "source": [
    "for i in range(12):\n",
    "    print(\"5 X \", i+1, \"=\", 5 * (i+1))\n",
    "    if(i==9):\t#Upto to 10 only.\n",
    "        break\n",
    "print(\"Left the loop and get out of the loop\")"
   ]
  },
  {
   "cell_type": "markdown",
   "id": "ba5e468d-e8cb-4585-b82f-7b0e3897d293",
   "metadata": {},
   "source": [
    "**Continue:** Left the iteration and get out of loop."
   ]
  },
  {
   "cell_type": "code",
   "execution_count": 27,
   "id": "3b29232c-b007-404b-aff8-3d6a98f630de",
   "metadata": {},
   "outputs": [
    {
     "name": "stdout",
     "output_type": "stream",
     "text": [
      "5 X  1 = 5\n",
      "5 X  2 = 10\n",
      "5 X  3 = 15\n",
      "5 X  4 = 20\n",
      "5 X  5 = 25\n",
      "5 X  6 = 30\n",
      "5 X  7 = 35\n",
      "5 X  8 = 40\n",
      "5 X  9 = 45\n",
      "Skip the Iteration\n",
      "5 X  11 = 55\n",
      "5 X  12 = 60\n"
     ]
    }
   ],
   "source": [
    "for i in range(12):\n",
    "    if(i==9):\t#Upto to 10 only.\n",
    "        print(\"Skip the Iteration\")\n",
    "        continue\n",
    "    print(\"5 X \", i+1, \"=\", 5 * (i+1))"
   ]
  },
  {
   "cell_type": "code",
   "execution_count": 28,
   "id": "569806ac-78a9-4d20-9559-e7c697adf12a",
   "metadata": {},
   "outputs": [
    {
     "name": "stdout",
     "output_type": "stream",
     "text": [
      "5 X  1 = 5\n",
      "5 X  2 = 10\n",
      "5 X  3 = 15\n",
      "5 X  4 = 20\n",
      "5 X  5 = 25\n",
      "5 X  6 = 30\n",
      "5 X  7 = 35\n",
      "5 X  8 = 40\n",
      "5 X  9 = 45\n",
      "5 X  10 = 50\n",
      "5 X  11 = 55\n",
      "5 X  12 = 60\n"
     ]
    }
   ],
   "source": [
    "for i in range(12):\n",
    "    print(\"5 X \", i+1, \"=\", 5 * (i+1))\n"
   ]
  },
  {
   "cell_type": "code",
   "execution_count": 29,
   "id": "81d2c355-160a-4a98-bc8f-253e965f56fd",
   "metadata": {},
   "outputs": [
    {
     "name": "stdout",
     "output_type": "stream",
     "text": [
      "1 Mission Passed\n",
      "2 Mission Passed\n",
      "3 Mission Passed\n",
      "4 Mission Passed\n",
      "5 Mission Passed\n",
      "6 Mission Passed\n",
      "7 Mission Passed\n",
      "8 Mission Passed\n",
      "9 Mission Passed\n",
      "10 Mission Passed\n",
      "11 Mission Passed\n",
      "12 Mission Passed\n",
      "13 Mission Passed\n",
      "14 Mission Passed\n",
      "15 Mission Passed\n",
      "16 Mission Passed\n",
      "17 Mission Passed\n",
      "18 Mission Passed\n",
      "19 Mission Passed\n",
      "20 Mission Passed\n",
      "21 Mission Passed\n",
      "22 Mission Passed\n",
      "23 Mission Passed\n",
      "24 Mission Passed\n",
      "25 Mission Passed\n",
      "26 Mission Passed\n",
      "27 Mission Passed\n",
      "28 Mission Passed\n",
      "29 Mission Passed\n",
      "30 Mission Passed\n",
      "31 Mission Passed\n",
      "32 Mission Passed\n",
      "33 Mission Passed\n",
      "34 Mission Passed\n",
      "35 Mission Passed\n",
      "36 Mission Passed\n",
      "37 Mission Passed\n",
      "38 Mission Passed\n",
      "39 Mission Passed\n",
      "40 Mission Passed\n",
      "41 Mission Passed\n",
      "42 Mission Passed\n",
      "43 Mission Passed\n",
      "44 Mission Passed\n",
      "45 Mission Passed\n",
      "46 Mission Passed\n",
      "47 Mission Passed\n",
      "48 Mission Passed\n",
      "49 Mission Passed\n",
      "50 Thank You\n"
     ]
    }
   ],
   "source": [
    "for i in range(1,101,1):\n",
    "    print(i, end= \" \")\n",
    "    if(i==50):\n",
    "        break\n",
    "    print(\"Mission Passed\")\n",
    "print(\"Thank You\")\n"
   ]
  },
  {
   "cell_type": "code",
   "execution_count": 30,
   "id": "4b966dba-f973-4e9d-a783-a81c496d680e",
   "metadata": {},
   "outputs": [
    {
     "name": "stdout",
     "output_type": "stream",
     "text": [
      "3\n",
      "9\n",
      "5\n"
     ]
    }
   ],
   "source": [
    "for i in [2,3,9,4,5,6,8,0]:\n",
    "\tif(i%2==0):\n",
    "\t\tcontinue\n",
    "\tprint(i)\n"
   ]
  },
  {
   "cell_type": "code",
   "execution_count": 31,
   "id": "adcde7d7-9b70-476d-bfb9-242c91f8a75e",
   "metadata": {},
   "outputs": [
    {
     "name": "stdout",
     "output_type": "stream",
     "text": [
      "0\n",
      "1\n",
      "2\n",
      "3\n",
      "4\n",
      "5\n",
      "6\n",
      "7\n",
      "8\n",
      "9\n",
      "10\n",
      "11\n",
      "12\n",
      "13\n",
      "14\n",
      "15\n",
      "16\n",
      "17\n",
      "18\n",
      "19\n",
      "20\n"
     ]
    }
   ],
   "source": [
    "i=0\n",
    "while True:\n",
    "\tprint(i)\n",
    "\ti=i+1\n",
    "\tif(i%100 == 21):\n",
    "\t  break\n"
   ]
  },
  {
   "cell_type": "code",
   "execution_count": null,
   "id": "441b3e3a-8a2d-4744-b58c-29aa186dcc65",
   "metadata": {},
   "outputs": [],
   "source": []
  }
 ],
 "metadata": {
  "kernelspec": {
   "display_name": "Python 3 (ipykernel)",
   "language": "python",
   "name": "python3"
  },
  "language_info": {
   "codemirror_mode": {
    "name": "ipython",
    "version": 3
   },
   "file_extension": ".py",
   "mimetype": "text/x-python",
   "name": "python",
   "nbconvert_exporter": "python",
   "pygments_lexer": "ipython3",
   "version": "3.12.4"
  }
 },
 "nbformat": 4,
 "nbformat_minor": 5
}
