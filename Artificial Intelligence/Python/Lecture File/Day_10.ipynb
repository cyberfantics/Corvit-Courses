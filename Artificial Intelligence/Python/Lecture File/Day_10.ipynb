{
 "cells": [
  {
   "cell_type": "markdown",
   "id": "32d89e63-a3f2-4ea2-93df-3b044303b2f9",
   "metadata": {},
   "source": [
    "## Dictionaries are used to store data \n",
    "values in key:value pairs.- \r\n",
    "A dictionary is a collection which is \r\n",
    "ordered*, changeable and do not allow duplicate- s.\r\n",
    "As of Python version 3.7, dictionaries are\r\n",
    "ordered. In Python 3.6 and earlier, \r\n",
    "dictionaries are unord- ered.\r\n",
    "Dictionaries are written with curly \r\n",
    "brackets, and have keys and values:"
   ]
  },
  {
   "cell_type": "code",
   "execution_count": 1,
   "id": "5f1a5228-9fe3-4ad7-8e57-eb17537361e4",
   "metadata": {},
   "outputs": [],
   "source": [
    "thisdict = {\n",
    "  \"brand\": \"Suzuki\",\n",
    "  \"model\": \"Skoda\",\n",
    "  \"year\": 2021\n",
    "}"
   ]
  },
  {
   "cell_type": "code",
   "execution_count": 2,
   "id": "2a3bcef3-d6fb-44c6-8e81-e6dac9a3e0d7",
   "metadata": {},
   "outputs": [
    {
     "data": {
      "text/plain": [
       "{'brand': 'Suzuki', 'model': 'Skoda', 'year': 2021}"
      ]
     },
     "execution_count": 2,
     "metadata": {},
     "output_type": "execute_result"
    }
   ],
   "source": [
    "thisdict"
   ]
  },
  {
   "cell_type": "code",
   "execution_count": 3,
   "id": "f1c83ae8-47fa-4d66-884a-41124df9c1e6",
   "metadata": {},
   "outputs": [
    {
     "data": {
      "text/plain": [
       "'Skoda'"
      ]
     },
     "execution_count": 3,
     "metadata": {},
     "output_type": "execute_result"
    }
   ],
   "source": [
    "thisdict['model']"
   ]
  },
  {
   "cell_type": "code",
   "execution_count": null,
   "id": "6928f610-ac5f-450b-929c-a5cb16cee593",
   "metadata": {},
   "outputs": [],
   "source": []
  },
  {
   "cell_type": "markdown",
   "id": "a2011a33-61d1-4f79-ad6f-0f197f804796",
   "metadata": {},
   "source": [
    "## DICTIONARY ITEMS:\n",
    "Dictionary items are ordered, changeable, \n",
    "and do not allow duplicates.\n",
    "\n",
    "Dictionary items are presented in key:value \n",
    "pairs, and can be referred to by using the key \n",
    "name.\n"
   ]
  },
  {
   "cell_type": "code",
   "execution_count": 4,
   "id": "9ffdf1b5-e71f-4495-bf6e-bdce663e3f5d",
   "metadata": {},
   "outputs": [],
   "source": [
    "thisdict = {\n",
    "  \"brand\": \"Ford\",\n",
    "  \"model\": \"Mustang\",\n",
    "  \"year\": 1964\n",
    "}"
   ]
  },
  {
   "cell_type": "code",
   "execution_count": 5,
   "id": "2cf0643d-c279-4bac-96ca-cb7ff8d11216",
   "metadata": {},
   "outputs": [
    {
     "data": {
      "text/plain": [
       "'Ford'"
      ]
     },
     "execution_count": 5,
     "metadata": {},
     "output_type": "execute_result"
    }
   ],
   "source": [
    "thisdict['brand']"
   ]
  },
  {
   "cell_type": "markdown",
   "id": "74e6b536-446d-432e-91d2-5f39a7e733da",
   "metadata": {},
   "source": [
    "## ORDERED or UNORDERED?\n",
    "As of Python version 3.7, dictionaries are ordered. \n",
    "In Python 3.6 and earlier, dictionaries are \n",
    "unordered."
   ]
  },
  {
   "cell_type": "markdown",
   "id": "c4857304-414d-497c-a097-31b30e4cf44f",
   "metadata": {},
   "source": [
    "## CHANGEABLE or mutable:\n",
    "Dictionaries are changeable, meaning that we can \n",
    "change, \n",
    "add or remove items after the dictionary has \n",
    "been created. \n"
   ]
  },
  {
   "cell_type": "markdown",
   "id": "ce3aeebb-7e60-4f14-b9bf-01f50e1aa15c",
   "metadata": {},
   "source": [
    "## DUPLICATION:\n",
    "Dictionaries cannot have two items with the same \n",
    "key:"
   ]
  },
  {
   "cell_type": "code",
   "execution_count": 6,
   "id": "07dea483-0079-4181-8af1-084a6dd27f80",
   "metadata": {},
   "outputs": [],
   "source": [
    "thisdict = {\n",
    "  \"brand\": \"Ford\",\n",
    "  \"model\": \"Mustang\",\n",
    "  \"year\": 1964,\n",
    "  \"year\": 2020\n",
    "}"
   ]
  },
  {
   "cell_type": "code",
   "execution_count": 7,
   "id": "bc21a2bf-48be-42e7-ba28-8c8cc9c7291d",
   "metadata": {},
   "outputs": [
    {
     "data": {
      "text/plain": [
       "{'brand': 'Ford', 'model': 'Mustang', 'year': 2020}"
      ]
     },
     "execution_count": 7,
     "metadata": {},
     "output_type": "execute_result"
    }
   ],
   "source": [
    "thisdict"
   ]
  },
  {
   "cell_type": "markdown",
   "id": "c57611c5-fb2f-4256-b79e-6d5f283a43a5",
   "metadata": {},
   "source": [
    "## Dictionary Length\n",
    "To determine how many items a dictionary has, \n",
    "use the len() function:"
   ]
  },
  {
   "cell_type": "code",
   "execution_count": 8,
   "id": "5bd6c4f6-f9ba-49f1-84d3-d6fffc2ec3f0",
   "metadata": {},
   "outputs": [
    {
     "data": {
      "text/plain": [
       "3"
      ]
     },
     "execution_count": 8,
     "metadata": {},
     "output_type": "execute_result"
    }
   ],
   "source": [
    "len(thisdict)"
   ]
  },
  {
   "cell_type": "markdown",
   "id": "a974e1b6-3c07-4838-8b88-39f419a4b9da",
   "metadata": {},
   "source": [
    "## Print the number of items in the dictionary:"
   ]
  },
  {
   "cell_type": "code",
   "execution_count": 11,
   "id": "fcc8a0e3-d095-4a27-9fa4-39ef5b0512d3",
   "metadata": {},
   "outputs": [
    {
     "name": "stdout",
     "output_type": "stream",
     "text": [
      "Ford\n",
      "Mustang\n",
      "2020\n"
     ]
    }
   ],
   "source": [
    "for key,item in thisdict.items():\n",
    "    print(item)"
   ]
  },
  {
   "cell_type": "code",
   "execution_count": null,
   "id": "d3d626f9-cf7a-4c21-80d3-51873629b1d4",
   "metadata": {},
   "outputs": [],
   "source": []
  },
  {
   "cell_type": "markdown",
   "id": "4838131e-6600-4053-a5f3-c73d5c5a7946",
   "metadata": {},
   "source": [
    "## Dictionary Items - Data Types\n",
    "The values in dictionary items can be of any data \n",
    "type:\n"
   ]
  },
  {
   "cell_type": "code",
   "execution_count": 12,
   "id": "9c60f242-0815-40e4-a096-79679392d897",
   "metadata": {},
   "outputs": [],
   "source": [
    "thisdict = {\n",
    "  \"brand\": \"Ford\",\n",
    "  \"electric\": False,\n",
    "  \"year\": 1964,\n",
    "  \"colors\": [\"red\", \"white\", \"blue\"]\n",
    "}"
   ]
  },
  {
   "cell_type": "code",
   "execution_count": 13,
   "id": "4703563f-8cf9-4d6a-a845-35e0037a99d5",
   "metadata": {},
   "outputs": [
    {
     "data": {
      "text/plain": [
       "{'brand': 'Ford',\n",
       " 'electric': False,\n",
       " 'year': 1964,\n",
       " 'colors': ['red', 'white', 'blue']}"
      ]
     },
     "execution_count": 13,
     "metadata": {},
     "output_type": "execute_result"
    }
   ],
   "source": [
    "thisdict"
   ]
  },
  {
   "cell_type": "code",
   "execution_count": 16,
   "id": "b4da229b-ea71-47b8-8eca-5cbc6b40c30f",
   "metadata": {},
   "outputs": [
    {
     "name": "stdout",
     "output_type": "stream",
     "text": [
      "<class 'str'>\n",
      "<class 'bool'>\n",
      "<class 'int'>\n",
      "<class 'list'>\n"
     ]
    }
   ],
   "source": [
    "for key,item in thisdict.items():\n",
    "    print(type(item))"
   ]
  },
  {
   "cell_type": "code",
   "execution_count": null,
   "id": "27a0832c-f856-43ab-9df6-795527baa3cd",
   "metadata": {},
   "outputs": [],
   "source": []
  },
  {
   "cell_type": "markdown",
   "id": "7c382d18-16f9-4ddd-93a6-101a363be5e9",
   "metadata": {},
   "source": [
    "## The dict() Constructor\n",
    "It is also possible to use the dict() \n",
    "constructor to make a dictionary.\n"
   ]
  },
  {
   "cell_type": "code",
   "execution_count": 17,
   "id": "957536f5-16e7-403f-845a-2ecab6f3620b",
   "metadata": {},
   "outputs": [
    {
     "name": "stdout",
     "output_type": "stream",
     "text": [
      "{'name': 'John', 'age': 36, 'country': 'Norway'}\n"
     ]
    }
   ],
   "source": [
    "thisdict = dict(name = \"John\", age = 36, country = \"Norway\")\n",
    "print(thisdict)"
   ]
  },
  {
   "cell_type": "code",
   "execution_count": 18,
   "id": "bf588096-cb0c-4f5c-b76d-e20bd27fe87c",
   "metadata": {},
   "outputs": [],
   "source": [
    "x = thisdict.get(\"model\")"
   ]
  },
  {
   "cell_type": "code",
   "execution_count": null,
   "id": "bd9b0a54-f06f-4f8b-be1d-334b46db9de7",
   "metadata": {},
   "outputs": [],
   "source": []
  },
  {
   "cell_type": "code",
   "execution_count": 19,
   "id": "d83dc8a3-6680-46d2-9fdc-aba5ba4760c1",
   "metadata": {},
   "outputs": [],
   "source": [
    "thisdict['name'] = \"Mansoor\""
   ]
  },
  {
   "cell_type": "code",
   "execution_count": 20,
   "id": "eaa0b7fa-1888-45ac-9bd1-a9d11107558b",
   "metadata": {},
   "outputs": [
    {
     "data": {
      "text/plain": [
       "{'name': 'Mansoor', 'age': 36, 'country': 'Norway'}"
      ]
     },
     "execution_count": 20,
     "metadata": {},
     "output_type": "execute_result"
    }
   ],
   "source": [
    "thisdict"
   ]
  },
  {
   "cell_type": "code",
   "execution_count": 21,
   "id": "0c8d5bcd-6280-458b-a1d5-81b0dfccbbf2",
   "metadata": {},
   "outputs": [],
   "source": [
    "thisdict['age'] = 21\n",
    "thisdict['country'] = 'Pakistan'"
   ]
  },
  {
   "cell_type": "code",
   "execution_count": 22,
   "id": "95356897-3164-4bd8-bdfa-85525628f7c2",
   "metadata": {},
   "outputs": [
    {
     "data": {
      "text/plain": [
       "{'name': 'Mansoor', 'age': 21, 'country': 'Pakistan'}"
      ]
     },
     "execution_count": 22,
     "metadata": {},
     "output_type": "execute_result"
    }
   ],
   "source": [
    "thisdict"
   ]
  },
  {
   "cell_type": "code",
   "execution_count": 23,
   "id": "082c92b6-db8d-434a-a7c9-e37a1e67e723",
   "metadata": {},
   "outputs": [],
   "source": [
    "thisdict['COurse'] = \"AI\""
   ]
  },
  {
   "cell_type": "code",
   "execution_count": 24,
   "id": "bc36b860-8d07-4926-a1cc-2cf7c53e7ce9",
   "metadata": {},
   "outputs": [
    {
     "data": {
      "text/plain": [
       "{'name': 'Mansoor', 'age': 21, 'country': 'Pakistan', 'COurse': 'AI'}"
      ]
     },
     "execution_count": 24,
     "metadata": {},
     "output_type": "execute_result"
    }
   ],
   "source": [
    "thisdict"
   ]
  },
  {
   "cell_type": "code",
   "execution_count": 27,
   "id": "3f18f450-4386-4c24-bebb-90300be04274",
   "metadata": {},
   "outputs": [
    {
     "data": {
      "text/plain": [
       "'AI'"
      ]
     },
     "execution_count": 27,
     "metadata": {},
     "output_type": "execute_result"
    }
   ],
   "source": [
    "thisdict.pop('COurse')"
   ]
  },
  {
   "cell_type": "code",
   "execution_count": 28,
   "id": "9b1093e7-4783-4d4c-ae89-fd34dbf8d8c5",
   "metadata": {},
   "outputs": [
    {
     "data": {
      "text/plain": [
       "{'name': 'Mansoor', 'age': 21, 'country': 'Pakistan'}"
      ]
     },
     "execution_count": 28,
     "metadata": {},
     "output_type": "execute_result"
    }
   ],
   "source": [
    "thisdict"
   ]
  },
  {
   "cell_type": "code",
   "execution_count": 29,
   "id": "d669bbed-ca49-49e6-86bd-388950a9da4f",
   "metadata": {},
   "outputs": [],
   "source": [
    "## In dictionary pop is used with key, to remove specific key:value pair from dictionary"
   ]
  },
  {
   "cell_type": "code",
   "execution_count": 30,
   "id": "8ff22c59-db04-4828-bbdd-fe8ddd79f8c4",
   "metadata": {},
   "outputs": [],
   "source": [
    "## we can also used del keyword for this purp9ose\n",
    "del thisdict['age']"
   ]
  },
  {
   "cell_type": "code",
   "execution_count": 31,
   "id": "91114d13-e747-48e2-9326-20b07e99f153",
   "metadata": {},
   "outputs": [
    {
     "data": {
      "text/plain": [
       "{'name': 'Mansoor', 'country': 'Pakistan'}"
      ]
     },
     "execution_count": 31,
     "metadata": {},
     "output_type": "execute_result"
    }
   ],
   "source": [
    "thisdict"
   ]
  },
  {
   "cell_type": "code",
   "execution_count": null,
   "id": "2429c0fb-f64a-4334-bf07-3d8d6e798c90",
   "metadata": {},
   "outputs": [],
   "source": []
  }
 ],
 "metadata": {
  "kernelspec": {
   "display_name": "Python 3 (ipykernel)",
   "language": "python",
   "name": "python3"
  },
  "language_info": {
   "codemirror_mode": {
    "name": "ipython",
    "version": 3
   },
   "file_extension": ".py",
   "mimetype": "text/x-python",
   "name": "python",
   "nbconvert_exporter": "python",
   "pygments_lexer": "ipython3",
   "version": "3.12.4"
  }
 },
 "nbformat": 4,
 "nbformat_minor": 5
}
