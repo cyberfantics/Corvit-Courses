{
 "cells": [
  {
   "cell_type": "markdown",
   "id": "2a36cfb7",
   "metadata": {},
   "source": [
    "# `AI Course Day 01` : Syed Mansoor ul Hassan Bukhari"
   ]
  },
  {
   "cell_type": "markdown",
   "id": "d0c1a1ec",
   "metadata": {},
   "source": [
    "## Print Hello World"
   ]
  },
  {
   "cell_type": "code",
   "execution_count": 1,
   "id": "57c2b3a2",
   "metadata": {},
   "outputs": [
    {
     "name": "stdout",
     "output_type": "stream",
     "text": [
      "Hello World\n"
     ]
    }
   ],
   "source": [
    "print(\"Hello World\")"
   ]
  },
  {
   "cell_type": "markdown",
   "id": "3205d1ac",
   "metadata": {},
   "source": [
    "## Print Values With String"
   ]
  },
  {
   "cell_type": "code",
   "execution_count": 2,
   "id": "94c78ab1",
   "metadata": {},
   "outputs": [
    {
     "name": "stdout",
     "output_type": "stream",
     "text": [
      "Hello,  1 2 3\n"
     ]
    }
   ],
   "source": [
    "print(\"Hello, \",1,2,3)"
   ]
  },
  {
   "cell_type": "markdown",
   "id": "cffb5c13",
   "metadata": {},
   "source": [
    "## Escape Sequence"
   ]
  },
  {
   "cell_type": "code",
   "execution_count": 3,
   "id": "00593a9c",
   "metadata": {},
   "outputs": [
    {
     "name": "stdout",
     "output_type": "stream",
     "text": [
      "Hello \n",
      " Mansoor\n"
     ]
    }
   ],
   "source": [
    "print(\"Hello \\n Mansoor\")"
   ]
  },
  {
   "cell_type": "markdown",
   "id": "d86716f4",
   "metadata": {},
   "source": [
    "## variables and data types: VARIABLE: its a container that holds data."
   ]
  },
  {
   "cell_type": "code",
   "execution_count": 4,
   "id": "704379e3",
   "metadata": {},
   "outputs": [],
   "source": [
    "a=1 #\t\t::Value\n",
    "b=True # \t\t::Boolean\n",
    "c=\"Mansoor\"# \t::String\n",
    "d= None #\t\t::None type varaible"
   ]
  },
  {
   "cell_type": "code",
   "execution_count": 5,
   "id": "eeddc9c4",
   "metadata": {},
   "outputs": [
    {
     "name": "stdout",
     "output_type": "stream",
     "text": [
      "Value of a is 1, Value of b is True, Value of c is Mansoor and Value of d is None\n"
     ]
    }
   ],
   "source": [
    "print(f\"Value of a is {a}, Value of b is {b}, Value of c is {c} and Value of d is {d}\")"
   ]
  },
  {
   "cell_type": "markdown",
   "id": "bac61778",
   "metadata": {},
   "source": [
    "## `type(var)` is used to check data type of var"
   ]
  },
  {
   "cell_type": "code",
   "execution_count": 7,
   "id": "1ac12b8a",
   "metadata": {},
   "outputs": [
    {
     "name": "stdout",
     "output_type": "stream",
     "text": [
      "Type of a is <class 'int'>, Type of b is <class 'bool'>, Type of c is <class 'str'> and Type of d is None\n"
     ]
    }
   ],
   "source": [
    "print(f\"Type of a is {type(a)}, Type of b is {type(b)}, Type of c is {type(c)} and Type of d is {d}\")"
   ]
  },
  {
   "cell_type": "code",
   "execution_count": null,
   "id": "4f79ec41",
   "metadata": {},
   "outputs": [],
   "source": []
  },
  {
   "cell_type": "markdown",
   "id": "565031ab",
   "metadata": {},
   "source": [
    "## input() use for taking input from user"
   ]
  },
  {
   "cell_type": "code",
   "execution_count": 9,
   "id": "fbde1899",
   "metadata": {},
   "outputs": [
    {
     "name": "stdout",
     "output_type": "stream",
     "text": [
      "Enter Number 5\n",
      "Your Entered Number Is  5\n"
     ]
    }
   ],
   "source": [
    "a = input(\"Enter Number \")\n",
    "print(\"Your Entered Number Is \",a)"
   ]
  },
  {
   "cell_type": "code",
   "execution_count": null,
   "id": "4924365e",
   "metadata": {},
   "outputs": [],
   "source": []
  },
  {
   "cell_type": "markdown",
   "id": "9dc38094",
   "metadata": {},
   "source": [
    "## By default input take value in string, if we change value first we need to mention data type"
   ]
  },
  {
   "cell_type": "code",
   "execution_count": 10,
   "id": "c1da72eb",
   "metadata": {},
   "outputs": [
    {
     "name": "stdout",
     "output_type": "stream",
     "text": [
      "Type of a is  <class 'str'>\n"
     ]
    }
   ],
   "source": [
    "print(\"Type of a is \",type(a))"
   ]
  },
  {
   "cell_type": "code",
   "execution_count": null,
   "id": "4dec392a",
   "metadata": {},
   "outputs": [],
   "source": []
  },
  {
   "cell_type": "markdown",
   "id": "f43eac93",
   "metadata": {},
   "source": [
    "## Lets take again input and check data type"
   ]
  },
  {
   "cell_type": "code",
   "execution_count": 11,
   "id": "df53344f",
   "metadata": {},
   "outputs": [
    {
     "name": "stdout",
     "output_type": "stream",
     "text": [
      "Enter a 5\n",
      "Your Entered Number Is 5\n",
      "Type of a is  <class 'int'>\n"
     ]
    }
   ],
   "source": [
    "a = int(input(\"Enter a \"))\n",
    "print(\"Your Entered Number Is\", a)\n",
    "print(\"Type of a is \",type(a))"
   ]
  },
  {
   "cell_type": "code",
   "execution_count": null,
   "id": "d98aef98",
   "metadata": {},
   "outputs": [],
   "source": []
  },
  {
   "cell_type": "markdown",
   "id": "c5aa920c",
   "metadata": {},
   "source": [
    "## if, elif and else are conditional statementm"
   ]
  },
  {
   "cell_type": "code",
   "execution_count": 12,
   "id": "250db685",
   "metadata": {},
   "outputs": [
    {
     "name": "stdout",
     "output_type": "stream",
     "text": [
      "Even\n"
     ]
    }
   ],
   "source": [
    "a = 2\n",
    "if a % 2 == 0:\n",
    "    print(\"Even\")\n",
    "else:\n",
    "    print('Odd')"
   ]
  },
  {
   "cell_type": "code",
   "execution_count": 13,
   "id": "6505069e",
   "metadata": {},
   "outputs": [
    {
     "name": "stdout",
     "output_type": "stream",
     "text": [
      "Positive\n"
     ]
    }
   ],
   "source": [
    "a = 2\n",
    "if a > 0:\n",
    "    print(\"Positive\")\n",
    "elif a == 0:\n",
    "    print('Zero')\n",
    "else:\n",
    "    print(\"Negative\")"
   ]
  },
  {
   "cell_type": "code",
   "execution_count": null,
   "id": "c176a4eb",
   "metadata": {},
   "outputs": [],
   "source": []
  }
 ],
 "metadata": {
  "kernelspec": {
   "display_name": "Python 3 (ipykernel)",
   "language": "python",
   "name": "python3"
  },
  "language_info": {
   "codemirror_mode": {
    "name": "ipython",
    "version": 3
   },
   "file_extension": ".py",
   "mimetype": "text/x-python",
   "name": "python",
   "nbconvert_exporter": "python",
   "pygments_lexer": "ipython3",
   "version": "3.9.13"
  }
 },
 "nbformat": 4,
 "nbformat_minor": 5
}
