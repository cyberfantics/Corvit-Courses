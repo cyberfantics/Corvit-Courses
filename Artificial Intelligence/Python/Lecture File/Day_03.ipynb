{
 "cells": [
  {
   "cell_type": "markdown",
   "id": "60eb6238-274a-4a2b-a721-5a9ec07242f6",
   "metadata": {},
   "source": [
    "### Type Casting: The conversion of one datatype into another is called type casting"
   ]
  },
  {
   "cell_type": "code",
   "execution_count": 1,
   "id": "0c8fd2d1-4416-456f-a1d8-0ed08e852a1b",
   "metadata": {},
   "outputs": [
    {
     "name": "stdout",
     "output_type": "stream",
     "text": [
      "Mansoor\n",
      "<class 'str'>\n",
      "['M', 'a', 'n', 's', 'o', 'o', 'r']\n",
      "<class 'list'>\n"
     ]
    }
   ],
   "source": [
    "# First we take a string\n",
    "a = 'Mansoor'\n",
    "# Display string\n",
    "print(a)\n",
    "# Print type\n",
    "print(type(a))\n",
    "# Convert it into list\n",
    "a = list(a)\n",
    "# Print List\n",
    "print(a)\n",
    "# Print type\n",
    "print(type(a))"
   ]
  },
  {
   "cell_type": "code",
   "execution_count": null,
   "id": "4e7245b2-6e68-49fb-9d62-5f7fea6ecba5",
   "metadata": {},
   "outputs": [],
   "source": []
  },
  {
   "cell_type": "code",
   "execution_count": 2,
   "id": "19192b04-f865-42a7-a69e-470b92188573",
   "metadata": {},
   "outputs": [
    {
     "name": "stdout",
     "output_type": "stream",
     "text": [
      "5\n",
      "<class 'int'>\n",
      "5.0\n",
      "<class 'float'>\n"
     ]
    }
   ],
   "source": [
    "# Take an integer\n",
    "a = 5\n",
    "# Display integer\n",
    "print(a)\n",
    "# Print type\n",
    "print(type(a))\n",
    "# Convert it into float\n",
    "a = float(a)\n",
    "# Print float\n",
    "print(a)\n",
    "# Print type\n",
    "print(type(a))"
   ]
  },
  {
   "cell_type": "code",
   "execution_count": null,
   "id": "9eee70aa-cbe6-4783-a7c1-0d9bb17fcce2",
   "metadata": {},
   "outputs": [],
   "source": []
  },
  {
   "cell_type": "markdown",
   "id": "83c7d380-418e-4272-bd79-e396b661cb7a",
   "metadata": {},
   "source": [
    "## \n",
    "STRING METHOD:"
   ]
  },
  {
   "cell_type": "code",
   "execution_count": 3,
   "id": "48344bf9-f40b-42e5-b2eb-18e31bb55fb6",
   "metadata": {},
   "outputs": [],
   "source": [
    "name = \"  Mansoor   !!!\""
   ]
  },
  {
   "cell_type": "code",
   "execution_count": 4,
   "id": "7fe7d2e6-a481-4020-91e6-db0807522dc9",
   "metadata": {},
   "outputs": [
    {
     "data": {
      "text/plain": [
       "'  MANSOOR   !!!'"
      ]
     },
     "execution_count": 4,
     "metadata": {},
     "output_type": "execute_result"
    }
   ],
   "source": [
    "# convert name into uppercase\n",
    "name.upper()"
   ]
  },
  {
   "cell_type": "code",
   "execution_count": 5,
   "id": "e6b30cb5-41f6-4247-b53d-a3d252d98741",
   "metadata": {},
   "outputs": [
    {
     "data": {
      "text/plain": [
       "'  mansoor   !!!'"
      ]
     },
     "execution_count": 5,
     "metadata": {},
     "output_type": "execute_result"
    }
   ],
   "source": [
    "# Convert it into lower case\n",
    "name.lower()"
   ]
  },
  {
   "cell_type": "code",
   "execution_count": 6,
   "id": "efcd015b-38ef-4bef-ae17-d2b369252836",
   "metadata": {},
   "outputs": [
    {
     "data": {
      "text/plain": [
       "'  Mansoor   !!!'"
      ]
     },
     "execution_count": 6,
     "metadata": {},
     "output_type": "execute_result"
    }
   ],
   "source": [
    "# Convert it into title\n",
    "name.title()"
   ]
  },
  {
   "cell_type": "code",
   "execution_count": 7,
   "id": "848b0320-3bf9-468c-92ef-d7dd0828e63b",
   "metadata": {},
   "outputs": [
    {
     "data": {
      "text/plain": [
       "'Mansoor   !!!'"
      ]
     },
     "execution_count": 7,
     "metadata": {},
     "output_type": "execute_result"
    }
   ],
   "source": [
    "# Remove unnessesary spaces\n",
    "name.strip()"
   ]
  },
  {
   "cell_type": "code",
   "execution_count": 8,
   "id": "1c76857d-590e-44ba-969c-859752c30999",
   "metadata": {},
   "outputs": [
    {
     "data": {
      "text/plain": [
       "'  Mansoor   '"
      ]
     },
     "execution_count": 8,
     "metadata": {},
     "output_type": "execute_result"
    }
   ],
   "source": [
    "# RSTRIP:\t\tRemove the trailing characters.\n",
    "name.rstrip(\"!\")"
   ]
  },
  {
   "cell_type": "code",
   "execution_count": 9,
   "id": "879050b7-bfce-4a0b-a75a-9ebe1e80732a",
   "metadata": {},
   "outputs": [
    {
     "data": {
      "text/plain": [
       "'Mansoor   !!!'"
      ]
     },
     "execution_count": 9,
     "metadata": {},
     "output_type": "execute_result"
    }
   ],
   "source": [
    "name.strip()"
   ]
  },
  {
   "cell_type": "code",
   "execution_count": 10,
   "id": "df86ab25-b5ee-4648-b992-a37c8c5cdfca",
   "metadata": {},
   "outputs": [
    {
     "data": {
      "text/plain": [
       "'Mansoor'"
      ]
     },
     "execution_count": 10,
     "metadata": {},
     "output_type": "execute_result"
    }
   ],
   "source": [
    "name.rstrip(\"!\").strip()"
   ]
  },
  {
   "cell_type": "code",
   "execution_count": 11,
   "id": "28a1f055-5e92-4587-a8db-b4df4f26d7ba",
   "metadata": {},
   "outputs": [
    {
     "data": {
      "text/plain": [
       "'  Hacker   !!!'"
      ]
     },
     "execution_count": 11,
     "metadata": {},
     "output_type": "execute_result"
    }
   ],
   "source": [
    "# Replace\n",
    "name.replace(\"Mansoor\", \"Hacker\")"
   ]
  },
  {
   "cell_type": "code",
   "execution_count": 12,
   "id": "a8ffc6ed-3e8d-4508-9670-585852f03383",
   "metadata": {},
   "outputs": [
    {
     "data": {
      "text/plain": [
       "['  Man', 'oor   !!!']"
      ]
     },
     "execution_count": 12,
     "metadata": {},
     "output_type": "execute_result"
    }
   ],
   "source": [
    "# split it into lists\n",
    "name.split('s')"
   ]
  },
  {
   "cell_type": "code",
   "execution_count": 13,
   "id": "ad7ab4c5-2c67-4780-b521-90a4b54304d9",
   "metadata": {},
   "outputs": [
    {
     "data": {
      "text/plain": [
       "'Mansoor'"
      ]
     },
     "execution_count": 13,
     "metadata": {},
     "output_type": "execute_result"
    }
   ],
   "source": [
    "# CAPITALIZE:\tCapitalize the first letter only\n",
    "name.rstrip(\"!\").strip().capitalize()"
   ]
  },
  {
   "cell_type": "code",
   "execution_count": null,
   "id": "89d12d02-efd4-41cb-9307-39ece7d66d90",
   "metadata": {},
   "outputs": [],
   "source": []
  }
 ],
 "metadata": {
  "kernelspec": {
   "display_name": "Python 3 (ipykernel)",
   "language": "python",
   "name": "python3"
  },
  "language_info": {
   "codemirror_mode": {
    "name": "ipython",
    "version": 3
   },
   "file_extension": ".py",
   "mimetype": "text/x-python",
   "name": "python",
   "nbconvert_exporter": "python",
   "pygments_lexer": "ipython3",
   "version": "3.12.4"
  }
 },
 "nbformat": 4,
 "nbformat_minor": 5
}
