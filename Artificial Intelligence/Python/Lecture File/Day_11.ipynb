{
 "cells": [
  {
   "cell_type": "markdown",
   "id": "bff838ec-7298-4d62-8b51-45dccb7a8e98",
   "metadata": {},
   "source": [
    "# Classes and Objects\n",
    "\n",
    "A class is blueprint or a tempelate for creating \r\n",
    "objects, \r\n",
    "providing initial values for state \r\n",
    "(member variables or attributes), \r\n",
    "&  implementation of behaviour \r\n",
    "(member functions or methods).\r\n",
    "The user defined objects are created using \r\n",
    "the class keyword.\r\n"
   ]
  },
  {
   "cell_type": "code",
   "execution_count": 6,
   "id": "4835d4bc-f8ac-4455-b277-7b427723b3b0",
   "metadata": {},
   "outputs": [],
   "source": [
    "# Class Creation\n",
    "class DataList:\n",
    "    name = \"Muhammad\"\n",
    "    age = 25\n",
    "    height = 5.8\n"
   ]
  },
  {
   "cell_type": "code",
   "execution_count": 7,
   "id": "6bbc35fb-0d09-4887-9147-faa94d660920",
   "metadata": {},
   "outputs": [
    {
     "name": "stdout",
     "output_type": "stream",
     "text": [
      "Muhammad\n",
      "25\n"
     ]
    }
   ],
   "source": [
    "# OBJECT CREATION: Object is the instance of the\n",
    "# class used to access\n",
    "# the properties of the class. \n",
    "obj1 = DataList()\n",
    "print(obj1.name)\n",
    "print(obj1.age)\n"
   ]
  },
  {
   "cell_type": "code",
   "execution_count": 8,
   "id": "ab6ec348-b570-452d-8e28-20e2d3f2cb61",
   "metadata": {},
   "outputs": [
    {
     "name": "stdout",
     "output_type": "stream",
     "text": [
      "Muhammad\n"
     ]
    }
   ],
   "source": [
    "class DataList:\n",
    "    name = \"Muhammad\"\n",
    "    occupation = \"Trainer\"\n",
    "    netWorth = 100\n",
    "a = DataList()\n",
    "print(a.name)\n"
   ]
  },
  {
   "cell_type": "code",
   "execution_count": null,
   "id": "65891f99-d749-4ff1-b4dc-0d27f203d7ab",
   "metadata": {},
   "outputs": [],
   "source": []
  },
  {
   "cell_type": "code",
   "execution_count": 1,
   "id": "35246da4-4606-42e2-909a-4edb05c033c6",
   "metadata": {},
   "outputs": [],
   "source": [
    "class MyClass:\n",
    "    name = \"Mansoor\"\n",
    "    age = '22'"
   ]
  },
  {
   "cell_type": "code",
   "execution_count": 2,
   "id": "e6da917d-66ad-49bd-b613-64bb93f616ab",
   "metadata": {},
   "outputs": [
    {
     "data": {
      "text/plain": [
       "'Mansoor'"
      ]
     },
     "execution_count": 2,
     "metadata": {},
     "output_type": "execute_result"
    }
   ],
   "source": [
    "info = MyClass()\n",
    "info.name"
   ]
  },
  {
   "cell_type": "code",
   "execution_count": null,
   "id": "a6ebcaba-02fd-42ee-b189-20ea908a55c1",
   "metadata": {},
   "outputs": [],
   "source": []
  },
  {
   "cell_type": "code",
   "execution_count": 9,
   "id": "c8f62752-f6a1-4677-bdf4-0013f4049f30",
   "metadata": {},
   "outputs": [
    {
     "name": "stdout",
     "output_type": "stream",
     "text": [
      "Kaleem AI Trainer\n"
     ]
    }
   ],
   "source": [
    "class DataList:\n",
    "    name = \"Muhammad\"\n",
    "    occupation = \"Trainer\"\n",
    "    netWorth = 100\n",
    "\n",
    "a = DataList()\n",
    "a.name = \"Kaleem\"\n",
    "a.occupation = \"AI Trainer\"\n",
    "print(a.name, a.occupation)\n"
   ]
  },
  {
   "cell_type": "markdown",
   "id": "799ecb1b-e561-4148-8ba9-a98fc8835c79",
   "metadata": {},
   "source": [
    "## If comment out the kaleem and AI then the above will print.\n",
    "______________________________________________________________________________________________\n"
   ]
  },
  {
   "cell_type": "code",
   "execution_count": 11,
   "id": "d836bcfb-d1fc-46f6-aa34-771474fe77b2",
   "metadata": {},
   "outputs": [
    {
     "name": "stdout",
     "output_type": "stream",
     "text": [
      "Muhammad is a Trainer\n"
     ]
    }
   ],
   "source": [
    "class DataList:\n",
    "    name = \"Muhammad\"\n",
    "    occupation = \"Trainer\"\n",
    "    netWorth = 100\n",
    "    def info(self):\n",
    "        print(f\"{self.name} is a {self.occupation}\")\n",
    "\n",
    "a = DataList()\n",
    "# a.name = \"Kaleem\"\n",
    "# a.occupation = \"AI Trainer\"\n",
    "a.info()\n"
   ]
  },
  {
   "cell_type": "code",
   "execution_count": null,
   "id": "c684ab1f-9f8a-4b72-b1d7-3bea9dac7334",
   "metadata": {},
   "outputs": [],
   "source": []
  },
  {
   "cell_type": "markdown",
   "id": "76380ac3-7f0b-4751-8a2c-04b114af1f9c",
   "metadata": {},
   "source": [
    "## SELF Parameter:\n",
    "The self parameter is a reference to the current instance of the  \n",
    "class and is used to access variables that belongs to the class.\n",
    "It must be provided as the extra parameter inside the  method \n",
    "defintion. In simple words, self is an object on which the method \n",
    "is calling.\n"
   ]
  },
  {
   "cell_type": "code",
   "execution_count": null,
   "id": "d2470890-d33d-4137-8ffe-bfb78fd63cd2",
   "metadata": {},
   "outputs": [],
   "source": []
  },
  {
   "cell_type": "markdown",
   "id": "56656bdb-fa69-4008-8299-182d8c09506c",
   "metadata": {},
   "source": [
    "# Constructors:\n",
    "**Constructor is a fucnction that automatically called when an object is created, Normally it is used to set the values to the function"
   ]
  },
  {
   "cell_type": "code",
   "execution_count": 4,
   "id": "4711cbd4-0aee-46bc-8090-975a731d6f6b",
   "metadata": {},
   "outputs": [],
   "source": [
    "class myClass:\n",
    "\n",
    "    def __init__(self, name, age): # We need to pass self argument when we created a function\n",
    "        self.name = name\n",
    "        self.age = age\n",
    "\n",
    "    def info(self):\n",
    "        print(f'My name is {self.name} and I am {self.age} years old')"
   ]
  },
  {
   "cell_type": "code",
   "execution_count": 5,
   "id": "90a46223-ae37-44af-a796-f378537be072",
   "metadata": {},
   "outputs": [
    {
     "name": "stdout",
     "output_type": "stream",
     "text": [
      "My name is Mansoor and I am 21 years old\n"
     ]
    }
   ],
   "source": [
    "c = myClass(\"Mansoor\",21)\n",
    "c.info()"
   ]
  },
  {
   "cell_type": "code",
   "execution_count": null,
   "id": "27df5d0b-8f4e-4a31-967e-e14dfce9406d",
   "metadata": {},
   "outputs": [],
   "source": []
  },
  {
   "cell_type": "code",
   "execution_count": 12,
   "id": "e3ef131f-3605-40e3-be9e-e116766e8cc0",
   "metadata": {},
   "outputs": [],
   "source": [
    "class Car:\n",
    "    # Constructor method to initialize the car's attributes\n",
    "    def __init__(self, make, model, year):\n",
    "        self.make = make\n",
    "        self.model = model\n",
    "        self.year = year\n",
    "        self.odometer_reading = 0  # Default attribute\n",
    "\n",
    "    # Method to describe the car\n",
    "    def describe_car(self):\n",
    "        car_info = f\"{self.year} {self.make} {self.model}\"\n",
    "        return car_info\n",
    "\n",
    "    # Method to read the odometer\n",
    "    def read_odometer(self):\n",
    "        return f\"This car has {self.odometer_reading} miles on it.\"\n",
    "\n",
    "    # Method to update the odometer reading\n",
    "    def update_odometer(self, mileage):\n",
    "        if mileage >= self.odometer_reading:\n",
    "            self.odometer_reading = mileage\n",
    "        else:\n",
    "            print(\"You can't roll back an odometer!\")\n",
    "\n",
    "    # Method to increment the odometer reading\n",
    "    def increment_odometer(self, miles):\n",
    "        self.odometer_reading += miles"
   ]
  },
  {
   "cell_type": "code",
   "execution_count": 13,
   "id": "735cfc48-30e7-49c4-98a2-4e18ec6d40d5",
   "metadata": {},
   "outputs": [],
   "source": [
    "car1 = Car(\"Toyota\", \"Corolla\", 2019)\n",
    "car2 = Car(\"Tesla\", \"Model S\", 2020)"
   ]
  },
  {
   "cell_type": "code",
   "execution_count": 14,
   "id": "3f8eebcc-ea8c-4ad9-bf82-b5f4fd9b328e",
   "metadata": {},
   "outputs": [
    {
     "name": "stdout",
     "output_type": "stream",
     "text": [
      "2019 Toyota Corolla\n"
     ]
    }
   ],
   "source": [
    "# Accessing attributes and methods of objects\n",
    "print(car1.describe_car())"
   ]
  },
  {
   "cell_type": "code",
   "execution_count": 15,
   "id": "d2098252-131b-41e0-b2b9-33219b2edb29",
   "metadata": {},
   "outputs": [
    {
     "data": {
      "text/plain": [
       "'2020 Tesla Model S'"
      ]
     },
     "execution_count": 15,
     "metadata": {},
     "output_type": "execute_result"
    }
   ],
   "source": [
    "car2.describe_car()"
   ]
  },
  {
   "cell_type": "code",
   "execution_count": 16,
   "id": "de222f76-b8e8-4927-ab63-c841860f3b64",
   "metadata": {},
   "outputs": [
    {
     "name": "stdout",
     "output_type": "stream",
     "text": [
      "This car has 0 miles on it.\n",
      "This car has 0 miles on it.\n"
     ]
    }
   ],
   "source": [
    "print(car1.read_odometer())\n",
    "print(car2.read_odometer())"
   ]
  },
  {
   "cell_type": "code",
   "execution_count": 17,
   "id": "14f7f1d6-0d01-435a-b8d9-f6b84d7da089",
   "metadata": {},
   "outputs": [
    {
     "name": "stdout",
     "output_type": "stream",
     "text": [
      "This car has 10000 miles on it.\n"
     ]
    }
   ],
   "source": [
    "car1.update_odometer(10000)\n",
    "print(car1.read_odometer())"
   ]
  },
  {
   "cell_type": "code",
   "execution_count": 18,
   "id": "52a724bc-2c00-4c8f-9af3-c40fdc2b9de3",
   "metadata": {},
   "outputs": [
    {
     "name": "stdout",
     "output_type": "stream",
     "text": [
      "This car has 500 miles on it.\n"
     ]
    }
   ],
   "source": [
    "car2.increment_odometer(500)\n",
    "print(car2.read_odometer())"
   ]
  },
  {
   "cell_type": "code",
   "execution_count": null,
   "id": "c77144c5-0cb1-43d2-b6ee-054222d3fdb1",
   "metadata": {},
   "outputs": [],
   "source": []
  }
 ],
 "metadata": {
  "kernelspec": {
   "display_name": "Python 3 (ipykernel)",
   "language": "python",
   "name": "python3"
  },
  "language_info": {
   "codemirror_mode": {
    "name": "ipython",
    "version": 3
   },
   "file_extension": ".py",
   "mimetype": "text/x-python",
   "name": "python",
   "nbconvert_exporter": "python",
   "pygments_lexer": "ipython3",
   "version": "3.12.4"
  }
 },
 "nbformat": 4,
 "nbformat_minor": 5
}
