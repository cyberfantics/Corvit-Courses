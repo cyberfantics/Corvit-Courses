{
 "cells": [
  {
   "cell_type": "markdown",
   "id": "37e6a1b9",
   "metadata": {},
   "source": [
    "## TYPE CASTING:\n",
    "**The conversion of one Data Type into another Data type is known as Type Casting.**\n",
    "python supports a wide variety of functions or methods like: `int(), float(), str(), ord(), tuple(),\n",
    "list(), set(), dict(), hex(), oct()` etc.\n",
    "the data type should be valid."
   ]
  },
  {
   "cell_type": "code",
   "execution_count": 1,
   "id": "3266e45a",
   "metadata": {},
   "outputs": [
    {
     "name": "stdout",
     "output_type": "stream",
     "text": [
      "12\n"
     ]
    }
   ],
   "source": [
    "a = '1'\n",
    "b = '2'\n",
    "print(a+b)"
   ]
  },
  {
   "cell_type": "markdown",
   "id": "277e9640",
   "metadata": {},
   "source": [
    "### Types of type casting:\n",
    "1) **Explicit Type casting or explicit conversion: The conversion of one data type into another data type, done via developer or programmer's intervention or manually as per the requirement, is known as explicit type casting.** Can be achieved by the Python's Built in functions: `ord(), str(), float(), hex()` etc.\n"
   ]
  },
  {
   "cell_type": "code",
   "execution_count": 2,
   "id": "a608fc1c",
   "metadata": {},
   "outputs": [
    {
     "name": "stdout",
     "output_type": "stream",
     "text": [
      "3\n"
     ]
    }
   ],
   "source": [
    "a = int(a)\n",
    "b = int(b)\n",
    "print(a+b)"
   ]
  },
  {
   "cell_type": "code",
   "execution_count": 3,
   "id": "4f93c93a",
   "metadata": {},
   "outputs": [
    {
     "name": "stdout",
     "output_type": "stream",
     "text": [
      "The sum of two numbers is:  20\n"
     ]
    }
   ],
   "source": [
    "string = \"13\"\n",
    "number = 7\n",
    "str_num = int(string)   #change the string into number.\n",
    "sum = number + str_num\n",
    "print(\"The sum of two numbers is: \" ,sum)"
   ]
  },
  {
   "cell_type": "code",
   "execution_count": null,
   "id": "33d21842",
   "metadata": {},
   "outputs": [],
   "source": []
  },
  {
   "cell_type": "markdown",
   "id": "720275d6",
   "metadata": {},
   "source": [
    "**2) Implicit Type casting or implicit conversion: The Data types in python do not have the same level i.e. ordering of data types is not the same in python. some have higher level while some have lower level.According to this level, one data type is converted into other by the Python Interpreter itself (Automatically).** \n",
    "`THis is called the implicit type casting.`\n"
   ]
  },
  {
   "cell_type": "code",
   "execution_count": 6,
   "id": "32567ed6",
   "metadata": {},
   "outputs": [
    {
     "name": "stdout",
     "output_type": "stream",
     "text": [
      "<class 'float'>\n",
      "<class 'int'>\n",
      "9.5\n",
      "<class 'float'>\n"
     ]
    }
   ],
   "source": [
    "a = 4.5\n",
    "print(type(a))\n",
    "b = 5\n",
    "print(type(b))\n",
    "c = a+b\n",
    "print(c)\n",
    "print(type(c))"
   ]
  },
  {
   "cell_type": "code",
   "execution_count": null,
   "id": "0dcdb083",
   "metadata": {},
   "outputs": [],
   "source": []
  },
  {
   "cell_type": "markdown",
   "id": "895736ba",
   "metadata": {},
   "source": [
    "## Arrays of Character"
   ]
  },
  {
   "cell_type": "code",
   "execution_count": 1,
   "id": "89f63a8f",
   "metadata": {},
   "outputs": [
    {
     "name": "stdout",
     "output_type": "stream",
     "text": [
      "M\n",
      "a\n",
      "n\n",
      "s\n",
      "o\n",
      "o\n",
      "r\n"
     ]
    }
   ],
   "source": [
    "name = \"Mansoor\"\n",
    "for i in name:\n",
    "    print(i)"
   ]
  },
  {
   "cell_type": "code",
   "execution_count": 2,
   "id": "30a4edce",
   "metadata": {},
   "outputs": [
    {
     "data": {
      "text/plain": [
       "'M'"
      ]
     },
     "execution_count": 2,
     "metadata": {},
     "output_type": "execute_result"
    }
   ],
   "source": [
    "name[0]"
   ]
  },
  {
   "cell_type": "code",
   "execution_count": 3,
   "id": "1ad413d6",
   "metadata": {},
   "outputs": [
    {
     "data": {
      "text/plain": [
       "'r'"
      ]
     },
     "execution_count": 3,
     "metadata": {},
     "output_type": "execute_result"
    }
   ],
   "source": [
    "name[-1]"
   ]
  },
  {
   "cell_type": "code",
   "execution_count": 4,
   "id": "70d069af",
   "metadata": {},
   "outputs": [
    {
     "data": {
      "text/plain": [
       "'Manso'"
      ]
     },
     "execution_count": 4,
     "metadata": {},
     "output_type": "execute_result"
    }
   ],
   "source": [
    "name[0:5]"
   ]
  },
  {
   "cell_type": "code",
   "execution_count": 5,
   "id": "e7d755da",
   "metadata": {},
   "outputs": [
    {
     "data": {
      "text/plain": [
       "'Mansoo'"
      ]
     },
     "execution_count": 5,
     "metadata": {},
     "output_type": "execute_result"
    }
   ],
   "source": [
    "name[0:-1]"
   ]
  },
  {
   "cell_type": "code",
   "execution_count": 6,
   "id": "4ab2ce1a",
   "metadata": {},
   "outputs": [
    {
     "data": {
      "text/plain": [
       "'Mnor'"
      ]
     },
     "execution_count": 6,
     "metadata": {},
     "output_type": "execute_result"
    }
   ],
   "source": [
    "name[0:7:2]"
   ]
  },
  {
   "cell_type": "markdown",
   "id": "86be5f5c",
   "metadata": {},
   "source": [
    "**Note:** A list or array start from 0, and while giving range to print, first value is included and last is not included. Like i give range name[0:5] in it first is included like M, while last is not included."
   ]
  },
  {
   "cell_type": "code",
   "execution_count": null,
   "id": "394ff243",
   "metadata": {},
   "outputs": [],
   "source": []
  },
  {
   "cell_type": "markdown",
   "id": "6b733a3b",
   "metadata": {},
   "source": [
    "### Method and functions of String"
   ]
  },
  {
   "cell_type": "markdown",
   "id": "3b5dfbbd",
   "metadata": {},
   "source": [
    "**len():** We can find the length of string using len() function"
   ]
  },
  {
   "cell_type": "code",
   "execution_count": 7,
   "id": "9f911618",
   "metadata": {},
   "outputs": [
    {
     "name": "stdout",
     "output_type": "stream",
     "text": [
      "15\n"
     ]
    }
   ],
   "source": [
    "name = \"Mansoor Bukhari\"\n",
    "print(len(name))"
   ]
  },
  {
   "cell_type": "code",
   "execution_count": null,
   "id": "633ed3d9",
   "metadata": {},
   "outputs": [],
   "source": []
  },
  {
   "cell_type": "markdown",
   "id": "9e778731",
   "metadata": {},
   "source": [
    "## slicing"
   ]
  },
  {
   "cell_type": "markdown",
   "id": "b7dd0bab",
   "metadata": {},
   "source": [
    "**Positive Slicing:**"
   ]
  },
  {
   "cell_type": "code",
   "execution_count": 15,
   "id": "39e0e7d4",
   "metadata": {},
   "outputs": [
    {
     "name": "stdout",
     "output_type": "stream",
     "text": [
      "5\n",
      "Mang\n",
      "Mang\n",
      "ngo\n",
      "Mango\n"
     ]
    }
   ],
   "source": [
    "name = \"Mango\"\n",
    "MLen = len(name)\n",
    "print(MLen)\n",
    "print(name[0:4]) # \t#Will print the first four letter\n",
    "print(name[:4])   # \t#auto zero will be assigned by the python itself\n",
    "print(name[2:5]) #   \t#it will start from N and end with O.\n",
    "print(name[:]) #\t\t#It will auto print the whole name.\n"
   ]
  },
  {
   "cell_type": "markdown",
   "id": "6c9080a6",
   "metadata": {},
   "source": [
    "**Negative Slicing:**"
   ]
  },
  {
   "cell_type": "code",
   "execution_count": 9,
   "id": "f956ee3f",
   "metadata": {},
   "outputs": [
    {
     "name": "stdout",
     "output_type": "stream",
     "text": [
      "M\n",
      "M\n"
     ]
    }
   ],
   "source": [
    "name = \"Mango\"\n",
    "MLen = len(name)\n",
    "print(name[:-4])    #output will be only M, it subtract whole length from given value\n",
    "print(name[:len(name)-4])    #output will be only M, it subtract whole length from given value\n"
   ]
  },
  {
   "cell_type": "code",
   "execution_count": null,
   "id": "bde72016",
   "metadata": {},
   "outputs": [],
   "source": []
  },
  {
   "cell_type": "markdown",
   "id": "97626ba4",
   "metadata": {},
   "source": [
    "## Loop Through String"
   ]
  },
  {
   "cell_type": "code",
   "execution_count": 12,
   "id": "a5dbfae2",
   "metadata": {},
   "outputs": [],
   "source": [
    "alpha = \"ABCD\""
   ]
  },
  {
   "cell_type": "code",
   "execution_count": 10,
   "id": "e8a49d98",
   "metadata": {},
   "outputs": [
    {
     "ename": "IndentationError",
     "evalue": "expected an indented block (4101600000.py, line 3)",
     "output_type": "error",
     "traceback": [
      "\u001b[1;36m  File \u001b[1;32m\"C:\\Users\\Mansoor\\AppData\\Local\\Temp\\ipykernel_13008\\4101600000.py\"\u001b[1;36m, line \u001b[1;32m3\u001b[0m\n\u001b[1;33m    print(i) # \t#output will be A B C D but in line.\u001b[0m\n\u001b[1;37m    ^\u001b[0m\n\u001b[1;31mIndentationError\u001b[0m\u001b[1;31m:\u001b[0m expected an indented block\n"
     ]
    }
   ],
   "source": [
    "for i in alpha:\n",
    "print(i) # \t#output will be A B C D but in line."
   ]
  },
  {
   "cell_type": "markdown",
   "id": "39f6735d",
   "metadata": {},
   "source": [
    "**Quick Note:** We cannot left empty the loop. In one loop block if we want to give nothing, at least we need to use keyword pass or break with four spaces or tab"
   ]
  },
  {
   "cell_type": "code",
   "execution_count": 13,
   "id": "1c152505",
   "metadata": {},
   "outputs": [
    {
     "name": "stdout",
     "output_type": "stream",
     "text": [
      "A\n",
      "B\n",
      "C\n",
      "D\n"
     ]
    }
   ],
   "source": [
    "for i in alpha:\n",
    "    print(i)"
   ]
  },
  {
   "cell_type": "code",
   "execution_count": null,
   "id": "b6bb9990",
   "metadata": {},
   "outputs": [],
   "source": []
  }
 ],
 "metadata": {
  "kernelspec": {
   "display_name": "Python 3 (ipykernel)",
   "language": "python",
   "name": "python3"
  },
  "language_info": {
   "codemirror_mode": {
    "name": "ipython",
    "version": 3
   },
   "file_extension": ".py",
   "mimetype": "text/x-python",
   "name": "python",
   "nbconvert_exporter": "python",
   "pygments_lexer": "ipython3",
   "version": "3.9.13"
  }
 },
 "nbformat": 4,
 "nbformat_minor": 5
}
