{
 "cells": [
  {
   "cell_type": "markdown",
   "id": "cb2b08fd-7827-4e72-bbcc-d03016cf29d3",
   "metadata": {},
   "source": [
    "## List Methods"
   ]
  },
  {
   "cell_type": "code",
   "execution_count": 1,
   "id": "51477060-a98b-4fcc-8f46-21415fe718ba",
   "metadata": {},
   "outputs": [],
   "source": [
    "a = []"
   ]
  },
  {
   "cell_type": "code",
   "execution_count": 2,
   "id": "4aa5a1b1-5595-47b1-bcfd-64899cf3d6a8",
   "metadata": {},
   "outputs": [],
   "source": [
    "# insert values in list\n",
    "for i in range(5):\n",
    "    a.append(i) # It append values from 0-4 in list"
   ]
  },
  {
   "cell_type": "code",
   "execution_count": 3,
   "id": "2f0f406e-8773-47ac-9b85-8b28cd9a092c",
   "metadata": {},
   "outputs": [
    {
     "data": {
      "text/plain": [
       "[0, 1, 2, 3, 4]"
      ]
     },
     "execution_count": 3,
     "metadata": {},
     "output_type": "execute_result"
    }
   ],
   "source": [
    "a"
   ]
  },
  {
   "cell_type": "code",
   "execution_count": 4,
   "id": "15e82180-ff9b-45e0-950c-546b7fa57670",
   "metadata": {},
   "outputs": [],
   "source": [
    "# insert value on a specific position\n",
    "a.insert(1,'a')"
   ]
  },
  {
   "cell_type": "code",
   "execution_count": 5,
   "id": "40b3c6f6-c3c3-401c-8d99-52b3a83c4e80",
   "metadata": {},
   "outputs": [
    {
     "data": {
      "text/plain": [
       "[0, 'a', 1, 2, 3, 4]"
      ]
     },
     "execution_count": 5,
     "metadata": {},
     "output_type": "execute_result"
    }
   ],
   "source": [
    "a"
   ]
  },
  {
   "cell_type": "code",
   "execution_count": 6,
   "id": "d7903660-d1cb-43fb-acb8-9cc2c10fbc4c",
   "metadata": {},
   "outputs": [
    {
     "data": {
      "text/plain": [
       "4"
      ]
     },
     "execution_count": 6,
     "metadata": {},
     "output_type": "execute_result"
    }
   ],
   "source": [
    "# Remove last value from list\n",
    "a.pop()"
   ]
  },
  {
   "cell_type": "code",
   "execution_count": 7,
   "id": "60a73cb2-f922-4d59-ba66-a1838c856569",
   "metadata": {},
   "outputs": [
    {
     "data": {
      "text/plain": [
       "[0, 'a', 1, 2, 3]"
      ]
     },
     "execution_count": 7,
     "metadata": {},
     "output_type": "execute_result"
    }
   ],
   "source": [
    "a"
   ]
  },
  {
   "cell_type": "code",
   "execution_count": 8,
   "id": "6b451467-0e5d-41b0-b9c3-ff435052c7c9",
   "metadata": {},
   "outputs": [
    {
     "data": {
      "text/plain": [
       "2"
      ]
     },
     "execution_count": 8,
     "metadata": {},
     "output_type": "execute_result"
    }
   ],
   "source": [
    "a.pop(3) # remove specific value"
   ]
  },
  {
   "cell_type": "code",
   "execution_count": 9,
   "id": "85f630d3-5150-44d8-a391-9bf2db2592ba",
   "metadata": {},
   "outputs": [
    {
     "data": {
      "text/plain": [
       "[0, 'a', 1, 3]"
      ]
     },
     "execution_count": 9,
     "metadata": {},
     "output_type": "execute_result"
    }
   ],
   "source": [
    "a"
   ]
  },
  {
   "cell_type": "code",
   "execution_count": 10,
   "id": "d6918e60-73e0-4b4e-85f8-b3b84811a1f2",
   "metadata": {},
   "outputs": [],
   "source": [
    "# reverse the string\n",
    "a.reverse()"
   ]
  },
  {
   "cell_type": "code",
   "execution_count": 11,
   "id": "d4093012-2a5e-4b95-8d6d-505a3db1bbf6",
   "metadata": {},
   "outputs": [
    {
     "data": {
      "text/plain": [
       "[3, 1, 'a', 0]"
      ]
     },
     "execution_count": 11,
     "metadata": {},
     "output_type": "execute_result"
    }
   ],
   "source": [
    "a"
   ]
  },
  {
   "cell_type": "code",
   "execution_count": null,
   "id": "b558c841-a060-4c7a-a787-288996cf254b",
   "metadata": {},
   "outputs": [],
   "source": []
  },
  {
   "cell_type": "markdown",
   "id": "3bbb0136-8d56-4815-a7eb-51d0bde67af5",
   "metadata": {},
   "source": [
    "# Tuples\n",
    "- Tuples in Python are immutable sequences, meaning their contents cannot be changed after creation. However, they still support various methods and operations."
   ]
  },
  {
   "cell_type": "code",
   "execution_count": 12,
   "id": "74e2af81-8bae-4c43-b476-7f683999eae5",
   "metadata": {},
   "outputs": [],
   "source": [
    "values = (5,4,3,'a',5,6)"
   ]
  },
  {
   "cell_type": "code",
   "execution_count": 13,
   "id": "7e619c94-822a-48a2-beb7-2927733f79b2",
   "metadata": {},
   "outputs": [
    {
     "data": {
      "text/plain": [
       "4"
      ]
     },
     "execution_count": 13,
     "metadata": {},
     "output_type": "execute_result"
    }
   ],
   "source": [
    "values[1]"
   ]
  },
  {
   "cell_type": "code",
   "execution_count": 14,
   "id": "a01a51bf-9c06-4792-8472-012d573407e2",
   "metadata": {},
   "outputs": [
    {
     "name": "stdout",
     "output_type": "stream",
     "text": [
      "\n",
      "4\n",
      "3\n",
      "\n",
      "\n",
      "\n"
     ]
    }
   ],
   "source": [
    "for value in values:\n",
    "    print(value) if type(value)==int and value<5 else print('')"
   ]
  },
  {
   "cell_type": "code",
   "execution_count": 15,
   "id": "74aa22c9-56e5-480c-956d-b6991f07b004",
   "metadata": {},
   "outputs": [
    {
     "name": "stdout",
     "output_type": "stream",
     "text": [
      "(6, 5, 'a', 3, 4, 5)\n"
     ]
    }
   ],
   "source": [
    "# rEverse a tuple\n",
    "print(values[::-1])"
   ]
  },
  {
   "cell_type": "code",
   "execution_count": 16,
   "id": "008df039-1e9c-482e-b12e-61736c300dd1",
   "metadata": {},
   "outputs": [
    {
     "data": {
      "text/plain": [
       "2"
      ]
     },
     "execution_count": 16,
     "metadata": {},
     "output_type": "execute_result"
    }
   ],
   "source": [
    "values.count(5) # count 5 in tuple"
   ]
  },
  {
   "cell_type": "code",
   "execution_count": 17,
   "id": "7cbfa729-d846-4951-9034-326761d468e8",
   "metadata": {},
   "outputs": [
    {
     "data": {
      "text/plain": [
       "6"
      ]
     },
     "execution_count": 17,
     "metadata": {},
     "output_type": "execute_result"
    }
   ],
   "source": [
    "value"
   ]
  },
  {
   "cell_type": "code",
   "execution_count": null,
   "id": "d9bbad57-978b-42d9-86aa-9fd8865f38d0",
   "metadata": {},
   "outputs": [],
   "source": []
  }
 ],
 "metadata": {
  "kernelspec": {
   "display_name": "Python 3 (ipykernel)",
   "language": "python",
   "name": "python3"
  },
  "language_info": {
   "codemirror_mode": {
    "name": "ipython",
    "version": 3
   },
   "file_extension": ".py",
   "mimetype": "text/x-python",
   "name": "python",
   "nbconvert_exporter": "python",
   "pygments_lexer": "ipython3",
   "version": "3.12.4"
  }
 },
 "nbformat": 4,
 "nbformat_minor": 5
}
