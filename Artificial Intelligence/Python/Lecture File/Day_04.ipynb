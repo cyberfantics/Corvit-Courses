{
 "cells": [
  {
   "cell_type": "markdown",
   "id": "837c13f5",
   "metadata": {},
   "source": [
    "### Syed Mansoor ul Hassan Bukhari </br></br>Day 04 Lecture"
   ]
  },
  {
   "cell_type": "markdown",
   "id": "51c5b145",
   "metadata": {},
   "source": [
    "#### Conditional Operator: These are conditional Operators `<, >, >=, <=, ==, !=`. Conditional Operators always return True or False based on the condition"
   ]
  },
  {
   "cell_type": "code",
   "execution_count": 1,
   "id": "545b4863",
   "metadata": {},
   "outputs": [
    {
     "name": "stdout",
     "output_type": "stream",
     "text": [
      "False\n"
     ]
    }
   ],
   "source": [
    "name = \"Mansoor ul Hassan\"\n",
    "\n",
    "# Lets say that length of char in name is less than 5\n",
    "print(len(name) < 5) # It Returns false b/c actually its length is greater than 5"
   ]
  },
  {
   "cell_type": "code",
   "execution_count": 2,
   "id": "43e66608",
   "metadata": {},
   "outputs": [
    {
     "name": "stdout",
     "output_type": "stream",
     "text": [
      "True\n"
     ]
    }
   ],
   "source": [
    "# Now let's say that it is greater than 5\n",
    "print(len(name) > 5) # It return true b/c in reality it is greater than 5"
   ]
  },
  {
   "cell_type": "code",
   "execution_count": 3,
   "id": "ec5d088f",
   "metadata": {},
   "outputs": [
    {
     "name": "stdout",
     "output_type": "stream",
     "text": [
      "False\n"
     ]
    }
   ],
   "source": [
    "# Now we say that it is equal to 5\n",
    "# we use == sign to check equal to\n",
    "print(len(name) == 5) # It return false b/c it is not equal to 5"
   ]
  },
  {
   "cell_type": "code",
   "execution_count": 4,
   "id": "a85c74ee",
   "metadata": {},
   "outputs": [
    {
     "name": "stdout",
     "output_type": "stream",
     "text": [
      "True\n"
     ]
    }
   ],
   "source": [
    "# Now we say that it is not equal to 5\n",
    "print(len(name) != 5) # It return true b/c it is not equal to 5"
   ]
  },
  {
   "cell_type": "code",
   "execution_count": null,
   "id": "b95ba2f4",
   "metadata": {},
   "outputs": [],
   "source": []
  },
  {
   "cell_type": "markdown",
   "id": "5162d918",
   "metadata": {},
   "source": [
    "### Program using statements which use conditional operator"
   ]
  },
  {
   "cell_type": "code",
   "execution_count": 7,
   "id": "e051a4bf",
   "metadata": {},
   "outputs": [
    {
     "name": "stdout",
     "output_type": "stream",
     "text": [
      "Enter age of user: 14\n",
      "User is underage\n"
     ]
    }
   ],
   "source": [
    "age = int(input(\"Enter age of user: \"))\n",
    "\n",
    "# If user is 18 or over 18 he is eligible to drive\n",
    "if age >= 18:\n",
    "    print(f'User is eligible to drive')\n",
    "\n",
    "elif age < 18:\n",
    "    print('User is underage')"
   ]
  },
  {
   "cell_type": "code",
   "execution_count": null,
   "id": "ab8896b3",
   "metadata": {},
   "outputs": [],
   "source": []
  },
  {
   "cell_type": "markdown",
   "id": "d0fd1339",
   "metadata": {},
   "source": [
    "## Nested if statements"
   ]
  },
  {
   "cell_type": "code",
   "execution_count": 9,
   "id": "b97c84c8",
   "metadata": {},
   "outputs": [
    {
     "name": "stdout",
     "output_type": "stream",
     "text": [
      "Enter a number: -10\n",
      "The Number is -10\n"
     ]
    }
   ],
   "source": [
    "num = int(input(\"Enter a number: \"))\n",
    "\n",
    "if num > 0:\n",
    "    if num < 10:\n",
    "        if num % 2 == 0:\n",
    "            print(f'{num} is b/w 0 and 10 and {num} is even') \n",
    "        else:\n",
    "            print(f'{num} is b/w 0 and 10 and {num} is odd')\n",
    "    \n",
    "    elif num < 20:\n",
    "        print('{num} is b/w 11 to 20')\n",
    "    \n",
    "    else:\n",
    "        print(f'Number is greater than 20')\n",
    "\n",
    "elif num < 0:\n",
    "    if num > -10:\n",
    "        print('The Number is b/w 0 and -10')\n",
    "    elif num == -10:\n",
    "        print(\"The Number is -10\")\n",
    "    else:\n",
    "        print('The Number is less than -10')\n",
    "\n",
    "else:\n",
    "    print(\"The Number is Zero\")"
   ]
  },
  {
   "cell_type": "code",
   "execution_count": null,
   "id": "8fb3596e",
   "metadata": {},
   "outputs": [],
   "source": []
  },
  {
   "cell_type": "code",
   "execution_count": null,
   "id": "58251bb0",
   "metadata": {},
   "outputs": [],
   "source": []
  }
 ],
 "metadata": {
  "kernelspec": {
   "display_name": "Python 3 (ipykernel)",
   "language": "python",
   "name": "python3"
  },
  "language_info": {
   "codemirror_mode": {
    "name": "ipython",
    "version": 3
   },
   "file_extension": ".py",
   "mimetype": "text/x-python",
   "name": "python",
   "nbconvert_exporter": "python",
   "pygments_lexer": "ipython3",
   "version": "3.9.13"
  }
 },
 "nbformat": 4,
 "nbformat_minor": 5
}
