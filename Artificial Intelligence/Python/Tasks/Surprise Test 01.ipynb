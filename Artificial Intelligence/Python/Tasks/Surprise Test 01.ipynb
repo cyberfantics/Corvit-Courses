{
 "cells": [
  {
   "cell_type": "code",
   "execution_count": 1,
   "id": "87f6f327-ffdc-4d8c-8970-2390edfacad8",
   "metadata": {},
   "outputs": [
    {
     "name": "stdin",
     "output_type": "stream",
     "text": [
      "Enter the number  6\n"
     ]
    },
    {
     "name": "stdout",
     "output_type": "stream",
     "text": [
      "6 is not a prime number\n"
     ]
    }
   ],
   "source": [
    "num = int(input(\"Enter the number \"))\n",
    "# If given number is greater than 1\n",
    "if num > 1:\n",
    "    # Iterate from 2 to n // 2\n",
    "    for i in range(2, (num//2)+1):\n",
    "        # If num is divisible by any number between\n",
    "        # 2 and n / 2, it is not prime\n",
    "        if (num % i) == 0:\n",
    "            print(f\"{num} is not a prime number\")\n",
    "            break\n",
    "    else:\n",
    "        print(f\"{num} is a prime number\")\n",
    "else:\n",
    "    print(f\"{num} is not a prime number\")\n"
   ]
  },
  {
   "cell_type": "code",
   "execution_count": 3,
   "id": "be92ac7c-a65e-4a04-b591-323102af5ca4",
   "metadata": {},
   "outputs": [
    {
     "name": "stdout",
     "output_type": "stream",
     "text": [
      "Names starting with letter 'Q':\n",
      "Qasim\n",
      "Queen\n"
     ]
    }
   ],
   "source": [
    "# List of names\n",
    "names = [\"Alice\", \"Bob\", \"Qasim\", \"Queen\", \"Adam\"]\n",
    "\n",
    "print(\"Names starting with letter 'Q':\")\n",
    "for name in names:\n",
    "    if 'Q' in name:\n",
    "        print(name)\n"
   ]
  },
  {
   "cell_type": "code",
   "execution_count": 5,
   "id": "4bac92aa-10b2-402c-8446-8215dd6cd65f",
   "metadata": {},
   "outputs": [
    {
     "name": "stdin",
     "output_type": "stream",
     "text": [
      "Enter the score (0-100):  65\n"
     ]
    },
    {
     "name": "stdout",
     "output_type": "stream",
     "text": [
      "The result is: B\n"
     ]
    }
   ],
   "source": [
    "# Input score from the user\n",
    "score = float(input(\"Enter the score (0-100): \"))\n",
    "\n",
    "# Check if the score is within the valid range\n",
    "if 0 <= score <= 100:\n",
    "    # Determine the grade based on the score\n",
    "    match score:\n",
    "        case _ if score >= 80:\n",
    "            grade = 'A'\n",
    "        case _ if 60 <= score < 80:\n",
    "            grade = 'B'\n",
    "        case _ if 50 <= score < 60:\n",
    "            grade = 'C'\n",
    "        case _:\n",
    "            grade = 'Fail'\n",
    "else:\n",
    "    grade = 'Invalid Score'\n",
    "\n",
    "# Print the result\n",
    "print(f\"The result is: {grade}\")"
   ]
  },
  {
   "cell_type": "code",
   "execution_count": null,
   "id": "09ceaa6b-89ab-47c0-804e-affc6066c558",
   "metadata": {},
   "outputs": [],
   "source": []
  },
  {
   "cell_type": "code",
   "execution_count": 6,
   "id": "1ded7feb-066a-4273-8024-08bafef37448",
   "metadata": {},
   "outputs": [
    {
     "name": "stdout",
     "output_type": "stream",
     "text": [
      "4\n"
     ]
    }
   ],
   "source": [
    "x = [0,1,2]\n",
    "x.insert(0,1)\n",
    "del x[1]\n",
    "print(sum(x))"
   ]
  },
  {
   "cell_type": "code",
   "execution_count": 8,
   "id": "4bd983ae-5a7a-4183-9ef5-4bc1848c3162",
   "metadata": {},
   "outputs": [
    {
     "name": "stdout",
     "output_type": "stream",
     "text": [
      "Prime numbers between 1 and 50:\n",
      "2 3 5 7 11 13 17 19 23 29 31 37 41 43 47 "
     ]
    }
   ],
   "source": [
    "print(\"Prime numbers between 1 and 50:\")\n",
    "\n",
    "for num in range(2, 51):  # Starting from 2, since 1 is not a prime number\n",
    "    is_prime = True\n",
    "    for i in range(2, int(num ** 0.5) + 1):\n",
    "        if num % i == 0:\n",
    "            is_prime = False\n",
    "            break\n",
    "    if is_prime:\n",
    "        print(num, end=\" \")\n"
   ]
  },
  {
   "cell_type": "code",
   "execution_count": 9,
   "id": "cec75aee-714b-4100-98a0-339451a58d1a",
   "metadata": {},
   "outputs": [
    {
     "name": "stdout",
     "output_type": "stream",
     "text": [
      "Fun is Programming Python\n"
     ]
    }
   ],
   "source": [
    "string = \"Python Programming is Fun\"\n",
    "# reversing words in a given string\n",
    "s = string.split()[::-1]\n",
    "l = []\n",
    "for i in s:\n",
    "    # appending reversed words to l\n",
    "    l.append(i)\n",
    "# printing reversed words\n",
    "print(\" \".join(l))\n"
   ]
  },
  {
   "cell_type": "code",
   "execution_count": 10,
   "id": "66d0383d-05b2-47a2-bff1-bd6b8708fb89",
   "metadata": {},
   "outputs": [
    {
     "ename": "SyntaxError",
     "evalue": "unterminated string literal (detected at line 14) (3838674817.py, line 14)",
     "output_type": "error",
     "traceback": [
      "\u001b[1;36m  Cell \u001b[1;32mIn[10], line 14\u001b[1;36m\u001b[0m\n\u001b[1;33m    print(\"Saturday)\u001b[0m\n\u001b[1;37m          ^\u001b[0m\n\u001b[1;31mSyntaxError\u001b[0m\u001b[1;31m:\u001b[0m unterminated string literal (detected at line 14)\n"
     ]
    }
   ],
   "source": []
  },
  {
   "cell_type": "code",
   "execution_count": 11,
   "id": "44335bfe-ddde-45eb-955a-99d06c354f9b",
   "metadata": {},
   "outputs": [
    {
     "name": "stdin",
     "output_type": "stream",
     "text": [
      "Enter the number or anything: 5\n"
     ]
    },
    {
     "name": "stdout",
     "output_type": "stream",
     "text": [
      "Friday\n"
     ]
    }
   ],
   "source": [
    "day_number = input(\"Enter the number or anything:\")\n",
    "try:\n",
    "    day_number = int(day_number)  # Convert input to integer\n",
    "    match day_number:\n",
    "        case 1:\n",
    "            print(\"Monday\")\n",
    "        case 2:\n",
    "            print(\"Tuesday\")\n",
    "        case 3:\n",
    "            print(\"Wednesday\")\n",
    "        case 4:\n",
    "            print(\"Thursday\")\n",
    "        case 5:\n",
    "            print(\"Friday\")\n",
    "        case 6:\n",
    "            print(\"Saturday\")\n",
    "        case 7:\n",
    "            print(\"Sunday\")\n",
    "        case _:\n",
    "            print(\"Invalid\")\n",
    "except ValueError:\n",
    "    print(\"Invalid input: Please enter a number\")\n"
   ]
  },
  {
   "cell_type": "code",
   "execution_count": null,
   "id": "149ac806-39fc-492b-97d1-0b1a928bf4b7",
   "metadata": {},
   "outputs": [],
   "source": []
  }
 ],
 "metadata": {
  "kernelspec": {
   "display_name": "Python 3 (ipykernel)",
   "language": "python",
   "name": "python3"
  },
  "language_info": {
   "codemirror_mode": {
    "name": "ipython",
    "version": 3
   },
   "file_extension": ".py",
   "mimetype": "text/x-python",
   "name": "python",
   "nbconvert_exporter": "python",
   "pygments_lexer": "ipython3",
   "version": "3.12.4"
  }
 },
 "nbformat": 4,
 "nbformat_minor": 5
}
