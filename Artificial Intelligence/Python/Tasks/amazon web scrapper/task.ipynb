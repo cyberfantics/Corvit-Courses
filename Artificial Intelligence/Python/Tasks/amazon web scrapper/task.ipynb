{
 "cells": [
  {
   "cell_type": "code",
   "execution_count": 14,
   "id": "0bb6ffc5-76b6-4f5e-a32c-f08c8dc1d398",
   "metadata": {},
   "outputs": [],
   "source": [
    "import requests \n",
    "from bs4 import BeautifulSoup\n",
    "import pandas as pd\n",
    "from time import sleep\n",
    "import random"
   ]
  },
  {
   "cell_type": "code",
   "execution_count": 15,
   "id": "f5666be1-a5e1-4b63-993e-eebc990189c0",
   "metadata": {},
   "outputs": [],
   "source": [
    "data = []"
   ]
  },
  {
   "cell_type": "code",
   "execution_count": 18,
   "id": "379ca36e-a138-49fc-a858-5519a5fef8ed",
   "metadata": {},
   "outputs": [
    {
     "name": "stdout",
     "output_type": "stream",
     "text": [
      "Failed to retrieve page 21 with status code 503\n"
     ]
    }
   ],
   "source": [
    "data = []  # Initialize list to store scraped data\n",
    "\n",
    "# Loop through pages\n",
    "for page in range(1, 50):\n",
    "    url = f'https://www.amazon.com/s?k=boiks&page={page}&qid=1725444238&ref=sr_pg_{page}'\n",
    "    headers = {\n",
    "        \"User-Agent\": \"Mozilla/5.0 (Windows NT 10.0; Win64; x64) AppleWebKit/537.36 (KHTML, like Gecko) Chrome/116.0.5845.96 Safari/537.36\",\n",
    "        \"Accept-Language\": \"en-US,en;q=0.9\",\n",
    "        \"Accept-Encoding\": \"gzip, deflate, br\",\n",
    "        \"Connection\": \"keep-alive\",\n",
    "        \"Upgrade-Insecure-Requests\": \"1\",\n",
    "        \"Referer\": \"https://www.amazon.com/\",\n",
    "        \"Origin\": \"https://www.amazon.com/\"\n",
    "    }\n",
    "\n",
    "    # Make the request\n",
    "    r = requests.get(url, headers=headers)\n",
    "    \n",
    "    if r.status_code == 200:  # Check if the request was successful\n",
    "        soup = BeautifulSoup(r.content, 'html.parser')\n",
    "        \n",
    "        # Find all product items\n",
    "        for item in soup.select('.s-main-slot .s-result-item'):\n",
    "            # Extract book name\n",
    "            title_element = item.select_one('.a-size-medium.a-color-base.a-text-normal')\n",
    "            title = title_element.get_text(strip=True) if title_element else 'N/A'\n",
    "            \n",
    "            # Extract author name\n",
    "            author_element = item.select_one('.a-size-base.a-link-normal')\n",
    "            author = author_element.get_text(strip=True) if author_element else 'N/A'\n",
    "            \n",
    "            # Extract price\n",
    "            price_element = item.select_one('.a-price .a-offscreen')\n",
    "            price = price_element.get_text(strip=True) if price_element else 'N/A'\n",
    "            \n",
    "            # Extract rating\n",
    "            rating_element = item.select_one('.a-icon-star-small')\n",
    "            rating = rating_element.get_text(strip=True) if rating_element else 'N/A'\n",
    "            \n",
    "            # Extract number of reviews\n",
    "            reviews_element = item.select_one('.a-size-base')\n",
    "            reviews = reviews_element.get_text(strip=True) if reviews_element else 'N/A'\n",
    "            \n",
    "            # Extract book link\n",
    "            link_element = item.select_one('.a-link-normal.s-underline-text')\n",
    "            link = f\"https://www.amazon.com{link_element['href']}\" if link_element else 'N/A'\n",
    "            \n",
    "            # Append data to the list\n",
    "            data.append({\n",
    "                'Title': title,\n",
    "                'Author': author,\n",
    "                'Price': price,\n",
    "                'Rating': rating,\n",
    "                'Reviews': reviews,\n",
    "                'Link': link\n",
    "            })\n",
    "\n",
    "        # Random sleep interval between 1 and 5 seconds\n",
    "        sleep(random.uniform(1, 5))\n",
    "    else:\n",
    "        print(f\"Failed to retrieve page {page} with status code {r.status_code}\")\n",
    "        break\n"
   ]
  },
  {
   "cell_type": "markdown",
   "id": "73d0c7db-d318-4673-9f94-9f09f73c59e2",
   "metadata": {},
   "source": [
    "**While Scraping this website 99% of time we got `503 error`**\n",
    "\n",
    "#### What is 503 error?\n",
    "- A 503 Service Unavailable error indicates that the server is currently unable to handle the request. This can happen for various reasons, and it usually signifies that the server is overloaded or undergoing maintenance. When dealing with web scraping, encountering a 503 error often means that your requests are being blocked or rate-limited by the server due to excessive traffic or other protective measures.\n",
    "\n",
    "#### Common Causes of 503 Errors in Web Scraping:\n",
    "- **Rate Limiting:** The server might have detected too many requests coming from your IP address and is temporarily blocking further requests.\n",
    "- **IP Blocking:** Your IP might be blocked due to suspicious activity or scraping behavior.\n",
    "- **Server Overload:** The server might be experiencing high traffic or other issues, causing it to temporarily refuse connections.\n",
    "- **Bot Protection:** The site might have mechanisms in place to detect and block bots or automated scraping tools.\n",
    "\n",
    "#### Which Methods I used to tackle this issue\n",
    " - Their are alot of methods which we can use to handle this issue like\n",
    "    - Use Proxies\n",
    "    - Handle Cookies and Session\n",
    "    - Respect Robots.txt\n",
    "    - Respect Rate Limit\n",
    "- But I use two methods to handle it\n",
    "    - Adding Headers\n",
    "    - Sleep For Some Time\n",
    "\n",
    "      - 1. Adding Headers\n",
    "        Headers can make your request look more like a genuine browser request, which can sometimes help avoid detection and rate-limiting. Ensure your headers include:\n",
    "    \n",
    "        - **User-Agent:** Identifies the browser making the request.\n",
    "        - **Accept-Language:** Specifies the preferred language.\n",
    "        - **Accept-Encoding:** Indicates the accepted content encoding.\n",
    "        - **Connection:** Controls whether to keep the connection open or close it.\n",
    "       \n",
    "      - 2. Implementing Sleep Delays\n",
    "            - Adding delays between requests helps in preventing rate-limiting by spacing out your requests. Implementing sleep is crucial for mimicking natural browsing behavior and avoiding detection."
   ]
  },
  {
   "cell_type": "code",
   "execution_count": 8,
   "id": "80e87743-6dc7-4680-92f8-cda0082b7d90",
   "metadata": {},
   "outputs": [],
   "source": [
    "# Create a DataFrame from the collected data\n",
    "df = pd.DataFrame(data)"
   ]
  },
  {
   "cell_type": "code",
   "execution_count": 9,
   "id": "1ef9577d-d467-4a34-8304-0431fdca6c41",
   "metadata": {},
   "outputs": [
    {
     "name": "stdout",
     "output_type": "stream",
     "text": [
      "Data has been saved to amazon_books.csv\n"
     ]
    }
   ],
   "source": [
    "# Save the DataFrame to a CSV file\n",
    "df.to_csv('amazon_books.csv', index=False)\n",
    "print(\"Data has been saved to amazon_books.csv\")"
   ]
  },
  {
   "cell_type": "code",
   "execution_count": 10,
   "id": "13be7f57-1278-4391-8cab-c72dbc9cb229",
   "metadata": {},
   "outputs": [],
   "source": [
    "df = pd.read_csv('amazon_books.csv')"
   ]
  },
  {
   "cell_type": "code",
   "execution_count": 11,
   "id": "909db21d-ae12-49f5-8577-5ce16f9264ce",
   "metadata": {},
   "outputs": [
    {
     "data": {
      "text/html": [
       "<div>\n",
       "<style scoped>\n",
       "    .dataframe tbody tr th:only-of-type {\n",
       "        vertical-align: middle;\n",
       "    }\n",
       "\n",
       "    .dataframe tbody tr th {\n",
       "        vertical-align: top;\n",
       "    }\n",
       "\n",
       "    .dataframe thead th {\n",
       "        text-align: right;\n",
       "    }\n",
       "</style>\n",
       "<table border=\"1\" class=\"dataframe\">\n",
       "  <thead>\n",
       "    <tr style=\"text-align: right;\">\n",
       "      <th></th>\n",
       "      <th>Title</th>\n",
       "      <th>Author</th>\n",
       "      <th>Price</th>\n",
       "      <th>Rating</th>\n",
       "      <th>Link</th>\n",
       "    </tr>\n",
       "  </thead>\n",
       "  <tbody>\n",
       "    <tr>\n",
       "      <th>0</th>\n",
       "      <td>NaN</td>\n",
       "      <td>NaN</td>\n",
       "      <td>NaN</td>\n",
       "      <td>NaN</td>\n",
       "      <td>NaN</td>\n",
       "    </tr>\n",
       "    <tr>\n",
       "      <th>1</th>\n",
       "      <td>If He Had Been with Me</td>\n",
       "      <td>Laura Nowlin</td>\n",
       "      <td>$7.27</td>\n",
       "      <td>4.2 out of 5 stars</td>\n",
       "      <td>https://www.amazon.com/If-He-Had-Been-Me/dp/17...</td>\n",
       "    </tr>\n",
       "    <tr>\n",
       "      <th>2</th>\n",
       "      <td>Lessons from the Greatest Stock Traders of All...</td>\n",
       "      <td>John Boik</td>\n",
       "      <td>$14.73</td>\n",
       "      <td>4.7 out of 5 stars</td>\n",
       "      <td>https://www.amazon.com/Lessons-Greatest-Stock-...</td>\n",
       "    </tr>\n",
       "    <tr>\n",
       "      <th>3</th>\n",
       "      <td>How Legendary Traders Made Millions: Profiting...</td>\n",
       "      <td>John Boik</td>\n",
       "      <td>$15.55</td>\n",
       "      <td>4.6 out of 5 stars</td>\n",
       "      <td>https://www.amazon.com/How-Legendary-Traders-M...</td>\n",
       "    </tr>\n",
       "    <tr>\n",
       "      <th>4</th>\n",
       "      <td>NaN</td>\n",
       "      <td>NaN</td>\n",
       "      <td>NaN</td>\n",
       "      <td>NaN</td>\n",
       "      <td>NaN</td>\n",
       "    </tr>\n",
       "  </tbody>\n",
       "</table>\n",
       "</div>"
      ],
      "text/plain": [
       "                                               Title        Author   Price  \\\n",
       "0                                                NaN           NaN     NaN   \n",
       "1                             If He Had Been with Me  Laura Nowlin   $7.27   \n",
       "2  Lessons from the Greatest Stock Traders of All...     John Boik  $14.73   \n",
       "3  How Legendary Traders Made Millions: Profiting...     John Boik  $15.55   \n",
       "4                                                NaN           NaN     NaN   \n",
       "\n",
       "               Rating                                               Link  \n",
       "0                 NaN                                                NaN  \n",
       "1  4.2 out of 5 stars  https://www.amazon.com/If-He-Had-Been-Me/dp/17...  \n",
       "2  4.7 out of 5 stars  https://www.amazon.com/Lessons-Greatest-Stock-...  \n",
       "3  4.6 out of 5 stars  https://www.amazon.com/How-Legendary-Traders-M...  \n",
       "4                 NaN                                                NaN  "
      ]
     },
     "execution_count": 11,
     "metadata": {},
     "output_type": "execute_result"
    }
   ],
   "source": [
    "df.head()"
   ]
  },
  {
   "cell_type": "code",
   "execution_count": 31,
   "id": "695387fa-0ddc-4513-b3bf-fd43e2b8604d",
   "metadata": {},
   "outputs": [
    {
     "data": {
      "text/plain": [
       "(275, 5)"
      ]
     },
     "execution_count": 31,
     "metadata": {},
     "output_type": "execute_result"
    }
   ],
   "source": [
    "df.shape"
   ]
  },
  {
   "cell_type": "code",
   "execution_count": null,
   "id": "ea08dd7a-a12b-41bb-9632-73c7f7a1825d",
   "metadata": {},
   "outputs": [],
   "source": []
  }
 ],
 "metadata": {
  "kernelspec": {
   "display_name": "Python 3 (ipykernel)",
   "language": "python",
   "name": "python3"
  },
  "language_info": {
   "codemirror_mode": {
    "name": "ipython",
    "version": 3
   },
   "file_extension": ".py",
   "mimetype": "text/x-python",
   "name": "python",
   "nbconvert_exporter": "python",
   "pygments_lexer": "ipython3",
   "version": "3.12.4"
  }
 },
 "nbformat": 4,
 "nbformat_minor": 5
}
