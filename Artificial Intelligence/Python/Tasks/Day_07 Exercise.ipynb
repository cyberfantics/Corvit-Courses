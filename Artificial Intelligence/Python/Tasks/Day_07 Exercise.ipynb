{
 "cells": [
  {
   "cell_type": "markdown",
   "id": "359f6eee-8052-4e48-8204-cd8bbfe270eb",
   "metadata": {},
   "source": [
    "## Calculate Grades based on user input"
   ]
  },
  {
   "cell_type": "code",
   "execution_count": 1,
   "id": "fddee429-f6c7-4920-9d88-58783b88d62f",
   "metadata": {},
   "outputs": [],
   "source": [
    "def calculate_grade(score):\n",
    "    \"\"\"Determine the grade based on the score.\"\"\"\n",
    "    if score >= 90:\n",
    "        return 'A'\n",
    "    elif score >= 80:\n",
    "        return 'B'\n",
    "    elif score >= 70:\n",
    "        return 'C'\n",
    "    elif score >= 60:\n",
    "        return 'D'\n",
    "    else:\n",
    "        return 'F'"
   ]
  },
  {
   "cell_type": "code",
   "execution_count": 4,
   "id": "f5730eeb-50d9-4981-9a4d-0ac96cb4686d",
   "metadata": {},
   "outputs": [],
   "source": [
    "def main():\n",
    "    try:\n",
    "        # Take input from the user\n",
    "        score = float(input(\"Enter the score (0-100): \"))\n",
    "        \n",
    "        # Validate input\n",
    "        if score < 0 or score > 100:\n",
    "            print(\"Score must be between 0 and 100.\")\n",
    "            return\n",
    "        \n",
    "        # Calculate and print the grade\n",
    "        grade = calculate_grade(score)\n",
    "        print(f\"The grade for a score of {score} is {grade}.\")\n",
    "    \n",
    "    except ValueError:\n",
    "        print(\"Invalid input. Please enter a numeric value.\")\n",
    "\n"
   ]
  },
  {
   "cell_type": "code",
   "execution_count": 3,
   "id": "0f4a425d-64d5-4e48-a357-eaff369a45d1",
   "metadata": {},
   "outputs": [
    {
     "name": "stdin",
     "output_type": "stream",
     "text": [
      "Enter the score (0-100):  56\n"
     ]
    },
    {
     "name": "stdout",
     "output_type": "stream",
     "text": [
      "The grade for a score of 56.0 is F.\n"
     ]
    }
   ],
   "source": [
    "\n",
    "# Run the main function\n",
    "if __name__ == \"__main__\":\n",
    "    main()\n"
   ]
  },
  {
   "cell_type": "code",
   "execution_count": null,
   "id": "0d34a7f7-2f67-40f5-87c0-77e2d103815a",
   "metadata": {},
   "outputs": [],
   "source": []
  }
 ],
 "metadata": {
  "kernelspec": {
   "display_name": "Python 3 (ipykernel)",
   "language": "python",
   "name": "python3"
  },
  "language_info": {
   "codemirror_mode": {
    "name": "ipython",
    "version": 3
   },
   "file_extension": ".py",
   "mimetype": "text/x-python",
   "name": "python",
   "nbconvert_exporter": "python",
   "pygments_lexer": "ipython3",
   "version": "3.12.4"
  }
 },
 "nbformat": 4,
 "nbformat_minor": 5
}
