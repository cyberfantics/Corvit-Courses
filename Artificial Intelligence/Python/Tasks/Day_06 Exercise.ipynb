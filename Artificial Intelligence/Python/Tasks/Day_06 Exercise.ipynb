{
 "cells": [
  {
   "cell_type": "markdown",
   "id": "d4030381-e03e-4a57-97e8-bd3f73d88b1a",
   "metadata": {},
   "source": [
    "**TASK 01:** range = 1 to 100.\n",
    "sum of even numbers. "
   ]
  },
  {
   "cell_type": "code",
   "execution_count": 2,
   "id": "4b54b4a8-3e51-4811-9a58-819a782acaa6",
   "metadata": {},
   "outputs": [
    {
     "name": "stdout",
     "output_type": "stream",
     "text": [
      "2 4 6 8 10 12 14 16 18 20 22 24 26 28 30 32 34 36 38 40 42 44 46 48 50 52 54 56 58 60 62 64 66 68 70 72 74 76 78 80 82 84 86 88 90 92 94 96 98 "
     ]
    }
   ],
   "source": [
    "for i in range(1,100):\n",
    "    if i%2==0:\n",
    "        print(i, end=\" \")"
   ]
  },
  {
   "cell_type": "code",
   "execution_count": null,
   "id": "6576b680-bcf3-4f6d-aa46-4ea9a182a4a4",
   "metadata": {},
   "outputs": [],
   "source": []
  },
  {
   "cell_type": "markdown",
   "id": "f30eaa44-7fbd-4ce2-a01a-b86c1c1a7542",
   "metadata": {},
   "source": [
    "## Task 02: Printing all letters except some using Python while loop"
   ]
  },
  {
   "cell_type": "code",
   "execution_count": 3,
   "id": "422dcb18-8945-4fad-9671-2f901cb69f63",
   "metadata": {},
   "outputs": [
    {
     "name": "stdout",
     "output_type": "stream",
     "text": [
      "Returned letter H\n",
      "Returned letter l\n",
      "Returned letter l\n"
     ]
    }
   ],
   "source": [
    "i = 0 \n",
    "word = \"Hello\"\n",
    "\n",
    "#print all letters except e and o\n",
    "\n",
    "while i < len(word):\n",
    "    if word[i] == \"e\" or word[i] ==\"o\":\n",
    "        i += 1\n",
    "        continue\n",
    "\n",
    "    print(\"Returned letter\",word[i])\n",
    "    i += 1"
   ]
  },
  {
   "cell_type": "code",
   "execution_count": null,
   "id": "d8356dac-5121-4a25-9d7d-a5b577800f94",
   "metadata": {},
   "outputs": [],
   "source": []
  },
  {
   "cell_type": "markdown",
   "id": "4f188e88-a9a9-45c5-ade6-75b232e1686b",
   "metadata": {},
   "source": [
    "## Task 03: Converting numbers from decimal to binary using while loop"
   ]
  },
  {
   "cell_type": "code",
   "execution_count": 4,
   "id": "23953cd8-9fff-4b6d-8610-70a2335656d0",
   "metadata": {},
   "outputs": [
    {
     "name": "stdin",
     "output_type": "stream",
     "text": [
      "Enter a number:  5\n"
     ]
    },
    {
     "name": "stdout",
     "output_type": "stream",
     "text": [
      "Binary value:  101\n"
     ]
    }
   ],
   "source": [
    "num = int(input(\"Enter a number: \"))\n",
    "b = 0\n",
    "p = 1\n",
    "n = num\n",
    "\n",
    "while n>0:\n",
    "    rem = n%2\n",
    "    b += rem * p\n",
    "    p = p*10\n",
    "    n = n//2\n",
    "\n",
    "print(\"Binary value: \",b)"
   ]
  },
  {
   "cell_type": "code",
   "execution_count": null,
   "id": "6386882a-45fe-4614-8045-e6e9a86de75d",
   "metadata": {},
   "outputs": [],
   "source": []
  },
  {
   "cell_type": "markdown",
   "id": "526f6445-ef31-4a2c-97ca-18a988ce9357",
   "metadata": {},
   "source": [
    "## Task 04: Finding the average of 5 numbers using while loop\n"
   ]
  },
  {
   "cell_type": "code",
   "execution_count": 5,
   "id": "2d1daafe-9c78-4a54-8fca-bca96d9e846f",
   "metadata": {},
   "outputs": [
    {
     "name": "stdin",
     "output_type": "stream",
     "text": [
      "Enter the number  5\n",
      "Enter the number  3\n",
      "Enter the number  3\n",
      "Enter the number  2\n",
      "Enter the number  1\n"
     ]
    },
    {
     "name": "stdout",
     "output_type": "stream",
     "text": [
      "Average of given Numbers: 2.8\n"
     ]
    }
   ],
   "source": [
    "p = 5\n",
    "sum = 0\n",
    "count = 0\n",
    "\n",
    "while p > 0:\n",
    "    count += 1\n",
    "    f = int(input(\"Enter the number \"))\n",
    "    sum += f\n",
    "    p -= 1\n",
    "  \n",
    "average = sum/count\n",
    "print(\"Average of given Numbers:\",average)"
   ]
  },
  {
   "cell_type": "code",
   "execution_count": null,
   "id": "b3bad7da-5851-4f60-b9bd-783607723a92",
   "metadata": {},
   "outputs": [],
   "source": []
  },
  {
   "cell_type": "markdown",
   "id": "501dc668-6fbe-467c-b2e8-c1a33857a7fa",
   "metadata": {},
   "source": [
    "## Task 05: Reversing a number using while loop in Python"
   ]
  },
  {
   "cell_type": "code",
   "execution_count": 6,
   "id": "a6981bce-6ff1-4ea1-b9ce-5d6700d9b8f8",
   "metadata": {},
   "outputs": [
    {
     "name": "stdin",
     "output_type": "stream",
     "text": [
      "Enter a number:  5\n"
     ]
    },
    {
     "name": "stdout",
     "output_type": "stream",
     "text": [
      "Reversed number: 5\n"
     ]
    }
   ],
   "source": [
    "n = int(input(\"Enter a number: \"))\n",
    "rev = 0\n",
    "\n",
    "while n!=0:\n",
    "    r = n%10\n",
    "    rev = rev * 10 + r\n",
    "    n = n//10\n",
    "    \n",
    "print(\"Reversed number:\",rev)"
   ]
  },
  {
   "cell_type": "code",
   "execution_count": null,
   "id": "5167f903-285b-4487-89ef-0685e7e12a1c",
   "metadata": {},
   "outputs": [],
   "source": []
  }
 ],
 "metadata": {
  "kernelspec": {
   "display_name": "Python 3 (ipykernel)",
   "language": "python",
   "name": "python3"
  },
  "language_info": {
   "codemirror_mode": {
    "name": "ipython",
    "version": 3
   },
   "file_extension": ".py",
   "mimetype": "text/x-python",
   "name": "python",
   "nbconvert_exporter": "python",
   "pygments_lexer": "ipython3",
   "version": "3.12.4"
  }
 },
 "nbformat": 4,
 "nbformat_minor": 5
}
