{
 "cells": [
  {
   "cell_type": "markdown",
   "id": "d0be92a5-fe8b-40c2-8a7a-52d98c5ed3e1",
   "metadata": {},
   "source": [
    "## Task\n",
    "**String Methods Exploration**\r\n",
    "Task Description:\r\n",
    "Explore Python string methods to manipulate and analyze strings. \r\n",
    "Complete the following tasks:\r\n",
    "\r\n",
    "1. Find(): Find the index of \"is\" in a given sentence.\r\n",
    "2. isalnum(): Check if a string contains only alphanumeric characters.\r\n",
    "3. isalpha(): Check if a string contains only alphabetic characters.\r\n",
    "4. islower(): Check if all characters in a string are lowercase.\r\n",
    "5. isprintable(): Check if a string is printable.\r\n",
    "6. isspace(): Check if a string contains only whitespace characters.\r\n",
    "7. istitle(): Check if a string is in title case.\r\n",
    "8. title(): Convert a string to title case.\r\n",
    "9. startswith(): Check if a string starts with a specific prefix.\r\n",
    "10. swapcase(): Swap the case of characters in a string."
   ]
  },
  {
   "cell_type": "code",
   "execution_count": 1,
   "id": "5b20f655-d8ee-421a-b8db-2cfa57740f88",
   "metadata": {},
   "outputs": [],
   "source": [
    "name = \"Sy3d M@nsoor ul Hassan Bukhari\""
   ]
  },
  {
   "cell_type": "code",
   "execution_count": 2,
   "id": "509fad99-8072-4ad3-bd42-de1060ad53d8",
   "metadata": {},
   "outputs": [
    {
     "data": {
      "text/plain": [
       "-1"
      ]
     },
     "execution_count": 2,
     "metadata": {},
     "output_type": "execute_result"
    }
   ],
   "source": [
    "# Find\n",
    "name.find(\"is\") # -1 mean index not present"
   ]
  },
  {
   "cell_type": "code",
   "execution_count": 3,
   "id": "189720f2-8f9d-4f1c-a004-6e8e0f7e919e",
   "metadata": {},
   "outputs": [
    {
     "data": {
      "text/plain": [
       "False"
      ]
     },
     "execution_count": 3,
     "metadata": {},
     "output_type": "execute_result"
    }
   ],
   "source": [
    "# is alnum()\n",
    "name.isalnum() # check if string alphanumeric"
   ]
  },
  {
   "cell_type": "code",
   "execution_count": 4,
   "id": "93a97d87-b1ac-4335-be6d-c2660f594384",
   "metadata": {},
   "outputs": [
    {
     "data": {
      "text/plain": [
       "False"
      ]
     },
     "execution_count": 4,
     "metadata": {},
     "output_type": "execute_result"
    }
   ],
   "source": [
    "# isalpha()\n",
    "name.isalpha()"
   ]
  },
  {
   "cell_type": "code",
   "execution_count": 5,
   "id": "4b727a64-5484-4587-862e-7978b74daabb",
   "metadata": {},
   "outputs": [
    {
     "data": {
      "text/plain": [
       "False"
      ]
     },
     "execution_count": 5,
     "metadata": {},
     "output_type": "execute_result"
    }
   ],
   "source": [
    "# islower()\n",
    "name.islower()"
   ]
  },
  {
   "cell_type": "code",
   "execution_count": 6,
   "id": "d00d0797-765a-40a6-925b-aab0198b1dfa",
   "metadata": {},
   "outputs": [
    {
     "data": {
      "text/plain": [
       "True"
      ]
     },
     "execution_count": 6,
     "metadata": {},
     "output_type": "execute_result"
    }
   ],
   "source": [
    "# isprintable()\n",
    "name.isprintable()"
   ]
  },
  {
   "cell_type": "code",
   "execution_count": 7,
   "id": "664bad85-6fbb-429e-a0bc-d9cf7bd921ce",
   "metadata": {},
   "outputs": [
    {
     "data": {
      "text/plain": [
       "False"
      ]
     },
     "execution_count": 7,
     "metadata": {},
     "output_type": "execute_result"
    }
   ],
   "source": [
    "# isspace\n",
    "name.isspace()"
   ]
  },
  {
   "cell_type": "code",
   "execution_count": 8,
   "id": "68e9b1ff-78f1-4766-a771-aa3278e10f88",
   "metadata": {},
   "outputs": [
    {
     "data": {
      "text/plain": [
       "False"
      ]
     },
     "execution_count": 8,
     "metadata": {},
     "output_type": "execute_result"
    }
   ],
   "source": [
    "# istitle()\n",
    "name.istitle()"
   ]
  },
  {
   "cell_type": "code",
   "execution_count": 9,
   "id": "08af14c6-4b00-49ee-9502-78103b978a21",
   "metadata": {},
   "outputs": [
    {
     "data": {
      "text/plain": [
       "True"
      ]
     },
     "execution_count": 9,
     "metadata": {},
     "output_type": "execute_result"
    }
   ],
   "source": [
    "# title\n",
    "name.title().istitle()"
   ]
  },
  {
   "cell_type": "code",
   "execution_count": 10,
   "id": "f9378b8e-963b-4534-82b8-e8e6a2b6a33f",
   "metadata": {},
   "outputs": [
    {
     "data": {
      "text/plain": [
       "False"
      ]
     },
     "execution_count": 10,
     "metadata": {},
     "output_type": "execute_result"
    }
   ],
   "source": [
    "# startswith\n",
    "name.startswith('s')"
   ]
  },
  {
   "cell_type": "code",
   "execution_count": 11,
   "id": "1c744c5d-980f-4d88-8ab5-e772be96f233",
   "metadata": {},
   "outputs": [
    {
     "data": {
      "text/plain": [
       "True"
      ]
     },
     "execution_count": 11,
     "metadata": {},
     "output_type": "execute_result"
    }
   ],
   "source": [
    "name.startswith(\"S\")"
   ]
  },
  {
   "cell_type": "code",
   "execution_count": 12,
   "id": "c9ae165e-f16b-45de-88b7-f968ca68a2c0",
   "metadata": {},
   "outputs": [
    {
     "data": {
      "text/plain": [
       "False"
      ]
     },
     "execution_count": 12,
     "metadata": {},
     "output_type": "execute_result"
    }
   ],
   "source": [
    "name.endswith('r')"
   ]
  },
  {
   "cell_type": "code",
   "execution_count": 13,
   "id": "b9aa6ee3-5977-4309-a751-e0a3e0077757",
   "metadata": {},
   "outputs": [
    {
     "data": {
      "text/plain": [
       "'sY3D m@NSOOR UL hASSAN bUKHARI'"
      ]
     },
     "execution_count": 13,
     "metadata": {},
     "output_type": "execute_result"
    }
   ],
   "source": [
    "# swapcase\n",
    "name.swapcase()"
   ]
  },
  {
   "cell_type": "code",
   "execution_count": null,
   "id": "f458c6dc-82ea-46b3-85b4-43d5c25fca34",
   "metadata": {},
   "outputs": [],
   "source": []
  }
 ],
 "metadata": {
  "kernelspec": {
   "display_name": "Python 3 (ipykernel)",
   "language": "python",
   "name": "python3"
  },
  "language_info": {
   "codemirror_mode": {
    "name": "ipython",
    "version": 3
   },
   "file_extension": ".py",
   "mimetype": "text/x-python",
   "name": "python",
   "nbconvert_exporter": "python",
   "pygments_lexer": "ipython3",
   "version": "3.12.4"
  }
 },
 "nbformat": 4,
 "nbformat_minor": 5
}
