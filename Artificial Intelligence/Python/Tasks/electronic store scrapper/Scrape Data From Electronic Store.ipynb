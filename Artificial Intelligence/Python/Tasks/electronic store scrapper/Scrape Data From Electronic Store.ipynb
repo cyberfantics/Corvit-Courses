{
 "cells": [
  {
   "cell_type": "markdown",
   "id": "fa312787-37b0-48c0-bd87-8ba519961b4a",
   "metadata": {},
   "source": [
    "# Task 04\n"
   ]
  },
  {
   "cell_type": "markdown",
   "id": "0979caef-4b4f-488e-bd71-bd062aae2f71",
   "metadata": {},
   "source": [
    "## Name : Syed Mansoor ul Hassan Bukhari\n"
   ]
  },
  {
   "cell_type": "code",
   "execution_count": null,
   "id": "0368580c-48d1-4f3e-859c-b8d0319fcd9d",
   "metadata": {},
   "outputs": [],
   "source": []
  },
  {
   "cell_type": "markdown",
   "id": "9cdbe408-66e1-4153-b4ce-00ee5c01fa25",
   "metadata": {},
   "source": [
    "### Quiz"
   ]
  },
  {
   "cell_type": "markdown",
   "id": "8b72c8a9-6e4f-4038-81ae-77debbfc5595",
   "metadata": {},
   "source": [
    "```\n",
    "1)\tRequests\n",
    "2)\tParse Html Document\n",
    "3)\tGet\n",
    "4)\tFormats the parsed html for readability\n",
    "5)\tPage not found\n",
    "6)\tKnowledge of Python Programming\n",
    "7)\tBy Changing the url structure\n",
    "8)\tYou would get 404 error\n",
    "9)\tdf.to_csv(‘filename.csv’, index=False )\n",
    "10)\tHtml.parser\n",
    "11)\tFind all elements with the specific tag or class\n",
    "12)\tThe text content of the element\n",
    "13)\tTo iterate through page until the certain condition is met\n",
    "14)\tThe  loop would continue indefinitely\n",
    "15)\tBoth (a) and (b)\n",
    "16)\tGet_text()\n",
    "17)\tThe attributes of the element\n",
    "18)\tPandas\n",
    "19)\tRemove leading and trailing whitespaces\n",
    "20)\tIdentify the html tags and structure \n",
    "```"
   ]
  },
  {
   "cell_type": "code",
   "execution_count": 1,
   "id": "0ecbaf71-14f9-4bb6-971e-93c7d399679e",
   "metadata": {},
   "outputs": [],
   "source": [
    "import requests as r\n",
    "from bs4 import BeautifulSoup\n",
    "import pandas as pd"
   ]
  },
  {
   "cell_type": "code",
   "execution_count": 2,
   "id": "b0374992-8e57-4fe9-8ead-e611eaf328fa",
   "metadata": {},
   "outputs": [],
   "source": [
    "data = []"
   ]
  },
  {
   "cell_type": "code",
   "execution_count": null,
   "id": "f408497f-c561-4172-811d-93c3a8d96def",
   "metadata": {},
   "outputs": [],
   "source": [
    "for page in range(1, 50):\n",
    "    response = r.get(f'https://hashmicameras.pk/shop/page/{str(page)}')\n",
    "    \n",
    "    # Check if the request was successful\n",
    "    if response.status_code == 200:\n",
    "        # Parse the HTML content using BeautifulSoup\n",
    "        soup = BeautifulSoup(response.content, 'html.parser')\n",
    "        \n",
    "        # Extract product information\n",
    "        products = soup.find_all('h3', class_='wd-entities-title')\n",
    "        \n",
    "        for product in products:\n",
    "            # Extract product link\n",
    "            link = product.find('a')\n",
    "            product_name = link.text.strip()\n",
    "            product_url = link['href']\n",
    "            \n",
    "            # Find the price associated with the product\n",
    "            parent_div = link.find_parent('div')  # Adjust this based on the HTML structure\n",
    "            price_bdi = parent_div.find_next('bdi') if parent_div else None\n",
    "            product_price = price_bdi.text.strip() if price_bdi else \"Price not found\"\n",
    "            \n",
    "            # Extract categories\n",
    "            categories_div = soup.find('div', class_='wd-product-cats')\n",
    "            categories = []\n",
    "            categories_url = []\n",
    "            if categories_div:\n",
    "                cat_links = categories_div.find_all('a')\n",
    "                for category in cat_links:\n",
    "                    category_name = category.text.strip()\n",
    "                    category_url = category['href']\n",
    "                    categories.append(f\"{category_name}\")\n",
    "                    categories_url.append(f\"{category_url}\")\n",
    "            else:\n",
    "                categories.append(\"No categories found.\")\n",
    "            \n",
    "            # Add product data to list\n",
    "            data.append({\n",
    "                'Product Name': product_name,\n",
    "                'Product URL': product_url,\n",
    "                'Product Price': product_price,\n",
    "                'Categories': '; '.join(categories),\n",
    "                'Categories Url': '; '.join(categories_url)\n",
    "            })\n",
    "    else:\n",
    "        print(f'Failed to retrieve the page {page}. Status code: {response.status_code}')\n",
    "        break"
   ]
  },
  {
   "cell_type": "code",
   "execution_count": null,
   "id": "53a0fbc3-5909-4f8c-b8d7-6f5fd4ab692a",
   "metadata": {},
   "outputs": [],
   "source": [
    "# Convert list of dictionaries to DataFrame\n",
    "df = pd.DataFrame(data)\n",
    "\n",
    "# Export DataFrame to CSV\n",
    "csv_file = 'products.csv'\n",
    "df.to_csv(csv_file, index=False, encoding='utf-8')\n",
    "\n",
    "print(f\"Data successfully written to {csv_file}\")"
   ]
  },
  {
   "cell_type": "code",
   "execution_count": null,
   "id": "e81f1ba6-4464-46a4-bfac-3f012d61dd02",
   "metadata": {},
   "outputs": [],
   "source": [
    "df = pd.read_csv('products.csv')"
   ]
  },
  {
   "cell_type": "code",
   "execution_count": null,
   "id": "981f982f-60a1-4cdd-b8dc-3afdc244452f",
   "metadata": {},
   "outputs": [],
   "source": [
    "df.shape"
   ]
  },
  {
   "cell_type": "code",
   "execution_count": null,
   "id": "939dfbf7-80a6-47cb-9a3a-6c2aa0412f08",
   "metadata": {},
   "outputs": [],
   "source": [
    "df.head()"
   ]
  },
  {
   "cell_type": "code",
   "execution_count": null,
   "id": "54eba3ed-e85f-4c88-9842-b48ca15ea2ab",
   "metadata": {},
   "outputs": [],
   "source": [
    "df.tail()"
   ]
  },
  {
   "cell_type": "code",
   "execution_count": null,
   "id": "63b2c022-479a-49c7-bab3-6123fb017e54",
   "metadata": {},
   "outputs": [],
   "source": []
  }
 ],
 "metadata": {
  "kernelspec": {
   "display_name": "Python 3 (ipykernel)",
   "language": "python",
   "name": "python3"
  },
  "language_info": {
   "codemirror_mode": {
    "name": "ipython",
    "version": 3
   },
   "file_extension": ".py",
   "mimetype": "text/x-python",
   "name": "python",
   "nbconvert_exporter": "python",
   "pygments_lexer": "ipython3",
   "version": "3.12.4"
  }
 },
 "nbformat": 4,
 "nbformat_minor": 5
}
