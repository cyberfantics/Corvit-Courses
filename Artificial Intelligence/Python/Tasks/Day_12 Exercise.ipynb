{
 "cells": [
  {
   "cell_type": "markdown",
   "id": "4dcd8a5f-0b2a-4248-9f23-26bcc0d54e63",
   "metadata": {},
   "source": [
    "## Code: Multiple Line reading Task...."
   ]
  },
  {
   "cell_type": "code",
   "execution_count": 1,
   "id": "787cadb7-d2af-4379-bec6-7b67eec03bb5",
   "metadata": {},
   "outputs": [],
   "source": [
    "# first i write a file with multiple line\n",
    "f = open('task.txt','w')\n",
    "f.write('Hello.\\nSalfi HAcker is here\\nFrom Cyber Fantics\\nZ-Bl4cX-H4t')\n",
    "f.close()"
   ]
  },
  {
   "cell_type": "code",
   "execution_count": 2,
   "id": "07ae4fbb-9621-4bc4-93e1-06ad691cbefe",
   "metadata": {},
   "outputs": [
    {
     "name": "stdout",
     "output_type": "stream",
     "text": [
      "['Hello.\\n', 'Salfi HAcker is here\\n', 'From Cyber Fantics\\n', 'Z-Bl4cX-H4t']\n"
     ]
    }
   ],
   "source": [
    "# For reading multiple lines we use readlines command\n",
    "f = open('task.txt','r')\n",
    "print(f.readlines())\n",
    "f.close()"
   ]
  },
  {
   "cell_type": "code",
   "execution_count": 3,
   "id": "d7df75fa-ebbb-45d0-88af-d4c60c35719c",
   "metadata": {},
   "outputs": [
    {
     "name": "stdout",
     "output_type": "stream",
     "text": [
      "Hello.\n",
      "\n",
      "Salfi HAcker is here\n",
      "\n",
      "From Cyber Fantics\n",
      "\n",
      "Z-Bl4cX-H4t\n"
     ]
    }
   ],
   "source": [
    "f = open('task.txt','r')\n",
    "# as it take all lines in a list, so we can use a for loop on it\n",
    "file = f.readlines()\n",
    "for line in file:\n",
    "    print(line)\n",
    "f.close()"
   ]
  },
  {
   "cell_type": "markdown",
   "id": "dc896d7f-968f-458d-be96-3439e1be394c",
   "metadata": {},
   "source": [
    "##### As it print extra line, b/c list also has \\n at the end, so we use print(,end=\"\")"
   ]
  },
  {
   "cell_type": "code",
   "execution_count": 4,
   "id": "f4e2276e-a585-4ea4-9eed-ca6afefb263b",
   "metadata": {},
   "outputs": [
    {
     "name": "stdout",
     "output_type": "stream",
     "text": [
      "Hello.\n",
      "Salfi HAcker is here\n",
      "From Cyber Fantics\n",
      "Z-Bl4cX-H4t"
     ]
    }
   ],
   "source": [
    "f = open('task.txt','r')\n",
    "# as it take all lines in a list, so we can use a for loop on it\n",
    "file = f.readlines()\n",
    "for line in file:\n",
    "    print(line, end='')\n",
    "f.close()"
   ]
  },
  {
   "cell_type": "code",
   "execution_count": null,
   "id": "ff161232-9d9e-4363-879b-b549bbebe751",
   "metadata": {},
   "outputs": [],
   "source": []
  },
  {
   "cell_type": "markdown",
   "id": "1deb533a-b80b-4f2c-8b86-2bedb2477b12",
   "metadata": {},
   "source": [
    "## Task: Appending the sentence...Should be in next line.\n"
   ]
  },
  {
   "cell_type": "markdown",
   "id": "faf10ad9-31f1-41f5-b0f2-3867e1aa6adf",
   "metadata": {},
   "source": [
    "'a' mode is used to append the sentence in the next line.\n",
    "till now the last line of task.txt is Z-Bl4cX-H4t  and now i append 1722 in the last\r\n"
   ]
  },
  {
   "cell_type": "code",
   "execution_count": 5,
   "id": "d3770b78-da37-4933-abdc-aefc79109c8e",
   "metadata": {},
   "outputs": [],
   "source": [
    "f = open('task.txt','a')\n",
    "f.write(\"\\n1722 Team\")\n",
    "f.close()"
   ]
  },
  {
   "cell_type": "code",
   "execution_count": 6,
   "id": "4723717b-c006-4a6a-ad52-637736f6471e",
   "metadata": {},
   "outputs": [
    {
     "name": "stdout",
     "output_type": "stream",
     "text": [
      "Hello.\n",
      "Salfi HAcker is here\n",
      "From Cyber Fantics\n",
      "Z-Bl4cX-H4t\n",
      "1722 Team"
     ]
    }
   ],
   "source": [
    "f = open('task.txt','r')\n",
    "# as it take all lines in a list, so we can use a for loop on it\n",
    "file = f.readlines()\n",
    "for line in file:\n",
    "    print(line, end='')\n",
    "f.close()"
   ]
  },
  {
   "cell_type": "code",
   "execution_count": null,
   "id": "ed898371-c1eb-4678-9b5f-49422d30952c",
   "metadata": {},
   "outputs": [],
   "source": []
  },
  {
   "cell_type": "markdown",
   "id": "a6c48bbe-e8f2-438b-a80d-98c31fa5a3e2",
   "metadata": {},
   "source": [
    "## Practice Task:\n",
    "**Create a New file \"practice.txt\" using Python. Add the \n",
    "following Data in it:**\n",
    "Hi every one\n",
    "I am the Ai, Machine Learning and deep Learning Trainer.\n",
    "I use the Java Language for my Projects.\n",
    "I like programming in Java.\n",
    "\n",
    "Write a function that replace all the occurences of \"Java\" \n",
    "with \"Python\" \n",
    "in the above file.\n",
    "Search if the word \"Projects\" exists in the file or not."
   ]
  },
  {
   "cell_type": "code",
   "execution_count": 7,
   "id": "d0ffc395-5dd6-45d6-ab08-6ff423555e99",
   "metadata": {},
   "outputs": [],
   "source": [
    "def writeFile(filename, mode, text):\n",
    "    with open(filename, mode) as f:\n",
    "        f.write(text)"
   ]
  },
  {
   "cell_type": "code",
   "execution_count": null,
   "id": "bbf219ce-be54-4ed7-bed4-10c68d25e990",
   "metadata": {},
   "outputs": [],
   "source": []
  },
  {
   "cell_type": "code",
   "execution_count": 8,
   "id": "c5eb1c08-1a01-44e5-9c2f-b7f3ccd35395",
   "metadata": {},
   "outputs": [],
   "source": [
    "def readFile(filename):\n",
    "    with open(filename,'r') as f:\n",
    "        return f.read()"
   ]
  },
  {
   "cell_type": "code",
   "execution_count": 9,
   "id": "3ef7bd97-02f7-4397-8ead-30db0cbfb0b5",
   "metadata": {},
   "outputs": [],
   "source": [
    "def replaceOcurance(fileName, original, replaced):\n",
    "    file = readFile(fileName)\n",
    "    file = file.replace(original.lower(), replaced)\n",
    "    with open(fileName, 'w') as w:\n",
    "        w.write(file)\n"
   ]
  },
  {
   "cell_type": "code",
   "execution_count": 10,
   "id": "d3388fcf-4191-4f47-998a-60ddd7a1f959",
   "metadata": {},
   "outputs": [],
   "source": [
    "def findStringInFile(fileName, search):\n",
    "    text = readFile(fileName)\n",
    "    return True if search.lower() in text.lower() else False"
   ]
  },
  {
   "cell_type": "code",
   "execution_count": 11,
   "id": "5b0ab1f2-be51-4d0e-ae2f-1734efdcdd03",
   "metadata": {},
   "outputs": [],
   "source": [
    "fileName = 'practice.txt'\n",
    "text = \"Hi every one I am the Ai, Machine Learning and deep Learning Trainer. I use the Java Language for my Projects. I like programming in Java.\""
   ]
  },
  {
   "cell_type": "code",
   "execution_count": 12,
   "id": "af15b75d-4859-4210-b56c-ad62ec51075f",
   "metadata": {},
   "outputs": [
    {
     "data": {
      "text/plain": [
       "'Hi everyone I am the Ai, Machine Learning and Deep Learning Trainer, I use the Python Language for my Projects. I like Programming in Python'"
      ]
     },
     "execution_count": 12,
     "metadata": {},
     "output_type": "execute_result"
    }
   ],
   "source": [
    "readFile(fileName)"
   ]
  },
  {
   "cell_type": "code",
   "execution_count": 13,
   "id": "1fa3ac83-bdaa-4ee4-9fe7-b5d808548be6",
   "metadata": {},
   "outputs": [],
   "source": [
    "replaceOcurance(fileName, \"Java\", \"Python\")"
   ]
  },
  {
   "cell_type": "code",
   "execution_count": 14,
   "id": "e31fd78c-a3b2-4596-b4f4-dec3eb6ae060",
   "metadata": {},
   "outputs": [
    {
     "data": {
      "text/plain": [
       "'Hi everyone I am the Ai, Machine Learning and Deep Learning Trainer, I use the Python Language for my Projects. I like Programming in Python'"
      ]
     },
     "execution_count": 14,
     "metadata": {},
     "output_type": "execute_result"
    }
   ],
   "source": [
    "readFile(fileName)"
   ]
  },
  {
   "cell_type": "code",
   "execution_count": 16,
   "id": "aedae1ee-0a1e-450d-baac-7c8ae24512be",
   "metadata": {},
   "outputs": [
    {
     "data": {
      "text/plain": [
       "True"
      ]
     },
     "execution_count": 16,
     "metadata": {},
     "output_type": "execute_result"
    }
   ],
   "source": [
    "findStringInFile(fileName, \"Project\")"
   ]
  },
  {
   "cell_type": "code",
   "execution_count": 17,
   "id": "946e9e20-c7f7-43f8-99d2-584005f1019e",
   "metadata": {},
   "outputs": [
    {
     "data": {
      "text/plain": [
       "True"
      ]
     },
     "execution_count": 17,
     "metadata": {},
     "output_type": "execute_result"
    }
   ],
   "source": [
    "findStringInFile(fileName, \"Projects\")"
   ]
  },
  {
   "cell_type": "code",
   "execution_count": 18,
   "id": "5d978a5f-75ff-4f59-b258-1ad8e07b29ed",
   "metadata": {},
   "outputs": [
    {
     "data": {
      "text/plain": [
       "False"
      ]
     },
     "execution_count": 18,
     "metadata": {},
     "output_type": "execute_result"
    }
   ],
   "source": [
    "findStringInFile(fileName, \"Mansoor\")"
   ]
  },
  {
   "cell_type": "code",
   "execution_count": null,
   "id": "b1561e16-1373-435f-9b48-2a92d594544c",
   "metadata": {},
   "outputs": [],
   "source": []
  }
 ],
 "metadata": {
  "kernelspec": {
   "display_name": "Python 3 (ipykernel)",
   "language": "python",
   "name": "python3"
  },
  "language_info": {
   "codemirror_mode": {
    "name": "ipython",
    "version": 3
   },
   "file_extension": ".py",
   "mimetype": "text/x-python",
   "name": "python",
   "nbconvert_exporter": "python",
   "pygments_lexer": "ipython3",
   "version": "3.12.4"
  }
 },
 "nbformat": 4,
 "nbformat_minor": 5
}
