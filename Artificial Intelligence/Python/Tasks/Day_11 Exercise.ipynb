{
 "cells": [
  {
   "cell_type": "markdown",
   "id": "98c6c477-28ee-4f6b-9a05-4a5c1aa9a5ff",
   "metadata": {},
   "source": [
    "```Task: Class Define:```\n",
    "Calculation:\n",
    "int value, float value, string value, Boolean type.\n",
    "print by using object.\n",
    "and also print the data type of the values."
   ]
  },
  {
   "cell_type": "code",
   "execution_count": 1,
   "id": "b162f99c-579a-4ca8-b877-69c555b57f2e",
   "metadata": {},
   "outputs": [],
   "source": [
    "class Calculation():\n",
    "    a = 1\n",
    "    b = 2.3\n",
    "    c = True\n",
    "    d = 'Mansoor'"
   ]
  },
  {
   "cell_type": "code",
   "execution_count": 2,
   "id": "fae0b295-e6e5-493a-bb79-da6437fae901",
   "metadata": {},
   "outputs": [],
   "source": [
    "c = Calculation()"
   ]
  },
  {
   "cell_type": "code",
   "execution_count": 3,
   "id": "b1bd7c22-0438-48d4-ab89-788d8de17cd6",
   "metadata": {},
   "outputs": [
    {
     "data": {
      "text/plain": [
       "1"
      ]
     },
     "execution_count": 3,
     "metadata": {},
     "output_type": "execute_result"
    }
   ],
   "source": [
    "c.a"
   ]
  },
  {
   "cell_type": "code",
   "execution_count": 5,
   "id": "c11bdb4f-92da-4291-a35e-978b62ae092a",
   "metadata": {},
   "outputs": [
    {
     "data": {
      "text/plain": [
       "int"
      ]
     },
     "execution_count": 5,
     "metadata": {},
     "output_type": "execute_result"
    }
   ],
   "source": [
    "type(c.a)"
   ]
  },
  {
   "cell_type": "code",
   "execution_count": null,
   "id": "89d2ac70-6306-41b2-a0ff-6a355d8c6c6d",
   "metadata": {},
   "outputs": [],
   "source": []
  },
  {
   "cell_type": "code",
   "execution_count": 6,
   "id": "34a55e85-cba9-49b3-a9b8-192c351706e4",
   "metadata": {},
   "outputs": [
    {
     "data": {
      "text/plain": [
       "2.3"
      ]
     },
     "execution_count": 6,
     "metadata": {},
     "output_type": "execute_result"
    }
   ],
   "source": [
    "c.b"
   ]
  },
  {
   "cell_type": "code",
   "execution_count": 7,
   "id": "b140c147-8054-4879-88e4-9dcc21716de9",
   "metadata": {},
   "outputs": [
    {
     "data": {
      "text/plain": [
       "float"
      ]
     },
     "execution_count": 7,
     "metadata": {},
     "output_type": "execute_result"
    }
   ],
   "source": [
    "type(c.b)"
   ]
  },
  {
   "cell_type": "code",
   "execution_count": null,
   "id": "9700b18f-14de-4159-99a3-5b85693cd15c",
   "metadata": {},
   "outputs": [],
   "source": []
  },
  {
   "cell_type": "code",
   "execution_count": 8,
   "id": "cd16e6e0-1fcd-47d3-9933-2164ba04feb6",
   "metadata": {},
   "outputs": [
    {
     "data": {
      "text/plain": [
       "True"
      ]
     },
     "execution_count": 8,
     "metadata": {},
     "output_type": "execute_result"
    }
   ],
   "source": [
    "c.c"
   ]
  },
  {
   "cell_type": "code",
   "execution_count": 9,
   "id": "55c26bb5-2f68-445f-ba3e-c457e608db9a",
   "metadata": {},
   "outputs": [
    {
     "data": {
      "text/plain": [
       "bool"
      ]
     },
     "execution_count": 9,
     "metadata": {},
     "output_type": "execute_result"
    }
   ],
   "source": [
    "type(c.c)"
   ]
  },
  {
   "cell_type": "code",
   "execution_count": null,
   "id": "a35d73d9-6816-4eeb-92d1-29e604fe0198",
   "metadata": {},
   "outputs": [],
   "source": []
  },
  {
   "cell_type": "code",
   "execution_count": 10,
   "id": "fc2a03a4-c37c-482c-963f-dd3d4dd518c4",
   "metadata": {},
   "outputs": [
    {
     "data": {
      "text/plain": [
       "'Mansoor'"
      ]
     },
     "execution_count": 10,
     "metadata": {},
     "output_type": "execute_result"
    }
   ],
   "source": [
    "c.d"
   ]
  },
  {
   "cell_type": "code",
   "execution_count": 11,
   "id": "99a2ddcc-4933-4971-bf77-bb6d31c1b1d8",
   "metadata": {},
   "outputs": [
    {
     "data": {
      "text/plain": [
       "str"
      ]
     },
     "execution_count": 11,
     "metadata": {},
     "output_type": "execute_result"
    }
   ],
   "source": [
    "type(c.d)"
   ]
  },
  {
   "cell_type": "code",
   "execution_count": null,
   "id": "1c57b563-66c1-49dd-a821-b61f88ee078d",
   "metadata": {},
   "outputs": [],
   "source": []
  },
  {
   "cell_type": "markdown",
   "id": "ab675a65-3065-4f47-94b9-88a4441f3b1a",
   "metadata": {},
   "source": [
    "## TASK:Task: Create a Class for a Basic Calculator\r\n",
    "\r\n",
    "Instructions:\r\n",
    "\r\n",
    "Create a class called Calculator.\r\n",
    "Define methods within the class for addition, \r\n",
    "subtraction, \r\n",
    "multiplication, and division operations.\r\n",
    "Test your class by creating instances and \r\n",
    "performing operations on them.\r\n"
   ]
  },
  {
   "cell_type": "code",
   "execution_count": 12,
   "id": "42d8f691-3869-403a-b925-e366af3a6eae",
   "metadata": {},
   "outputs": [],
   "source": [
    "class Calculator:\n",
    "\n",
    "    def __init__(self, num1, num2):\n",
    "        self.num1 = num1\n",
    "        self.num2 = num2\n",
    "\n",
    "    def add(self):\n",
    "        return self.num1+self.num2\n",
    "        \n",
    "    def sub(self):\n",
    "        return self.num1-self.num2\n",
    "    \n",
    "    def mul(self):\n",
    "        return self.num1*self.num2\n",
    "\n",
    "    def div(self):\n",
    "        return self.num1/self.num2\n",
    "    \n",
    "    def pow(self):\n",
    "        return self.num1**self.num2\n",
    "    \n",
    "    def mod(self):\n",
    "        return self.num1%self.num2"
   ]
  },
  {
   "cell_type": "code",
   "execution_count": 13,
   "id": "755735e7-5cbb-4dd9-83cb-32931721b21b",
   "metadata": {},
   "outputs": [],
   "source": [
    "c = Calculator(54, 76)"
   ]
  },
  {
   "cell_type": "code",
   "execution_count": 14,
   "id": "ebe05539-88d7-487a-81ba-aea8b6974711",
   "metadata": {},
   "outputs": [
    {
     "data": {
      "text/plain": [
       "130"
      ]
     },
     "execution_count": 14,
     "metadata": {},
     "output_type": "execute_result"
    }
   ],
   "source": [
    "c.add()"
   ]
  },
  {
   "cell_type": "code",
   "execution_count": 15,
   "id": "79736ca1-e040-446f-8734-e3c746c46fbd",
   "metadata": {},
   "outputs": [
    {
     "data": {
      "text/plain": [
       "-22"
      ]
     },
     "execution_count": 15,
     "metadata": {},
     "output_type": "execute_result"
    }
   ],
   "source": [
    "c.sub()"
   ]
  },
  {
   "cell_type": "code",
   "execution_count": 16,
   "id": "94e4c331-d5e0-444f-a983-42cce1b899c4",
   "metadata": {},
   "outputs": [
    {
     "data": {
      "text/plain": [
       "4104"
      ]
     },
     "execution_count": 16,
     "metadata": {},
     "output_type": "execute_result"
    }
   ],
   "source": [
    "c.mul()"
   ]
  },
  {
   "cell_type": "code",
   "execution_count": 17,
   "id": "41d6f267-1792-45fa-86cd-9f3c8e58adf3",
   "metadata": {},
   "outputs": [
    {
     "data": {
      "text/plain": [
       "0.7105263157894737"
      ]
     },
     "execution_count": 17,
     "metadata": {},
     "output_type": "execute_result"
    }
   ],
   "source": [
    "c.div()"
   ]
  },
  {
   "cell_type": "code",
   "execution_count": 18,
   "id": "8b64624f-a588-4fa5-b4a4-d17da03e21ea",
   "metadata": {},
   "outputs": [
    {
     "data": {
      "text/plain": [
       "459119508215185159231778758047774407892472843988282752525674368417715513697831867434583260125954602592163567635638773748349792157696"
      ]
     },
     "execution_count": 18,
     "metadata": {},
     "output_type": "execute_result"
    }
   ],
   "source": [
    "c.pow()"
   ]
  },
  {
   "cell_type": "code",
   "execution_count": 19,
   "id": "14c6147b-4674-4722-89d3-083a186f3f46",
   "metadata": {},
   "outputs": [
    {
     "data": {
      "text/plain": [
       "54"
      ]
     },
     "execution_count": 19,
     "metadata": {},
     "output_type": "execute_result"
    }
   ],
   "source": [
    "c.mod()"
   ]
  },
  {
   "cell_type": "code",
   "execution_count": null,
   "id": "f8d09db9-ddb9-417b-a00f-85e639048c17",
   "metadata": {},
   "outputs": [],
   "source": []
  },
  {
   "cell_type": "code",
   "execution_count": null,
   "id": "6a846591-f9ed-4767-a608-eb3f8cfa69df",
   "metadata": {},
   "outputs": [],
   "source": []
  },
  {
   "cell_type": "code",
   "execution_count": 20,
   "id": "23af018d-b314-4ae2-8796-82b36d6c9f40",
   "metadata": {},
   "outputs": [
    {
     "name": "stdout",
     "output_type": "stream",
     "text": [
      "Addition: 8\n",
      "Subtraction: 6\n",
      "Multiplication: 14\n",
      "Division: 4.0\n"
     ]
    }
   ],
   "source": [
    "class Calculator:\n",
    "    def add(self, num1, num2):\n",
    "        return num1 + num2\n",
    "    \n",
    "    def subtract(self, num1, num2):\n",
    "        return num1 - num2\n",
    "    \n",
    "    def multiply(self, num1, num2):\n",
    "        return num1 * num2\n",
    "    \n",
    "    def divide(self, num1, num2):\n",
    "        if num2 != 0:\n",
    "            return num1 / num2\n",
    "        else:\n",
    "            return \"Error: Division by zero is undefined\"\n",
    "\n",
    "# Testing the Calculator class\n",
    "calculator = Calculator()\n",
    "\n",
    "# Perform addition operation\n",
    "result_addition = calculator.add(5, 3)\n",
    "print(\"Addition:\", result_addition)\n",
    "\n",
    "# Perform subtraction operation\n",
    "result_subtraction = calculator.subtract(10, 4)\n",
    "print(\"Subtraction:\", result_subtraction)\n",
    "\n",
    "# Perform multiplication operation\n",
    "result_multiplication = calculator.multiply(7, 2)\n",
    "print(\"Multiplication:\", result_multiplication)\n",
    "\n",
    "# Perform division operation\n",
    "result_division = calculator.divide(20, 5)\n",
    "print(\"Division:\", result_division)\n",
    "\n"
   ]
  },
  {
   "cell_type": "code",
   "execution_count": null,
   "id": "5b13549b-d917-4b2f-8aa4-1187f04b99bf",
   "metadata": {},
   "outputs": [],
   "source": []
  }
 ],
 "metadata": {
  "kernelspec": {
   "display_name": "Python 3 (ipykernel)",
   "language": "python",
   "name": "python3"
  },
  "language_info": {
   "codemirror_mode": {
    "name": "ipython",
    "version": 3
   },
   "file_extension": ".py",
   "mimetype": "text/x-python",
   "name": "python",
   "nbconvert_exporter": "python",
   "pygments_lexer": "ipython3",
   "version": "3.12.4"
  }
 },
 "nbformat": 4,
 "nbformat_minor": 5
}
