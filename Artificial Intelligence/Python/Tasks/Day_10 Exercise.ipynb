{
 "cells": [
  {
   "cell_type": "markdown",
   "id": "e9abc561-1aa8-4baa-9622-07182a938f64",
   "metadata": {},
   "source": [
    "## Task 01: Create two dictionaries, and merge them into single dictionary"
   ]
  },
  {
   "cell_type": "code",
   "execution_count": 1,
   "id": "d25c8901-2f15-4c1c-a8b1-f065b0c4bd57",
   "metadata": {},
   "outputs": [],
   "source": [
    "dict1 = {\n",
    "        'name':'Mansoor',\n",
    "         'age':21\n",
    "        }\n",
    "\n",
    "dict2 = {\n",
    "    'course':\"AI\"\n",
    "}"
   ]
  },
  {
   "cell_type": "code",
   "execution_count": 2,
   "id": "5c1b1135-40c6-45e9-8e06-e16aacba822d",
   "metadata": {},
   "outputs": [],
   "source": [
    "merged_dict = dict1 | dict2"
   ]
  },
  {
   "cell_type": "code",
   "execution_count": 3,
   "id": "966847d8-3a89-42b5-a1c1-d3307406ddc6",
   "metadata": {},
   "outputs": [
    {
     "data": {
      "text/plain": [
       "{'name': 'Mansoor', 'age': 21, 'course': 'AI'}"
      ]
     },
     "execution_count": 3,
     "metadata": {},
     "output_type": "execute_result"
    }
   ],
   "source": [
    "merged_dict"
   ]
  },
  {
   "cell_type": "code",
   "execution_count": null,
   "id": "09dd6be6-3a9c-43ad-99bb-b5a0290dc755",
   "metadata": {},
   "outputs": [],
   "source": []
  },
  {
   "cell_type": "markdown",
   "id": "ab37cd20-9cbd-4d53-a550-8f519aae6619",
   "metadata": {},
   "source": [
    "## 2. Create a dictionary to store information \n",
    "about a person (name, age, address). \n",
    "Add a new  key value pair to an existing \n",
    "dictionary."
   ]
  },
  {
   "cell_type": "code",
   "execution_count": 4,
   "id": "e1293a68-76de-4c93-85a7-f448242c222d",
   "metadata": {},
   "outputs": [],
   "source": [
    "person = {\n",
    "    'name':\"Mansooor\",\n",
    "    'age':21,\n",
    "    'address':\"Kahuta\"\n",
    "}"
   ]
  },
  {
   "cell_type": "code",
   "execution_count": 5,
   "id": "6fec0659-1bc3-4e64-a328-30c69764abc1",
   "metadata": {},
   "outputs": [],
   "source": [
    "person['course'] = \"Artificial Intelligence\""
   ]
  },
  {
   "cell_type": "code",
   "execution_count": 6,
   "id": "dc35d35e-0ed8-4093-87d6-e2960ace41b5",
   "metadata": {},
   "outputs": [
    {
     "data": {
      "text/plain": [
       "{'name': 'Mansooor',\n",
       " 'age': 21,\n",
       " 'address': 'Kahuta',\n",
       " 'course': 'Artificial Intelligence'}"
      ]
     },
     "execution_count": 6,
     "metadata": {},
     "output_type": "execute_result"
    }
   ],
   "source": [
    "person"
   ]
  },
  {
   "cell_type": "code",
   "execution_count": null,
   "id": "3926155e-73f4-455e-ac7c-06c7195c8279",
   "metadata": {},
   "outputs": [],
   "source": []
  }
 ],
 "metadata": {
  "kernelspec": {
   "display_name": "Python 3 (ipykernel)",
   "language": "python",
   "name": "python3"
  },
  "language_info": {
   "codemirror_mode": {
    "name": "ipython",
    "version": 3
   },
   "file_extension": ".py",
   "mimetype": "text/x-python",
   "name": "python",
   "nbconvert_exporter": "python",
   "pygments_lexer": "ipython3",
   "version": "3.12.4"
  }
 },
 "nbformat": 4,
 "nbformat_minor": 5
}
