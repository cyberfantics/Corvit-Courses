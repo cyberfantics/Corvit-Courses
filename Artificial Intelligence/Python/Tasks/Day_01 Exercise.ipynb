{
 "cells": [
  {
   "cell_type": "markdown",
   "id": "0aad0222",
   "metadata": {},
   "source": [
    "## `AI Course Day 01 Tasks`\n",
    "## `Syed Mansoor ul Hassan Bukhari`"
   ]
  },
  {
   "cell_type": "code",
   "execution_count": null,
   "id": "1c6cd288",
   "metadata": {},
   "outputs": [],
   "source": []
  },
  {
   "cell_type": "markdown",
   "id": "57b3bf53",
   "metadata": {},
   "source": [
    "### Task 01 : Add Two Complex Numbers"
   ]
  },
  {
   "cell_type": "code",
   "execution_count": 1,
   "id": "5508d665",
   "metadata": {},
   "outputs": [],
   "source": [
    "a = 3 + 2j\n",
    "b = 7 + 23j"
   ]
  },
  {
   "cell_type": "code",
   "execution_count": 2,
   "id": "56632938",
   "metadata": {},
   "outputs": [],
   "source": [
    "c = a + b"
   ]
  },
  {
   "cell_type": "code",
   "execution_count": 3,
   "id": "1702e02b",
   "metadata": {},
   "outputs": [
    {
     "name": "stdout",
     "output_type": "stream",
     "text": [
      "(10+25j)\n"
     ]
    }
   ],
   "source": [
    "print(c)"
   ]
  },
  {
   "cell_type": "code",
   "execution_count": null,
   "id": "ab43bf37",
   "metadata": {},
   "outputs": [],
   "source": []
  },
  {
   "cell_type": "markdown",
   "id": "6fd7be5e",
   "metadata": {},
   "source": [
    "## Task 02 : Built a calculator"
   ]
  },
  {
   "cell_type": "code",
   "execution_count": 5,
   "id": "cee2701d",
   "metadata": {},
   "outputs": [
    {
     "name": "stdout",
     "output_type": "stream",
     "text": [
      "Enter Value Of Num1: 5\n",
      "Enter Value Of Num2: 6\n",
      "Enter Operator *\n",
      "5 * 6 = 30\n"
     ]
    }
   ],
   "source": [
    "num1 = int(input(\"Enter Value Of Num1: \"))\n",
    "num2 = int(input(\"Enter Value Of Num2: \"))\n",
    "oper = input(\"Enter Operator \")\n",
    "\n",
    "if oper == '+':\n",
    "    print(num1, '+', num2, '=', num1+num2)\n",
    "\n",
    "elif oper == '-':\n",
    "    print(num1, '-', num2, '=', num1-num2)\n",
    "\n",
    "elif oper == '*':\n",
    "    print(num1, '*', num2, '=', num1*num2)\n",
    "\n",
    "elif oper == '/':\n",
    "    print(num1, '/', num2, '=', num1/num2)\n",
    "\n",
    "elif oper == '**':\n",
    "    print(num1, '**', num2, '=', num1**num2)\n"
   ]
  },
  {
   "cell_type": "code",
   "execution_count": null,
   "id": "d72c950d",
   "metadata": {},
   "outputs": [],
   "source": []
  },
  {
   "cell_type": "code",
   "execution_count": null,
   "id": "b217b12e",
   "metadata": {},
   "outputs": [],
   "source": []
  }
 ],
 "metadata": {
  "kernelspec": {
   "display_name": "Python 3 (ipykernel)",
   "language": "python",
   "name": "python3"
  },
  "language_info": {
   "codemirror_mode": {
    "name": "ipython",
    "version": 3
   },
   "file_extension": ".py",
   "mimetype": "text/x-python",
   "name": "python",
   "nbconvert_exporter": "python",
   "pygments_lexer": "ipython3",
   "version": "3.9.13"
  }
 },
 "nbformat": 4,
 "nbformat_minor": 5
}
