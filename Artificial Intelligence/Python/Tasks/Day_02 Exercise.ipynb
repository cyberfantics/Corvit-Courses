{
 "cells": [
  {
   "cell_type": "markdown",
   "id": "a15facb1",
   "metadata": {},
   "source": [
    "## Task 01: Add the two values in which one value is floating and other value is integer type. the input should be taken from user."
   ]
  },
  {
   "cell_type": "code",
   "execution_count": 1,
   "id": "7753999d",
   "metadata": {},
   "outputs": [
    {
     "name": "stdout",
     "output_type": "stream",
     "text": [
      "Enter Int Data Type Value 4\n",
      "Enter Float Data Type Value 43.324\n",
      "Sum of 4 + 43.324 = 47.324\n"
     ]
    }
   ],
   "source": [
    "a = int(input(\"Enter Int Data Type Value \"))\n",
    "b = float(input(\"Enter Float Data Type Value \"))\n",
    "print(f'Sum of {a} + {b} = {a+b}')"
   ]
  },
  {
   "cell_type": "code",
   "execution_count": null,
   "id": "9888f882",
   "metadata": {},
   "outputs": [],
   "source": []
  },
  {
   "cell_type": "markdown",
   "id": "bf16b2f7",
   "metadata": {},
   "source": [
    "## Task 02: WHat will be the output of the following line of code:\n",
    "**name = \"Muhammad\"</br>\n",
    "print(name[-6:-1])**\n",
    "\n",
    "**It's Output is `hamma`**"
   ]
  },
  {
   "cell_type": "code",
   "execution_count": 2,
   "id": "f7b4e79c",
   "metadata": {},
   "outputs": [
    {
     "name": "stdout",
     "output_type": "stream",
     "text": [
      "hamma\n"
     ]
    }
   ],
   "source": [
    "name = \"Muhammad\"\n",
    "print(name[-6:-1])"
   ]
  },
  {
   "cell_type": "code",
   "execution_count": null,
   "id": "530c181d",
   "metadata": {},
   "outputs": [],
   "source": []
  },
  {
   "cell_type": "markdown",
   "id": "df43a7f0",
   "metadata": {},
   "source": [
    "## Task 03: String Manipulation Challenge\n",
    "\n",
    "**Description:**\n",
    "</br>You are given a string sentence. \n",
    "</br>Your task is to write a Python program to perform the following operations:\n",
    "</br>\n",
    "</br>-Count the number of characters (including spaces) in the sentence.\n",
    "</br>-Count the number of words in the sentence.\n",
    "</br>-Convert the sentence to uppercase.\n",
    "</br>-Convert the sentence to lowercase.\n",
    "</br>-Print the sentence in reverse order.\n"
   ]
  },
  {
   "cell_type": "code",
   "execution_count": 3,
   "id": "cbbc85a0",
   "metadata": {},
   "outputs": [],
   "source": [
    "name = \"Syed Mansoor ul Hassan Bukhari\""
   ]
  },
  {
   "cell_type": "code",
   "execution_count": 4,
   "id": "1efea491",
   "metadata": {},
   "outputs": [
    {
     "name": "stdout",
     "output_type": "stream",
     "text": [
      "Number of char in string: Syed Mansoor ul Hassan Bukhari is 30\n"
     ]
    }
   ],
   "source": [
    "# Count number of character including space in sentence\n",
    "print(f'Number of char in string: {name} is {len(name)}')"
   ]
  },
  {
   "cell_type": "code",
   "execution_count": 5,
   "id": "c5405d5e",
   "metadata": {},
   "outputs": [
    {
     "name": "stdout",
     "output_type": "stream",
     "text": [
      "Number of char in string: Syed Mansoor ul Hassan Bukhari is 30\n"
     ]
    }
   ],
   "source": [
    "# 2nd Method\n",
    "count = 0\n",
    "for char in name:\n",
    "    count +=1\n",
    "\n",
    "\n",
    "print(f'Number of char in string: {name} is {count}')"
   ]
  },
  {
   "cell_type": "markdown",
   "id": "49d2acad",
   "metadata": {},
   "source": [
    "**Quick Note:** In this we use two methods, in first we use built in function len() while in second one we itrate and increace count till end."
   ]
  },
  {
   "cell_type": "code",
   "execution_count": null,
   "id": "244aff17",
   "metadata": {},
   "outputs": [],
   "source": []
  },
  {
   "cell_type": "code",
   "execution_count": 6,
   "id": "d8ec5481",
   "metadata": {},
   "outputs": [
    {
     "name": "stdout",
     "output_type": "stream",
     "text": [
      "Number of words in string: Bukhari is 5\n"
     ]
    }
   ],
   "source": [
    "# Count the number of words in sentence\n",
    "\n",
    "# First we split words on the basis of spaces, but we do it in another var, b/c for other tasks we need to perform more operation\n",
    "\n",
    "name2 = name.split(\" \") # It take list of words\n",
    "count = 0 # Start counting words in name from 0\n",
    "for word in name2: #Loop through words\n",
    "    count += 1\n",
    "\n",
    "\n",
    "print(f'Number of words in string: {word} is {count}')"
   ]
  },
  {
   "cell_type": "code",
   "execution_count": null,
   "id": "5407946d",
   "metadata": {},
   "outputs": [],
   "source": []
  },
  {
   "cell_type": "code",
   "execution_count": 7,
   "id": "ff5832e1",
   "metadata": {},
   "outputs": [
    {
     "name": "stdout",
     "output_type": "stream",
     "text": [
      "SYED MANSOOR UL HASSAN BUKHARI\n"
     ]
    }
   ],
   "source": [
    "# Convert the sentence into upper case\n",
    "\n",
    "# We use a builtin method .upper()\n",
    "print(name.upper())"
   ]
  },
  {
   "cell_type": "code",
   "execution_count": null,
   "id": "f09d2b78",
   "metadata": {},
   "outputs": [],
   "source": []
  },
  {
   "cell_type": "code",
   "execution_count": 8,
   "id": "341e8c25",
   "metadata": {},
   "outputs": [
    {
     "name": "stdout",
     "output_type": "stream",
     "text": [
      "syed mansoor ul hassan bukhari\n"
     ]
    }
   ],
   "source": [
    "# Convert the name into lower case\n",
    "\n",
    "# We can use a builtin method .lower()\n",
    "print(name.lower())"
   ]
  },
  {
   "cell_type": "code",
   "execution_count": null,
   "id": "6402f650",
   "metadata": {},
   "outputs": [],
   "source": []
  },
  {
   "cell_type": "code",
   "execution_count": 9,
   "id": "386d6310",
   "metadata": {},
   "outputs": [
    {
     "name": "stdout",
     "output_type": "stream",
     "text": [
      "irahkuB nassaH lu roosnaM deyS\n"
     ]
    }
   ],
   "source": [
    "# Print the string in reverse order\n",
    "print(name[::-1])"
   ]
  },
  {
   "cell_type": "code",
   "execution_count": null,
   "id": "3e6bc5dc",
   "metadata": {},
   "outputs": [],
   "source": []
  }
 ],
 "metadata": {
  "kernelspec": {
   "display_name": "Python 3 (ipykernel)",
   "language": "python",
   "name": "python3"
  },
  "language_info": {
   "codemirror_mode": {
    "name": "ipython",
    "version": 3
   },
   "file_extension": ".py",
   "mimetype": "text/x-python",
   "name": "python",
   "nbconvert_exporter": "python",
   "pygments_lexer": "ipython3",
   "version": "3.9.13"
  }
 },
 "nbformat": 4,
 "nbformat_minor": 5
}
