{
 "cells": [
  {
   "cell_type": "markdown",
   "id": "9a04bc4e",
   "metadata": {},
   "source": [
    "### Task 01: Create a Python code that capable of greeting you with Good Morning, Good Evening and Good After Noon.Your Program should use time Module to get the current Hour.\n"
   ]
  },
  {
   "cell_type": "code",
   "execution_count": 2,
   "id": "fa858ce9",
   "metadata": {},
   "outputs": [],
   "source": [
    "from datetime import datetime"
   ]
  },
  {
   "cell_type": "code",
   "execution_count": 3,
   "id": "bd14feb2",
   "metadata": {},
   "outputs": [],
   "source": [
    "currentTime = datetime.now() # Current DateTime"
   ]
  },
  {
   "cell_type": "code",
   "execution_count": 4,
   "id": "aa354445",
   "metadata": {},
   "outputs": [
    {
     "name": "stdout",
     "output_type": "stream",
     "text": [
      "Good afternoon!\n"
     ]
    }
   ],
   "source": [
    "if currentTime.hour < 12: # If hour is less than 12 its morning time\n",
    "    print('Good morning!')\n",
    "elif 12 <= currentTime.hour < 18: # If it is b/w 12 and 6 its afternoon\n",
    "    print('Good afternoon!')\n",
    "else: # Otherwise its evening\n",
    "    print('Good evening!')\n"
   ]
  },
  {
   "cell_type": "code",
   "execution_count": null,
   "id": "762f7e03",
   "metadata": {},
   "outputs": [],
   "source": []
  },
  {
   "cell_type": "markdown",
   "id": "cae2db71",
   "metadata": {},
   "source": [
    "## Task 02 : Make a code for printing the result of the Student by taking the input float value from the user.and the result should contain the grades from A to F."
   ]
  },
  {
   "cell_type": "code",
   "execution_count": 8,
   "id": "52a9c710",
   "metadata": {},
   "outputs": [
    {
     "name": "stdout",
     "output_type": "stream",
     "text": [
      "Enter Marks: 43\n",
      "Student Scored E Grade.\n"
     ]
    }
   ],
   "source": [
    "marks = float(input(\"Enter Marks: \"))\n",
    "grade = ''\n",
    "\n",
    "if marks <= 100 and marks >= 80:\n",
    "    grade = 'A'\n",
    "\n",
    "elif marks <= 79 and marks >= 70:\n",
    "    grade = 'B'\n",
    "\n",
    "elif marks <= 69 and marks >= 60:\n",
    "    grade = 'C'\n",
    "\n",
    "elif marks <= 59 and marks >= 50:\n",
    "    grade = 'D'\n",
    "\n",
    "elif marks <= 49 and marks >= 40:\n",
    "    grade = 'E'\n",
    "\n",
    "elif marks < 40:\n",
    "    grade = 'F'\n",
    "\n",
    "else:\n",
    "    grade = 'Invalid'\n",
    "\n",
    "if grade != 'Invalid':\n",
    "    print(f\"Student Scored {grade} Grade.\")\n",
    "\n",
    "else:\n",
    "    print(\"Invalid Input\")"
   ]
  },
  {
   "cell_type": "code",
   "execution_count": null,
   "id": "a0d3748c",
   "metadata": {},
   "outputs": [],
   "source": []
  }
 ],
 "metadata": {
  "kernelspec": {
   "display_name": "Python 3 (ipykernel)",
   "language": "python",
   "name": "python3"
  },
  "language_info": {
   "codemirror_mode": {
    "name": "ipython",
    "version": 3
   },
   "file_extension": ".py",
   "mimetype": "text/x-python",
   "name": "python",
   "nbconvert_exporter": "python",
   "pygments_lexer": "ipython3",
   "version": "3.9.13"
  }
 },
 "nbformat": 4,
 "nbformat_minor": 5
}
