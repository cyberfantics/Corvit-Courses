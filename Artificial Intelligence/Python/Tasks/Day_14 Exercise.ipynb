{
 "cells": [
  {
   "cell_type": "markdown",
   "id": "0b1f7cc6-8028-47b3-a4fd-c30473f496f5",
   "metadata": {},
   "source": [
    "## SIMPLE TASK:\r\n",
    "Create a Python program that models a basic shape \r\n",
    "hierarchy. Define a base class called Shape. \r\n",
    "It should have a method area() that returns 0. \r\n",
    "Then, create two subclasses: Rectangle and Circle.\r\n",
    "Rectangle should inherit from Shape and have \r\n",
    "attributes length and width. It should override \r\n",
    "the area() method to calculate and return the \r\n",
    "area of the rectangle.\r\n",
    "\r\n",
    "Circle should also inherit from Shape and \r\n",
    "have an attribute radi       us. It should override the \r\n",
    "area() method to calculate and return the area of \r\n",
    "the circle. Finally, create instances of both \r\n",
    "Rectangle and Circle classes and demonstrate \r\n",
    "their functionality by calculating and displaying \r\n",
    "their areas."
   ]
  },
  {
   "cell_type": "code",
   "execution_count": 1,
   "id": "c0b341d9-ffd7-4c0e-b74e-a74c5ae631ae",
   "metadata": {},
   "outputs": [],
   "source": [
    "# Parent Class\n",
    "class Shape:\n",
    "    def __init__(self, length, width):\n",
    "        self.length = length\n",
    "        self.width = width\n",
    "\n",
    "    def area(self):\n",
    "        return 0"
   ]
  },
  {
   "cell_type": "code",
   "execution_count": 2,
   "id": "eb0520c9-2e9f-4ae2-8e37-8a122cdf36eb",
   "metadata": {},
   "outputs": [],
   "source": [
    "# Child Class Of Shape and Sibling of Circle\n",
    "class Rectangle(Shape):\n",
    "    def area(self):\n",
    "        return self.length * self.width"
   ]
  },
  {
   "cell_type": "code",
   "execution_count": 3,
   "id": "30960ed9-ea4a-4659-bafc-e5aa4669e872",
   "metadata": {},
   "outputs": [],
   "source": [
    "# Child Class of Shape and Sibling Of Rectangle\n",
    "class Circle(Shape):\n",
    "    def __init__(self, radius):\n",
    "        self.radius = radius\n",
    "        super().__init__(0,0)\n",
    "\n",
    "    def area(self):\n",
    "        return 2 * 3.14 * self.radius * self.radius"
   ]
  },
  {
   "cell_type": "code",
   "execution_count": 4,
   "id": "6abb1d9e-243b-4f09-8b99-4e4e2752a865",
   "metadata": {},
   "outputs": [],
   "source": [
    "r = Rectangle(4,6)\n",
    "c = Circle(7)"
   ]
  },
  {
   "cell_type": "code",
   "execution_count": 5,
   "id": "f3e0e325-7ce2-494b-a484-0b55baf29cf3",
   "metadata": {},
   "outputs": [
    {
     "data": {
      "text/plain": [
       "24"
      ]
     },
     "execution_count": 5,
     "metadata": {},
     "output_type": "execute_result"
    }
   ],
   "source": [
    "r.area()"
   ]
  },
  {
   "cell_type": "code",
   "execution_count": 6,
   "id": "b5820623-1094-417d-87f9-78a15cc51f7d",
   "metadata": {},
   "outputs": [
    {
     "data": {
      "text/plain": [
       "307.72"
      ]
     },
     "execution_count": 6,
     "metadata": {},
     "output_type": "execute_result"
    }
   ],
   "source": [
    "c.area()"
   ]
  },
  {
   "cell_type": "code",
   "execution_count": null,
   "id": "95ea678d-d0c0-460c-9822-e7b40d29f731",
   "metadata": {},
   "outputs": [],
   "source": []
  }
 ],
 "metadata": {
  "kernelspec": {
   "display_name": "Python 3 (ipykernel)",
   "language": "python",
   "name": "python3"
  },
  "language_info": {
   "codemirror_mode": {
    "name": "ipython",
    "version": 3
   },
   "file_extension": ".py",
   "mimetype": "text/x-python",
   "name": "python",
   "nbconvert_exporter": "python",
   "pygments_lexer": "ipython3",
   "version": "3.12.4"
  }
 },
 "nbformat": 4,
 "nbformat_minor": 5
}
