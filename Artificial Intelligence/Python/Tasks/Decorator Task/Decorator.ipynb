{
 "cells": [
  {
   "cell_type": "markdown",
   "id": "0509620f-6c8b-4847-94ee-2c5661783778",
   "metadata": {},
   "source": [
    "#### Name: `Syed Mansoor ul Hassan Bukhari`\n",
    "### Course: `Artificial Intelligence`"
   ]
  },
  {
   "cell_type": "code",
   "execution_count": null,
   "id": "e492ed8f-0c87-4719-8d20-aa5563f5e654",
   "metadata": {},
   "outputs": [],
   "source": []
  },
  {
   "cell_type": "markdown",
   "id": "3f1ee27a-931d-4edd-bd1d-383f532d8b5a",
   "metadata": {},
   "source": [
    "### `Task 1:` Basic Decorator Implementation\n"
   ]
  },
  {
   "cell_type": "markdown",
   "id": "3db052bc-2d2b-43ee-918b-c68c9ef24957",
   "metadata": {},
   "source": [
    "**Explanation:** A `decorator` is a function that `wraps` another function to extend its behavior without modifying it directly. The `logger` decorator will print messages before and after the execution of the decorated function.\r\n"
   ]
  },
  {
   "cell_type": "code",
   "execution_count": 1,
   "id": "24ae0908-eceb-45bf-8329-e57051c2a671",
   "metadata": {},
   "outputs": [],
   "source": [
    "def logger(func):\n",
    "    def wrapper(*args, **kwargs):\n",
    "        print(f\"Starting execution of {func.__name__}\")\n",
    "        result = func(*args, **kwargs)\n",
    "        print(f\"Finished execution of {func.__name__}\")\n",
    "        return result\n",
    "    return wrapper\n",
    "\n",
    "@logger\n",
    "def greet(name):\n",
    "    print(f\"Hello, {name}!\")"
   ]
  },
  {
   "cell_type": "code",
   "execution_count": 2,
   "id": "1ee4a915-b69d-4845-b008-79e7a2c6d64b",
   "metadata": {},
   "outputs": [
    {
     "name": "stdout",
     "output_type": "stream",
     "text": [
      "Starting execution of greet\n",
      "Hello, Mansoor!\n",
      "Finished execution of greet\n"
     ]
    }
   ],
   "source": [
    "# Test case\n",
    "greet(\"Mansoor\")"
   ]
  },
  {
   "cell_type": "code",
   "execution_count": null,
   "id": "de682375-7ca1-4491-bb9f-36cffb53c8a4",
   "metadata": {},
   "outputs": [],
   "source": []
  },
  {
   "cell_type": "markdown",
   "id": "7243b48a-c18a-4aa7-8164-0c9fe0b2f683",
   "metadata": {},
   "source": [
    "### `Task 2:` Decorator with Arguments"
   ]
  },
  {
   "cell_type": "markdown",
   "id": "b9346968-c402-4000-b55e-e69248c833a7",
   "metadata": {},
   "source": [
    "**Explanation:** We extend the `logger` decorator to accept a log level argument. This allows us to specify the level of logging `(e.g., “INFO”, “DEBUG”, “ERROR”).`"
   ]
  },
  {
   "cell_type": "code",
   "execution_count": 3,
   "id": "52ee4e49-3763-4c35-b3e5-8e2eb7a3222c",
   "metadata": {},
   "outputs": [],
   "source": [
    "def logger(log_level=\"INFO\"):\n",
    "    def decorator(func):\n",
    "        def wrapper(*args, **kwargs):\n",
    "            print(f\"{log_level}: Starting execution of {func.__name__}\")\n",
    "            result = func(*args, **kwargs)\n",
    "            print(f\"{log_level}: The function {func.__name__} executed with result: {result}\")\n",
    "            return result\n",
    "        return wrapper\n",
    "    return decorator\n",
    "\n",
    "@logger(log_level=\"DEBUG\")\n",
    "def calculate_sum(a, b):\n",
    "    return a + b"
   ]
  },
  {
   "cell_type": "code",
   "execution_count": 4,
   "id": "65c703e9-5436-4434-b68a-9d0b98e255a8",
   "metadata": {},
   "outputs": [
    {
     "name": "stdout",
     "output_type": "stream",
     "text": [
      "DEBUG: Starting execution of calculate_sum\n",
      "DEBUG: The function calculate_sum executed with result: 15\n"
     ]
    },
    {
     "data": {
      "text/plain": [
       "15"
      ]
     },
     "execution_count": 4,
     "metadata": {},
     "output_type": "execute_result"
    }
   ],
   "source": [
    "# Test case\n",
    "calculate_sum(5, 10)"
   ]
  },
  {
   "cell_type": "code",
   "execution_count": null,
   "id": "6f8b1e14-7067-4620-8f8e-01c7356b7d5a",
   "metadata": {},
   "outputs": [],
   "source": []
  },
  {
   "cell_type": "markdown",
   "id": "7522c8a8-18f1-45e4-ac02-d1839ee8c8d4",
   "metadata": {},
   "source": [
    "### `Task 3:` Chaining Multiple Decorators."
   ]
  },
  {
   "cell_type": "markdown",
   "id": "809ccb66-44cb-47c9-a509-062979889fc2",
   "metadata": {},
   "source": [
    "**Explanation:** We create a `time_tracker` decorator to measure the execution time of a function. We then apply both `logger` and time_tracker to a function."
   ]
  },
  {
   "cell_type": "code",
   "execution_count": 5,
   "id": "8c26866e-27d2-4d55-a794-22622fdf8529",
   "metadata": {},
   "outputs": [],
   "source": [
    "import time\n",
    "\n",
    "def time_tracker(func):\n",
    "    def wrapper(*args, **kwargs):\n",
    "        start_time = time.time()\n",
    "        result = func(*args, **kwargs)\n",
    "        end_time = time.time()\n",
    "        print(f\"Execution time of {func.__name__}: {end_time - start_time:.4f} seconds\")\n",
    "        return result\n",
    "    return wrapper\n",
    "\n",
    "@logger(log_level=\"INFO\")\n",
    "@time_tracker\n",
    "def compute_factorial(n):\n",
    "    if n == 0 or n == 1:\n",
    "        return 1\n",
    "    else:\n",
    "        return n * compute_factorial(n - 1)"
   ]
  },
  {
   "cell_type": "code",
   "execution_count": 6,
   "id": "103afbd2-9c7e-4edb-9009-2a839a812bb9",
   "metadata": {},
   "outputs": [
    {
     "name": "stdout",
     "output_type": "stream",
     "text": [
      "INFO: Starting execution of wrapper\n",
      "INFO: Starting execution of wrapper\n",
      "INFO: Starting execution of wrapper\n",
      "INFO: Starting execution of wrapper\n",
      "INFO: Starting execution of wrapper\n",
      "Execution time of compute_factorial: 0.0000 seconds\n",
      "INFO: The function wrapper executed with result: 1\n",
      "Execution time of compute_factorial: 0.0010 seconds\n",
      "INFO: The function wrapper executed with result: 2\n",
      "Execution time of compute_factorial: 0.0010 seconds\n",
      "INFO: The function wrapper executed with result: 6\n",
      "Execution time of compute_factorial: 0.0010 seconds\n",
      "INFO: The function wrapper executed with result: 24\n",
      "Execution time of compute_factorial: 0.0010 seconds\n",
      "INFO: The function wrapper executed with result: 120\n"
     ]
    },
    {
     "data": {
      "text/plain": [
       "120"
      ]
     },
     "execution_count": 6,
     "metadata": {},
     "output_type": "execute_result"
    }
   ],
   "source": [
    "# Test case\n",
    "compute_factorial(5)"
   ]
  },
  {
   "cell_type": "code",
   "execution_count": null,
   "id": "a8958930-48fe-4627-9118-0bd04d1bf469",
   "metadata": {},
   "outputs": [],
   "source": []
  },
  {
   "cell_type": "markdown",
   "id": "b30cfa75-18f1-481d-97b1-fb3e462d160d",
   "metadata": {},
   "source": [
    "### `Task 4:` Optional: Decorator for Input Validation"
   ]
  },
  {
   "cell_type": "markdown",
   "id": "3c4a0066-18ac-4587-b916-1d802d4e7dd5",
   "metadata": {},
   "source": [
    "**Explanation:** The `validate_inputs` decorator ensures that the function receives `non-negative` integers as inputs. If a negative number is `passed`, it `raises` a `ValueError`."
   ]
  },
  {
   "cell_type": "code",
   "execution_count": 7,
   "id": "7d0c7ecc-c4c5-4a96-8048-d042fbc317ca",
   "metadata": {},
   "outputs": [],
   "source": [
    "def validate_inputs(func):\n",
    "    def wrapper(*args, **kwargs):\n",
    "        for arg in args:\n",
    "            if not isinstance(arg, int) or arg < 0:\n",
    "                raise ValueError(\"All inputs must be non-negative integers\")\n",
    "        return func(*args, **kwargs)\n",
    "    return wrapper\n",
    "\n",
    "@validate_inputs\n",
    "def factorial(n):\n",
    "    result = 1\n",
    "    for i in range(1, n + 1):\n",
    "        result *= i\n",
    "    return result"
   ]
  },
  {
   "cell_type": "code",
   "execution_count": 8,
   "id": "55826724-7a7c-4848-9ba0-246ad3f1e2c8",
   "metadata": {},
   "outputs": [
    {
     "name": "stdout",
     "output_type": "stream",
     "text": [
      "120\n",
      "All inputs must be non-negative integers\n"
     ]
    }
   ],
   "source": [
    "# Test cases\n",
    "try:\n",
    "    print(factorial(5))  # Expected output: 120\n",
    "    print(factorial(-1)) # Expected to raise ValueError\n",
    "except ValueError as e:\n",
    "    print(e)"
   ]
  },
  {
   "cell_type": "code",
   "execution_count": null,
   "id": "3b67642d-db7d-46ad-99b8-679070988078",
   "metadata": {},
   "outputs": [],
   "source": []
  },
  {
   "cell_type": "code",
   "execution_count": null,
   "id": "e20bacb6-fa09-4cdb-8df2-02fef2d4ba61",
   "metadata": {},
   "outputs": [],
   "source": []
  }
 ],
 "metadata": {
  "kernelspec": {
   "display_name": "Python 3 (ipykernel)",
   "language": "python",
   "name": "python3"
  },
  "language_info": {
   "codemirror_mode": {
    "name": "ipython",
    "version": 3
   },
   "file_extension": ".py",
   "mimetype": "text/x-python",
   "name": "python",
   "nbconvert_exporter": "python",
   "pygments_lexer": "ipython3",
   "version": "3.12.4"
  }
 },
 "nbformat": 4,
 "nbformat_minor": 5
}
