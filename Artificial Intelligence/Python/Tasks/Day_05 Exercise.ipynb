{
 "cells": [
  {
   "cell_type": "markdown",
   "id": "afdcf9fb-e238-4e5c-ba40-0484291669db",
   "metadata": {},
   "source": [
    "### Task 01: \n",
    "**Implement a function called get_day_of_week that \r\n",
    "takes an integer representing the day of the week \r\n",
    "(1 for Monday, 2 for Tuesday, ..., 7 for Sunday) \r\n",
    "and returns the corresponding name of the day. \r\n",
    "Use the match statement to accomplish this t**sk.\r\n"
   ]
  },
  {
   "cell_type": "code",
   "execution_count": 1,
   "id": "a0315317-2e36-4244-a334-053b46020fcd",
   "metadata": {},
   "outputs": [],
   "source": [
    "def get_day_of_week(x):\n",
    "    match x:\n",
    "        case 1:\n",
    "            print(\"Monday\")\n",
    "        case 2:\n",
    "            print(\"Tuesday\")\n",
    "        case 3:\n",
    "            print(\"Wednesday\")\n",
    "        case 4:\n",
    "            print(\"Thursday\")\n",
    "        case 5:\n",
    "            print(\"Friday\")\n",
    "        case 6:\n",
    "            print(\"Saturday\")\n",
    "        case 7:\n",
    "            print(\"Sunday\")\n",
    "        case _:\n",
    "            print(\"Invalid Input\")"
   ]
  },
  {
   "cell_type": "code",
   "execution_count": 2,
   "id": "90278b6f-451f-457e-9163-4fb4e4d653ff",
   "metadata": {},
   "outputs": [
    {
     "name": "stdin",
     "output_type": "stream",
     "text": [
      "Enter day  5\n"
     ]
    },
    {
     "name": "stdout",
     "output_type": "stream",
     "text": [
      "Friday\n"
     ]
    }
   ],
   "source": [
    "x = int(input(\"Enter day \"))\n",
    "get_day_of_week(x)"
   ]
  },
  {
   "cell_type": "code",
   "execution_count": null,
   "id": "bead4972-34aa-4885-9b1c-c806f9b39226",
   "metadata": {},
   "outputs": [],
   "source": []
  },
  {
   "cell_type": "markdown",
   "id": "adfb2b5a-60c6-428d-93b8-5494b463dedf",
   "metadata": {},
   "source": [
    "### Task 02: Write a function that find grade using match case"
   ]
  },
  {
   "cell_type": "code",
   "execution_count": 3,
   "id": "3524e654-624a-405d-8ee7-31f7e9428a9b",
   "metadata": {},
   "outputs": [],
   "source": [
    "def find_grade(perc):\n",
    "    match perc:\n",
    "        case _ if perc<=100 and perc>=80:\n",
    "            print(\"A\")\n",
    "        case _ if perc<=79 and perc>=70:\n",
    "            print(\"B\")\n",
    "        case _ if perc<=69 and perc>=60:\n",
    "            print(\"C\")\n",
    "        case _ if perc<=59 and perc>=50:\n",
    "            print(\"D\")\n",
    "        case _ if perc<=49 and perc>=40:\n",
    "            print(\"E\")\n",
    "        case _:\n",
    "            print(\"Invalid\")"
   ]
  },
  {
   "cell_type": "code",
   "execution_count": 4,
   "id": "2d133931-73be-48f7-9746-1b3e56a20b00",
   "metadata": {},
   "outputs": [
    {
     "name": "stdin",
     "output_type": "stream",
     "text": [
      "Enter Percentage  54\n"
     ]
    },
    {
     "name": "stdout",
     "output_type": "stream",
     "text": [
      "D\n"
     ]
    }
   ],
   "source": [
    "x = int(input(\"Enter Percentage \"))\n",
    "find_grade(x)"
   ]
  },
  {
   "cell_type": "code",
   "execution_count": null,
   "id": "b89550de-15bc-41aa-a98a-5fac11a5b058",
   "metadata": {},
   "outputs": [],
   "source": []
  }
 ],
 "metadata": {
  "kernelspec": {
   "display_name": "Python 3 (ipykernel)",
   "language": "python",
   "name": "python3"
  },
  "language_info": {
   "codemirror_mode": {
    "name": "ipython",
    "version": 3
   },
   "file_extension": ".py",
   "mimetype": "text/x-python",
   "name": "python",
   "nbconvert_exporter": "python",
   "pygments_lexer": "ipython3",
   "version": "3.12.4"
  }
 },
 "nbformat": 4,
 "nbformat_minor": 5
}
