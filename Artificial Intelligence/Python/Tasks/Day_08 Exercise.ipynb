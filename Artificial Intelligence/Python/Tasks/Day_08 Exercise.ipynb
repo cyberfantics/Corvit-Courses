{
 "cells": [
  {
   "cell_type": "markdown",
   "id": "af7fe875-df8f-470b-aece-0c8784df2e1b",
   "metadata": {},
   "source": [
    "## Remove issue in below code"
   ]
  },
  {
   "cell_type": "code",
   "execution_count": 1,
   "id": "5533c6d1-f563-447d-91ea-5a6b6c291cd4",
   "metadata": {},
   "outputs": [
    {
     "name": "stdout",
     "output_type": "stream",
     "text": [
      "6 is not present in the list\n"
     ]
    }
   ],
   "source": [
    "colors = [6, \"Red\", \"G\", \"B\",\"y\"]\n",
    "if \"6\" in colors:\n",
    "\tprint(\"6 is present\")\n",
    "else:\n",
    "\tprint(\"6 is not present in the list\")\n"
   ]
  },
  {
   "cell_type": "code",
   "execution_count": 2,
   "id": "3d876833-1df5-4e55-81cf-c99029f8b87f",
   "metadata": {},
   "outputs": [
    {
     "name": "stdout",
     "output_type": "stream",
     "text": [
      "6 is present\n"
     ]
    }
   ],
   "source": [
    "colors = [6, \"Red\", \"G\", \"B\",\"y\"]\n",
    "if int(\"6\") in colors:\n",
    "\tprint(\"6 is present\")\n",
    "else:\n",
    "\tprint(\"6 is not present in the list\")"
   ]
  },
  {
   "cell_type": "code",
   "execution_count": null,
   "id": "f5796883-b165-4575-ac9b-251e1a88fb79",
   "metadata": {},
   "outputs": [],
   "source": []
  },
  {
   "cell_type": "code",
   "execution_count": null,
   "id": "16155424-1373-494e-9358-1eaec7623137",
   "metadata": {},
   "outputs": [],
   "source": []
  }
 ],
 "metadata": {
  "kernelspec": {
   "display_name": "Python 3 (ipykernel)",
   "language": "python",
   "name": "python3"
  },
  "language_info": {
   "codemirror_mode": {
    "name": "ipython",
    "version": 3
   },
   "file_extension": ".py",
   "mimetype": "text/x-python",
   "name": "python",
   "nbconvert_exporter": "python",
   "pygments_lexer": "ipython3",
   "version": "3.12.4"
  }
 },
 "nbformat": 4,
 "nbformat_minor": 5
}
