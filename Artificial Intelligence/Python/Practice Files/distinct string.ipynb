{
 "cells": [
  {
   "cell_type": "code",
   "execution_count": 5,
   "id": "958e3fd4-791c-4ed1-b96b-169eb6e2700b",
   "metadata": {},
   "outputs": [],
   "source": [
    "class Solution:\n",
    "    def kthDistinct(self, arr, k):\n",
    "        count = {}\n",
    "        \n",
    "        # Count the occurrences of each string\n",
    "        for s in arr:\n",
    "            if s in count:\n",
    "                count[s] += 1\n",
    "            else:\n",
    "                count[s] = 1\n",
    "        print(count)\n",
    "        \n",
    "        # Collect distinct strings\n",
    "        distinct_strings = [s for s in arr if count[s] == 1]\n",
    "        \n",
    "        # Return the k-th distinct string if it exists\n",
    "        if len(distinct_strings) >= k:\n",
    "            return distinct_strings[k - 1]\n",
    "        else:\n",
    "            return \"\""
   ]
  },
  {
   "cell_type": "code",
   "execution_count": 6,
   "id": "80eb8abc-189f-4378-995f-0e64522e5629",
   "metadata": {},
   "outputs": [],
   "source": [
    "s = Solution()"
   ]
  },
  {
   "cell_type": "code",
   "execution_count": 7,
   "id": "7bcdd0a1-bb89-47d5-9005-14cf51e58f1c",
   "metadata": {},
   "outputs": [
    {
     "name": "stdout",
     "output_type": "stream",
     "text": [
      "{'a': 1, 'b': 2, 'aa': 1, 'c': 1}\n"
     ]
    },
    {
     "data": {
      "text/plain": [
       "'aa'"
      ]
     },
     "execution_count": 7,
     "metadata": {},
     "output_type": "execute_result"
    }
   ],
   "source": [
    "s.kthDistinct(['a','b','aa','c','b'],2)"
   ]
  },
  {
   "cell_type": "code",
   "execution_count": null,
   "id": "16b03b91-075a-47fb-bdb8-7979abeaa5a7",
   "metadata": {},
   "outputs": [],
   "source": []
  }
 ],
 "metadata": {
  "kernelspec": {
   "display_name": "Python 3 (ipykernel)",
   "language": "python",
   "name": "python3"
  },
  "language_info": {
   "codemirror_mode": {
    "name": "ipython",
    "version": 3
   },
   "file_extension": ".py",
   "mimetype": "text/x-python",
   "name": "python",
   "nbconvert_exporter": "python",
   "pygments_lexer": "ipython3",
   "version": "3.12.4"
  }
 },
 "nbformat": 4,
 "nbformat_minor": 5
}
