{
 "cells": [
  {
   "cell_type": "markdown",
   "id": "ff63fe5a-4c47-4af1-9c86-2793cd5bdc63",
   "metadata": {},
   "source": [
    "You are given a string s consisting only of characters 'a' and 'b'​​​​.\n",
    "\n",
    "You can delete any number of characters in s to make s balanced. s is balanced if there is no pair of indices (i,j) such that i < j and s[i] = 'b' and s[j]= 'a'.\n",
    "\n",
    "Return the minimum number of deletions needed to make s balanced.\n",
    "\n",
    " \n",
    "\n",
    "Example 1:\n",
    "\n",
    "Input: s = \"aababbab\"\n",
    "Output: 2\n",
    "Explanation: You can either:\n",
    "Delete the characters at 0-indexed positions 2 and 6 (\"aababbab\" -> \"aaabbb\"), or\n",
    "Delete the characters at 0-indexed positions 3 and 6 (\"aababbab\" -> \"aabbbb\").\n",
    "Example 2:\n",
    "\n",
    "Input: s = \"bbaaaaabb\"\n",
    "Output: 2\n",
    "Explanation: The only solution is to delete the first two characters.\n",
    " \n",
    "\n",
    "Constraints:\n",
    "\n",
    "1 <= s.length <= 105\n",
    "s[i] is 'a' or 'b'​​."
   ]
  },
  {
   "cell_type": "code",
   "execution_count": 1,
   "id": "a2f4c9f0-37de-44fe-a71c-5cff28ddd859",
   "metadata": {},
   "outputs": [],
   "source": [
    "class Solution:\n",
    "    def minimumDeletions(self, s: str) -> int:\n",
    "        count_b = 0  # To keep track of the number of 'b's encountered\n",
    "        min_deletions = 0  # To keep track of the minimum deletions required\n",
    "        \n",
    "        for char in s:\n",
    "            if char == 'b':\n",
    "                count_b += 1\n",
    "            elif char == 'a':\n",
    "                # We encounter an 'a' which is following some 'b's, hence it needs to be deleted\n",
    "                min_deletions += 1\n",
    "                # Alternatively, delete the preceding 'b' and correct the count\n",
    "                min_deletions = min(min_deletions, count_b)\n",
    "        \n",
    "        return min_deletions"
   ]
  },
  {
   "cell_type": "code",
   "execution_count": null,
   "id": "850c4663-f07a-4993-b266-704f702a1aa7",
   "metadata": {},
   "outputs": [],
   "source": []
  },
  {
   "cell_type": "code",
   "execution_count": 2,
   "id": "65082f75-f17c-4928-8fcf-465f98bc1648",
   "metadata": {},
   "outputs": [],
   "source": [
    "class Solution:\n",
    "    def minimumDeletions(self, s: str) -> str:\n",
    "        count_b = 0  # To keep track of the number of 'b's encountered\n",
    "        min_deletions = 0  # To keep track of the minimum deletions required\n",
    "        steps = []  # To store the steps for understanding the process\n",
    "        \n",
    "        steps.append(f\"Initial count_b: {count_b}, min_deletions: {min_deletions}\")\n",
    "        \n",
    "        for index, char in enumerate(s):\n",
    "            if char == 'b':\n",
    "                count_b += 1\n",
    "                steps.append(f\"At index {index}, encountered 'b': count_b incremented to {count_b}\")\n",
    "            elif char == 'a':\n",
    "                min_deletions += 1\n",
    "                steps.append(f\"At index {index}, encountered 'a': min_deletions incremented to {min_deletions}\")\n",
    "                min_deletions = min(min_deletions, count_b)\n",
    "                steps.append(f\"Updated min_deletions to min(min_deletions, count_b): {min_deletions}\")\n",
    "        \n",
    "        steps.append(f\"Final min_deletions: {min_deletions}\")\n",
    "        return \"\\n\".join(steps)\n",
    "\n",
    "# Example usage:\n",
    "solution = Solution()"
   ]
  },
  {
   "cell_type": "code",
   "execution_count": 3,
   "id": "5a3c8d1b-ab2c-450a-99f5-f1be254844e5",
   "metadata": {},
   "outputs": [
    {
     "name": "stdout",
     "output_type": "stream",
     "text": [
      "Initial count_b: 0, min_deletions: 0\n",
      "At index 0, encountered 'a': min_deletions incremented to 1\n",
      "Updated min_deletions to min(min_deletions, count_b): 0\n",
      "At index 1, encountered 'a': min_deletions incremented to 1\n",
      "Updated min_deletions to min(min_deletions, count_b): 0\n",
      "At index 2, encountered 'b': count_b incremented to 1\n",
      "At index 3, encountered 'a': min_deletions incremented to 1\n",
      "Updated min_deletions to min(min_deletions, count_b): 1\n",
      "At index 4, encountered 'b': count_b incremented to 2\n",
      "At index 5, encountered 'b': count_b incremented to 3\n",
      "At index 6, encountered 'a': min_deletions incremented to 2\n",
      "Updated min_deletions to min(min_deletions, count_b): 2\n",
      "At index 7, encountered 'b': count_b incremented to 4\n",
      "Final min_deletions: 2\n"
     ]
    }
   ],
   "source": [
    "print(solution.minimumDeletions(\"aababbab\"))  # Output with detailed steps"
   ]
  },
  {
   "cell_type": "code",
   "execution_count": null,
   "id": "137c37e1-73ed-4af3-8070-894bad55d6bc",
   "metadata": {},
   "outputs": [],
   "source": []
  },
  {
   "cell_type": "code",
   "execution_count": 4,
   "id": "df96ff50-c42c-43d9-af6f-212ebe142cf3",
   "metadata": {},
   "outputs": [
    {
     "name": "stdout",
     "output_type": "stream",
     "text": [
      "Initial count_b: 0, min_deletions: 0\n",
      "At index 0, encountered 'a': min_deletions incremented to 1\n",
      "Updated min_deletions to min(min_deletions, count_b): 0\n",
      "At index 1, encountered 'a': min_deletions incremented to 1\n",
      "Updated min_deletions to min(min_deletions, count_b): 0\n",
      "At index 2, encountered 'b': count_b incremented to 1\n",
      "At index 3, encountered 'a': min_deletions incremented to 1\n",
      "Updated min_deletions to min(min_deletions, count_b): 1\n",
      "At index 4, encountered 'b': count_b incremented to 2\n",
      "At index 5, encountered 'b': count_b incremented to 3\n",
      "At index 6, encountered 'a': min_deletions incremented to 2\n",
      "Updated min_deletions to min(min_deletions, count_b): 2\n",
      "At index 7, encountered 'b': count_b incremented to 4\n",
      "Final min_deletions: 2\n"
     ]
    }
   ],
   "source": [
    "\n",
    "print(solution.minimumDeletions(\"aababbab\"))  # Output with detailed steps and final balanced string\n"
   ]
  },
  {
   "cell_type": "code",
   "execution_count": null,
   "id": "04efa6f6-693d-4c82-8ce5-adc441355b5b",
   "metadata": {},
   "outputs": [],
   "source": []
  },
  {
   "cell_type": "code",
   "execution_count": null,
   "id": "2a7260c6-92a8-4310-848d-faf075368dc6",
   "metadata": {},
   "outputs": [],
   "source": []
  },
  {
   "cell_type": "code",
   "execution_count": 5,
   "id": "0e336bad-3ad5-4a3c-b19e-3a080ce855aa",
   "metadata": {},
   "outputs": [],
   "source": [
    "class Solution:\n",
    "    def minimumDeletions(self, s: str) -> int:\n",
    "        if len(s) == 1: return 0\n",
    "        cnt = 0\n",
    "        p = 0\n",
    "        for i, v in enumerate(s):\n",
    "            if v == 'a' and p > 0:\n",
    "                p -= 1\n",
    "                cnt += 1\n",
    "            if v == 'b':\n",
    "                p += 1\n",
    "        return cnt"
   ]
  },
  {
   "cell_type": "code",
   "execution_count": null,
   "id": "0bce78e4-4ee8-45b9-9789-5907a4525500",
   "metadata": {},
   "outputs": [],
   "source": []
  },
  {
   "cell_type": "code",
   "execution_count": 6,
   "id": "c2d91bb4-1c6c-433d-9da1-7d9c8650217e",
   "metadata": {},
   "outputs": [],
   "source": [
    "class Solution:\n",
    "    def minimumDeletions(self, s: str) -> int:\n",
    "        if len(s) == 1: \n",
    "            print(\"String length is 1, no deletions needed.\")\n",
    "            return 0\n",
    "        \n",
    "        cnt = 0  # Counter for the number of deletions\n",
    "        p = 0    # Balance counter to track 'b's\n",
    "\n",
    "        print(f\"Initial state: cnt={cnt}, p={p}\")\n",
    "\n",
    "        for i, v in enumerate(s):\n",
    "            print(f\"Step {i}: character={v}\")\n",
    "            if v == 'a' and p > 0:\n",
    "                p -= 1\n",
    "                cnt += 1\n",
    "                print(f\"  'a' found and p > 0: p decreased to {p}, cnt increased to {cnt}\")\n",
    "            if v == 'b':\n",
    "                p += 1\n",
    "                print(f\"  'b' found: p increased to {p}\")\n",
    "\n",
    "        print(f\"Final state: cnt={cnt}, p={p}\")\n",
    "        return cnt\n",
    "\n",
    "# Example usage:\n",
    "solution = Solution()"
   ]
  },
  {
   "cell_type": "code",
   "execution_count": 7,
   "id": "5562afc9-94c4-407d-8389-771dde86151f",
   "metadata": {},
   "outputs": [
    {
     "name": "stdout",
     "output_type": "stream",
     "text": [
      "Initial state: cnt=0, p=0\n",
      "Step 0: character=a\n",
      "Step 1: character=a\n",
      "Step 2: character=b\n",
      "  'b' found: p increased to 1\n",
      "Step 3: character=a\n",
      "  'a' found and p > 0: p decreased to 0, cnt increased to 1\n",
      "Step 4: character=b\n",
      "  'b' found: p increased to 1\n",
      "Step 5: character=b\n",
      "  'b' found: p increased to 2\n",
      "Step 6: character=a\n",
      "  'a' found and p > 0: p decreased to 1, cnt increased to 2\n",
      "Step 7: character=b\n",
      "  'b' found: p increased to 2\n",
      "Final state: cnt=2, p=2\n",
      "2\n"
     ]
    }
   ],
   "source": [
    "print(solution.minimumDeletions(\"aababbab\"))"
   ]
  },
  {
   "cell_type": "code",
   "execution_count": null,
   "id": "788b3b69-3796-4d60-9a41-86bceb28532c",
   "metadata": {},
   "outputs": [],
   "source": []
  },
  {
   "cell_type": "code",
   "execution_count": 8,
   "id": "9bd33197-b3bf-435d-8a96-fe7b5820ece4",
   "metadata": {},
   "outputs": [],
   "source": [
    "class Solution:\n",
    "    def minimumDeletions(self, s: str) -> int:\n",
    "        b_count = 0\n",
    "        min_deletions = 0\n",
    "        \n",
    "        for i, char in enumerate(s):\n",
    "            if char == 'b':\n",
    "                b_count += 1\n",
    "            elif char == 'a':\n",
    "                if b_count > 0:\n",
    "                    min_deletions += 1\n",
    "                    b_count -= 1        \n",
    "        return min_deletions"
   ]
  },
  {
   "cell_type": "code",
   "execution_count": null,
   "id": "bc08d7e2-a9a2-4bb7-9645-efdb998a40e2",
   "metadata": {},
   "outputs": [],
   "source": []
  },
  {
   "cell_type": "code",
   "execution_count": 9,
   "id": "95b4ad76-f402-4e3b-a2ff-f727b5f1e947",
   "metadata": {},
   "outputs": [],
   "source": [
    "class Solution:\n",
    "    def minimumDeletions(self, s):\n",
    "        ans, count = 0, 0\n",
    "        for i in s:\n",
    "            if i == 'b':\n",
    "                count += 1\n",
    "            elif count:\n",
    "                ans += 1\n",
    "                count -= 1\n",
    "        return ans"
   ]
  },
  {
   "cell_type": "code",
   "execution_count": 10,
   "id": "55ec84f9-b8a5-492b-bdff-2912a00653b4",
   "metadata": {},
   "outputs": [],
   "source": [
    "class Solution:\n",
    "    def minimumDeletions(self, s):\n",
    "        ans, count = 0, 0\n",
    "        for i in s:\n",
    "            if i == 'b':\n",
    "                count += 1\n",
    "            elif count:\n",
    "                ans += 1\n",
    "                count -= 1\n",
    "            print(f\"Character: {i}, b_count: {count}, min_deletions: {ans}\")\n",
    "        return ans\n",
    "\n",
    "solution = Solution()"
   ]
  },
  {
   "cell_type": "code",
   "execution_count": 11,
   "id": "a42e83f6-1093-4115-a36b-3a966432e5f1",
   "metadata": {},
   "outputs": [
    {
     "name": "stdout",
     "output_type": "stream",
     "text": [
      "Final Output for 'aababbab':\n",
      "Character: a, b_count: 0, min_deletions: 0\n",
      "Character: a, b_count: 0, min_deletions: 0\n",
      "Character: b, b_count: 1, min_deletions: 0\n",
      "Character: a, b_count: 0, min_deletions: 1\n",
      "Character: b, b_count: 1, min_deletions: 1\n",
      "Character: b, b_count: 2, min_deletions: 1\n",
      "Character: a, b_count: 1, min_deletions: 2\n",
      "Character: b, b_count: 2, min_deletions: 2\n",
      "2\n"
     ]
    }
   ],
   "source": [
    "print(\"Final Output for 'aababbab':\")\n",
    "print(solution.minimumDeletions(\"aababbab\"))"
   ]
  },
  {
   "cell_type": "code",
   "execution_count": null,
   "id": "8ae02c1d-b4d2-446a-a220-6720a0366394",
   "metadata": {},
   "outputs": [],
   "source": []
  },
  {
   "cell_type": "code",
   "execution_count": 14,
   "id": "3c738d50-d581-4a3b-931a-e41b7774a84a",
   "metadata": {},
   "outputs": [],
   "source": [
    "def minimumDeletions(s):\n",
    "    deletions, b_count = 0, 0\n",
    "    for i in s:\n",
    "        if i == 'b':\n",
    "            b_count += 1\n",
    "        elif b_count > 0:\n",
    "            deletions += 1\n",
    "            b_count -= 1\n",
    "        print(f\"Character: {i}, b_count: {b_count}, deletions: {deletions}\")\n",
    "    return deletions\n"
   ]
  },
  {
   "cell_type": "code",
   "execution_count": 15,
   "id": "ce3e25ee-cc2e-4b96-9bd7-14ce5d8d130b",
   "metadata": {},
   "outputs": [
    {
     "name": "stdout",
     "output_type": "stream",
     "text": [
      "Character: a, b_count: 0, deletions: 0\n",
      "Character: a, b_count: 0, deletions: 0\n",
      "Character: b, b_count: 1, deletions: 0\n",
      "Character: a, b_count: 0, deletions: 1\n",
      "Character: b, b_count: 1, deletions: 1\n",
      "Character: b, b_count: 2, deletions: 1\n",
      "Character: a, b_count: 1, deletions: 2\n",
      "Character: b, b_count: 2, deletions: 2\n"
     ]
    },
    {
     "data": {
      "text/plain": [
       "2"
      ]
     },
     "execution_count": 15,
     "metadata": {},
     "output_type": "execute_result"
    }
   ],
   "source": [
    "minimumDeletions(\"aababbab\")"
   ]
  },
  {
   "cell_type": "code",
   "execution_count": 16,
   "id": "faa3c757-ebda-400c-8d08-1cc490f3f394",
   "metadata": {},
   "outputs": [
    {
     "name": "stdout",
     "output_type": "stream",
     "text": [
      "Character: b, b_count: 1, deletions: 0\n",
      "Character: b, b_count: 2, deletions: 0\n",
      "Character: a, b_count: 1, deletions: 1\n",
      "Character: a, b_count: 0, deletions: 2\n",
      "Character: a, b_count: 0, deletions: 2\n",
      "Character: a, b_count: 0, deletions: 2\n",
      "Character: a, b_count: 0, deletions: 2\n",
      "Character: b, b_count: 1, deletions: 2\n",
      "Character: b, b_count: 2, deletions: 2\n",
      "Final Output for 'bbaaaaabb': 2\n"
     ]
    }
   ],
   "source": [
    "s2 = \"bbaaaaabb\"\n",
    "print(f\"Final Output for '{s2}': {minimumDeletions(s2)}\")\n"
   ]
  },
  {
   "cell_type": "code",
   "execution_count": null,
   "id": "b7ad5e4d-879c-44e2-888e-8171a015f0ec",
   "metadata": {},
   "outputs": [],
   "source": []
  }
 ],
 "metadata": {
  "kernelspec": {
   "display_name": "Python 3 (ipykernel)",
   "language": "python",
   "name": "python3"
  },
  "language_info": {
   "codemirror_mode": {
    "name": "ipython",
    "version": 3
   },
   "file_extension": ".py",
   "mimetype": "text/x-python",
   "name": "python",
   "nbconvert_exporter": "python",
   "pygments_lexer": "ipython3",
   "version": "3.12.4"
  }
 },
 "nbformat": 4,
 "nbformat_minor": 5
}
