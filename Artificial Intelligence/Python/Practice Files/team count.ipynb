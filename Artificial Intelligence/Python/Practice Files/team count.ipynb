{
 "cells": [
  {
   "cell_type": "markdown",
   "id": "9044fad7-fc3b-49fe-9799-3c6c99620031",
   "metadata": {},
   "source": [
    "There are n soldiers standing in a line. Each soldier is assigned a unique rating value.\n",
    "\n",
    "You have to form a team of 3 soldiers amongst them under the following rules:\n",
    "\n",
    "Choose 3 soldiers with index (i, j, k) with rating (rating[i], rating[j], rating[k]).\n",
    "A team is valid if: (rating[i] < rating[j] < rating[k]) or (rating[i] > rating[j] > rating[k]) where (0 <= i < j < k < n).\n",
    "Return the number of teams you can form given the conditions. (soldiers can be part of multiple teams).\n",
    "\n",
    " \n",
    "\n",
    "Example 1:\n",
    "\n",
    "Input: rating = [2,5,3,4,1]\n",
    "Output: 3\n",
    "Explanation: We can form three teams given the conditions. (2,3,4), (5,4,1), (5,3,1). \n",
    "Example 2:\n",
    "\n",
    "Input: rating = [2,1,3]\n",
    "Output: 0\n",
    "Explanation: We can't form any team given the conditions.\n",
    "Example 3:\n",
    "\n",
    "Input: rating = [1,2,3,4]\n",
    "Output: 4\n",
    " \n",
    "\n",
    "Constraints:\n",
    "\n",
    "n == rating.length\n",
    "3 <= n <= 1000\n",
    "1 <= rating[i] <= 105\n",
    "All the integers in rating are unique."
   ]
  },
  {
   "cell_type": "code",
   "execution_count": 1,
   "id": "bc4ce81b-628f-4307-b0cc-badd443df762",
   "metadata": {},
   "outputs": [
    {
     "name": "stdout",
     "output_type": "stream",
     "text": [
      "Valid team: (2, 3, 4)\n",
      "Valid team: (5, 3, 1)\n",
      "Valid team: (5, 4, 1)\n",
      "3\n",
      "0\n",
      "Valid team: (1, 2, 3)\n",
      "Valid team: (1, 2, 4)\n",
      "Valid team: (1, 3, 4)\n",
      "Valid team: (2, 3, 4)\n",
      "4\n"
     ]
    }
   ],
   "source": [
    "class Solution:\n",
    "    def numTeams(self, rating: list[int]) -> int:\n",
    "        n = len(rating)\n",
    "        count = 0\n",
    "\n",
    "        # Iterate through all possible triplets (i, j, k)\n",
    "        for i in range(n):\n",
    "            for j in range(i + 1, n):\n",
    "                for k in range(j + 1, n):\n",
    "                    # Check if the current triplet forms a valid team\n",
    "                    if (rating[i] < rating[j] < rating[k]) or (rating[i] > rating[j] > rating[k]):\n",
    "                        count += 1\n",
    "                        # Print statement to understand the process\n",
    "                        print(f\"Valid team: ({rating[i]}, {rating[j]}, {rating[k]})\")\n",
    "        \n",
    "        return count\n",
    "\n",
    "# Example usage:\n",
    "solution = Solution()\n",
    "print(solution.numTeams([2, 5, 3, 4, 1]))  # Output: 3\n",
    "print(solution.numTeams([2, 1, 3]))        # Output: 0\n",
    "print(solution.numTeams([1, 2, 3, 4]))     # Output: 4\n"
   ]
  },
  {
   "cell_type": "code",
   "execution_count": null,
   "id": "5307e102-81fe-4cc7-8c27-b4c206e8c45b",
   "metadata": {},
   "outputs": [],
   "source": []
  },
  {
   "cell_type": "code",
   "execution_count": 2,
   "id": "7afb91be-a938-4901-9108-4a1d621d9846",
   "metadata": {},
   "outputs": [
    {
     "name": "stdout",
     "output_type": "stream",
     "text": [
      "3\n",
      "0\n",
      "4\n"
     ]
    }
   ],
   "source": [
    "class Solution:\n",
    "    def numTeams(self, rating: list[int]) -> int:\n",
    "        n = len(rating)\n",
    "        count = 0\n",
    "\n",
    "        for j in range(n):\n",
    "            left_smaller = left_larger = right_smaller = right_larger = 0\n",
    "            \n",
    "            # Count elements on the left side of j\n",
    "            for i in range(j):\n",
    "                if rating[i] < rating[j]:\n",
    "                    left_smaller += 1\n",
    "                elif rating[i] > rating[j]:\n",
    "                    left_larger += 1\n",
    "\n",
    "            # Count elements on the right side of j\n",
    "            for k in range(j + 1, n):\n",
    "                if rating[k] < rating[j]:\n",
    "                    right_smaller += 1\n",
    "                elif rating[k] > rating[j]:\n",
    "                    right_larger += 1\n",
    "            \n",
    "            # Calculate number of valid teams with j in the middle\n",
    "            count += left_smaller * right_larger + left_larger * right_smaller\n",
    "\n",
    "        return count\n",
    "\n",
    "# Example usage:\n",
    "solution = Solution()\n",
    "print(solution.numTeams([2, 5, 3, 4, 1]))  # Output: 3\n",
    "print(solution.numTeams([2, 1, 3]))        # Output: 0\n",
    "print(solution.numTeams([1, 2, 3, 4]))     # Output: 4\n"
   ]
  },
  {
   "cell_type": "code",
   "execution_count": null,
   "id": "c78d818f-411d-4014-8600-2199798e1673",
   "metadata": {},
   "outputs": [],
   "source": []
  },
  {
   "cell_type": "code",
   "execution_count": 5,
   "id": "fc24f8a8-8001-4939-b25d-620898d2ab9d",
   "metadata": {},
   "outputs": [],
   "source": [
    "def teamCount(team:list):\n",
    "    n = len(team)\n",
    "    count = 0\n",
    "\n",
    "    for i in range(n):\n",
    "        for j in range(i+1, n):\n",
    "            for k in range(j+1, n):\n",
    "                if team[i]<team[j]<team[k] or team[i]>team[j]>team[k]:\n",
    "                    count += 1\n",
    "    return count"
   ]
  },
  {
   "cell_type": "code",
   "execution_count": 6,
   "id": "4862082b-01c4-4d01-8173-16cdbb458013",
   "metadata": {},
   "outputs": [
    {
     "data": {
      "text/plain": [
       "3"
      ]
     },
     "execution_count": 6,
     "metadata": {},
     "output_type": "execute_result"
    }
   ],
   "source": [
    "teamCount([2, 5, 3, 4, 1])"
   ]
  },
  {
   "cell_type": "code",
   "execution_count": 7,
   "id": "9b4118b5-3a39-4029-872e-35e11914242c",
   "metadata": {},
   "outputs": [
    {
     "data": {
      "text/plain": [
       "0"
      ]
     },
     "execution_count": 7,
     "metadata": {},
     "output_type": "execute_result"
    }
   ],
   "source": [
    "teamCount([2, 1, 3])"
   ]
  },
  {
   "cell_type": "code",
   "execution_count": 8,
   "id": "964ae181-9634-44cb-bcb7-4c4813b63962",
   "metadata": {},
   "outputs": [
    {
     "data": {
      "text/plain": [
       "4"
      ]
     },
     "execution_count": 8,
     "metadata": {},
     "output_type": "execute_result"
    }
   ],
   "source": [
    "teamCount(([1, 2, 3, 4]))"
   ]
  },
  {
   "cell_type": "code",
   "execution_count": null,
   "id": "5c373835-1b0c-4580-8ea8-cf1143f41308",
   "metadata": {},
   "outputs": [],
   "source": []
  }
 ],
 "metadata": {
  "kernelspec": {
   "display_name": "Python 3 (ipykernel)",
   "language": "python",
   "name": "python3"
  },
  "language_info": {
   "codemirror_mode": {
    "name": "ipython",
    "version": 3
   },
   "file_extension": ".py",
   "mimetype": "text/x-python",
   "name": "python",
   "nbconvert_exporter": "python",
   "pygments_lexer": "ipython3",
   "version": "3.12.4"
  }
 },
 "nbformat": 4,
 "nbformat_minor": 5
}
