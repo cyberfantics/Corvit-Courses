{
 "cells": [
  {
   "cell_type": "code",
   "execution_count": 3,
   "id": "73b5a3a5-c106-4a79-9fe6-06c149d580df",
   "metadata": {},
   "outputs": [
    {
     "name": "stdin",
     "output_type": "stream",
     "text": [
      " 5 15\n"
     ]
    },
    {
     "name": "stdout",
     "output_type": "stream",
     "text": [
      "------.|.------\n",
      "---.|..|..|.---\n",
      "----WELCOME----\n",
      "---.|..|..|.---\n",
      "------.|.------\n"
     ]
    }
   ],
   "source": [
    "# Read input values\n",
    "n, m = map(int, input().split())\n",
    "\n",
    "# Create the pattern for the top half\n",
    "top_half = [('.|.' * (2*i + 1)).center(m, '-') for i in range(n//2)]\n",
    "\n",
    "# Create the middle line\n",
    "middle_line = 'WELCOME'.center(m, '-')\n",
    "\n",
    "# Create the pattern for the bottom half\n",
    "bottom_half = [('.|.' * (2*i + 1)).center(m, '-') for i in range(n//2-1, -1, -1)]\n",
    "\n",
    "# Combine all parts\n",
    "pattern = top_half + [middle_line] + bottom_half\n",
    "\n",
    "# Print the final pattern\n",
    "print('\\n'.join(pattern))\n"
   ]
  },
  {
   "cell_type": "code",
   "execution_count": null,
   "id": "44e557c3-972e-499f-813a-b168ffc447b4",
   "metadata": {},
   "outputs": [],
   "source": []
  },
  {
   "cell_type": "code",
   "execution_count": 4,
   "id": "f31a7e42-2e13-4025-8ad5-2bb75bec978b",
   "metadata": {},
   "outputs": [
    {
     "name": "stdin",
     "output_type": "stream",
     "text": [
      " 7 21\n"
     ]
    },
    {
     "name": "stdout",
     "output_type": "stream",
     "text": [
      "---------.|.---------\n",
      "------.|..|..|.------\n",
      "---.|..|..|..|..|.---\n",
      "-------WELCOME-------\n",
      "---.|..|..|..|..|.---\n",
      "------.|..|..|.------\n",
      "---------.|.---------\n"
     ]
    }
   ],
   "source": [
    "n,m = input().split()\n",
    "n = int(n)\n",
    "m = int(m)\n",
    "#printing first half\n",
    "for i in range(n//2):\n",
    "    t = int((2*i)+1)\n",
    "    print(('.|.'*t).center(m, '-'))\n",
    "    \n",
    "#printing middle line\n",
    "print('WELCOME'.center(m,'-'))\n",
    "\n",
    "#printing last half\n",
    "for i in reversed(range(n//2)):\n",
    "    t = int((2*i)+1)\n",
    "    print(('.|.'*t).center(m, '-'))"
   ]
  },
  {
   "cell_type": "code",
   "execution_count": null,
   "id": "d5e5fb4c-4ab2-4a92-bd07-2f0e2d5c861a",
   "metadata": {},
   "outputs": [],
   "source": []
  },
  {
   "cell_type": "code",
   "execution_count": 5,
   "id": "cb6dbdd7-8034-4224-8636-478c45f58ac4",
   "metadata": {},
   "outputs": [
    {
     "name": "stdin",
     "output_type": "stream",
     "text": [
      " 9 27\n"
     ]
    },
    {
     "name": "stdout",
     "output_type": "stream",
     "text": [
      "------------.|.------------\n",
      "---------.|..|..|.---------\n",
      "------.|..|..|..|..|.------\n",
      "---.|..|..|..|..|..|..|.---\n",
      "----------WELCOME----------\n",
      "---.|..|..|..|..|..|..|.---\n",
      "------.|..|..|..|..|.------\n",
      "---------.|..|..|.---------\n",
      "------------.|.------------\n"
     ]
    }
   ],
   "source": [
    "# Read input values\n",
    "n, m = map(int, input().split())\n",
    "\n",
    "# Function to generate the pattern\n",
    "def generate_pattern(n, m):\n",
    "    pattern = []\n",
    "\n",
    "    # Create the top half\n",
    "    for i in range(n // 2):\n",
    "        line = ('.|.' * (2 * i + 1)).center(m, '-')\n",
    "        pattern.append(line)\n",
    "\n",
    "    # Create the middle line\n",
    "    middle_line = 'WELCOME'.center(m, '-')\n",
    "    pattern.append(middle_line)\n",
    "\n",
    "    # Create the bottom half\n",
    "    for i in range(n // 2 - 1, -1, -1):\n",
    "        line = ('.|.' * (2 * i + 1)).center(m, '-')\n",
    "        pattern.append(line)\n",
    "\n",
    "    return pattern\n",
    "\n",
    "# Generate and print the pattern\n",
    "pattern = generate_pattern(n, m)\n",
    "for line in pattern:\n",
    "    print(line)"
   ]
  },
  {
   "cell_type": "code",
   "execution_count": null,
   "id": "74658379-a348-4786-ad59-f1fd45376699",
   "metadata": {},
   "outputs": [],
   "source": []
  },
  {
   "cell_type": "code",
   "execution_count": 6,
   "id": "32710eaf-6009-44f6-9e7c-6e1a39c2919f",
   "metadata": {},
   "outputs": [
    {
     "name": "stdin",
     "output_type": "stream",
     "text": [
      " 5 15\n"
     ]
    },
    {
     "name": "stdout",
     "output_type": "stream",
     "text": [
      "------.|.------\n",
      "---.|..|..|.---\n",
      "----WELCOME----\n",
      "---.|..|..|.---\n",
      "------.|.------\n"
     ]
    }
   ],
   "source": [
    "# Using list comprehension\n",
    "n, m = map(int, input().split())\n",
    "pattern = [('.|.'*(2 * i + 1)).center(m,'-') for i in range(n//2)]\n",
    "print('\\n'.join(pattern + ['WELCOME'.center(m, '-')] + pattern[::-1]))"
   ]
  },
  {
   "cell_type": "code",
   "execution_count": null,
   "id": "4d50e1df-c444-420a-8ddd-8763e8e3cff5",
   "metadata": {},
   "outputs": [],
   "source": []
  },
  {
   "cell_type": "code",
   "execution_count": 7,
   "id": "95c9fb5d-2191-4e39-937e-6e9d84eb4039",
   "metadata": {},
   "outputs": [
    {
     "name": "stdin",
     "output_type": "stream",
     "text": [
      " 8 24\n"
     ]
    },
    {
     "name": "stdout",
     "output_type": "stream",
     "text": [
      "----------.|.-----------\n",
      "-------.|..|..|.--------\n",
      "----.|..|..|..|..|.-----\n",
      "--------WELCOME---------\n",
      "----.|..|..|..|..|.-----\n",
      "-------.|..|..|.--------\n",
      "----------.|.-----------\n"
     ]
    }
   ],
   "source": [
    "n, m = map(int, input().split()) \n",
    "str1 = \".|.\"\n",
    "half_thickness = n-2\n",
    "\n",
    "for i in range(1,half_thickness+1,2):\n",
    "    print((str1*i).center(m,\"-\"))\n",
    "\n",
    "print(\"WELCOME\".center(m,\"-\"))\n",
    "\n",
    "for i in reversed(range(1,half_thickness+1,2)):\n",
    "    print((str1*i).center(m,\"-\"))"
   ]
  },
  {
   "cell_type": "code",
   "execution_count": null,
   "id": "fbc9c859-d8af-46e7-81f2-14c3d4d319dd",
   "metadata": {},
   "outputs": [],
   "source": []
  },
  {
   "cell_type": "code",
   "execution_count": 9,
   "id": "65fc5220-a2bf-4d5b-973c-ab181ca01761",
   "metadata": {},
   "outputs": [
    {
     "name": "stdin",
     "output_type": "stream",
     "text": [
      " 3 9\n"
     ]
    },
    {
     "name": "stdout",
     "output_type": "stream",
     "text": [
      "---.|.---\n",
      "-WELCOME-\n",
      "---.|.---\n"
     ]
    }
   ],
   "source": [
    "# Enter your code here. Read input from STDIN. Print output to \n",
    "\n",
    "if __name__ == \"__main__\":\n",
    "    row_num, column_num = map(int, input().split())\n",
    "    \n",
    "    \n",
    "    num_list = []\n",
    "    \n",
    "    # take user input N and M as stated in the problem: https://www.hackerrank.com/challenges/designer-door-mat\n",
    "    # where N are the number of rows and M are the number of coulmns\n",
    "    # For this explanation we assume N(row_num)=7, M(column_num)=21 for simplicity, \n",
    "    # the code below works on all the test cases provided by hackerrank and has cleared the submission\n",
    "    \n",
    "    \n",
    "    # this for loop is for iterating through the number of rows: 0th row to (n-1)th row\n",
    "    for i in range(0, row_num):\n",
    "        \n",
    "        # steps to be done at each row\n",
    "        if i < row_num//2:\n",
    "            # BEFORE REACHING THE MIDDLE OF THE DOOR MAT\n",
    "            \n",
    "            # we need to generate a pattern of \".|.\" aligned with '-' in the following manner: \n",
    "            # steps below will generate \".|.\" pattern 1, 3, 5 times \n",
    "            # On i=0, times = 2*(0+1)-1 = 1 => ---------.|.---------\n",
    "            # On i=1, times = 2*(1+1)-1 = 3 => ------.|..|..|.------\n",
    "            # On i=2, times = 2*(2+1)-1 = 5 => ---.|..|..|..|..|.---\n",
    "            times = 2*(i+1)-1\n",
    "            \n",
    "            # record these numbers since we need to do the reverse when we reach the middle of the \"door mat\"\n",
    "            num_list.append(times)\n",
    "            \n",
    "            # recall the assignment on Text Alignment: https://www.hackerrank.com/challenges/text-alignment/problem\n",
    "            # since that idea will be used below - at least this is how I look.\n",
    "            \n",
    "            # Essentially, this part of code helps to eliminate the need of a for loop for iterating through each columns to generate '-'\n",
    "            # which would otherwise have to be used to print '-' surrounding the pattern .|. in each row\n",
    "            # instead we can use the column number \"M\" from the user input to determine how much alignment is to be done\n",
    "            print(('.|.'*times).center(column_num, '-'))\n",
    "        \n",
    "        \n",
    "        elif i == (row_num//2):\n",
    "            # UPON REACHING EXACTLY IN THE MIDDLE OF THE DOOR MAT\n",
    "            # once middle of the row is reached, all we need to print is \"WELCOME\" aligned with '-' : -------WELCOME-------\n",
    "            print('WELCOME'.center(column_num, '-'))\n",
    "        else:\n",
    "        # AFTER CROSSING THE MIDDLE OF THE DOOR MAT\n",
    "        # as soon as we cross the middle of the row, we need to print the same pattern as done above but this time in reverse order\n",
    "        # thankfully we have already stored the generated numbers in a list which is num_list = [1, 3, 5]\n",
    "        # all we need to do is just fetch them one by one in reverse order\n",
    "        # which is what is done by: num_list[(row_num-1)-i]\n",
    "        # row_num = 7, i = 4, num_list[(7-1)-4] --> num_list[2] --> 5 => ---.|..|..|..|..|.---\n",
    "        # row_num = 7, i = 5, num_list[(7-1)-5] --> num_list[1] --> 3 => ------.|..|..|.------\n",
    "        # row_num = 7, i = 6, num_list[(7-1)-6] --> num_list[0] --> 1 => ---------.|.---------\n",
    "            print(('.|.'*num_list[(row_num-1)-i]).center(column_num, '-'))\n",
    "        \n",
    "        # DONE!"
   ]
  },
  {
   "cell_type": "code",
   "execution_count": null,
   "id": "b1380e74-759b-47dd-8eb0-f11c0622c24b",
   "metadata": {},
   "outputs": [],
   "source": []
  },
  {
   "cell_type": "code",
   "execution_count": 11,
   "id": "3b3bcd11-2746-44d4-b6b2-7abc5b9edfda",
   "metadata": {},
   "outputs": [
    {
     "name": "stdin",
     "output_type": "stream",
     "text": [
      " 3 9\n"
     ]
    },
    {
     "name": "stdout",
     "output_type": "stream",
     "text": [
      "---.|.---\n",
      "-WELCOME-\n",
      "---.|.---\n"
     ]
    }
   ],
   "source": [
    "# Read input values\n",
    "n, m = map(int, input().split())\n",
    "\n",
    "# Function to generate the pattern\n",
    "def generate_pattern(n, m):\n",
    "    # Generate the top half\n",
    "    top_half = [('.|.' * (2 * i + 1)).center(m, '-') for i in range(n // 2)]\n",
    "    \n",
    "    # Generate the middle line\n",
    "    middle_line = 'WELCOME'.center(m, '-')\n",
    "    \n",
    "    # Generate the bottom half\n",
    "    bottom_half = [('.|.' * (2 * i + 1)).center(m, '-') for i in range(n // 2 - 1, -1, -1)]\n",
    "    \n",
    "    # Combine all parts\n",
    "    pattern = top_half + [middle_line] + bottom_half\n",
    "    return pattern\n",
    "\n",
    "# Generate and print the pattern\n",
    "pattern = generate_pattern(n, m)\n",
    "print('\\n'.join(pattern))\n"
   ]
  },
  {
   "cell_type": "code",
   "execution_count": null,
   "id": "1fbe690b-7f93-400c-aa30-1ecc3056c7bf",
   "metadata": {},
   "outputs": [],
   "source": []
  }
 ],
 "metadata": {
  "kernelspec": {
   "display_name": "Python 3 (ipykernel)",
   "language": "python",
   "name": "python3"
  },
  "language_info": {
   "codemirror_mode": {
    "name": "ipython",
    "version": 3
   },
   "file_extension": ".py",
   "mimetype": "text/x-python",
   "name": "python",
   "nbconvert_exporter": "python",
   "pygments_lexer": "ipython3",
   "version": "3.12.4"
  }
 },
 "nbformat": 4,
 "nbformat_minor": 5
}
