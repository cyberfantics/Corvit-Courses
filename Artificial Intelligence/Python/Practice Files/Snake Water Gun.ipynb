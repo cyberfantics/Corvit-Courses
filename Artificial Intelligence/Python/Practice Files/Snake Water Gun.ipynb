{
 "cells": [
  {
   "cell_type": "code",
   "execution_count": 19,
   "id": "f7df2de6-1d8d-4aae-b4a6-e6e719898d91",
   "metadata": {},
   "outputs": [
    {
     "name": "stdout",
     "output_type": "stream",
     "text": [
      "Choose an option:\n",
      "0: snake\n",
      "1: water\n",
      "2: gun\n"
     ]
    },
    {
     "name": "stdin",
     "output_type": "stream",
     "text": [
      "Enter your choice (0, 1, or 2):  4\n"
     ]
    },
    {
     "name": "stdout",
     "output_type": "stream",
     "text": [
      "Try Again, You Got Error: list index out of range\n"
     ]
    }
   ],
   "source": [
    "import random\n",
    "\n",
    "def game_logic(user_choice, computer_choice, choices, user_choice_mapping):\n",
    "    \"\"\"\n",
    "    Determines the result of the game based on user and computer choices.\n",
    "\n",
    "    Args:\n",
    "    - user_choice (int): Index of the user's choice.\n",
    "    - computer_choice (int): Index of the computer's choice.\n",
    "    - choices (list): List of possible choices.\n",
    "    - user_choice_mapping (dict): Mapping of choice index to choice name.\n",
    "    \"\"\"\n",
    "    # Result matrix: 'D' for Draw, 'W' for Win, 'L' for Lose\n",
    "    result_matrix = [\n",
    "        ['D', 'W', 'L'],  # Choices: Snake\n",
    "        ['L', 'D', 'W'],  # Choices: Water\n",
    "        ['W', 'L', 'D']   # Choices: Gun\n",
    "    ]\n",
    "    \n",
    "    # Determine the result of the match\n",
    "    if user_choice == computer_choice:\n",
    "        result = \"Match Draw\"\n",
    "    elif result_matrix[user_choice][computer_choice] == 'W':\n",
    "        result = \"You Win\"\n",
    "    else:\n",
    "        result = \"You Lose\"\n",
    "    \n",
    "    # Print the result\n",
    "    print(f\"{result}, Because You chose {user_choice_mapping.get(str(user_choice))} and Computer chose {choices[computer_choice]}\")\n",
    "\n",
    "# Define the available choices\n",
    "choices = ['snake', 'water', 'gun']\n",
    "\n",
    "# Randomly select the computer's choice\n",
    "computer_choice = random.randint(0, len(choices) - 1)\n",
    "\n",
    "# Map user choice indices to choices\n",
    "user_choice_mapping = {str(index): choice for index, choice in enumerate(choices)}\n",
    "\n",
    "# Display options for the user\n",
    "print(\"Choose an option:\")\n",
    "for key, value in user_choice_mapping.items():\n",
    "    print(f'{key}: {value}')\n",
    "\n",
    "# Get the user's choice\n",
    "user_choice = int(input(\"Enter your choice (0, 1, or 2): \"))\n",
    "\n",
    "# Error handling for invalid user input\n",
    "try:\n",
    "    # Call the game logic function to determine the result\n",
    "    game_logic(user_choice, computer_choice, choices, user_choice_mapping)\n",
    "except Exception as e:\n",
    "    print(f\"Try Again, You Got Error: {e}\")\n"
   ]
  },
  {
   "cell_type": "code",
   "execution_count": null,
   "id": "85856e9b-f3fe-4ca7-b218-c659b244a788",
   "metadata": {},
   "outputs": [],
   "source": []
  },
  {
   "cell_type": "code",
   "execution_count": 20,
   "id": "e34d2266-7c98-45e7-b06d-4cc423e25e8b",
   "metadata": {},
   "outputs": [
    {
     "name": "stdout",
     "output_type": "stream",
     "text": [
      "Choose an option:\n",
      "0: snake\n",
      "1: water\n",
      "2: gun\n"
     ]
    },
    {
     "name": "stdin",
     "output_type": "stream",
     "text": [
      "Enter your choice (0, 1, or 2):  2\n"
     ]
    },
    {
     "name": "stdout",
     "output_type": "stream",
     "text": [
      "Match Draw, Because You chose gun and Computer chose gun\n"
     ]
    }
   ],
   "source": [
    "import random\n",
    "\n",
    "# Define choices\n",
    "choices = ['snake', 'water', 'gun']\n",
    "\n",
    "# Generate the computer's choice\n",
    "computer_choice_index = random.randint(0, len(choices) - 1)\n",
    "computer_choice = choices[computer_choice_index]\n",
    "\n",
    "# Create a mapping from indices to choices\n",
    "user_choice_mapping = {str(index): choice for index, choice in enumerate(choices)}\n",
    "\n",
    "# Print choices for the user\n",
    "print(\"Choose an option:\")\n",
    "print(\"\\n\".join(f\"{key}: {value}\" for key, value in user_choice_mapping.items()))\n",
    "\n",
    "# Get the user's choice\n",
    "user_choice_index = int(input(\"Enter your choice (0, 1, or 2): \"))\n",
    "user_choice = choices[user_choice_index]\n",
    "\n",
    "# Define the result matrix and result mapping\n",
    "result_matrix = [\n",
    "    ['D', 'W', 'L'],  # Choices: Snake\n",
    "    ['L', 'D', 'W'],  # Choices: Water\n",
    "    ['W', 'L', 'D']   # Choices: Gun\n",
    "]\n",
    "\n",
    "# Define a lambda function to get the result\n",
    "get_result = lambda u, c: result_matrix[u][c]\n",
    "\n",
    "# Determine the result\n",
    "result = get_result(user_choice_index, computer_choice_index)\n",
    "\n",
    "# Map results to their meanings\n",
    "result_mapping = {\n",
    "    'D': \"Match Draw\",\n",
    "    'W': \"You Win\",\n",
    "    'L': \"You Lose\"\n",
    "}\n",
    "\n",
    "# Print the result\n",
    "print(f\"{result_mapping[result]}, Because You chose {user_choice} and Computer chose {computer_choice}\")"
   ]
  },
  {
   "cell_type": "code",
   "execution_count": null,
   "id": "9297a66c-c514-45e8-be3e-561077f47e74",
   "metadata": {},
   "outputs": [],
   "source": []
  },
  {
   "cell_type": "code",
   "execution_count": 23,
   "id": "3e336f40-0df6-4f1c-aa1f-1c951046ec87",
   "metadata": {},
   "outputs": [
    {
     "name": "stdout",
     "output_type": "stream",
     "text": [
      "Choose an option:\n",
      "0: snake\n",
      "1: water\n",
      "2: gun\n"
     ]
    },
    {
     "name": "stdin",
     "output_type": "stream",
     "text": [
      "Enter your choice (0, 1, or 2):  1\n"
     ]
    },
    {
     "name": "stdout",
     "output_type": "stream",
     "text": [
      "You Lose, Because You chose water and Computer chose snake\n"
     ]
    }
   ],
   "source": [
    "import random\n",
    "\n",
    "class SnakeWaterGame:\n",
    "    def __init__(self):\n",
    "        self.choices = ['snake', 'water', 'gun']\n",
    "        self.result_matrix = [\n",
    "            ['D', 'W', 'L'],  # Choices: Snake\n",
    "            ['L', 'D', 'W'],  # Choices: Water\n",
    "            ['W', 'L', 'D']   # Choices: Gun\n",
    "        ]\n",
    "        self.result_mapping = {\n",
    "            'D': \"Match Draw\",\n",
    "            'W': \"You Win\",\n",
    "            'L': \"You Lose\"\n",
    "        }\n",
    "\n",
    "    def get_computer_choice(self):\n",
    "        return random.choice(self.choices)\n",
    "\n",
    "    def get_user_choice(self):\n",
    "        print(\"Choose an option:\")\n",
    "        for index, choice in enumerate(self.choices):\n",
    "            print(f\"{index}: {choice}\")\n",
    "        user_index = int(input(\"Enter your choice (0, 1, or 2): \"))\n",
    "        return user_index\n",
    "\n",
    "    def determine_result(self, user_index, computer_choice):\n",
    "        computer_index = self.choices.index(computer_choice)\n",
    "        result_code = self.result_matrix[user_index][computer_index]\n",
    "        return self.result_mapping[result_code]\n",
    "\n",
    "    def play(self):\n",
    "        computer_choice = self.get_computer_choice()\n",
    "        user_index = self.get_user_choice()\n",
    "        user_choice = self.choices[user_index]\n",
    "        \n",
    "        result = self.determine_result(user_index, computer_choice)\n",
    "        print(f\"{result}, Because You chose {user_choice} and Computer chose {computer_choice}\")\n",
    "\n",
    "if __name__ == \"__main__\":\n",
    "    game = SnakeWaterGame()\n",
    "    game.play()\n"
   ]
  },
  {
   "cell_type": "code",
   "execution_count": null,
   "id": "6bf65309-4974-4536-ac2d-9e5dfe13bb04",
   "metadata": {},
   "outputs": [],
   "source": []
  }
 ],
 "metadata": {
  "kernelspec": {
   "display_name": "Python 3 (ipykernel)",
   "language": "python",
   "name": "python3"
  },
  "language_info": {
   "codemirror_mode": {
    "name": "ipython",
    "version": 3
   },
   "file_extension": ".py",
   "mimetype": "text/x-python",
   "name": "python",
   "nbconvert_exporter": "python",
   "pygments_lexer": "ipython3",
   "version": "3.12.4"
  }
 },
 "nbformat": 4,
 "nbformat_minor": 5
}
