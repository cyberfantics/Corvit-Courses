{
 "cells": [
  {
   "cell_type": "markdown",
   "id": "1d442904-5945-4e91-810c-c97a253c6ee5",
   "metadata": {},
   "source": [
    "## 1. Create a calculator"
   ]
  },
  {
   "cell_type": "code",
   "execution_count": 1,
   "id": "18743576-8d00-4d97-a845-48c1b0a2a3cc",
   "metadata": {},
   "outputs": [],
   "source": [
    "add = lambda x,y : x+y # Function to add two numbers\n",
    "mul = lambda x,y : x*y # Function to multiply two numbers\n",
    "div = lambda x,y : x//y # Function to divide two numbers in such a way that they produce int output\n",
    "sub = lambda x,y : x-y # Function to subtract two numbers\n",
    "pow = lambda x,y : x**y # Function to take power of two numbers\n",
    "mod = lambda x,y : x%y # Function to take reminder of two numbers"
   ]
  },
  {
   "cell_type": "code",
   "execution_count": 2,
   "id": "55e37f9c-20d6-4f77-ad22-08f440493e87",
   "metadata": {},
   "outputs": [
    {
     "name": "stdin",
     "output_type": "stream",
     "text": [
      "Enter the value of first number  6\n",
      "Enter the value of second number  7\n",
      "Enter operator  *\n"
     ]
    },
    {
     "name": "stdout",
     "output_type": "stream",
     "text": [
      "6 * 7 = 42 \n"
     ]
    }
   ],
   "source": [
    "x = int(input(\"Enter the value of first number \"))\n",
    "y = int(input(\"Enter the value of second number \"))\n",
    "\n",
    "oper = input(\"Enter operator \")\n",
    "match oper:\n",
    "    case '+':\n",
    "        print(f'{x} + {y} = {add(x,y)} ')\n",
    "\n",
    "    case '*':\n",
    "        print(f'{x} * {y} = {mul(x,y)} ')\n",
    "\n",
    "    case '/':\n",
    "        print(f'{x} / {y} = {div(x,y)} ')\n",
    "\n",
    "    case '-':\n",
    "        print(f'{x} - {y} = {sub(x,y)} ')\n",
    "\n",
    "    case '^':\n",
    "        print(f'{x} ^ {y} = {pow(x,y)} ')\n",
    "\n",
    "    case '%':\n",
    "        print(f'{x} % {y} = {mod(x,y)} ')\n",
    "\n",
    "    case _:\n",
    "        print(\"Invalid Input\")\n",
    "\n"
   ]
  },
  {
   "cell_type": "code",
   "execution_count": null,
   "id": "63f5d7d2-0f41-4731-9f0c-08a8e6b30ed4",
   "metadata": {},
   "outputs": [],
   "source": []
  },
  {
   "cell_type": "code",
   "execution_count": null,
   "id": "348877e2-4463-484f-8d54-bdc897210c6f",
   "metadata": {},
   "outputs": [],
   "source": []
  },
  {
   "cell_type": "markdown",
   "id": "48eb3186-d399-4105-b16f-b240c3be9579",
   "metadata": {},
   "source": [
    "## Quick Quiz\n",
    "**What is the output of below code**"
   ]
  },
  {
   "cell_type": "code",
   "execution_count": 3,
   "id": "ff26b870-d5a1-4340-8311-fc6c31b19ae1",
   "metadata": {},
   "outputs": [
    {
     "name": "stdout",
     "output_type": "stream",
     "text": [
      "so\n"
     ]
    }
   ],
   "source": [
    "name = \"Mansoor\"\n",
    "print(name[-4:-2])\n",
    "\n",
    "# # It display so, Lets debug it\n",
    "# len(name)-4  = 7-4 = 3\n",
    "# len(name)-2 = 7-2 = 5\n",
    "# Now print looks like print(name[3:5])"
   ]
  },
  {
   "cell_type": "code",
   "execution_count": null,
   "id": "4c1cc02e-391d-4d5e-be0b-85c5e8337629",
   "metadata": {},
   "outputs": [],
   "source": []
  },
  {
   "cell_type": "markdown",
   "id": "a9c9aef6-2367-40e6-9b39-4b33dd359eba",
   "metadata": {},
   "source": [
    "## 2. Greet someone on the basis of time"
   ]
  },
  {
   "cell_type": "code",
   "execution_count": 4,
   "id": "0f9a8fae-c9b7-45e8-99ca-cbaa93f71e9e",
   "metadata": {},
   "outputs": [],
   "source": [
    "import time\n",
    "\n",
    "hour = time.strftime(\"%H\")\n",
    "minute = time.strftime(\"%M\")\n",
    "\n",
    "if hour == '6' and minute == '0':\n",
    "    print(\"Good Morning\")\n",
    "\n",
    "elif hour == '13' and minute == '0':\n",
    "    print(\"Good AfterNoon\")\n",
    "\n",
    "elif hour == '18' and minute == '0':\n",
    "    print(\"Good Evening\")\n",
    "\n",
    "else:\n",
    "    pass"
   ]
  },
  {
   "cell_type": "code",
   "execution_count": null,
   "id": "e7c10c07-1bc6-4992-8c66-4f48852086e7",
   "metadata": {},
   "outputs": [],
   "source": []
  },
  {
   "cell_type": "code",
   "execution_count": null,
   "id": "71a0d008-f285-41ba-9c79-c500cb9e003a",
   "metadata": {},
   "outputs": [],
   "source": []
  },
  {
   "cell_type": "markdown",
   "id": "c34855cd-05f4-443c-9e64-158ded2ba01c",
   "metadata": {
    "jp-MarkdownHeadingCollapsed": true
   },
   "source": [
    "## 3. Write a program that is capable of displaying question related to KBC\n",
    "**Use List datatype to store question and their answers**</br>\n",
    "**Display the final amount the person is taking home after playing the game**"
   ]
  },
  {
   "cell_type": "code",
   "execution_count": 5,
   "id": "483ae5fa-e4cf-4e32-a91c-85dbdf812abd",
   "metadata": {},
   "outputs": [],
   "source": [
    "questions_and_answers = [\n",
    "    {\n",
    "        \"question\": \"What is the capital of India?\",\n",
    "        \"answer\": \"New Delhi\"\n",
    "    },\n",
    "    {\n",
    "        \"question\": \"Who wrote the play 'Romeo and Juliet'?\",\n",
    "        \"answer\": \"William Shakespeare\"\n",
    "    },\n",
    "    {\n",
    "        \"question\": \"What is the chemical symbol for gold?\",\n",
    "        \"answer\": \"Au\"\n",
    "    },\n",
    "    {\n",
    "        \"question\": \"Which planet is known as the Red Planet?\",\n",
    "        \"answer\": \"Mars\"\n",
    "    },\n",
    "    {\n",
    "        \"question\": \"In which year did the Titanic sink?\",\n",
    "        \"answer\": \"1912\"\n",
    "    },\n",
    "    {\n",
    "        \"question\": \"What is the largest mammal in the world?\",\n",
    "        \"answer\": \"Blue Whale\"\n",
    "    },\n",
    "    {\n",
    "        \"question\": \"What is the hardest natural substance on Earth?\",\n",
    "        \"answer\": \"Diamond\"\n",
    "    },\n",
    "    {\n",
    "        \"question\": \"Who is known as the 'Father of the Nation' in India?\",\n",
    "        \"answer\": \"Mahatma Gandhi\"\n",
    "    },\n",
    "    {\n",
    "        \"question\": \"What is the smallest prime number?\",\n",
    "        \"answer\": \"2\"\n",
    "    },\n",
    "    {\n",
    "        \"question\": \"Which element has the atomic number 1?\",\n",
    "        \"answer\": \"Hydrogen\"\n",
    "    }\n",
    "]\n"
   ]
  },
  {
   "cell_type": "code",
   "execution_count": 10,
   "id": "496bdf60-21b7-4039-b40b-e28ac84112d9",
   "metadata": {},
   "outputs": [
    {
     "name": "stdin",
     "output_type": "stream",
     "text": [
      "What is the capital of India? (in lower) New Delhi\n",
      "Who wrote the play 'Romeo and Juliet'? (in lower) Willian Shakpsare\n",
      "What is the chemical symbol for gold? (in lower) au\n",
      "Which planet is known as the Red Planet? (in lower) mars\n",
      "In which year did the Titanic sink? (in lower) 1912\n",
      "What is the largest mammal in the world? (in lower) blue whalle\n",
      "What is the hardest natural substance on Earth? (in lower) diamond\n",
      "Who is known as the 'Father of the Nation' in India? (in lower) mahatma gandhi\n",
      "What is the smallest prime number? (in lower) 2\n",
      "Which element has the atomic number 1? (in lower) hydrogen\n"
     ]
    },
    {
     "name": "stdout",
     "output_type": "stream",
     "text": [
      "You won an electric kettle\n"
     ]
    }
   ],
   "source": [
    "points = []\n",
    "for question_and_answer in questions_and_answers:\n",
    "    qa = question_and_answer.get('question')\n",
    "    ans = question_and_answer.get('answer')\n",
    "\n",
    "    user_ans =input(f'{qa} (in lower)')\n",
    "    if user_ans.lower() == ans.lower():\n",
    "        points.append(10)\n",
    "    else:\n",
    "        points.append(0)\n",
    "\n",
    "\n",
    "# Calculate the total points\n",
    "total = sum(points)\n",
    "\n",
    "# Determine the prize based on the total points\n",
    "if total > 100:\n",
    "    print('You won a Bike')\n",
    "elif total > 50:\n",
    "    print(\"You won an electric kettle\")\n",
    "else:\n",
    "    print(\"Try next time\")\n"
   ]
  },
  {
   "cell_type": "code",
   "execution_count": 12,
   "id": "e6fc418e-c75e-45b0-9082-1b5f82a3b446",
   "metadata": {},
   "outputs": [
    {
     "name": "stdout",
     "output_type": "stream",
     "text": [
      "Question: Who wrote the play 'Romeo and Juliet'?\n",
      "Answer: William Shakespeare\n",
      "\n",
      "Question: What is the largest mammal in the world?\n",
      "Answer: Blue Whale\n",
      "\n"
     ]
    }
   ],
   "source": [
    "# Initialize position\n",
    "pos = 0\n",
    "\n",
    "# Iterate through questions and answers\n",
    "for question_and_answer in questions_and_answers:\n",
    "    # Check if the user answered incorrectly\n",
    "    if points[pos] == 0:\n",
    "        # Print the question and correct answer\n",
    "        print(f\"Question: {question_and_answer.get('question')}\")\n",
    "        print(f\"Answer: {question_and_answer.get('answer')}\\n\")\n",
    "    pos += 1"
   ]
  },
  {
   "cell_type": "code",
   "execution_count": null,
   "id": "e1860d24-e479-4902-8cf3-e1b70381c6e8",
   "metadata": {},
   "outputs": [],
   "source": []
  },
  {
   "cell_type": "code",
   "execution_count": null,
   "id": "6c851fa2-f860-40fd-81c5-6dc343947150",
   "metadata": {},
   "outputs": [],
   "source": []
  },
  {
   "cell_type": "markdown",
   "id": "394317fc-37a7-46f0-a3d8-5a5aaf1865b7",
   "metadata": {},
   "source": [
    "## 4. write a python program to translate englist into secret code language, use below rules for this purpose\r\n",
    "1. if the word contain at least 3 character, remove the first letter and append it at the end.\r\n",
    "2. now append three rendom character at the starting and end\r\n",
    "\r\n",
    "else:\r\n",
    "simply reverse the string"
   ]
  },
  {
   "cell_type": "code",
   "execution_count": 53,
   "id": "de419d63-0b72-42d1-8ec3-c1d7d58dea50",
   "metadata": {},
   "outputs": [],
   "source": [
    "import random\n",
    "import string\n",
    "\n",
    "def generate_random(length):\n",
    "    return ''.join(random.choices(string.ascii_lowercase, k=length))\n",
    "\n",
    "def encrypt(messages):\n",
    "    messages = messages.split()\n",
    "    encrypted_message = []\n",
    "\n",
    "    for message in messages:\n",
    "        if len(message) >= 3:\n",
    "            # Modify the word by removing the first letter and appending it to the end\n",
    "            modified_word = message[1:] + message[0]\n",
    "            # Generate three random characters\n",
    "            random_chars = generate_random(7)\n",
    "            # Add random characters at the start and end\n",
    "            modified_word = random_chars + modified_word + random_chars\n",
    "        else:\n",
    "            # Reverse the string for words with fewer than 3 characters\n",
    "            modified_word = message[::-1]\n",
    "        \n",
    "        encrypted_message.append(modified_word)\n",
    "\n",
    "    return ' '.join(encrypted_message)"
   ]
  },
  {
   "cell_type": "code",
   "execution_count": 62,
   "id": "8a815633-45ee-48a8-8846-1da9df817fb4",
   "metadata": {},
   "outputs": [
    {
     "data": {
      "text/plain": [
       "'ffvjkwhelloHffvjkwh qtoimkyowHqtoimky pwhgxmyreApwhgxmy uuivhjhouYuuivhjh ljltewtansoor.Mljltewt zvczotuhisTzvczotu si a xfhnnjoecretsxfhnnjo wqmojqoessagemwqmojqo yaafintowardstyaafint hleunidou?yhleunid infpccjiddinfpccj rjqxbpnouyrjqxbpn esynwptotgesynwpt ti'"
      ]
     },
     "execution_count": 62,
     "metadata": {},
     "output_type": "execute_result"
    }
   ],
   "source": [
    "encrypt(\"Hello How Are You Mansoor. This is a secret message towards you? did you got it\")"
   ]
  },
  {
   "cell_type": "code",
   "execution_count": 59,
   "id": "67dc972d-04a1-4bb0-96f7-8e3fc771e73d",
   "metadata": {},
   "outputs": [],
   "source": [
    "def decrypt(message):\n",
    "    words = message.split()\n",
    "    decrypted_message = []\n",
    "\n",
    "    for word in words:\n",
    "        if len(word) >= 6:  \n",
    "            original_word = word[-8] + word[7:-8]\n",
    "        else:\n",
    "            # Reverse the string for words with fewer than 6 characters\n",
    "            original_word = word[::-1]\n",
    "        \n",
    "        decrypted_message.append(original_word)\n",
    "    \n",
    "    return ' '.join(decrypted_message)\n",
    "\n"
   ]
  },
  {
   "cell_type": "code",
   "execution_count": 64,
   "id": "2d9d059b-6aaa-48c9-90bf-b33cda0e2349",
   "metadata": {},
   "outputs": [
    {
     "data": {
      "text/plain": [
       "'Hello How Are You Mansoor. This is a secret message towards you? did you got it'"
      ]
     },
     "execution_count": 64,
     "metadata": {},
     "output_type": "execute_result"
    }
   ],
   "source": [
    "decrypt('ffvjkwhelloHffvjkwh qtoimkyowHqtoimky pwhgxmyreApwhgxmy uuivhjhouYuuivhjh ljltewtansoor.Mljltewt zvczotuhisTzvczotu si a xfhnnjoecretsxfhnnjo wqmojqoessagemwqmojqo yaafintowardstyaafint hleunidou?yhleunid infpccjiddinfpccj rjqxbpnouyrjqxbpn esynwptotgesynwpt ti')"
   ]
  },
  {
   "cell_type": "code",
   "execution_count": null,
   "id": "fc673933-4b07-4932-93ff-8fbfd56008d2",
   "metadata": {},
   "outputs": [],
   "source": []
  },
  {
   "cell_type": "code",
   "execution_count": 67,
   "id": "d3efd7ad-8117-491c-bbd9-d246ded505e2",
   "metadata": {},
   "outputs": [
    {
     "name": "stdin",
     "output_type": "stream",
     "text": [
      "Enter number  a\n"
     ]
    },
    {
     "name": "stdout",
     "output_type": "stream",
     "text": [
      "Please Enter An Integer \n"
     ]
    }
   ],
   "source": [
    "try:\n",
    "    num = int(input(\"Enter number \"))\n",
    "    print(\"Even\") if num%2==0 else print(\"Odd\")\n",
    "except ValueError:\n",
    "    print(\"Please Enter An Integer \")"
   ]
  },
  {
   "cell_type": "code",
   "execution_count": null,
   "id": "888b4ccf-e132-422b-9401-07ddcd38b635",
   "metadata": {},
   "outputs": [],
   "source": []
  },
  {
   "cell_type": "code",
   "execution_count": 71,
   "id": "1044c6b9-4fff-4479-bef0-5151868c46c7",
   "metadata": {},
   "outputs": [
    {
     "name": "stdin",
     "output_type": "stream",
     "text": [
      "Enter a number  0\n"
     ]
    },
    {
     "name": "stdout",
     "output_type": "stream",
     "text": [
      "Zero\n"
     ]
    }
   ],
   "source": [
    "try:\n",
    "    num = int(input(\"Enter a number \"))\n",
    "    print(\"Positive\") if num > 0 else print(\"Negative\") if num < 0 else print(\"Zero\")\n",
    "except ValueError:\n",
    "    print(\"Please Enter an integer\")"
   ]
  },
  {
   "cell_type": "code",
   "execution_count": null,
   "id": "8645e299-196f-4227-9e5f-692ec7a0d9f9",
   "metadata": {},
   "outputs": [],
   "source": []
  },
  {
   "cell_type": "code",
   "execution_count": 72,
   "id": "9fc82861-8b60-45b6-8c95-93c99ef6d4be",
   "metadata": {},
   "outputs": [],
   "source": [
    "marks = [4,5,768,545,3456,565]"
   ]
  },
  {
   "cell_type": "code",
   "execution_count": 74,
   "id": "c3794f5c-649f-4435-b9b8-999e3e2c9619",
   "metadata": {},
   "outputs": [
    {
     "name": "stdout",
     "output_type": "stream",
     "text": [
      "At index 1 marks are 4\n",
      "At index 2 marks are 5\n",
      "At index 3 marks are 768\n",
      "At index 4 marks are 545\n",
      "At index 5 marks are 3456\n",
      "At index 6 marks are 565\n"
     ]
    }
   ],
   "source": [
    "for index, mark in enumerate(marks, start=1):\n",
    "    print(f'At index {index} marks are {mark}')"
   ]
  },
  {
   "cell_type": "code",
   "execution_count": null,
   "id": "a44e76a2-1811-46f4-aac0-97ccc7c9bf87",
   "metadata": {},
   "outputs": [],
   "source": []
  },
  {
   "cell_type": "code",
   "execution_count": null,
   "id": "cf549f6e-ccc5-4b7d-82f6-78258fc6a489",
   "metadata": {},
   "outputs": [],
   "source": []
  }
 ],
 "metadata": {
  "kernelspec": {
   "display_name": "Python 3 (ipykernel)",
   "language": "python",
   "name": "python3"
  },
  "language_info": {
   "codemirror_mode": {
    "name": "ipython",
    "version": 3
   },
   "file_extension": ".py",
   "mimetype": "text/x-python",
   "name": "python",
   "nbconvert_exporter": "python",
   "pygments_lexer": "ipython3",
   "version": "3.12.4"
  }
 },
 "nbformat": 4,
 "nbformat_minor": 5
}
