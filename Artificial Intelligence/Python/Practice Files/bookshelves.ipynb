{
 "cells": [
  {
   "cell_type": "code",
   "execution_count": 1,
   "id": "a394e3f6-20c4-427f-afe8-e86653689cf5",
   "metadata": {},
   "outputs": [],
   "source": [
    "from typing import List\n",
    "\n",
    "class Solution:\n",
    "    def minHeightShelves(self, books: List[List[int]], shelfWidth: int) -> int:\n",
    "        n = len(books)\n",
    "        dp = [float('inf')] * (n + 1)\n",
    "        dp[0] = 0\n",
    "        \n",
    "        for i in range(1, n + 1):\n",
    "            width = 0\n",
    "            height = 0\n",
    "            j = i\n",
    "            \n",
    "            while j > 0:\n",
    "                width += books[j - 1][0]\n",
    "                if width > shelfWidth:\n",
    "                    break\n",
    "                height = max(height, books[j - 1][1])\n",
    "                dp[i] = min(dp[i], dp[j - 1] + height)\n",
    "                j -= 1\n",
    "        \n",
    "        return dp[n]\n",
    "\n"
   ]
  },
  {
   "cell_type": "code",
   "execution_count": 2,
   "id": "df1a1012-1f20-43fa-a01f-26d617a7381a",
   "metadata": {},
   "outputs": [
    {
     "name": "stdout",
     "output_type": "stream",
     "text": [
      "6\n"
     ]
    }
   ],
   "source": [
    "# Example usage\n",
    "sol = Solution()\n",
    "books = [[1,1],[2,3],[2,3],[1,1],[1,1],[1,1],[1,2]]\n",
    "shelfWidth = 4\n",
    "print(sol.minHeightShelves(books, shelfWidth))  # Output: 6\n",
    "\n"
   ]
  },
  {
   "cell_type": "code",
   "execution_count": 3,
   "id": "ba868ca6-5941-4c40-87ae-552cd85732ff",
   "metadata": {},
   "outputs": [
    {
     "name": "stdout",
     "output_type": "stream",
     "text": [
      "4\n"
     ]
    }
   ],
   "source": [
    "books = [[1,3],[2,4],[3,2]]\n",
    "shelfWidth = 6\n",
    "print(sol.minHeightShelves(books, shelfWidth))  # Output: 4\n"
   ]
  },
  {
   "cell_type": "code",
   "execution_count": null,
   "id": "ae0bf654-29ee-403d-92ef-1df93bfa0bd4",
   "metadata": {},
   "outputs": [],
   "source": []
  },
  {
   "cell_type": "code",
   "execution_count": 4,
   "id": "38c70b5f-af0b-4f9f-af44-4ea9bfa18dd6",
   "metadata": {},
   "outputs": [],
   "source": [
    "import math\n",
    "\n",
    "class Solution:\n",
    "    def minHeightShelves(self, books: List[List   [int]], shelfWidth: int) -> int:\n",
    "        #return self.bfs(books, shelfWidth)\n",
    "        return self.dfs(books, shelfWidth, 0, shelfWidth, 0, {})\n",
    "\n",
    "    def bfs(self, books, shelf_width):\n",
    "        # book, width_remaining, row_height\n",
    "        queue = [(shelf_width - books[0][0], books[0][1], 0)]\n",
    "        for b in range(1, len(books)):\n",
    "            queue_size = len(queue)\n",
    "            while queue_size > 0:\n",
    "                queue_size -= 1\n",
    "                current = queue.pop(0)\n",
    "                if current[0] >= books[b][0]:\n",
    "                    queue.append((current[0]-books[b][0], max(current[1], books[b][1]), current[2]))\n",
    "                if current[0] < books[b][0] or books[b][1] > current[1]:\n",
    "                    queue.append((shelf_width-books[b][0], books[b][1], current[2] + current[1]))\n",
    "        min_height = math.inf\n",
    "        for x in queue:\n",
    "            min_height = min(min_height, x[1] + x[2])\n",
    "        return min_height\n",
    "\n",
    "    def dfs(self, books, shelf_width, row_height, width_remaining, j, memo):\n",
    "        if j >= len(books):\n",
    "            return row_height\n",
    "\n",
    "        key =  str(j) + \",\" + str(width_remaining)\n",
    "        if key in memo:  return memo[key]\n",
    "\n",
    "        book = books[j]\n",
    "        same_row, new_col = math.inf, math.inf\n",
    "\n",
    "        # add to current row if space permits\n",
    "        if width_remaining >= book[0]:\n",
    "            same_row = self.dfs(books, shelf_width, max(row_height, book[1]), \\\n",
    "                                width_remaining - book[0], j+1, memo)\n",
    "        \n",
    "        # add to next row\n",
    "        if width_remaining < book[0] or book[1] > row_height:\n",
    "            new_col = self.dfs(books, shelf_width, book[1], \\\n",
    "                               shelf_width - book[0], j+1, memo) + row_height\n",
    "        \n",
    "        memo[key] = min(same_row, new_col)\n",
    "        return memo[key]"
   ]
  },
  {
   "cell_type": "code",
   "execution_count": null,
   "id": "5f801ab3-892d-4c1b-88f6-1e1956a2411d",
   "metadata": {},
   "outputs": [],
   "source": []
  },
  {
   "cell_type": "code",
   "execution_count": 5,
   "id": "35259eb1-77a6-45d5-84d0-6a86903773cf",
   "metadata": {},
   "outputs": [],
   "source": [
    "class Solution:\n",
    "    def minHeightShelves(self, books: List[List[int]], shelfWidth: int) -> int:\n",
    "        n = len(books)\n",
    "        # dp[i] will store the minimum height of the bookcase containing all\n",
    "        # books up to and excluding i\n",
    "        dp = [0] * (n + 1)\n",
    "\n",
    "        # Base cases\n",
    "        dp[0] = 0\n",
    "        dp[1] = books[0][1]\n",
    "\n",
    "        for i in range(2, n + 1):\n",
    "            # new shelf built to hold current book\n",
    "            remaining_shelf_width = shelfWidth - books[i - 1][0]\n",
    "            max_height = books[i - 1][1]\n",
    "            dp[i] = books[i - 1][1] + dp[i - 1]\n",
    "\n",
    "            j = i - 1\n",
    "            # calculate the height when previous books are added to new shelf\n",
    "            while j > 0 and remaining_shelf_width - books[j - 1][0] >= 0:\n",
    "                max_height = max(max_height, books[j - 1][1])\n",
    "                remaining_shelf_width -= books[j - 1][0]\n",
    "                dp[i] = min(dp[i], max_height + dp[j - 1])\n",
    "                j -= 1\n",
    "\n",
    "        return dp[n]"
   ]
  },
  {
   "cell_type": "code",
   "execution_count": null,
   "id": "678d0d3d-9f1c-4840-9705-fa484c24ebdf",
   "metadata": {},
   "outputs": [],
   "source": []
  },
  {
   "cell_type": "code",
   "execution_count": 6,
   "id": "69860400-1655-4264-b7da-9078a71af002",
   "metadata": {},
   "outputs": [],
   "source": [
    "class Solution:\n",
    "    def minHeightShelves(self, books: List[List[int]], shelfWidth: int) -> int:\n",
    "        # books - width, height\n",
    "        @cache\n",
    "        def solve(idx, currwidth, maxht):\n",
    "            if idx == len(books):\n",
    "                return 0\n",
    "            \n",
    "            op1, op2 = float(\"inf\"), float(\"inf\")\n",
    "            if currwidth + books[idx][0] <= shelfWidth:\n",
    "                op1 = solve(idx+1, books[idx][0] + currwidth, max(maxht, books[idx][1])) + max(maxht, books[idx][1]) - maxht\n",
    "            \n",
    "            op2 = solve(idx+1, books[idx][0], books[idx][1]) + books[idx][1]\n",
    "            \n",
    "            return min(op1, op2)\n",
    "        \n",
    "        return solve(0, 0, 0)"
   ]
  },
  {
   "cell_type": "code",
   "execution_count": null,
   "id": "937263bf-85e8-432f-b0b2-6fb846e12464",
   "metadata": {},
   "outputs": [],
   "source": []
  },
  {
   "cell_type": "code",
   "execution_count": null,
   "id": "2a201915-f3fa-46bf-86e6-4263370ad9f7",
   "metadata": {},
   "outputs": [],
   "source": []
  },
  {
   "cell_type": "code",
   "execution_count": 7,
   "id": "8173b1b3-1b9b-4b44-ad06-274f263dbef8",
   "metadata": {},
   "outputs": [],
   "source": [
    "class Solution:\n",
    "    def minHeightShelves(self, books: List[List[int]], shelfWidth: int) -> int:\n",
    "        n = len(books)\n",
    "        dp = [float('inf')] * (1+n)     # dp[i]= min height of bookshelf from 0~i\n",
    "        dp[0] = 0 \n",
    "\n",
    "        for i in range(1, n+1):\n",
    "            max_height = 0\n",
    "            width_left = shelfWidth\n",
    "\n",
    "            for j in range(i - 1, -1, -1):\n",
    "                width_left -= books[j][0]\n",
    "                max_height = max(max_height, books[j][1])\n",
    "\n",
    "                if width_left >= 0:\n",
    "                    dp[i] = min(dp[i], dp[j] + max_height)\n",
    "                \n",
    "                # print(f\"i,j={i},{j}\")\n",
    "                # print(f\"   w={width_left}, h={max_height}\")\n",
    "                # print(f\"   {dp}\")\n",
    "        return dp[n]"
   ]
  },
  {
   "cell_type": "code",
   "execution_count": null,
   "id": "95abc929-7be6-4759-b249-94b5536ac665",
   "metadata": {},
   "outputs": [],
   "source": []
  }
 ],
 "metadata": {
  "kernelspec": {
   "display_name": "Python 3 (ipykernel)",
   "language": "python",
   "name": "python3"
  },
  "language_info": {
   "codemirror_mode": {
    "name": "ipython",
    "version": 3
   },
   "file_extension": ".py",
   "mimetype": "text/x-python",
   "name": "python",
   "nbconvert_exporter": "python",
   "pygments_lexer": "ipython3",
   "version": "3.12.4"
  }
 },
 "nbformat": 4,
 "nbformat_minor": 5
}
