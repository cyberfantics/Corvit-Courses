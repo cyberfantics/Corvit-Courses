{
 "cells": [
  {
   "cell_type": "code",
   "execution_count": 1,
   "id": "9ca1face-2bf3-41e0-b66e-5a4e2e1571fc",
   "metadata": {},
   "outputs": [],
   "source": [
    "numbers = [1,2,3,4,5,6,7,8,9,0,10,11,12,13,14,15]\n",
    "even = list(map(lambda x:x%2==0, numbers))"
   ]
  },
  {
   "cell_type": "code",
   "execution_count": 2,
   "id": "39b2e4f0-9156-47ea-b861-2f6f8e44531a",
   "metadata": {},
   "outputs": [
    {
     "data": {
      "text/plain": [
       "[False,\n",
       " True,\n",
       " False,\n",
       " True,\n",
       " False,\n",
       " True,\n",
       " False,\n",
       " True,\n",
       " False,\n",
       " True,\n",
       " True,\n",
       " False,\n",
       " True,\n",
       " False,\n",
       " True,\n",
       " False]"
      ]
     },
     "execution_count": 2,
     "metadata": {},
     "output_type": "execute_result"
    }
   ],
   "source": [
    "even"
   ]
  },
  {
   "cell_type": "code",
   "execution_count": null,
   "id": "e619a088-f1eb-480a-b4c1-af9c72b48fc8",
   "metadata": {},
   "outputs": [],
   "source": []
  },
  {
   "cell_type": "markdown",
   "id": "6705f0ae-aaa0-4923-9892-0fc85b2e8389",
   "metadata": {},
   "source": [
    "## Return cube of list"
   ]
  },
  {
   "cell_type": "code",
   "execution_count": 3,
   "id": "e40e166e-2220-4ab2-ba0a-767fea1933a5",
   "metadata": {},
   "outputs": [],
   "source": [
    "values = [1,3,5,7,8]\n",
    "cube = list(map(lambda x:x*x*x, values))"
   ]
  },
  {
   "cell_type": "code",
   "execution_count": 4,
   "id": "508da617-f076-4ec1-ace6-7e0b77c1cfae",
   "metadata": {},
   "outputs": [
    {
     "data": {
      "text/plain": [
       "[1, 27, 125, 343, 512]"
      ]
     },
     "execution_count": 4,
     "metadata": {},
     "output_type": "execute_result"
    }
   ],
   "source": [
    "cube"
   ]
  },
  {
   "cell_type": "code",
   "execution_count": null,
   "id": "c79bf11e-2c0b-428a-8531-ba237dad6a78",
   "metadata": {},
   "outputs": [],
   "source": []
  },
  {
   "cell_type": "markdown",
   "id": "166b87ce-4014-4eca-ba3f-ede6fd5914e9",
   "metadata": {},
   "source": [
    "## Return square of list"
   ]
  },
  {
   "cell_type": "code",
   "execution_count": 5,
   "id": "4ed54d5d-b063-4d59-a639-e6b23f091fd9",
   "metadata": {},
   "outputs": [],
   "source": [
    "square = list(map(lambda x:x**2, values))"
   ]
  },
  {
   "cell_type": "code",
   "execution_count": 6,
   "id": "33a4c47c-dc8d-4099-a4b8-5526c861a091",
   "metadata": {},
   "outputs": [
    {
     "data": {
      "text/plain": [
       "[1, 9, 25, 49, 64]"
      ]
     },
     "execution_count": 6,
     "metadata": {},
     "output_type": "execute_result"
    }
   ],
   "source": [
    "square"
   ]
  },
  {
   "cell_type": "code",
   "execution_count": null,
   "id": "5a16186d-20b7-4f81-93ba-cda757f3ce78",
   "metadata": {},
   "outputs": [],
   "source": []
  },
  {
   "cell_type": "code",
   "execution_count": 7,
   "id": "4c721aa1-1a36-44eb-9176-51b948e8b984",
   "metadata": {},
   "outputs": [],
   "source": [
    "even = list(filter(lambda x:x%2==0, numbers))"
   ]
  },
  {
   "cell_type": "code",
   "execution_count": 8,
   "id": "3fd0a9c3-dfd7-4f69-b22c-ddbd23b29348",
   "metadata": {},
   "outputs": [
    {
     "data": {
      "text/plain": [
       "[2, 4, 6, 8, 0, 10, 12, 14]"
      ]
     },
     "execution_count": 8,
     "metadata": {},
     "output_type": "execute_result"
    }
   ],
   "source": [
    "even"
   ]
  },
  {
   "cell_type": "code",
   "execution_count": null,
   "id": "db1c375c-d820-4f9b-8009-20469909331f",
   "metadata": {},
   "outputs": [],
   "source": []
  },
  {
   "cell_type": "markdown",
   "id": "122f169c-bb45-4839-a976-24e49ac85edc",
   "metadata": {},
   "source": [
    "## Reduce functions"
   ]
  },
  {
   "cell_type": "code",
   "execution_count": 9,
   "id": "1b2fa2f2-5142-4072-91c5-d2c62aee201b",
   "metadata": {},
   "outputs": [],
   "source": [
    "from functools import reduce"
   ]
  },
  {
   "cell_type": "code",
   "execution_count": 11,
   "id": "0b3c4b88-4ecd-4046-959e-22145232f87c",
   "metadata": {},
   "outputs": [],
   "source": [
    "# sum\n",
    "l = [1,2,3,4,5,6,7]\n",
    "result = reduce(lambda x, y: x + y, l)"
   ]
  },
  {
   "cell_type": "code",
   "execution_count": 12,
   "id": "591a6602-0224-4a05-91b7-f3e72c8bb071",
   "metadata": {},
   "outputs": [
    {
     "data": {
      "text/plain": [
       "28"
      ]
     },
     "execution_count": 12,
     "metadata": {},
     "output_type": "execute_result"
    }
   ],
   "source": [
    "result"
   ]
  },
  {
   "cell_type": "code",
   "execution_count": 13,
   "id": "3e9437fb-a917-4d5f-b28c-ae2b17d625a8",
   "metadata": {},
   "outputs": [
    {
     "name": "stdout",
     "output_type": "stream",
     "text": [
      "9\n"
     ]
    }
   ],
   "source": [
    "# finding max value\n",
    "numbers = [4, 1, 7, 3, 9, 2]\n",
    "max_value = reduce(lambda x, y: x if x > y else y, numbers)\n",
    "print(max_value)  "
   ]
  },
  {
   "cell_type": "code",
   "execution_count": 14,
   "id": "c3702fab-e141-465b-aef6-2ad0af12f01e",
   "metadata": {},
   "outputs": [
    {
     "name": "stdout",
     "output_type": "stream",
     "text": [
      "120\n"
     ]
    }
   ],
   "source": [
    "# finding product\n",
    "numbers = [1, 2, 3, 4, 5]\n",
    "product = reduce(lambda x, y: x * y, numbers)\n",
    "print(product) "
   ]
  },
  {
   "cell_type": "code",
   "execution_count": 15,
   "id": "af48627b-d7d2-405e-b2b7-1d7450c90c6f",
   "metadata": {},
   "outputs": [
    {
     "name": "stdout",
     "output_type": "stream",
     "text": [
      "Hello world from reduce\n"
     ]
    }
   ],
   "source": [
    "# concatening the string\n",
    "words = ['Hello', 'world', 'from', 'reduce']\n",
    "sentence = reduce(lambda x, y: x + ' ' + y, words)\n",
    "print(sentence) "
   ]
  },
  {
   "cell_type": "code",
   "execution_count": 16,
   "id": "ee16bf7c-5eb9-4ac1-a6ca-61160d87b3d5",
   "metadata": {},
   "outputs": [
    {
     "name": "stdout",
     "output_type": "stream",
     "text": [
      "120\n"
     ]
    }
   ],
   "source": [
    "# factorial of each element\n",
    "n = 5\n",
    "factorial = reduce(lambda x, y: x * y, range(1, n + 1))\n",
    "print(factorial) "
   ]
  },
  {
   "cell_type": "code",
   "execution_count": null,
   "id": "8642ebf5-cc3a-4e2f-999e-e81339f3b6e4",
   "metadata": {},
   "outputs": [],
   "source": []
  },
  {
   "cell_type": "code",
   "execution_count": null,
   "id": "13f82d80-062e-460c-8754-2e90459fd408",
   "metadata": {},
   "outputs": [],
   "source": []
  },
  {
   "cell_type": "markdown",
   "id": "373cc5ff-0a7c-4231-9d23-788b7399d376",
   "metadata": {},
   "source": [
    "## Map"
   ]
  },
  {
   "cell_type": "code",
   "execution_count": 17,
   "id": "ae407313-344b-4b5e-ad10-55e87cd2ea81",
   "metadata": {},
   "outputs": [
    {
     "name": "stdout",
     "output_type": "stream",
     "text": [
      "['HELLO', 'WORLD', 'PYTHON']\n"
     ]
    }
   ],
   "source": [
    "# convert words into upper case\n",
    "words = ['hello', 'world', 'python']\n",
    "uppercase_words = list(map(lambda x: x.upper(), words))\n",
    "print(uppercase_words) "
   ]
  },
  {
   "cell_type": "code",
   "execution_count": 18,
   "id": "a318e976-98b7-4136-a9c9-26df1fbac6f1",
   "metadata": {},
   "outputs": [
    {
     "name": "stdout",
     "output_type": "stream",
     "text": [
      "[5, 6, 6]\n"
     ]
    }
   ],
   "source": [
    "# length of each element\n",
    "words = ['apple', 'banana', 'cherry']\n",
    "lengths = list(map(len, words))\n",
    "print(lengths)"
   ]
  },
  {
   "cell_type": "code",
   "execution_count": 19,
   "id": "a5b0d6a3-6e89-434d-8e3f-d7b6555e7b7c",
   "metadata": {},
   "outputs": [
    {
     "name": "stdout",
     "output_type": "stream",
     "text": [
      "[1, 4, 9, 16, 25]\n"
     ]
    }
   ],
   "source": [
    "# Applying function other than lambda\n",
    "def square(x):\n",
    "    return x ** 2\n",
    "\n",
    "numbers = [1, 2, 3, 4, 5]\n",
    "squared = list(map(square, numbers))\n",
    "print(squared) "
   ]
  },
  {
   "cell_type": "code",
   "execution_count": 20,
   "id": "633795ba-7660-4679-af18-8e5ded77ec89",
   "metadata": {},
   "outputs": [
    {
     "name": "stdout",
     "output_type": "stream",
     "text": [
      "[1, 2, 3]\n"
     ]
    }
   ],
   "source": [
    "# Extracting specific data from tuple\n",
    "tuples = [(1, 'a'), (2, 'b'), (3, 'c')]\n",
    "first_elements = list(map(lambda x: x[0], tuples))\n",
    "print(first_elements)"
   ]
  },
  {
   "cell_type": "code",
   "execution_count": 21,
   "id": "aaa122d3-acc6-4ee7-b1b6-fdfd76d37d6e",
   "metadata": {},
   "outputs": [
    {
     "name": "stdout",
     "output_type": "stream",
     "text": [
      "[0.0, 7.222222222222222, 17.77777777777778, 25.0, 31.666666666666668]\n"
     ]
    }
   ],
   "source": [
    "# Convert farenhite into celcius\n",
    "fahrenheit = [32, 45, 64, 77, 89]\n",
    "celsius = list(map(lambda f: (f - 32) * 5 / 9, fahrenheit))\n",
    "print(celsius)"
   ]
  },
  {
   "cell_type": "code",
   "execution_count": 22,
   "id": "2157864f-bbef-4804-a7f9-a26ffa746ca5",
   "metadata": {},
   "outputs": [
    {
     "name": "stdout",
     "output_type": "stream",
     "text": [
      "[6, 8, 10, 12]\n"
     ]
    }
   ],
   "source": [
    "# Adding two list element wise\n",
    "list1 = [1, 2, 3, 4]\n",
    "list2 = [5, 6, 7, 8]\n",
    "sum_lists = list(map(lambda x, y: x + y, list1, list2))\n",
    "print(sum_lists)"
   ]
  },
  {
   "cell_type": "code",
   "execution_count": null,
   "id": "fd773df2-929a-432b-b3d4-5b7a47c5a0f2",
   "metadata": {},
   "outputs": [],
   "source": []
  },
  {
   "cell_type": "markdown",
   "id": "fe1a0319-a240-45a2-ab9d-ad5f4fe5a20f",
   "metadata": {},
   "source": [
    "## Filter"
   ]
  },
  {
   "cell_type": "code",
   "execution_count": 24,
   "id": "8530ceac-cb59-4b52-afa9-a6108ec64949",
   "metadata": {},
   "outputs": [
    {
     "name": "stdout",
     "output_type": "stream",
     "text": [
      "[2, 4, 6, 8, 10]\n"
     ]
    }
   ],
   "source": [
    "# Filter even number\n",
    "numbers = [1, 2, 3, 4, 5, 6, 7, 8, 9, 10]\n",
    "even_numbers = list(filter(lambda x: x % 2 == 0, numbers))\n",
    "print(even_numbers)"
   ]
  },
  {
   "cell_type": "code",
   "execution_count": 25,
   "id": "dc02d009-411e-4a63-8c59-43e680c3ea97",
   "metadata": {},
   "outputs": [
    {
     "name": "stdout",
     "output_type": "stream",
     "text": [
      "['elephant']\n"
     ]
    }
   ],
   "source": [
    "# filter string of more than 3 char\n",
    "words = ['cat', 'dog', 'elephant', 'ant']\n",
    "long_words = list(filter(lambda x: len(x) > 3, words))\n",
    "print(long_words) "
   ]
  },
  {
   "cell_type": "code",
   "execution_count": 26,
   "id": "b1c707bc-2756-4a2e-ac97-577affdeead2",
   "metadata": {},
   "outputs": [
    {
     "name": "stdout",
     "output_type": "stream",
     "text": [
      "[3, 9, 4]\n"
     ]
    }
   ],
   "source": [
    "# FIlter positive number\n",
    "numbers = [-5, 3, 0, 9, -2, 4]\n",
    "positive_numbers = list(filter(lambda x: x > 0, numbers))\n",
    "print(positive_numbers)"
   ]
  },
  {
   "cell_type": "code",
   "execution_count": 27,
   "id": "6eb792c4-8253-428a-a5c8-0c0cae073f7f",
   "metadata": {},
   "outputs": [
    {
     "name": "stdout",
     "output_type": "stream",
     "text": [
      "['hello', 'world', 'python']\n"
     ]
    }
   ],
   "source": [
    "# filter non empty string\n",
    "strings = ['hello', '', 'world', ' ', 'python', '']\n",
    "non_empty_strings = list(filter(lambda x: x.strip() != '', strings))\n",
    "print(non_empty_strings)"
   ]
  },
  {
   "cell_type": "code",
   "execution_count": 28,
   "id": "ac17fc94-0f0d-47a1-accd-302042b40570",
   "metadata": {},
   "outputs": [
    {
     "name": "stdout",
     "output_type": "stream",
     "text": [
      "[15, 20]\n"
     ]
    }
   ],
   "source": [
    "# Filter number greater than a threshold\n",
    "numbers = [1, 5, 8, 10, 15, 20]\n",
    "threshold = 10\n",
    "filtered_numbers = list(filter(lambda x: x > threshold, numbers))\n",
    "print(filtered_numbers)"
   ]
  },
  {
   "cell_type": "code",
   "execution_count": 29,
   "id": "5d01dee9-6d43-41b0-a49b-b34ca12fdfd9",
   "metadata": {},
   "outputs": [
    {
     "name": "stdout",
     "output_type": "stream",
     "text": [
      "['apple', 'avocado']\n"
     ]
    }
   ],
   "source": [
    "# filter number which is start with specific number\n",
    "strings = ['apple', 'banana', 'avocado', 'grape']\n",
    "starts_with_a = list(filter(lambda x: x.startswith('a'), strings))\n",
    "print(starts_with_a) "
   ]
  },
  {
   "cell_type": "code",
   "execution_count": 30,
   "id": "67a6c123-8d27-4c32-ad4a-0a427f9797d0",
   "metadata": {},
   "outputs": [
    {
     "name": "stdout",
     "output_type": "stream",
     "text": [
      "['banana', 'cherry', 'date']\n"
     ]
    }
   ],
   "source": [
    "# Filtering even length string\n",
    "strings = ['apple', 'banana', 'cherry', 'date']\n",
    "even_length_strings = list(filter(lambda s: len(s) % 2 == 0, strings))\n",
    "print(even_length_strings) "
   ]
  },
  {
   "cell_type": "code",
   "execution_count": null,
   "id": "fccc54ed-9a6f-42fc-8c9a-4571d4bcb988",
   "metadata": {},
   "outputs": [],
   "source": []
  }
 ],
 "metadata": {
  "kernelspec": {
   "display_name": "Python 3 (ipykernel)",
   "language": "python",
   "name": "python3"
  },
  "language_info": {
   "codemirror_mode": {
    "name": "ipython",
    "version": 3
   },
   "file_extension": ".py",
   "mimetype": "text/x-python",
   "name": "python",
   "nbconvert_exporter": "python",
   "pygments_lexer": "ipython3",
   "version": "3.12.4"
  }
 },
 "nbformat": 4,
 "nbformat_minor": 5
}
