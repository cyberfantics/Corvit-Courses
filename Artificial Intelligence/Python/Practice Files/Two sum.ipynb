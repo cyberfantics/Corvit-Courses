{
 "cells": [
  {
   "cell_type": "code",
   "execution_count": 1,
   "id": "750cc2d4-b1de-4d16-b618-57bd7e04a689",
   "metadata": {},
   "outputs": [],
   "source": [
    "class Solution:\n",
    "    def twoSum(self, nums: list[int], target: int) -> list[int]:\n",
    "        num_to_index = {}\n",
    "        \n",
    "        print(f\"Initial nums: {nums}\")\n",
    "        print(f\"Target: {target}\\n\")\n",
    "        \n",
    "        for index, num in enumerate(nums):\n",
    "            complement = target - num\n",
    "            print(f\"Index: {index}, Num: {num}\")\n",
    "            print(f\"Complement (target - num): {complement}\")\n",
    "            \n",
    "            if complement in num_to_index:\n",
    "                print(f\"Complement {complement} found in num_to_index: {num_to_index}\")\n",
    "                print(f\"Indices of numbers that add up to target: [{num_to_index[complement]}, {index}]\\n\")\n",
    "                return [num_to_index[complement], index]\n",
    "            \n",
    "            num_to_index[num] = index\n",
    "            print(f\"num_to_index updated: {num_to_index}\\n\")\n",
    "        \n",
    "        print(\"No two numbers add up to the target.\")\n",
    "        return []"
   ]
  },
  {
   "cell_type": "code",
   "execution_count": 2,
   "id": "42a0e609-2010-42a4-bbb4-a70fea36ad84",
   "metadata": {},
   "outputs": [
    {
     "name": "stdout",
     "output_type": "stream",
     "text": [
      "Initial nums: [2, 7, 11, 15]\n",
      "Target: 9\n",
      "\n",
      "Index: 0, Num: 2\n",
      "Complement (target - num): 7\n",
      "num_to_index updated: {2: 0}\n",
      "\n",
      "Index: 1, Num: 7\n",
      "Complement (target - num): 2\n",
      "Complement 2 found in num_to_index: {2: 0}\n",
      "Indices of numbers that add up to target: [0, 1]\n",
      "\n",
      "[0, 1]\n"
     ]
    }
   ],
   "source": [
    "# Example usage:\n",
    "solution = Solution()\n",
    "print(solution.twoSum([2, 7, 11, 15], 9))  # Output: [0, 1]"
   ]
  },
  {
   "cell_type": "code",
   "execution_count": 3,
   "id": "4c1d11b6-ecce-45bb-8227-b6d3e1429ab6",
   "metadata": {},
   "outputs": [
    {
     "name": "stdout",
     "output_type": "stream",
     "text": [
      "Initial nums: [3, 2, 4]\n",
      "Target: 6\n",
      "\n",
      "Index: 0, Num: 3\n",
      "Complement (target - num): 3\n",
      "num_to_index updated: {3: 0}\n",
      "\n",
      "Index: 1, Num: 2\n",
      "Complement (target - num): 4\n",
      "num_to_index updated: {3: 0, 2: 1}\n",
      "\n",
      "Index: 2, Num: 4\n",
      "Complement (target - num): 2\n",
      "Complement 2 found in num_to_index: {3: 0, 2: 1}\n",
      "Indices of numbers that add up to target: [1, 2]\n",
      "\n",
      "[1, 2]\n"
     ]
    }
   ],
   "source": [
    "print(solution.twoSum([3, 2, 4], 6))       # Output: [1, 2]"
   ]
  },
  {
   "cell_type": "code",
   "execution_count": 4,
   "id": "409d8858-467e-41e1-95e8-2a684824083c",
   "metadata": {},
   "outputs": [
    {
     "name": "stdout",
     "output_type": "stream",
     "text": [
      "Initial nums: [3, 3]\n",
      "Target: 6\n",
      "\n",
      "Index: 0, Num: 3\n",
      "Complement (target - num): 3\n",
      "num_to_index updated: {3: 0}\n",
      "\n",
      "Index: 1, Num: 3\n",
      "Complement (target - num): 3\n",
      "Complement 3 found in num_to_index: {3: 0}\n",
      "Indices of numbers that add up to target: [0, 1]\n",
      "\n",
      "[0, 1]\n"
     ]
    }
   ],
   "source": [
    "print(solution.twoSum([3, 3], 6))          # Output: [0, 1]"
   ]
  },
  {
   "cell_type": "code",
   "execution_count": null,
   "id": "547721fa-35c0-48ab-85a6-9ab8acdaa06e",
   "metadata": {},
   "outputs": [],
   "source": []
  }
 ],
 "metadata": {
  "kernelspec": {
   "display_name": "Python 3 (ipykernel)",
   "language": "python",
   "name": "python3"
  },
  "language_info": {
   "codemirror_mode": {
    "name": "ipython",
    "version": 3
   },
   "file_extension": ".py",
   "mimetype": "text/x-python",
   "name": "python",
   "nbconvert_exporter": "python",
   "pygments_lexer": "ipython3",
   "version": "3.12.4"
  }
 },
 "nbformat": 4,
 "nbformat_minor": 5
}
