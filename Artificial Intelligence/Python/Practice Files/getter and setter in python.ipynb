{
 "cells": [
  {
   "cell_type": "code",
   "execution_count": 1,
   "id": "5cc99381-bd6c-45d1-afbf-0fe08e83a1df",
   "metadata": {},
   "outputs": [],
   "source": [
    "class Solutions():\n",
    "    def __init__(self, value):\n",
    "        self._value = value\n",
    "\n",
    "    @property\n",
    "    def ten_time(self):\n",
    "        return 10*self._value\n",
    "\n",
    "    @ten_time.setter\n",
    "    def ten_time(self, value):\n",
    "        self._value = value\n",
    "\n",
    "    def show_value(self):\n",
    "        print(f'Value is {self._value}')"
   ]
  },
  {
   "cell_type": "code",
   "execution_count": 2,
   "id": "087120d4-2e57-4b2c-8c05-0ad5680d95c1",
   "metadata": {},
   "outputs": [
    {
     "name": "stdout",
     "output_type": "stream",
     "text": [
      "Value is 10\n"
     ]
    }
   ],
   "source": [
    "s = Solutions(10)\n",
    "s.show_value()"
   ]
  },
  {
   "cell_type": "code",
   "execution_count": 3,
   "id": "1606cee4-3bf6-4323-a7b7-dcb211751747",
   "metadata": {},
   "outputs": [
    {
     "data": {
      "text/plain": [
       "100"
      ]
     },
     "execution_count": 3,
     "metadata": {},
     "output_type": "execute_result"
    }
   ],
   "source": [
    "s.ten_time"
   ]
  },
  {
   "cell_type": "code",
   "execution_count": 4,
   "id": "b86d3d39-1382-4e42-955f-f8a4b4c88be0",
   "metadata": {},
   "outputs": [],
   "source": [
    "s.ten_time = 34"
   ]
  },
  {
   "cell_type": "code",
   "execution_count": 5,
   "id": "39437719-2388-4da2-94ae-69da04e57aa2",
   "metadata": {},
   "outputs": [
    {
     "name": "stdout",
     "output_type": "stream",
     "text": [
      "Value is 34\n"
     ]
    }
   ],
   "source": [
    "s.show_value()"
   ]
  },
  {
   "cell_type": "code",
   "execution_count": 6,
   "id": "86336263-69c9-4f6a-b461-1c35e81dd7c4",
   "metadata": {},
   "outputs": [
    {
     "data": {
      "text/plain": [
       "340"
      ]
     },
     "execution_count": 6,
     "metadata": {},
     "output_type": "execute_result"
    }
   ],
   "source": [
    "s.ten_time"
   ]
  },
  {
   "cell_type": "code",
   "execution_count": 7,
   "id": "ccc2498d-74ae-48bb-b37b-d98cc286956a",
   "metadata": {},
   "outputs": [],
   "source": [
    "s.ten_time = 10"
   ]
  },
  {
   "cell_type": "code",
   "execution_count": 8,
   "id": "cbf658d8-bc9b-47f5-82ae-7be6927043ff",
   "metadata": {},
   "outputs": [
    {
     "name": "stdout",
     "output_type": "stream",
     "text": [
      "Value is 10\n"
     ]
    }
   ],
   "source": [
    "s.show_value()"
   ]
  },
  {
   "cell_type": "markdown",
   "id": "f01b1591-8c1f-4994-ba3d-36bf48477104",
   "metadata": {},
   "source": [
    "# Getter and Setters are Used For Encapsulation purpose"
   ]
  },
  {
   "cell_type": "code",
   "execution_count": 9,
   "id": "4705e5e5-e868-4953-820e-c0050c1918a8",
   "metadata": {},
   "outputs": [],
   "source": [
    "class Person:\n",
    "    def __init__(self, name, age):\n",
    "        self._name = name\n",
    "        self._age = age\n",
    "\n",
    "    # Getter for name\n",
    "    @property\n",
    "    def name(self):\n",
    "        return self._name\n",
    "\n",
    "    # Setter for name\n",
    "    @name.setter\n",
    "    def name(self, value):\n",
    "        if isinstance(value, str):\n",
    "            self._name = value\n",
    "        else:\n",
    "            raise ValueError(\"Name must be a string\")\n",
    "\n",
    "    # Getter for age\n",
    "    @property\n",
    "    def age(self):\n",
    "        return self._age\n",
    "\n",
    "    # Setter for age\n",
    "    @age.setter\n",
    "    def age(self, value):\n",
    "        if isinstance(value, int) and value > 0:\n",
    "            self._age = value\n",
    "        else:\n",
    "            raise ValueError(\"Age must be a positive integer\")"
   ]
  },
  {
   "cell_type": "code",
   "execution_count": 10,
   "id": "b5ffd68a-12fc-45c7-92b0-4b20c549a27d",
   "metadata": {},
   "outputs": [],
   "source": [
    "p = Person(\"Mansoor\", 21)"
   ]
  },
  {
   "cell_type": "code",
   "execution_count": 11,
   "id": "7884cb60-61e6-4447-8d1c-7156bb9c83b1",
   "metadata": {},
   "outputs": [
    {
     "data": {
      "text/plain": [
       "'Mansoor'"
      ]
     },
     "execution_count": 11,
     "metadata": {},
     "output_type": "execute_result"
    }
   ],
   "source": [
    "p.name"
   ]
  },
  {
   "cell_type": "code",
   "execution_count": 12,
   "id": "c0d39e47-9fd4-497e-b1a8-3ddb6b5d0dea",
   "metadata": {},
   "outputs": [
    {
     "data": {
      "text/plain": [
       "21"
      ]
     },
     "execution_count": 12,
     "metadata": {},
     "output_type": "execute_result"
    }
   ],
   "source": [
    "p.age"
   ]
  },
  {
   "cell_type": "code",
   "execution_count": 13,
   "id": "0c939a70-d277-42b1-b52e-6f54bf947bab",
   "metadata": {},
   "outputs": [],
   "source": [
    "p.name = \"Kashan\""
   ]
  },
  {
   "cell_type": "code",
   "execution_count": 14,
   "id": "b4900a48-3ad6-4aee-8d4d-fadf394e8303",
   "metadata": {},
   "outputs": [
    {
     "data": {
      "text/plain": [
       "'Kashan'"
      ]
     },
     "execution_count": 14,
     "metadata": {},
     "output_type": "execute_result"
    }
   ],
   "source": [
    "p.name"
   ]
  },
  {
   "cell_type": "code",
   "execution_count": null,
   "id": "a4951ef2-d443-41b9-8bc3-94191d509eac",
   "metadata": {},
   "outputs": [],
   "source": []
  },
  {
   "cell_type": "code",
   "execution_count": null,
   "id": "e01ba6a8-4683-468d-9a80-01767a598752",
   "metadata": {},
   "outputs": [],
   "source": []
  },
  {
   "cell_type": "code",
   "execution_count": 15,
   "id": "117f55dc-7923-4c24-9ca7-b68f6f7a3974",
   "metadata": {},
   "outputs": [],
   "source": [
    "class Rectangle:\n",
    "    def __init__(self, width, height):\n",
    "        self._width = width\n",
    "        self._height = height\n",
    "\n",
    "    # Getter for width\n",
    "    @property\n",
    "    def width(self):\n",
    "        return self._width\n",
    "\n",
    "    # Setter for width\n",
    "    @width.setter\n",
    "    def width(self, value):\n",
    "        if value > 0:\n",
    "            self._width = value\n",
    "        else:\n",
    "            raise ValueError(\"Width must be positive\")\n",
    "\n",
    "    # Getter for height\n",
    "    @property\n",
    "    def height(self):\n",
    "        return self._height\n",
    "\n",
    "    # Setter for height\n",
    "    @height.setter\n",
    "    def height(self, value):\n",
    "        if value > 0:\n",
    "            self._height = value\n",
    "        else:\n",
    "            raise ValueError(\"Height must be positive\")\n",
    "\n",
    "    # Property to calculate area\n",
    "    @property\n",
    "    def area(self):\n",
    "        return self._width * self._height\n"
   ]
  },
  {
   "cell_type": "code",
   "execution_count": 16,
   "id": "f2601d21-8813-4d93-a5b7-40c8aed99cd9",
   "metadata": {},
   "outputs": [
    {
     "name": "stdout",
     "output_type": "stream",
     "text": [
      "5\n",
      "10\n",
      "50\n"
     ]
    }
   ],
   "source": [
    "r = Rectangle(5, 10)\n",
    "print(r.width)   # Output: 5\n",
    "print(r.height)  # Output: 10\n",
    "print(r.area)    # Output: 50"
   ]
  },
  {
   "cell_type": "code",
   "execution_count": 17,
   "id": "98e26e5d-dff1-4694-ba21-82cdae5e6421",
   "metadata": {},
   "outputs": [
    {
     "name": "stdout",
     "output_type": "stream",
     "text": [
      "70\n"
     ]
    }
   ],
   "source": [
    "r.width = 7      # Using setter to change the width\n",
    "print(r.area)    # Output: 70\n",
    "\n",
    "# r.height = -3  # This will raise ValueError"
   ]
  },
  {
   "cell_type": "code",
   "execution_count": null,
   "id": "ab1ddce7-b6d4-4e35-9f15-45eb191e2a02",
   "metadata": {},
   "outputs": [],
   "source": []
  },
  {
   "cell_type": "code",
   "execution_count": 18,
   "id": "77457fe5-98e1-4cf4-81bf-d29353eb3a53",
   "metadata": {},
   "outputs": [],
   "source": [
    "class BankAccount:\n",
    "    def __init__(self, account_holder, balance=0):\n",
    "        self.account_holder = account_holder\n",
    "        self._balance = balance\n",
    "\n",
    "    # Getter for balance\n",
    "    @property\n",
    "    def balance(self):\n",
    "        return self._balance\n",
    "\n",
    "    # Setter for balance with validation\n",
    "    @balance.setter\n",
    "    def balance(self, amount):\n",
    "        if amount >= 0:\n",
    "            self._balance = amount\n",
    "        else:\n",
    "            raise ValueError(\"Balance cannot be negative\")\n",
    "\n",
    "    # Method to deposit money\n",
    "    def deposit(self, amount):\n",
    "        if amount > 0:\n",
    "            self._balance += amount\n",
    "        else:\n",
    "            raise ValueError(\"Deposit amount must be positive\")\n",
    "\n",
    "    # Method to withdraw money\n",
    "    def withdraw(self, amount):\n",
    "        if 0 < amount <= self._balance:\n",
    "            self._balance -= amount\n",
    "        else:\n",
    "            raise ValueError(\"Invalid withdrawal amount\")\n",
    "\n",
    "    # Property to calculate annual interest\n",
    "    @property\n",
    "    def annual_interest(self):\n",
    "        interest_rate = 0.03  # 3% annual interest rate\n",
    "        return self._balance * interest_rate\n",
    "\n",
    "    def __str__(self):\n",
    "        return f\"Account Holder: {self.account_holder}, Balance: ${self._balance:.2f}, Annual Interest: ${self.annual_interest:.2f}\""
   ]
  },
  {
   "cell_type": "code",
   "execution_count": 19,
   "id": "77b9d941-ce43-4056-accb-2705c7734197",
   "metadata": {},
   "outputs": [
    {
     "name": "stdout",
     "output_type": "stream",
     "text": [
      "Account Holder: John Doe, Balance: $1000.00, Annual Interest: $30.00\n"
     ]
    }
   ],
   "source": [
    "account = BankAccount(\"John Doe\", 1000)\n",
    "print(account)"
   ]
  },
  {
   "cell_type": "code",
   "execution_count": 20,
   "id": "093f5cd4-4c8b-40e0-9fa6-4f530d693753",
   "metadata": {},
   "outputs": [
    {
     "name": "stdout",
     "output_type": "stream",
     "text": [
      "Account Holder: John Doe, Balance: $1500.00, Annual Interest: $45.00\n"
     ]
    }
   ],
   "source": [
    "account.deposit(500)\n",
    "print(account)"
   ]
  },
  {
   "cell_type": "code",
   "execution_count": 21,
   "id": "e920fe58-2f37-4ff4-9539-3c5c87d5bbc9",
   "metadata": {},
   "outputs": [
    {
     "name": "stdout",
     "output_type": "stream",
     "text": [
      "Account Holder: John Doe, Balance: $1300.00, Annual Interest: $39.00\n"
     ]
    }
   ],
   "source": [
    "account.withdraw(200)\n",
    "print(account)"
   ]
  },
  {
   "cell_type": "code",
   "execution_count": 22,
   "id": "29b6237c-ccdd-49d2-bae2-c2e0c5f57798",
   "metadata": {},
   "outputs": [
    {
     "name": "stdout",
     "output_type": "stream",
     "text": [
      "Annual Interest: $39.00\n"
     ]
    }
   ],
   "source": [
    "print(f\"Annual Interest: ${account.annual_interest:.2f}\")"
   ]
  },
  {
   "cell_type": "code",
   "execution_count": null,
   "id": "6fa9bc26-0de5-4849-92ee-4bb146701a24",
   "metadata": {},
   "outputs": [],
   "source": []
  },
  {
   "cell_type": "code",
   "execution_count": 23,
   "id": "5a4f0530-dd5e-44ac-9e62-a69ea7f3ee11",
   "metadata": {},
   "outputs": [],
   "source": [
    "class Employee:\n",
    "    def __init__(self, name, base_salary, bonus_percentage):\n",
    "        self.name = name\n",
    "        self.base_salary = base_salary\n",
    "        self.bonus_percentage = bonus_percentage\n",
    "\n",
    "    # Getter and Setter for base_salary with validation\n",
    "    @property\n",
    "    def base_salary(self):\n",
    "        return self._base\n",
    "        _salary\n",
    "\n",
    "    @base_salary.setter\n",
    "    def base_salary(self, amount):\n",
    "        if amount >= 0:\n",
    "            self._base_salary = amount\n",
    "        else:\n",
    "            raise ValueError(\"Base salary cannot be negative\")\n",
    "\n",
    "    # Getter and Setter for bonus_percentage with validation\n",
    "    @property\n",
    "    def bonus_percentage(self):\n",
    "        return self._bonus_percentage\n",
    "\n",
    "    @bonus_percentage.setter\n",
    "    def bonus_percentage(self, value):\n",
    "        if 0 <= value <= 100:\n",
    "            self._bonus_percentage = value\n",
    "        else:\n",
    "            raise ValueError(\"Bonus percentage must be between 0 and 100\")\n",
    "\n",
    "    # Property to calculate total salary with bonus\n",
    "    @property\n",
    "    def total_salary(self):\n",
    "        return self.base_salary * (1 + self.bonus_percentage / 100)\n",
    "\n",
    "    def __str__(self):\n",
    "        return f\"Employee: {self.name}, Base Salary: ${self.base_salary:.2f}, Bonus Percentage: {self.bonus_percentage}%, Total Salary: ${self.total_salary:.2f}\"\n"
   ]
  },
  {
   "cell_type": "code",
   "execution_count": 24,
   "id": "cf2b522f-9283-4ec5-b773-bad90f8e200e",
   "metadata": {},
   "outputs": [
    {
     "name": "stdout",
     "output_type": "stream",
     "text": [
      "Employee: Jane Smith, Base Salary: $50000.00, Bonus Percentage: 10%, Total Salary: $55000.00\n"
     ]
    }
   ],
   "source": [
    "emp = Employee(\"Jane Smith\", 50000, 10)\n",
    "print(emp)"
   ]
  },
  {
   "cell_type": "code",
   "execution_count": 25,
   "id": "300b2589-b2b4-44f2-b5a6-9c545e8ec113",
   "metadata": {},
   "outputs": [],
   "source": [
    "emp.base_salary = 55000"
   ]
  },
  {
   "cell_type": "code",
   "execution_count": 26,
   "id": "f31acf14-ad7e-484b-b4b5-11997498627b",
   "metadata": {},
   "outputs": [
    {
     "name": "stdout",
     "output_type": "stream",
     "text": [
      "Employee: Jane Smith, Base Salary: $55000.00, Bonus Percentage: 15%, Total Salary: $63250.00\n"
     ]
    }
   ],
   "source": [
    "emp.bonus_percentage = 15\n",
    "print(emp)"
   ]
  },
  {
   "cell_type": "code",
   "execution_count": null,
   "id": "2d1e8c67-5ce6-4181-ad7f-621ec23e42a6",
   "metadata": {},
   "outputs": [],
   "source": []
  },
  {
   "cell_type": "code",
   "execution_count": null,
   "id": "aeeac74e-b3ed-4061-84a8-484738a01135",
   "metadata": {},
   "outputs": [],
   "source": []
  },
  {
   "cell_type": "code",
   "execution_count": 27,
   "id": "d68216e3-f184-4237-b47c-6b92c6a18723",
   "metadata": {},
   "outputs": [],
   "source": [
    "class Temperature:\n",
    "    def __init__(self, celsius):\n",
    "        self.celsius = celsius\n",
    "\n",
    "    # Getter and Setter for Celsius with validation\n",
    "    @property\n",
    "    def celsius(self):\n",
    "        return self._celsius\n",
    "\n",
    "    @celsius.setter\n",
    "    def celsius(self, value):\n",
    "        if value >= -273.15:\n",
    "            self._celsius = value\n",
    "        else:\n",
    "            raise ValueError(\"Temperature cannot be below absolute zero\")\n",
    "\n",
    "    # Property to get temperature in Fahrenheit\n",
    "    @property\n",
    "    def fahrenheit(self):\n",
    "        return self._celsius * 9/5 + 32\n",
    "\n",
    "    # Property to set temperature from Fahrenheit\n",
    "    @fahrenheit.setter\n",
    "    def fahrenheit(self, value):\n",
    "        self.celsius = (value - 32) * 5/9\n",
    "\n",
    "    def __str__(self):\n",
    "        return f\"Temperature: {self.celsius:.2f}°C / {self.fahrenheit:.2f}°F\"\n"
   ]
  },
  {
   "cell_type": "code",
   "execution_count": 28,
   "id": "1540362c-070a-46ff-8ccd-6ec9e5612cd5",
   "metadata": {},
   "outputs": [
    {
     "name": "stdout",
     "output_type": "stream",
     "text": [
      "Temperature: 25.00°C / 77.00°F\n"
     ]
    }
   ],
   "source": [
    "temp = Temperature(25)\n",
    "print(temp)\n"
   ]
  },
  {
   "cell_type": "code",
   "execution_count": 29,
   "id": "2fce7f3b-14ba-4fb7-ae8d-555a6a135130",
   "metadata": {},
   "outputs": [
    {
     "name": "stdout",
     "output_type": "stream",
     "text": [
      "Temperature: 25.00°C / 77.00°F\n"
     ]
    }
   ],
   "source": [
    "\n",
    "temp.fahrenheit = 77\n",
    "print(temp)\n"
   ]
  },
  {
   "cell_type": "code",
   "execution_count": null,
   "id": "afac59bf-ab2d-4111-a9a9-0861c86d8306",
   "metadata": {},
   "outputs": [],
   "source": []
  }
 ],
 "metadata": {
  "kernelspec": {
   "display_name": "Python 3 (ipykernel)",
   "language": "python",
   "name": "python3"
  },
  "language_info": {
   "codemirror_mode": {
    "name": "ipython",
    "version": 3
   },
   "file_extension": ".py",
   "mimetype": "text/x-python",
   "name": "python",
   "nbconvert_exporter": "python",
   "pygments_lexer": "ipython3",
   "version": "3.12.4"
  }
 },
 "nbformat": 4,
 "nbformat_minor": 5
}
