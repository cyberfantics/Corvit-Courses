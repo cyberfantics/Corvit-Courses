{
 "cells": [
  {
   "cell_type": "code",
   "execution_count": 7,
   "id": "305760fe-6814-415f-972d-cd210605768b",
   "metadata": {},
   "outputs": [],
   "source": [
    "class Employee():\n",
    "    def __init__(self):\n",
    "        self.__name = \"Mansoor\"\n",
    "\n",
    "    @property\n",
    "    def name(self):\n",
    "        return self.__name\n",
    "\n",
    "    @name.setter\n",
    "    def name(self, name):\n",
    "        self.__name = name"
   ]
  },
  {
   "cell_type": "code",
   "execution_count": 8,
   "id": "84f40029-19a8-4a4d-9c39-fc413ae81888",
   "metadata": {},
   "outputs": [
    {
     "data": {
      "text/plain": [
       "'Mansoor'"
      ]
     },
     "execution_count": 8,
     "metadata": {},
     "output_type": "execute_result"
    }
   ],
   "source": [
    "e = Employee()\n",
    "e.name"
   ]
  },
  {
   "cell_type": "code",
   "execution_count": 9,
   "id": "ab058b2e-4c6d-4fb0-81c9-896fc0e8bbbf",
   "metadata": {},
   "outputs": [
    {
     "data": {
      "text/plain": [
       "'Asad'"
      ]
     },
     "execution_count": 9,
     "metadata": {},
     "output_type": "execute_result"
    }
   ],
   "source": [
    "e.name = \"Asad\"\n",
    "e.name"
   ]
  },
  {
   "cell_type": "code",
   "execution_count": null,
   "id": "1039d3b5-a428-4c0c-8359-acf482b26f42",
   "metadata": {},
   "outputs": [],
   "source": []
  },
  {
   "cell_type": "code",
   "execution_count": 11,
   "id": "45370551-984f-4c4c-96f9-5e384e0a0546",
   "metadata": {},
   "outputs": [],
   "source": [
    "class Programmer(Employee):\n",
    "    def summer(self):\n",
    "        print(\"Summer is start\")"
   ]
  },
  {
   "cell_type": "code",
   "execution_count": 12,
   "id": "cfaf7f31-5a86-437f-8f1a-f9ccd3d8050d",
   "metadata": {},
   "outputs": [
    {
     "data": {
      "text/plain": [
       "'Mansoor'"
      ]
     },
     "execution_count": 12,
     "metadata": {},
     "output_type": "execute_result"
    }
   ],
   "source": [
    "p = Programmer()\n",
    "p.name"
   ]
  },
  {
   "cell_type": "code",
   "execution_count": 13,
   "id": "6e816b7f-22cf-4b0f-b582-77d9b1ac2380",
   "metadata": {},
   "outputs": [
    {
     "name": "stdout",
     "output_type": "stream",
     "text": [
      "Summer is start\n"
     ]
    }
   ],
   "source": [
    "p.summer()"
   ]
  },
  {
   "cell_type": "code",
   "execution_count": 14,
   "id": "bf6a020e-1d94-4622-a5ba-3351f5012b5e",
   "metadata": {},
   "outputs": [
    {
     "data": {
      "text/plain": [
       "'Asad'"
      ]
     },
     "execution_count": 14,
     "metadata": {},
     "output_type": "execute_result"
    }
   ],
   "source": [
    "## We can also access private variable indirectly\n",
    "e._Employee__name"
   ]
  },
  {
   "cell_type": "code",
   "execution_count": 16,
   "id": "4a3eeb1d-865a-43fb-a874-81178cbe9054",
   "metadata": {},
   "outputs": [
    {
     "data": {
      "text/plain": [
       "'Mansoor'"
      ]
     },
     "execution_count": 16,
     "metadata": {},
     "output_type": "execute_result"
    }
   ],
   "source": [
    "p._Employee__name ## This techniques is called name mangling"
   ]
  },
  {
   "cell_type": "code",
   "execution_count": null,
   "id": "874e0f6e-bce7-40ab-a8ae-e233ab7d58de",
   "metadata": {},
   "outputs": [],
   "source": []
  },
  {
   "cell_type": "code",
   "execution_count": 21,
   "id": "fb9bed02-719d-48a2-8c25-3007d4992d70",
   "metadata": {},
   "outputs": [
    {
     "data": {
      "text/plain": [
       "['_Employee__name',\n",
       " '__module__',\n",
       " 'summer',\n",
       " '__doc__',\n",
       " '__annotations__',\n",
       " '__init__',\n",
       " 'name',\n",
       " '__dict__',\n",
       " '__weakref__',\n",
       " '__new__',\n",
       " '__repr__',\n",
       " '__hash__',\n",
       " '__str__',\n",
       " '__getattribute__',\n",
       " '__setattr__',\n",
       " '__delattr__',\n",
       " '__lt__',\n",
       " '__le__',\n",
       " '__eq__',\n",
       " '__ne__',\n",
       " '__gt__',\n",
       " '__ge__',\n",
       " '__reduce_ex__',\n",
       " '__reduce__',\n",
       " '__getstate__',\n",
       " '__subclasshook__',\n",
       " '__init_subclass__',\n",
       " '__format__',\n",
       " '__sizeof__',\n",
       " '__dir__',\n",
       " '__class__']"
      ]
     },
     "execution_count": 21,
     "metadata": {},
     "output_type": "execute_result"
    }
   ],
   "source": [
    "p.__dir__()"
   ]
  },
  {
   "cell_type": "code",
   "execution_count": 20,
   "id": "30379ed8-e094-4a85-a931-bb5e85eb7ed2",
   "metadata": {},
   "outputs": [
    {
     "name": "stdout",
     "output_type": "stream",
     "text": [
      "['_Employee__name', '__module__', '__init__', 'name', '__dict__', '__weakref__', '__doc__', '__new__', '__repr__', '__hash__', '__str__', '__getattribute__', '__setattr__', '__delattr__', '__lt__', '__le__', '__eq__', '__ne__', '__gt__', '__ge__', '__reduce_ex__', '__reduce__', '__getstate__', '__subclasshook__', '__init_subclass__', '__format__', '__sizeof__', '__dir__', '__class__']\n"
     ]
    }
   ],
   "source": [
    "print(e.__dir__())"
   ]
  },
  {
   "cell_type": "code",
   "execution_count": 22,
   "id": "1494388d-672e-4191-b014-5b65d73c5303",
   "metadata": {},
   "outputs": [
    {
     "data": {
      "text/plain": [
       "16"
      ]
     },
     "execution_count": 22,
     "metadata": {},
     "output_type": "execute_result"
    }
   ],
   "source": [
    "p.__sizeof__()"
   ]
  },
  {
   "cell_type": "code",
   "execution_count": null,
   "id": "dfe4fa52-bba6-4186-a884-bc13c01c95d9",
   "metadata": {},
   "outputs": [],
   "source": []
  },
  {
   "cell_type": "code",
   "execution_count": null,
   "id": "653ab229-49f9-412f-bcce-7e89eba5cf6f",
   "metadata": {},
   "outputs": [],
   "source": []
  }
 ],
 "metadata": {
  "kernelspec": {
   "display_name": "Python 3 (ipykernel)",
   "language": "python",
   "name": "python3"
  },
  "language_info": {
   "codemirror_mode": {
    "name": "ipython",
    "version": 3
   },
   "file_extension": ".py",
   "mimetype": "text/x-python",
   "name": "python",
   "nbconvert_exporter": "python",
   "pygments_lexer": "ipython3",
   "version": "3.12.4"
  }
 },
 "nbformat": 4,
 "nbformat_minor": 5
}
