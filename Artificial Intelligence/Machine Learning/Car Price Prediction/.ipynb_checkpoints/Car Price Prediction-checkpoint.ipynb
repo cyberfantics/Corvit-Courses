{
 "cells": [
  {
   "cell_type": "markdown",
   "id": "eee8a8e4-7812-42d5-b04e-cb4282b520de",
   "metadata": {},
   "source": [
    "## Car Price Prediction Model:\n",
    "- Car Brand\n",
    "- Mileage\n",
    "- Engine Capacity\n",
    "- Transimission\n",
    "- Fuel\n",
    "- Max Power"
   ]
  },
  {
   "cell_type": "markdown",
   "id": "1637c746-c37d-499d-8ca7-0ded970a0c34",
   "metadata": {},
   "source": [
    "### Steps Involve in Making The Model\n",
    "- Car Dataset\n",
    "- Pre Processing\n",
    "- Data Analysis\n",
    "- After Analysis we divide the dataset into two parts (input and output features)\n",
    "- Splitting the dataset\n",
    "- Model Creation (Scikit-Learn)\n",
    "- Model or algorithm selection (Linear Regression)\n",
    "- Saving the Model (Using Pickle)\n",
    "- Deployment (Using streamlit)"
   ]
  },
  {
   "cell_type": "markdown",
   "id": "c8585b24-dc2e-45eb-a68e-ba67bf4a140e",
   "metadata": {},
   "source": [
    "### Import Necessary Libraries\n",
    "- sciki-learn, tanserflow, pickle, numpy, pandas"
   ]
  },
  {
   "cell_type": "code",
   "execution_count": null,
   "id": "b946bcaf-39b6-4e1a-ab7f-9cb3e225d8fb",
   "metadata": {},
   "outputs": [],
   "source": [
    "import numpy as np\n",
    "import pandas as pd\n",
    "import pickle as pk\n",
    "from sklearn.model_selection import train_test_split\n",
    "from sklearn.linear_model import LinearRegression"
   ]
  },
  {
   "cell_type": "markdown",
   "id": "f20bcfc5-a044-4d9b-af29-bcd7138006b2",
   "metadata": {},
   "source": [
    "### Read the dataset"
   ]
  },
  {
   "cell_type": "code",
   "execution_count": null,
   "id": "d6a0c658-b7a9-49d7-998d-451cf5951141",
   "metadata": {},
   "outputs": [],
   "source": [
    "df = pd.read_csv('dataset/Cardetails.csv')"
   ]
  },
  {
   "cell_type": "code",
   "execution_count": null,
   "id": "6d5c0190-67b0-470f-a074-75023be1e8b2",
   "metadata": {},
   "outputs": [],
   "source": [
    "df.head(3)"
   ]
  },
  {
   "cell_type": "code",
   "execution_count": null,
   "id": "d60e4882-f7ea-4e7f-bbb2-175cb5a6e728",
   "metadata": {},
   "outputs": [],
   "source": [
    "df.drop(['torque'], axis=1, inplace=True)"
   ]
  },
  {
   "cell_type": "code",
   "execution_count": null,
   "id": "7c3fe8c6-6c33-4ab7-8f71-0d0d62c46bb8",
   "metadata": {},
   "outputs": [],
   "source": [
    "df.head(2)"
   ]
  },
  {
   "cell_type": "code",
   "execution_count": null,
   "id": "4dc98085-f0ff-4ebb-80b6-98086099c32f",
   "metadata": {},
   "outputs": [],
   "source": [
    "df.isna().sum()"
   ]
  },
  {
   "cell_type": "code",
   "execution_count": null,
   "id": "5bf9426c-4a3b-4018-b21a-f66590a66f2d",
   "metadata": {},
   "outputs": [],
   "source": [
    "df.dropna(inplace=True)"
   ]
  },
  {
   "cell_type": "code",
   "execution_count": null,
   "id": "b3c2328b-22e0-41be-8184-35caad4df4ae",
   "metadata": {},
   "outputs": [],
   "source": [
    "df.info()"
   ]
  },
  {
   "cell_type": "code",
   "execution_count": null,
   "id": "97a85418-eca9-4fea-9801-df58410b6b07",
   "metadata": {},
   "outputs": [],
   "source": [
    "df.shape"
   ]
  },
  {
   "cell_type": "code",
   "execution_count": null,
   "id": "ca0777e0-c95e-4aee-a50c-43a8c3a3681f",
   "metadata": {},
   "outputs": [],
   "source": [
    "df.drop_duplicates(inplace=True)"
   ]
  },
  {
   "cell_type": "code",
   "execution_count": null,
   "id": "3e3460ea-0233-49da-a415-dd1a9674ea66",
   "metadata": {},
   "outputs": [],
   "source": [
    "df.shape"
   ]
  },
  {
   "cell_type": "code",
   "execution_count": null,
   "id": "7c7d99da-deab-40df-aa4b-c1f83e3ac001",
   "metadata": {},
   "outputs": [],
   "source": []
  },
  {
   "cell_type": "markdown",
   "id": "cc9e1902-5fc4-470e-af7a-7d9d10442505",
   "metadata": {},
   "source": [
    "### Data analysis"
   ]
  },
  {
   "cell_type": "markdown",
   "id": "f7ff075c-312b-4b96-8c3b-c6e89cb413e1",
   "metadata": {},
   "source": [
    "#### Display unique values of Object"
   ]
  },
  {
   "cell_type": "code",
   "execution_count": null,
   "id": "baa6dd5a-6bbf-424f-82bd-eca5b27ada44",
   "metadata": {},
   "outputs": [],
   "source": [
    "for col in df.select_dtypes(include='object').columns:\n",
    "    print('-'*90)\n",
    "    print('-'*90)\n",
    "    print(f\"Unique values of {col} are\")\n",
    "    print(df[col].unique())"
   ]
  },
  {
   "cell_type": "markdown",
   "id": "6da629d5-467e-41e2-a7bd-74d21ae333ac",
   "metadata": {},
   "source": []
  },
  {
   "cell_type": "code",
   "execution_count": null,
   "id": "891dfdf4-8637-405c-8738-97ed706d4aec",
   "metadata": {},
   "outputs": [],
   "source": [
    "def get_brand_name(car_name):\n",
    "    car_name = car_name.split(' ')[0]\n",
    "    return car_name.strip()"
   ]
  },
  {
   "cell_type": "code",
   "execution_count": null,
   "id": "20fc0cfb-aafb-4841-b83c-f9885b773d38",
   "metadata": {},
   "outputs": [],
   "source": [
    "def clean_value(value):\n",
    "    value = value.split(' ')[0]\n",
    "    return float(value.strip())"
   ]
  },
  {
   "cell_type": "markdown",
   "id": "3f37c497-7aa1-4cbe-864b-e9474d4fc284",
   "metadata": {},
   "source": [
    "### As we only want brand name instead of complete name, so apply it"
   ]
  },
  {
   "cell_type": "code",
   "execution_count": null,
   "id": "3e69067b-ab78-44a5-b0dc-f1f251154355",
   "metadata": {},
   "outputs": [],
   "source": [
    "df['name'] = df['name'].apply(get_brand_name)"
   ]
  },
  {
   "cell_type": "code",
   "execution_count": null,
   "id": "6dd9e51d-5b60-46fe-90e5-7d91d4e4440d",
   "metadata": {},
   "outputs": [],
   "source": [
    "df['name'].unique()"
   ]
  },
  {
   "cell_type": "code",
   "execution_count": null,
   "id": "afa700f7-6877-4c0c-bbd0-56ca815baa68",
   "metadata": {},
   "outputs": [],
   "source": [
    "df.head(1)"
   ]
  },
  {
   "cell_type": "code",
   "execution_count": null,
   "id": "16266999-6485-4fec-af47-09189a7fc474",
   "metadata": {},
   "outputs": [],
   "source": [
    "df['max_power'] = df['max_power'].apply(clean_value)\n",
    "df['mileage'] = df['mileage'].apply(clean_value)\n",
    "df['engine'] = df['engine'].apply(clean_value)"
   ]
  },
  {
   "cell_type": "code",
   "execution_count": null,
   "id": "2c3ec9dc-d52c-4c36-81dc-25497638a778",
   "metadata": {},
   "outputs": [],
   "source": [
    "df.info()"
   ]
  },
  {
   "cell_type": "code",
   "execution_count": null,
   "id": "4dca959c-f984-47ec-bc37-554a44a00d6b",
   "metadata": {},
   "outputs": [],
   "source": []
  }
 ],
 "metadata": {
  "kernelspec": {
   "display_name": "Python 3 (ipykernel)",
   "language": "python",
   "name": "python3"
  },
  "language_info": {
   "codemirror_mode": {
    "name": "ipython",
    "version": 3
   },
   "file_extension": ".py",
   "mimetype": "text/x-python",
   "name": "python",
   "nbconvert_exporter": "python",
   "pygments_lexer": "ipython3",
   "version": "3.12.4"
  }
 },
 "nbformat": 4,
 "nbformat_minor": 5
}
