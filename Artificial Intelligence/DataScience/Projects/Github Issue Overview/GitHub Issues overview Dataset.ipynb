{
 "cells": [
  {
   "cell_type": "markdown",
   "id": "29a9eb9d-427f-4426-a131-8e0fc3353639",
   "metadata": {},
   "source": [
    "# GitHub Issues overview Dataset"
   ]
  },
  {
   "cell_type": "code",
   "execution_count": 1,
   "id": "52ddf358-1ae8-400d-b380-d15411e300b7",
   "metadata": {},
   "outputs": [],
   "source": [
    "import pandas as pd\n",
    "import numpy as np\n",
    "import matplotlib.pyplot as plt"
   ]
  },
  {
   "cell_type": "code",
   "execution_count": null,
   "id": "00224906-45f8-4438-a12b-76986ebf9680",
   "metadata": {},
   "outputs": [],
   "source": []
  },
  {
   "cell_type": "markdown",
   "id": "194c9321-fc51-4b68-a254-67114a03b403",
   "metadata": {},
   "source": [
    "##### Load the dataset"
   ]
  },
  {
   "cell_type": "code",
   "execution_count": 2,
   "id": "1bb035e1-1be9-4bf1-b905-21455977b32d",
   "metadata": {},
   "outputs": [],
   "source": [
    "df = pd.read_csv('archive/a_github_issues_overview_dataset.csv')"
   ]
  },
  {
   "cell_type": "code",
   "execution_count": null,
   "id": "c2bf381d-c67f-4202-bcda-735822a748e8",
   "metadata": {},
   "outputs": [],
   "source": []
  },
  {
   "cell_type": "markdown",
   "id": "96adfd0f-7413-4621-8845-676af5bc5505",
   "metadata": {},
   "source": [
    "#### Check Number of Rows and Columns"
   ]
  },
  {
   "cell_type": "code",
   "execution_count": 3,
   "id": "ea88e1f3-6f26-409c-9a06-e7afe7f1e995",
   "metadata": {},
   "outputs": [
    {
     "data": {
      "text/plain": [
       "(15955, 16)"
      ]
     },
     "execution_count": 3,
     "metadata": {},
     "output_type": "execute_result"
    }
   ],
   "source": [
    "df.shape"
   ]
  },
  {
   "cell_type": "code",
   "execution_count": null,
   "id": "761bef84-593b-435b-a402-b8dc256e21b8",
   "metadata": {},
   "outputs": [],
   "source": []
  },
  {
   "cell_type": "markdown",
   "id": "2d0b4080-d2dc-4f45-8d08-908907266634",
   "metadata": {},
   "source": [
    "#### Check Present Columns In Dataset"
   ]
  },
  {
   "cell_type": "code",
   "execution_count": 4,
   "id": "447e5fb0-9a4d-4a21-935d-7e4a2b39adca",
   "metadata": {},
   "outputs": [
    {
     "name": "stdout",
     "output_type": "stream",
     "text": [
      "These are the columns which are present in our dataset\n",
      "1 . repo_name\n",
      "2 . title\n",
      "3 . body\n",
      "4 . user_login\n",
      "5 . created_at\n",
      "6 . answer_1\n",
      "7 . answer_2\n",
      "8 . answer_3\n",
      "9 . answer_4\n",
      "10 . answer_5\n",
      "11 . label_1\n",
      "12 . label_2\n",
      "13 . label_3\n",
      "14 . label_4\n",
      "15 . label_5\n",
      "16 . likes\n"
     ]
    }
   ],
   "source": [
    "print('These are the columns which are present in our dataset')\n",
    "i = 1\n",
    "for column in df.columns:\n",
    "    print(i,'.', column)\n",
    "    i += 1\n",
    "del i"
   ]
  },
  {
   "cell_type": "code",
   "execution_count": null,
   "id": "42630bd7-eb93-4b5b-a7bb-28ea34a6bb5f",
   "metadata": {},
   "outputs": [],
   "source": []
  },
  {
   "cell_type": "markdown",
   "id": "a5e03947-9fc0-413b-8c73-3cda413d1387",
   "metadata": {},
   "source": [
    "#### Check if any empty row is present"
   ]
  },
  {
   "cell_type": "code",
   "execution_count": 5,
   "id": "409050b5-e9e0-4956-a3ed-3ea821c5c121",
   "metadata": {},
   "outputs": [
    {
     "data": {
      "text/plain": [
       "repo_name         0\n",
       "title             0\n",
       "body              0\n",
       "user_login        0\n",
       "created_at        0\n",
       "answer_1          0\n",
       "answer_2       3447\n",
       "answer_3       6949\n",
       "answer_4       9520\n",
       "answer_5      11442\n",
       "label_1           9\n",
       "label_2       15951\n",
       "label_3        7517\n",
       "label_4       12172\n",
       "label_5       14409\n",
       "likes             0\n",
       "dtype: int64"
      ]
     },
     "execution_count": 5,
     "metadata": {},
     "output_type": "execute_result"
    }
   ],
   "source": [
    "df.isna().sum()"
   ]
  },
  {
   "cell_type": "markdown",
   "id": "db61ba02-53ad-4346-8e14-9c17695068d5",
   "metadata": {},
   "source": [
    "**Note:** `This dataset contain alot number of empty rows, total rows are 15955 and one column has 15951 empty rows`"
   ]
  },
  {
   "cell_type": "code",
   "execution_count": null,
   "id": "38853d88-35de-44e2-b7d7-5086cc35aaa3",
   "metadata": {},
   "outputs": [],
   "source": []
  },
  {
   "cell_type": "markdown",
   "id": "8b1ff225-d9cc-483b-86a3-761330f2bfa2",
   "metadata": {},
   "source": [
    "#### Get basic Info of Dataset"
   ]
  },
  {
   "cell_type": "code",
   "execution_count": 6,
   "id": "93178c4c-d77c-4eef-ab05-f580b3872175",
   "metadata": {},
   "outputs": [
    {
     "name": "stdout",
     "output_type": "stream",
     "text": [
      "<class 'pandas.core.frame.DataFrame'>\n",
      "RangeIndex: 15955 entries, 0 to 15954\n",
      "Data columns (total 16 columns):\n",
      " #   Column      Non-Null Count  Dtype \n",
      "---  ------      --------------  ----- \n",
      " 0   repo_name   15955 non-null  object\n",
      " 1   title       15955 non-null  object\n",
      " 2   body        15955 non-null  object\n",
      " 3   user_login  15955 non-null  object\n",
      " 4   created_at  15955 non-null  object\n",
      " 5   answer_1    15955 non-null  object\n",
      " 6   answer_2    12508 non-null  object\n",
      " 7   answer_3    9006 non-null   object\n",
      " 8   answer_4    6435 non-null   object\n",
      " 9   answer_5    4513 non-null   object\n",
      " 10  label_1     15946 non-null  object\n",
      " 11  label_2     4 non-null      object\n",
      " 12  label_3     8438 non-null   object\n",
      " 13  label_4     3783 non-null   object\n",
      " 14  label_5     1546 non-null   object\n",
      " 15  likes       15955 non-null  int64 \n",
      "dtypes: int64(1), object(15)\n",
      "memory usage: 1.9+ MB\n"
     ]
    }
   ],
   "source": [
    "df.info()"
   ]
  },
  {
   "cell_type": "code",
   "execution_count": null,
   "id": "1444cc4c-6cd0-4a9b-b705-8b0a69e5ca39",
   "metadata": {},
   "outputs": [],
   "source": []
  },
  {
   "cell_type": "markdown",
   "id": "d2f8144a-6a6c-4c8b-8e0c-475b468047bb",
   "metadata": {},
   "source": [
    "#### As label_2 have only two not null values, Let's See them"
   ]
  },
  {
   "cell_type": "code",
   "execution_count": 7,
   "id": "516a745e-c52f-4cc6-948f-7e82eb240d82",
   "metadata": {},
   "outputs": [
    {
     "name": "stdout",
     "output_type": "stream",
     "text": [
      "Values which are not null in label_2 are\n",
      "1. Area: Design/Frontend\n",
      "1. stale issue\n",
      "1. Area: Design/Frontend\n",
      "1. Component: Ui\n"
     ]
    }
   ],
   "source": [
    "# Filter rows where label_2 is not null\n",
    "filtered_df = df[df['label_2'].notnull()]\n",
    "print('Values which are not null in label_2 are')\n",
    "i = 1\n",
    "for row in filtered_df['label_2']:\n",
    "    print(f'{i}. {row}')\n",
    "del i"
   ]
  },
  {
   "cell_type": "code",
   "execution_count": null,
   "id": "a598f5be-375c-4b4d-a553-3e05837d8c26",
   "metadata": {},
   "outputs": [],
   "source": []
  },
  {
   "cell_type": "markdown",
   "id": "c20cf3b3-1322-4d68-9de1-7f963f549151",
   "metadata": {},
   "source": [
    "#### Analyze the dataset by seeing its values"
   ]
  },
  {
   "cell_type": "code",
   "execution_count": 8,
   "id": "38855891-5d79-454b-8017-edf6cf27b548",
   "metadata": {},
   "outputs": [
    {
     "data": {
      "text/html": [
       "<div>\n",
       "<style scoped>\n",
       "    .dataframe tbody tr th:only-of-type {\n",
       "        vertical-align: middle;\n",
       "    }\n",
       "\n",
       "    .dataframe tbody tr th {\n",
       "        vertical-align: top;\n",
       "    }\n",
       "\n",
       "    .dataframe thead th {\n",
       "        text-align: right;\n",
       "    }\n",
       "</style>\n",
       "<table border=\"1\" class=\"dataframe\">\n",
       "  <thead>\n",
       "    <tr style=\"text-align: right;\">\n",
       "      <th></th>\n",
       "      <th>repo_name</th>\n",
       "      <th>title</th>\n",
       "      <th>body</th>\n",
       "      <th>user_login</th>\n",
       "      <th>created_at</th>\n",
       "      <th>answer_1</th>\n",
       "      <th>answer_2</th>\n",
       "      <th>answer_3</th>\n",
       "      <th>answer_4</th>\n",
       "      <th>answer_5</th>\n",
       "      <th>label_1</th>\n",
       "      <th>label_2</th>\n",
       "      <th>label_3</th>\n",
       "      <th>label_4</th>\n",
       "      <th>label_5</th>\n",
       "      <th>likes</th>\n",
       "    </tr>\n",
       "  </thead>\n",
       "  <tbody>\n",
       "    <tr>\n",
       "      <th>0</th>\n",
       "      <td>angular/angular</td>\n",
       "      <td>Article mistake</td>\n",
       "      <td>### Describe the problem that you experienced\\...</td>\n",
       "      <td>PiotrZinfWSB</td>\n",
       "      <td>2023-05-05T15:54:28Z</td>\n",
       "      <td>Hey @alan-agius4, can I work on this issue?</td>\n",
       "      <td>@MukulKolpe You can open a PR if you'd like to...</td>\n",
       "      <td>Following the history and looking at the page,...</td>\n",
       "      <td>This issue has been automatically locked due t...</td>\n",
       "      <td>NaN</td>\n",
       "      <td>help wanted</td>\n",
       "      <td>NaN</td>\n",
       "      <td>good first issue</td>\n",
       "      <td>NaN</td>\n",
       "      <td>NaN</td>\n",
       "      <td>0</td>\n",
       "    </tr>\n",
       "    <tr>\n",
       "      <th>1</th>\n",
       "      <td>microsoft/microsoft-ui-xaml</td>\n",
       "      <td>Able to change the window height even if IsRes...</td>\n",
       "      <td>### Describe the bug\\n\\nIf you set ExtendsCont...</td>\n",
       "      <td>eduardobragaxz</td>\n",
       "      <td>2024-06-07T20:52:24Z</td>\n",
       "      <td>Hi I'm an AI powered bot that finds similar is...</td>\n",
       "      <td>This is very similar to #9670, though that iss...</td>\n",
       "      <td>This was closed as fixed/duplicate of #7629. T...</td>\n",
       "      <td>NaN</td>\n",
       "      <td>NaN</td>\n",
       "      <td>bug</td>\n",
       "      <td>NaN</td>\n",
       "      <td>team-CompInput</td>\n",
       "      <td>area-TitleBar</td>\n",
       "      <td>Regression</td>\n",
       "      <td>0</td>\n",
       "    </tr>\n",
       "    <tr>\n",
       "      <th>2</th>\n",
       "      <td>dotnet/roslyn</td>\n",
       "      <td>Introduce local for 'this' is not very useful</td>\n",
       "      <td>**Version Used**: VS 15.7\\r\\n\\r\\n**Steps to Re...</td>\n",
       "      <td>0xd4d</td>\n",
       "      <td>2018-07-20T15:15:16Z</td>\n",
       "      <td>Why is this a bug?</td>\n",
       "      <td>Design Meeting Notes:\\r\\n\\r\\nSince `s` is `rea...</td>\n",
       "      <td>@Neme12 is there a good use case for this that...</td>\n",
       "      <td>NaN</td>\n",
       "      <td>NaN</td>\n",
       "      <td>Bug</td>\n",
       "      <td>NaN</td>\n",
       "      <td>help wanted</td>\n",
       "      <td>Area-IDE</td>\n",
       "      <td>NaN</td>\n",
       "      <td>1</td>\n",
       "    </tr>\n",
       "    <tr>\n",
       "      <th>3</th>\n",
       "      <td>rails/webpacker</td>\n",
       "      <td>bundle exec rails webpacker:install:typescript...</td>\n",
       "      <td>webpacker version: 4.0.7\\r\\n\\r\\nIt appends the...</td>\n",
       "      <td>akoskm</td>\n",
       "      <td>2019-09-09T19:47:02Z</td>\n",
       "      <td>I think this is the missing line:\\r\\n\\r\\nhttps...</td>\n",
       "      <td>Can this ticket be closed? \\r\\n\\r\\nI attempted...</td>\n",
       "      <td>NaN</td>\n",
       "      <td>NaN</td>\n",
       "      <td>NaN</td>\n",
       "      <td>bug</td>\n",
       "      <td>NaN</td>\n",
       "      <td>help wanted</td>\n",
       "      <td>NaN</td>\n",
       "      <td>NaN</td>\n",
       "      <td>0</td>\n",
       "    </tr>\n",
       "  </tbody>\n",
       "</table>\n",
       "</div>"
      ],
      "text/plain": [
       "                     repo_name  \\\n",
       "0              angular/angular   \n",
       "1  microsoft/microsoft-ui-xaml   \n",
       "2                dotnet/roslyn   \n",
       "3              rails/webpacker   \n",
       "\n",
       "                                               title  \\\n",
       "0                                    Article mistake   \n",
       "1  Able to change the window height even if IsRes...   \n",
       "2      Introduce local for 'this' is not very useful   \n",
       "3  bundle exec rails webpacker:install:typescript...   \n",
       "\n",
       "                                                body      user_login  \\\n",
       "0  ### Describe the problem that you experienced\\...    PiotrZinfWSB   \n",
       "1  ### Describe the bug\\n\\nIf you set ExtendsCont...  eduardobragaxz   \n",
       "2  **Version Used**: VS 15.7\\r\\n\\r\\n**Steps to Re...           0xd4d   \n",
       "3  webpacker version: 4.0.7\\r\\n\\r\\nIt appends the...          akoskm   \n",
       "\n",
       "             created_at                                           answer_1  \\\n",
       "0  2023-05-05T15:54:28Z        Hey @alan-agius4, can I work on this issue?   \n",
       "1  2024-06-07T20:52:24Z  Hi I'm an AI powered bot that finds similar is...   \n",
       "2  2018-07-20T15:15:16Z                                 Why is this a bug?   \n",
       "3  2019-09-09T19:47:02Z  I think this is the missing line:\\r\\n\\r\\nhttps...   \n",
       "\n",
       "                                            answer_2  \\\n",
       "0  @MukulKolpe You can open a PR if you'd like to...   \n",
       "1  This is very similar to #9670, though that iss...   \n",
       "2  Design Meeting Notes:\\r\\n\\r\\nSince `s` is `rea...   \n",
       "3  Can this ticket be closed? \\r\\n\\r\\nI attempted...   \n",
       "\n",
       "                                            answer_3  \\\n",
       "0  Following the history and looking at the page,...   \n",
       "1  This was closed as fixed/duplicate of #7629. T...   \n",
       "2  @Neme12 is there a good use case for this that...   \n",
       "3                                                NaN   \n",
       "\n",
       "                                            answer_4 answer_5      label_1  \\\n",
       "0  This issue has been automatically locked due t...      NaN  help wanted   \n",
       "1                                                NaN      NaN          bug   \n",
       "2                                                NaN      NaN          Bug   \n",
       "3                                                NaN      NaN          bug   \n",
       "\n",
       "  label_2           label_3        label_4     label_5  likes  \n",
       "0     NaN  good first issue            NaN         NaN      0  \n",
       "1     NaN    team-CompInput  area-TitleBar  Regression      0  \n",
       "2     NaN       help wanted       Area-IDE         NaN      1  \n",
       "3     NaN       help wanted            NaN         NaN      0  "
      ]
     },
     "execution_count": 8,
     "metadata": {},
     "output_type": "execute_result"
    }
   ],
   "source": [
    "df.head(4)"
   ]
  },
  {
   "cell_type": "code",
   "execution_count": 9,
   "id": "d37d6e9b-efd0-4cf5-80ea-aeee8643cd9f",
   "metadata": {},
   "outputs": [
    {
     "data": {
      "text/html": [
       "<div>\n",
       "<style scoped>\n",
       "    .dataframe tbody tr th:only-of-type {\n",
       "        vertical-align: middle;\n",
       "    }\n",
       "\n",
       "    .dataframe tbody tr th {\n",
       "        vertical-align: top;\n",
       "    }\n",
       "\n",
       "    .dataframe thead th {\n",
       "        text-align: right;\n",
       "    }\n",
       "</style>\n",
       "<table border=\"1\" class=\"dataframe\">\n",
       "  <thead>\n",
       "    <tr style=\"text-align: right;\">\n",
       "      <th></th>\n",
       "      <th>repo_name</th>\n",
       "      <th>title</th>\n",
       "      <th>body</th>\n",
       "      <th>user_login</th>\n",
       "      <th>created_at</th>\n",
       "      <th>answer_1</th>\n",
       "      <th>answer_2</th>\n",
       "      <th>answer_3</th>\n",
       "      <th>answer_4</th>\n",
       "      <th>answer_5</th>\n",
       "      <th>label_1</th>\n",
       "      <th>label_2</th>\n",
       "      <th>label_3</th>\n",
       "      <th>label_4</th>\n",
       "      <th>label_5</th>\n",
       "      <th>likes</th>\n",
       "    </tr>\n",
       "  </thead>\n",
       "  <tbody>\n",
       "    <tr>\n",
       "      <th>15950</th>\n",
       "      <td>glfw/glfw</td>\n",
       "      <td>glfwInit() fails to create a window when on di...</td>\n",
       "      <td>There is no error it just stops the program, b...</td>\n",
       "      <td>Dromader2137</td>\n",
       "      <td>2022-07-14T13:52:35Z</td>\n",
       "      <td>That is very strange. If possible, try steppin...</td>\n",
       "      <td>Platform is Windows 10, and glfw version is 3....</td>\n",
       "      <td>Maybe try disabling the Discord Overlay if it'...</td>\n",
       "      <td>Sorry for the really long wait, but the proble...</td>\n",
       "      <td>No worries and thank you for the update!</td>\n",
       "      <td>bug</td>\n",
       "      <td>NaN</td>\n",
       "      <td>Windows</td>\n",
       "      <td>external</td>\n",
       "      <td>NaN</td>\n",
       "      <td>0</td>\n",
       "    </tr>\n",
       "    <tr>\n",
       "      <th>15951</th>\n",
       "      <td>sass/dart-sass</td>\n",
       "      <td>webpack builds using sass-loader are failing o...</td>\n",
       "      <td>The fix committed in #1096 is causing the webp...</td>\n",
       "      <td>royson-ct</td>\n",
       "      <td>2020-10-06T10:43:49Z</td>\n",
       "      <td>This is unlikely to be caused by #1096, since ...</td>\n",
       "      <td>Note that we test Sass upstream on CI and ther...</td>\n",
       "      <td>@nex3 Here is the simple reproduction reposito...</td>\n",
       "      <td>You're right, it looks like this was caused by...</td>\n",
       "      <td>Here is a good minimal repro: https://github.c...</td>\n",
       "      <td>bug</td>\n",
       "      <td>NaN</td>\n",
       "      <td>needs info</td>\n",
       "      <td>NaN</td>\n",
       "      <td>NaN</td>\n",
       "      <td>4</td>\n",
       "    </tr>\n",
       "    <tr>\n",
       "      <th>15952</th>\n",
       "      <td>unisonweb/unison</td>\n",
       "      <td>Function.fix no longer compiles</td>\n",
       "      <td>The `Function.fix` that exists in base no long...</td>\n",
       "      <td>ceedubs</td>\n",
       "      <td>2023-05-06T18:16:33Z</td>\n",
       "      <td>I submitted a [base contribution](https://shar...</td>\n",
       "      <td>NaN</td>\n",
       "      <td>NaN</td>\n",
       "      <td>NaN</td>\n",
       "      <td>NaN</td>\n",
       "      <td>bug</td>\n",
       "      <td>NaN</td>\n",
       "      <td>typechecker</td>\n",
       "      <td>NaN</td>\n",
       "      <td>NaN</td>\n",
       "      <td>0</td>\n",
       "    </tr>\n",
       "    <tr>\n",
       "      <th>15953</th>\n",
       "      <td>flutter/flutter</td>\n",
       "      <td>can't read file from android emulator</td>\n",
       "      <td>I pushed one file into sdcard of emulator, but...</td>\n",
       "      <td>ldbing</td>\n",
       "      <td>2019-09-17T06:52:29Z</td>\n",
       "      <td>Hello @ldbing !\\r\\n\\r\\nThank you for posting a...</td>\n",
       "      <td>Hello @ldbing !\\r\\n\\r\\nWithout additional info...</td>\n",
       "      <td>This thread has been automatically locked sinc...</td>\n",
       "      <td>NaN</td>\n",
       "      <td>NaN</td>\n",
       "      <td>platform-android</td>\n",
       "      <td>NaN</td>\n",
       "      <td>waiting for customer response</td>\n",
       "      <td>NaN</td>\n",
       "      <td>NaN</td>\n",
       "      <td>0</td>\n",
       "    </tr>\n",
       "    <tr>\n",
       "      <th>15954</th>\n",
       "      <td>bmuschko/gradle-docker-plugin</td>\n",
       "      <td>extraHosts should have effect?</td>\n",
       "      <td>&lt;!--- Provide a brief summary of the issue in ...</td>\n",
       "      <td>Bartman0</td>\n",
       "      <td>2020-06-12T10:50:35Z</td>\n",
       "      <td>I am not fully sure how Docker Java handles th...</td>\n",
       "      <td>What's the status on this?</td>\n",
       "      <td>no progress so far.\\n\\n\\n\\nRichard Kooijman\\nA...</td>\n",
       "      <td>OK, I'll close this issue for now. Feel free t...</td>\n",
       "      <td>NaN</td>\n",
       "      <td>bug</td>\n",
       "      <td>NaN</td>\n",
       "      <td>NaN</td>\n",
       "      <td>NaN</td>\n",
       "      <td>NaN</td>\n",
       "      <td>0</td>\n",
       "    </tr>\n",
       "  </tbody>\n",
       "</table>\n",
       "</div>"
      ],
      "text/plain": [
       "                           repo_name  \\\n",
       "15950                      glfw/glfw   \n",
       "15951                 sass/dart-sass   \n",
       "15952               unisonweb/unison   \n",
       "15953                flutter/flutter   \n",
       "15954  bmuschko/gradle-docker-plugin   \n",
       "\n",
       "                                                   title  \\\n",
       "15950  glfwInit() fails to create a window when on di...   \n",
       "15951  webpack builds using sass-loader are failing o...   \n",
       "15952                    Function.fix no longer compiles   \n",
       "15953              can't read file from android emulator   \n",
       "15954                     extraHosts should have effect?   \n",
       "\n",
       "                                                    body    user_login  \\\n",
       "15950  There is no error it just stops the program, b...  Dromader2137   \n",
       "15951  The fix committed in #1096 is causing the webp...     royson-ct   \n",
       "15952  The `Function.fix` that exists in base no long...       ceedubs   \n",
       "15953  I pushed one file into sdcard of emulator, but...        ldbing   \n",
       "15954  <!--- Provide a brief summary of the issue in ...      Bartman0   \n",
       "\n",
       "                 created_at  \\\n",
       "15950  2022-07-14T13:52:35Z   \n",
       "15951  2020-10-06T10:43:49Z   \n",
       "15952  2023-05-06T18:16:33Z   \n",
       "15953  2019-09-17T06:52:29Z   \n",
       "15954  2020-06-12T10:50:35Z   \n",
       "\n",
       "                                                answer_1  \\\n",
       "15950  That is very strange. If possible, try steppin...   \n",
       "15951  This is unlikely to be caused by #1096, since ...   \n",
       "15952  I submitted a [base contribution](https://shar...   \n",
       "15953  Hello @ldbing !\\r\\n\\r\\nThank you for posting a...   \n",
       "15954  I am not fully sure how Docker Java handles th...   \n",
       "\n",
       "                                                answer_2  \\\n",
       "15950  Platform is Windows 10, and glfw version is 3....   \n",
       "15951  Note that we test Sass upstream on CI and ther...   \n",
       "15952                                                NaN   \n",
       "15953  Hello @ldbing !\\r\\n\\r\\nWithout additional info...   \n",
       "15954                         What's the status on this?   \n",
       "\n",
       "                                                answer_3  \\\n",
       "15950  Maybe try disabling the Discord Overlay if it'...   \n",
       "15951  @nex3 Here is the simple reproduction reposito...   \n",
       "15952                                                NaN   \n",
       "15953  This thread has been automatically locked sinc...   \n",
       "15954  no progress so far.\\n\\n\\n\\nRichard Kooijman\\nA...   \n",
       "\n",
       "                                                answer_4  \\\n",
       "15950  Sorry for the really long wait, but the proble...   \n",
       "15951  You're right, it looks like this was caused by...   \n",
       "15952                                                NaN   \n",
       "15953                                                NaN   \n",
       "15954  OK, I'll close this issue for now. Feel free t...   \n",
       "\n",
       "                                                answer_5           label_1  \\\n",
       "15950           No worries and thank you for the update!               bug   \n",
       "15951  Here is a good minimal repro: https://github.c...               bug   \n",
       "15952                                                NaN               bug   \n",
       "15953                                                NaN  platform-android   \n",
       "15954                                                NaN               bug   \n",
       "\n",
       "      label_2                        label_3   label_4 label_5  likes  \n",
       "15950     NaN                        Windows  external     NaN      0  \n",
       "15951     NaN                     needs info       NaN     NaN      4  \n",
       "15952     NaN                    typechecker       NaN     NaN      0  \n",
       "15953     NaN  waiting for customer response       NaN     NaN      0  \n",
       "15954     NaN                            NaN       NaN     NaN      0  "
      ]
     },
     "execution_count": 9,
     "metadata": {},
     "output_type": "execute_result"
    }
   ],
   "source": [
    "df.tail()"
   ]
  },
  {
   "cell_type": "code",
   "execution_count": null,
   "id": "69baf6f2-6504-4909-a1ba-2ff6d7bf4d66",
   "metadata": {},
   "outputs": [],
   "source": []
  },
  {
   "cell_type": "markdown",
   "id": "de9720c7-0c6a-43c0-b2f8-8a636f75acda",
   "metadata": {},
   "source": [
    "#### Max Likes Which A Repository Contain"
   ]
  },
  {
   "cell_type": "code",
   "execution_count": 10,
   "id": "f0cad46f-f4ed-4465-a7e2-86fe0b01d9cc",
   "metadata": {},
   "outputs": [
    {
     "data": {
      "text/plain": [
       "46"
      ]
     },
     "execution_count": 10,
     "metadata": {},
     "output_type": "execute_result"
    }
   ],
   "source": [
    "df['likes'].max()"
   ]
  },
  {
   "cell_type": "code",
   "execution_count": null,
   "id": "f59bd2dc-1a07-429f-baa9-c9c47c8c7f98",
   "metadata": {},
   "outputs": [],
   "source": []
  },
  {
   "cell_type": "code",
   "execution_count": 11,
   "id": "e83ce6f1-8fd0-4142-a046-761bea1e67bf",
   "metadata": {},
   "outputs": [
    {
     "data": {
      "text/plain": [
       "0"
      ]
     },
     "execution_count": 11,
     "metadata": {},
     "output_type": "execute_result"
    }
   ],
   "source": [
    "df['likes'].min()"
   ]
  },
  {
   "cell_type": "code",
   "execution_count": null,
   "id": "0551a8ca-cec0-4f68-b40e-932c7ab18fbd",
   "metadata": {},
   "outputs": [],
   "source": []
  },
  {
   "cell_type": "markdown",
   "id": "4ce0b52a-3760-466e-94d4-0874895d8ed5",
   "metadata": {},
   "source": [
    "##### Top 5 likes which repositories contain"
   ]
  },
  {
   "cell_type": "code",
   "execution_count": 12,
   "id": "af8b72e7-d007-445e-bbc5-51309a0972d1",
   "metadata": {},
   "outputs": [
    {
     "name": "stdout",
     "output_type": "stream",
     "text": [
      "These are top five values of like which repositories contain\n",
      "1. 46\n",
      "2. 25\n",
      "3. 24\n",
      "4. 22\n",
      "5. 21\n"
     ]
    }
   ],
   "source": [
    "top_3 = df['likes'].nlargest(5)\n",
    "\n",
    "print(f'These are top five values of like which repositories contain')\n",
    "i = 1\n",
    "for likes in top_3:\n",
    "    print(f'{i}. {likes}')\n",
    "    i += 1\n",
    "del i"
   ]
  },
  {
   "cell_type": "markdown",
   "id": "dce3019a-b2ce-4c60-9d2d-eb9722ea1579",
   "metadata": {},
   "source": [
    "**Note:** `As most of the repositories contain 0 likes so we don't need to use nsmallest()`"
   ]
  },
  {
   "cell_type": "code",
   "execution_count": null,
   "id": "948bcdb1-70d1-4c33-b39c-5cd74a29265f",
   "metadata": {},
   "outputs": [],
   "source": []
  },
  {
   "cell_type": "code",
   "execution_count": null,
   "id": "5bfca4e7-66db-4628-ac0c-04045aacc455",
   "metadata": {},
   "outputs": [],
   "source": []
  },
  {
   "cell_type": "markdown",
   "id": "870c503a-d53b-4f59-a505-83eab1f143ea",
   "metadata": {},
   "source": [
    "#### We can change the datatype of date, As it is shown in object"
   ]
  },
  {
   "cell_type": "code",
   "execution_count": 13,
   "id": "794f9e2b-9f49-47c2-9057-5290359c7916",
   "metadata": {},
   "outputs": [],
   "source": [
    "df['created_at'] = pd.to_datetime(df['created_at'])"
   ]
  },
  {
   "cell_type": "code",
   "execution_count": null,
   "id": "35f4c8a2-9e01-455a-b7c6-63c27351a331",
   "metadata": {},
   "outputs": [],
   "source": []
  },
  {
   "cell_type": "markdown",
   "id": "14e7825e-16e3-40fb-8217-2b8df6b76a97",
   "metadata": {},
   "source": [
    "#### Now check the info"
   ]
  },
  {
   "cell_type": "code",
   "execution_count": 14,
   "id": "7e48c6dd-ac52-4017-98db-9a904e406c9f",
   "metadata": {},
   "outputs": [
    {
     "name": "stdout",
     "output_type": "stream",
     "text": [
      "<class 'pandas.core.frame.DataFrame'>\n",
      "RangeIndex: 15955 entries, 0 to 15954\n",
      "Data columns (total 16 columns):\n",
      " #   Column      Non-Null Count  Dtype              \n",
      "---  ------      --------------  -----              \n",
      " 0   repo_name   15955 non-null  object             \n",
      " 1   title       15955 non-null  object             \n",
      " 2   body        15955 non-null  object             \n",
      " 3   user_login  15955 non-null  object             \n",
      " 4   created_at  15955 non-null  datetime64[ns, UTC]\n",
      " 5   answer_1    15955 non-null  object             \n",
      " 6   answer_2    12508 non-null  object             \n",
      " 7   answer_3    9006 non-null   object             \n",
      " 8   answer_4    6435 non-null   object             \n",
      " 9   answer_5    4513 non-null   object             \n",
      " 10  label_1     15946 non-null  object             \n",
      " 11  label_2     4 non-null      object             \n",
      " 12  label_3     8438 non-null   object             \n",
      " 13  label_4     3783 non-null   object             \n",
      " 14  label_5     1546 non-null   object             \n",
      " 15  likes       15955 non-null  int64              \n",
      "dtypes: datetime64[ns, UTC](1), int64(1), object(14)\n",
      "memory usage: 1.9+ MB\n"
     ]
    }
   ],
   "source": [
    "df.info()"
   ]
  },
  {
   "cell_type": "code",
   "execution_count": null,
   "id": "1df43781-c8dd-4499-8021-f9a01369c490",
   "metadata": {},
   "outputs": [],
   "source": []
  },
  {
   "cell_type": "markdown",
   "id": "ca218658-594a-43ec-bd7e-c8a7843d494f",
   "metadata": {},
   "source": [
    "#### Show first 5 values of data"
   ]
  },
  {
   "cell_type": "code",
   "execution_count": 15,
   "id": "9f4cad82-1791-41e1-ba33-5b1b9b45a0cd",
   "metadata": {},
   "outputs": [
    {
     "data": {
      "text/html": [
       "<div>\n",
       "<style scoped>\n",
       "    .dataframe tbody tr th:only-of-type {\n",
       "        vertical-align: middle;\n",
       "    }\n",
       "\n",
       "    .dataframe tbody tr th {\n",
       "        vertical-align: top;\n",
       "    }\n",
       "\n",
       "    .dataframe thead th {\n",
       "        text-align: right;\n",
       "    }\n",
       "</style>\n",
       "<table border=\"1\" class=\"dataframe\">\n",
       "  <thead>\n",
       "    <tr style=\"text-align: right;\">\n",
       "      <th></th>\n",
       "      <th>repo_name</th>\n",
       "      <th>title</th>\n",
       "      <th>body</th>\n",
       "      <th>user_login</th>\n",
       "      <th>created_at</th>\n",
       "      <th>answer_1</th>\n",
       "      <th>answer_2</th>\n",
       "      <th>answer_3</th>\n",
       "      <th>answer_4</th>\n",
       "      <th>answer_5</th>\n",
       "      <th>label_1</th>\n",
       "      <th>label_2</th>\n",
       "      <th>label_3</th>\n",
       "      <th>label_4</th>\n",
       "      <th>label_5</th>\n",
       "      <th>likes</th>\n",
       "    </tr>\n",
       "  </thead>\n",
       "  <tbody>\n",
       "    <tr>\n",
       "      <th>0</th>\n",
       "      <td>angular/angular</td>\n",
       "      <td>Article mistake</td>\n",
       "      <td>### Describe the problem that you experienced\\...</td>\n",
       "      <td>PiotrZinfWSB</td>\n",
       "      <td>2023-05-05 15:54:28+00:00</td>\n",
       "      <td>Hey @alan-agius4, can I work on this issue?</td>\n",
       "      <td>@MukulKolpe You can open a PR if you'd like to...</td>\n",
       "      <td>Following the history and looking at the page,...</td>\n",
       "      <td>This issue has been automatically locked due t...</td>\n",
       "      <td>NaN</td>\n",
       "      <td>help wanted</td>\n",
       "      <td>NaN</td>\n",
       "      <td>good first issue</td>\n",
       "      <td>NaN</td>\n",
       "      <td>NaN</td>\n",
       "      <td>0</td>\n",
       "    </tr>\n",
       "    <tr>\n",
       "      <th>1</th>\n",
       "      <td>microsoft/microsoft-ui-xaml</td>\n",
       "      <td>Able to change the window height even if IsRes...</td>\n",
       "      <td>### Describe the bug\\n\\nIf you set ExtendsCont...</td>\n",
       "      <td>eduardobragaxz</td>\n",
       "      <td>2024-06-07 20:52:24+00:00</td>\n",
       "      <td>Hi I'm an AI powered bot that finds similar is...</td>\n",
       "      <td>This is very similar to #9670, though that iss...</td>\n",
       "      <td>This was closed as fixed/duplicate of #7629. T...</td>\n",
       "      <td>NaN</td>\n",
       "      <td>NaN</td>\n",
       "      <td>bug</td>\n",
       "      <td>NaN</td>\n",
       "      <td>team-CompInput</td>\n",
       "      <td>area-TitleBar</td>\n",
       "      <td>Regression</td>\n",
       "      <td>0</td>\n",
       "    </tr>\n",
       "    <tr>\n",
       "      <th>2</th>\n",
       "      <td>dotnet/roslyn</td>\n",
       "      <td>Introduce local for 'this' is not very useful</td>\n",
       "      <td>**Version Used**: VS 15.7\\r\\n\\r\\n**Steps to Re...</td>\n",
       "      <td>0xd4d</td>\n",
       "      <td>2018-07-20 15:15:16+00:00</td>\n",
       "      <td>Why is this a bug?</td>\n",
       "      <td>Design Meeting Notes:\\r\\n\\r\\nSince `s` is `rea...</td>\n",
       "      <td>@Neme12 is there a good use case for this that...</td>\n",
       "      <td>NaN</td>\n",
       "      <td>NaN</td>\n",
       "      <td>Bug</td>\n",
       "      <td>NaN</td>\n",
       "      <td>help wanted</td>\n",
       "      <td>Area-IDE</td>\n",
       "      <td>NaN</td>\n",
       "      <td>1</td>\n",
       "    </tr>\n",
       "    <tr>\n",
       "      <th>3</th>\n",
       "      <td>rails/webpacker</td>\n",
       "      <td>bundle exec rails webpacker:install:typescript...</td>\n",
       "      <td>webpacker version: 4.0.7\\r\\n\\r\\nIt appends the...</td>\n",
       "      <td>akoskm</td>\n",
       "      <td>2019-09-09 19:47:02+00:00</td>\n",
       "      <td>I think this is the missing line:\\r\\n\\r\\nhttps...</td>\n",
       "      <td>Can this ticket be closed? \\r\\n\\r\\nI attempted...</td>\n",
       "      <td>NaN</td>\n",
       "      <td>NaN</td>\n",
       "      <td>NaN</td>\n",
       "      <td>bug</td>\n",
       "      <td>NaN</td>\n",
       "      <td>help wanted</td>\n",
       "      <td>NaN</td>\n",
       "      <td>NaN</td>\n",
       "      <td>0</td>\n",
       "    </tr>\n",
       "    <tr>\n",
       "      <th>4</th>\n",
       "      <td>google/ExoPlayer</td>\n",
       "      <td>MediaSession play/pause events not propagated ...</td>\n",
       "      <td>### ExoPlayer Version\\r\\n\\r\\n2.18.0\\r\\n\\r\\n###...</td>\n",
       "      <td>TheBeastLT</td>\n",
       "      <td>2022-07-08 05:11:40+00:00</td>\n",
       "      <td>Thank you for reporting this. We submitted a f...</td>\n",
       "      <td>NaN</td>\n",
       "      <td>NaN</td>\n",
       "      <td>NaN</td>\n",
       "      <td>NaN</td>\n",
       "      <td>bug</td>\n",
       "      <td>NaN</td>\n",
       "      <td>NaN</td>\n",
       "      <td>NaN</td>\n",
       "      <td>NaN</td>\n",
       "      <td>0</td>\n",
       "    </tr>\n",
       "  </tbody>\n",
       "</table>\n",
       "</div>"
      ],
      "text/plain": [
       "                     repo_name  \\\n",
       "0              angular/angular   \n",
       "1  microsoft/microsoft-ui-xaml   \n",
       "2                dotnet/roslyn   \n",
       "3              rails/webpacker   \n",
       "4             google/ExoPlayer   \n",
       "\n",
       "                                               title  \\\n",
       "0                                    Article mistake   \n",
       "1  Able to change the window height even if IsRes...   \n",
       "2      Introduce local for 'this' is not very useful   \n",
       "3  bundle exec rails webpacker:install:typescript...   \n",
       "4  MediaSession play/pause events not propagated ...   \n",
       "\n",
       "                                                body      user_login  \\\n",
       "0  ### Describe the problem that you experienced\\...    PiotrZinfWSB   \n",
       "1  ### Describe the bug\\n\\nIf you set ExtendsCont...  eduardobragaxz   \n",
       "2  **Version Used**: VS 15.7\\r\\n\\r\\n**Steps to Re...           0xd4d   \n",
       "3  webpacker version: 4.0.7\\r\\n\\r\\nIt appends the...          akoskm   \n",
       "4  ### ExoPlayer Version\\r\\n\\r\\n2.18.0\\r\\n\\r\\n###...      TheBeastLT   \n",
       "\n",
       "                 created_at  \\\n",
       "0 2023-05-05 15:54:28+00:00   \n",
       "1 2024-06-07 20:52:24+00:00   \n",
       "2 2018-07-20 15:15:16+00:00   \n",
       "3 2019-09-09 19:47:02+00:00   \n",
       "4 2022-07-08 05:11:40+00:00   \n",
       "\n",
       "                                            answer_1  \\\n",
       "0        Hey @alan-agius4, can I work on this issue?   \n",
       "1  Hi I'm an AI powered bot that finds similar is...   \n",
       "2                                 Why is this a bug?   \n",
       "3  I think this is the missing line:\\r\\n\\r\\nhttps...   \n",
       "4  Thank you for reporting this. We submitted a f...   \n",
       "\n",
       "                                            answer_2  \\\n",
       "0  @MukulKolpe You can open a PR if you'd like to...   \n",
       "1  This is very similar to #9670, though that iss...   \n",
       "2  Design Meeting Notes:\\r\\n\\r\\nSince `s` is `rea...   \n",
       "3  Can this ticket be closed? \\r\\n\\r\\nI attempted...   \n",
       "4                                                NaN   \n",
       "\n",
       "                                            answer_3  \\\n",
       "0  Following the history and looking at the page,...   \n",
       "1  This was closed as fixed/duplicate of #7629. T...   \n",
       "2  @Neme12 is there a good use case for this that...   \n",
       "3                                                NaN   \n",
       "4                                                NaN   \n",
       "\n",
       "                                            answer_4 answer_5      label_1  \\\n",
       "0  This issue has been automatically locked due t...      NaN  help wanted   \n",
       "1                                                NaN      NaN          bug   \n",
       "2                                                NaN      NaN          Bug   \n",
       "3                                                NaN      NaN          bug   \n",
       "4                                                NaN      NaN          bug   \n",
       "\n",
       "  label_2           label_3        label_4     label_5  likes  \n",
       "0     NaN  good first issue            NaN         NaN      0  \n",
       "1     NaN    team-CompInput  area-TitleBar  Regression      0  \n",
       "2     NaN       help wanted       Area-IDE         NaN      1  \n",
       "3     NaN       help wanted            NaN         NaN      0  \n",
       "4     NaN               NaN            NaN         NaN      0  "
      ]
     },
     "execution_count": 15,
     "metadata": {},
     "output_type": "execute_result"
    }
   ],
   "source": [
    "df.head()"
   ]
  },
  {
   "cell_type": "code",
   "execution_count": null,
   "id": "cb144533-4ad8-4cfc-9ba6-f5b046058720",
   "metadata": {},
   "outputs": [],
   "source": []
  }
 ],
 "metadata": {
  "kernelspec": {
   "display_name": "Python 3 (ipykernel)",
   "language": "python",
   "name": "python3"
  },
  "language_info": {
   "codemirror_mode": {
    "name": "ipython",
    "version": 3
   },
   "file_extension": ".py",
   "mimetype": "text/x-python",
   "name": "python",
   "nbconvert_exporter": "python",
   "pygments_lexer": "ipython3",
   "version": "3.12.4"
  }
 },
 "nbformat": 4,
 "nbformat_minor": 5
}
