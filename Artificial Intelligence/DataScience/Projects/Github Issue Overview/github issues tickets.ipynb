{
 "cells": [
  {
   "cell_type": "code",
   "execution_count": 1,
   "id": "96cf442a-8fc9-4565-a26d-8235f977bca9",
   "metadata": {},
   "outputs": [],
   "source": [
    "import numpy as np\n",
    "import pandas as pd"
   ]
  },
  {
   "cell_type": "code",
   "execution_count": null,
   "id": "267a8453-8564-49ba-8864-488bddc87a1c",
   "metadata": {},
   "outputs": [],
   "source": []
  },
  {
   "cell_type": "code",
   "execution_count": 2,
   "id": "0747a059-d2ac-4529-a871-121e662cbe18",
   "metadata": {},
   "outputs": [],
   "source": [
    "### Load dataset"
   ]
  },
  {
   "cell_type": "code",
   "execution_count": 3,
   "id": "a0cd731f-b6ef-4ce0-bbc1-12ccebe61630",
   "metadata": {},
   "outputs": [],
   "source": [
    "df = pd.read_csv('archive/github_issues_tickets.csv', low_memory=False)"
   ]
  },
  {
   "cell_type": "code",
   "execution_count": null,
   "id": "50d96ecf-c1d3-40e8-b10c-d359a510d99d",
   "metadata": {},
   "outputs": [],
   "source": []
  },
  {
   "cell_type": "markdown",
   "id": "eb687245-2ba8-4d27-86fe-9b11817ef13c",
   "metadata": {},
   "source": [
    "#### Check number of rows and columns"
   ]
  },
  {
   "cell_type": "code",
   "execution_count": 4,
   "id": "ad127918-9809-4266-a6b8-92adc5813a01",
   "metadata": {},
   "outputs": [
    {
     "data": {
      "text/plain": [
       "(15955, 132)"
      ]
     },
     "execution_count": 4,
     "metadata": {},
     "output_type": "execute_result"
    }
   ],
   "source": [
    "df.shape"
   ]
  },
  {
   "cell_type": "code",
   "execution_count": null,
   "id": "c635534b-8178-4714-8b3d-4169d9eb5f30",
   "metadata": {},
   "outputs": [],
   "source": []
  },
  {
   "cell_type": "code",
   "execution_count": null,
   "id": "b74720a1-8b0a-4d9e-bef7-44a78621964a",
   "metadata": {},
   "outputs": [],
   "source": []
  },
  {
   "cell_type": "markdown",
   "id": "afd93593-3884-498b-b655-26ca0650a1e7",
   "metadata": {},
   "source": [
    "#### Show Column"
   ]
  },
  {
   "cell_type": "code",
   "execution_count": 5,
   "id": "e6b59bb0-fe14-4fb7-89c1-42b1ebe71730",
   "metadata": {},
   "outputs": [
    {
     "name": "stdout",
     "output_type": "stream",
     "text": [
      "These are the columns which are present in our dataset\n",
      "1 . answers_0_author\n",
      "2 . answers_0_body\n",
      "3 . answers_0_creation_time\n",
      "4 . answers_1_author\n",
      "5 . answers_1_body\n",
      "6 . answers_1_creation_time\n",
      "7 . answers_2_author\n",
      "8 . answers_2_body\n",
      "9 . answers_2_creation_time\n",
      "10 . answers_3_author\n",
      "11 . answers_3_body\n",
      "12 . answers_3_creation_time\n",
      "13 . answers_4_author\n",
      "14 . answers_4_body\n",
      "15 . answers_4_creation_time\n",
      "16 . answers_5_author\n",
      "17 . answers_5_body\n",
      "18 . answers_5_creation_time\n",
      "19 . answers_6_author\n",
      "20 . answers_6_body\n",
      "21 . answers_6_creation_time\n",
      "22 . answers_7_author\n",
      "23 . answers_7_body\n",
      "24 . answers_7_creation_time\n",
      "25 . answers_8_author\n",
      "26 . answers_8_body\n",
      "27 . answers_8_creation_time\n",
      "28 . answers_9_author\n",
      "29 . answers_9_body\n",
      "30 . answers_9_creation_time\n",
      "31 . assignee\n",
      "32 . assignee_id\n",
      "33 . assignee_login\n",
      "34 . assignee_type\n",
      "35 . assignee_url\n",
      "36 . body\n",
      "37 . closed_at\n",
      "38 . comments\n",
      "39 . comments_url\n",
      "40 . created_at\n",
      "41 . html_url\n",
      "42 . id\n",
      "43 . labels_0_color\n",
      "44 . labels_0_default\n",
      "45 . labels_0_description\n",
      "46 . labels_0_id\n",
      "47 . labels_0_name\n",
      "48 . labels_0_url\n",
      "49 . labels_10_color\n",
      "50 . labels_10_default\n",
      "51 . labels_10_description\n",
      "52 . labels_10_id\n",
      "53 . labels_10_name\n",
      "54 . labels_10_url\n",
      "55 . labels_1_color\n",
      "56 . labels_1_default\n",
      "57 . labels_1_description\n",
      "58 . labels_1_id\n",
      "59 . labels_1_name\n",
      "60 . labels_1_url\n",
      "61 . labels_2_color\n",
      "62 . labels_2_default\n",
      "63 . labels_2_description\n",
      "64 . labels_2_id\n",
      "65 . labels_2_name\n",
      "66 . labels_2_url\n",
      "67 . labels_3_color\n",
      "68 . labels_3_default\n",
      "69 . labels_3_description\n",
      "70 . labels_3_id\n",
      "71 . labels_3_name\n",
      "72 . labels_3_url\n",
      "73 . labels_4_color\n",
      "74 . labels_4_default\n",
      "75 . labels_4_description\n",
      "76 . labels_4_id\n",
      "77 . labels_4_name\n",
      "78 . labels_4_url\n",
      "79 . labels_5_color\n",
      "80 . labels_5_default\n",
      "81 . labels_5_description\n",
      "82 . labels_5_id\n",
      "83 . labels_5_name\n",
      "84 . labels_5_url\n",
      "85 . labels_6_color\n",
      "86 . labels_6_default\n",
      "87 . labels_6_description\n",
      "88 . labels_6_id\n",
      "89 . labels_6_name\n",
      "90 . labels_6_url\n",
      "91 . labels_7_color\n",
      "92 . labels_7_default\n",
      "93 . labels_7_description\n",
      "94 . labels_7_id\n",
      "95 . labels_7_name\n",
      "96 . labels_7_url\n",
      "97 . labels_8_color\n",
      "98 . labels_8_default\n",
      "99 . labels_8_description\n",
      "100 . labels_8_id\n",
      "101 . labels_8_name\n",
      "102 . labels_8_url\n",
      "103 . labels_9_color\n",
      "104 . labels_9_default\n",
      "105 . labels_9_description\n",
      "106 . labels_9_id\n",
      "107 . labels_9_name\n",
      "108 . labels_9_url\n",
      "109 . milestone\n",
      "110 . milestone_description\n",
      "111 . milestone_due_on\n",
      "112 . milestone_title\n",
      "113 . reactions_confused\n",
      "114 . reactions_eyes\n",
      "115 . reactions_heart\n",
      "116 . reactions_hooray\n",
      "117 . reactions_laugh\n",
      "118 . reactions_minus_1\n",
      "119 . reactions_plus_1\n",
      "120 . reactions_rocket\n",
      "121 . reactions_total_count\n",
      "122 . reactions_url\n",
      "123 . repo_name\n",
      "124 . state\n",
      "125 . state_reason\n",
      "126 . title\n",
      "127 . updated_at\n",
      "128 . url\n",
      "129 . user_id\n",
      "130 . user_login\n",
      "131 . user_type\n",
      "132 . user_url\n"
     ]
    }
   ],
   "source": [
    "print('These are the columns which are present in our dataset')\n",
    "i = 1\n",
    "for column in df.columns:\n",
    "    print(i,'.', column)\n",
    "    i += 1\n",
    "del i"
   ]
  },
  {
   "cell_type": "code",
   "execution_count": null,
   "id": "5a83ec37-f699-4368-b8a7-32d00cc267c8",
   "metadata": {},
   "outputs": [],
   "source": []
  },
  {
   "cell_type": "markdown",
   "id": "0b861f65-fa3d-4e13-997e-5911f0ab584f",
   "metadata": {},
   "source": [
    "## Check for null values"
   ]
  },
  {
   "cell_type": "code",
   "execution_count": 6,
   "id": "66e2d6f4-df06-43e9-852b-6da2c8c3816a",
   "metadata": {},
   "outputs": [
    {
     "data": {
      "text/plain": [
       "answers_0_author              0\n",
       "answers_0_body                0\n",
       "answers_0_creation_time       0\n",
       "answers_1_author           3447\n",
       "answers_1_body             3447\n",
       "                           ... \n",
       "url                           0\n",
       "user_id                       0\n",
       "user_login                    0\n",
       "user_type                     0\n",
       "user_url                      0\n",
       "Length: 132, dtype: int64"
      ]
     },
     "execution_count": 6,
     "metadata": {},
     "output_type": "execute_result"
    }
   ],
   "source": [
    "df.isna().sum()"
   ]
  },
  {
   "cell_type": "code",
   "execution_count": null,
   "id": "2251c21d-06d0-4586-893a-1d8ce2e58207",
   "metadata": {},
   "outputs": [],
   "source": []
  },
  {
   "cell_type": "markdown",
   "id": "20800611-29d2-48f5-821c-b8eaac78ed5c",
   "metadata": {},
   "source": [
    "#### Print all Columns"
   ]
  },
  {
   "cell_type": "code",
   "execution_count": 7,
   "id": "690d8b7a-7245-48f4-8f1f-5c0a7a65eeb6",
   "metadata": {},
   "outputs": [
    {
     "name": "stdout",
     "output_type": "stream",
     "text": [
      "answers_0_author               0\n",
      "answers_0_body                 0\n",
      "answers_0_creation_time        0\n",
      "answers_1_author            3447\n",
      "answers_1_body              3447\n",
      "answers_1_creation_time     3447\n",
      "answers_2_author            6949\n",
      "answers_2_body              6949\n",
      "answers_2_creation_time     6949\n",
      "answers_3_author            9520\n",
      "answers_3_body              9520\n",
      "answers_3_creation_time     9520\n",
      "answers_4_author           11442\n",
      "answers_4_body             11442\n",
      "answers_4_creation_time    11442\n",
      "answers_5_author           12841\n",
      "answers_5_body             12841\n",
      "answers_5_creation_time    12841\n",
      "answers_6_author           13808\n",
      "answers_6_body             13808\n",
      "answers_6_creation_time    13808\n",
      "answers_7_author           14616\n",
      "answers_7_body             14616\n",
      "answers_7_creation_time    14616\n",
      "answers_8_author           15200\n",
      "answers_8_body             15200\n",
      "answers_8_creation_time    15200\n",
      "answers_9_author           15636\n",
      "answers_9_body             15636\n",
      "answers_9_creation_time    15636\n",
      "assignee                   15955\n",
      "assignee_id                12497\n",
      "assignee_login             12497\n",
      "assignee_type              12497\n",
      "assignee_url               12497\n",
      "body                           0\n",
      "closed_at                      0\n",
      "comments                       0\n",
      "comments_url                   0\n",
      "created_at                     0\n",
      "html_url                       0\n",
      "id                             0\n",
      "labels_0_color                 9\n",
      "labels_0_default               9\n",
      "labels_0_description        8692\n",
      "labels_0_id                    9\n",
      "labels_0_name                  9\n",
      "labels_0_url                   9\n",
      "labels_10_color            15951\n",
      "labels_10_default          15951\n",
      "labels_10_description      15955\n",
      "labels_10_id               15951\n",
      "labels_10_name             15951\n",
      "labels_10_url              15951\n",
      "labels_1_color              7517\n",
      "labels_1_default            7517\n",
      "labels_1_description       12014\n",
      "labels_1_id                 7517\n",
      "labels_1_name               7517\n",
      "labels_1_url                7517\n",
      "labels_2_color             12172\n",
      "labels_2_default           12172\n",
      "labels_2_description       13987\n",
      "labels_2_id                12172\n",
      "labels_2_name              12172\n",
      "labels_2_url               12172\n",
      "labels_3_color             14409\n",
      "labels_3_default           14409\n",
      "labels_3_description       15066\n",
      "labels_3_id                14409\n",
      "labels_3_name              14409\n",
      "labels_3_url               14409\n",
      "labels_4_color             15293\n",
      "labels_4_default           15293\n",
      "labels_4_description       15526\n",
      "labels_4_id                15293\n",
      "labels_4_name              15293\n",
      "labels_4_url               15293\n",
      "labels_5_color             15654\n",
      "labels_5_default           15654\n",
      "labels_5_description       15741\n",
      "labels_5_id                15654\n",
      "labels_5_name              15654\n",
      "labels_5_url               15654\n",
      "labels_6_color             15811\n",
      "labels_6_default           15811\n",
      "labels_6_description       15844\n",
      "labels_6_id                15811\n",
      "labels_6_name              15811\n",
      "labels_6_url               15811\n",
      "labels_7_color             15871\n",
      "labels_7_default           15871\n",
      "labels_7_description       15889\n",
      "labels_7_id                15871\n",
      "labels_7_name              15871\n",
      "labels_7_url               15871\n",
      "labels_8_color             15911\n",
      "labels_8_default           15911\n",
      "labels_8_description       15931\n",
      "labels_8_id                15911\n",
      "labels_8_name              15911\n",
      "labels_8_url               15911\n",
      "labels_9_color             15936\n",
      "labels_9_default           15936\n",
      "labels_9_description       15947\n",
      "labels_9_id                15936\n",
      "labels_9_name              15936\n",
      "labels_9_url               15936\n",
      "milestone                  15955\n",
      "milestone_description      15261\n",
      "milestone_due_on           15100\n",
      "milestone_title            13546\n",
      "reactions_confused             0\n",
      "reactions_eyes                 0\n",
      "reactions_heart                0\n",
      "reactions_hooray               0\n",
      "reactions_laugh                0\n",
      "reactions_minus_1              0\n",
      "reactions_plus_1               0\n",
      "reactions_rocket               0\n",
      "reactions_total_count          0\n",
      "reactions_url                  0\n",
      "repo_name                      0\n",
      "state                          0\n",
      "state_reason                   0\n",
      "title                          0\n",
      "updated_at                     0\n",
      "url                            0\n",
      "user_id                        0\n",
      "user_login                     0\n",
      "user_type                      0\n",
      "user_url                       0\n"
     ]
    }
   ],
   "source": [
    "print(df.isna().sum().to_string())"
   ]
  },
  {
   "cell_type": "code",
   "execution_count": null,
   "id": "4014f500-9cb1-41d5-a8c1-0e6c0a0481a7",
   "metadata": {},
   "outputs": [],
   "source": []
  },
  {
   "cell_type": "markdown",
   "id": "1fdc0d2d-ca02-4c13-aa2f-97e3cde96c54",
   "metadata": {},
   "source": [
    "#### Print Only Columns which have null values"
   ]
  },
  {
   "cell_type": "code",
   "execution_count": 8,
   "id": "9e4feb47-dc8b-4081-bd25-16195027c789",
   "metadata": {},
   "outputs": [],
   "source": [
    "# assign null values into missing_values variable\n",
    "missing_values = df.isna().sum()\n",
    "columns_with_missing = missing_values[missing_values > 0] # Filter columns with missing values"
   ]
  },
  {
   "cell_type": "code",
   "execution_count": 9,
   "id": "6e3b942b-234b-472b-a650-0a461b184489",
   "metadata": {},
   "outputs": [
    {
     "name": "stdout",
     "output_type": "stream",
     "text": [
      "answers_1_author            3447\n",
      "answers_1_body              3447\n",
      "answers_1_creation_time     3447\n",
      "answers_2_author            6949\n",
      "answers_2_body              6949\n",
      "answers_2_creation_time     6949\n",
      "answers_3_author            9520\n",
      "answers_3_body              9520\n",
      "answers_3_creation_time     9520\n",
      "answers_4_author           11442\n",
      "answers_4_body             11442\n",
      "answers_4_creation_time    11442\n",
      "answers_5_author           12841\n",
      "answers_5_body             12841\n",
      "answers_5_creation_time    12841\n",
      "answers_6_author           13808\n",
      "answers_6_body             13808\n",
      "answers_6_creation_time    13808\n",
      "answers_7_author           14616\n",
      "answers_7_body             14616\n",
      "answers_7_creation_time    14616\n",
      "answers_8_author           15200\n",
      "answers_8_body             15200\n",
      "answers_8_creation_time    15200\n",
      "answers_9_author           15636\n",
      "answers_9_body             15636\n",
      "answers_9_creation_time    15636\n",
      "assignee                   15955\n",
      "assignee_id                12497\n",
      "assignee_login             12497\n",
      "assignee_type              12497\n",
      "assignee_url               12497\n",
      "labels_0_color                 9\n",
      "labels_0_default               9\n",
      "labels_0_description        8692\n",
      "labels_0_id                    9\n",
      "labels_0_name                  9\n",
      "labels_0_url                   9\n",
      "labels_10_color            15951\n",
      "labels_10_default          15951\n",
      "labels_10_description      15955\n",
      "labels_10_id               15951\n",
      "labels_10_name             15951\n",
      "labels_10_url              15951\n",
      "labels_1_color              7517\n",
      "labels_1_default            7517\n",
      "labels_1_description       12014\n",
      "labels_1_id                 7517\n",
      "labels_1_name               7517\n",
      "labels_1_url                7517\n",
      "labels_2_color             12172\n",
      "labels_2_default           12172\n",
      "labels_2_description       13987\n",
      "labels_2_id                12172\n",
      "labels_2_name              12172\n",
      "labels_2_url               12172\n",
      "labels_3_color             14409\n",
      "labels_3_default           14409\n",
      "labels_3_description       15066\n",
      "labels_3_id                14409\n",
      "labels_3_name              14409\n",
      "labels_3_url               14409\n",
      "labels_4_color             15293\n",
      "labels_4_default           15293\n",
      "labels_4_description       15526\n",
      "labels_4_id                15293\n",
      "labels_4_name              15293\n",
      "labels_4_url               15293\n",
      "labels_5_color             15654\n",
      "labels_5_default           15654\n",
      "labels_5_description       15741\n",
      "labels_5_id                15654\n",
      "labels_5_name              15654\n",
      "labels_5_url               15654\n",
      "labels_6_color             15811\n",
      "labels_6_default           15811\n",
      "labels_6_description       15844\n",
      "labels_6_id                15811\n",
      "labels_6_name              15811\n",
      "labels_6_url               15811\n",
      "labels_7_color             15871\n",
      "labels_7_default           15871\n",
      "labels_7_description       15889\n",
      "labels_7_id                15871\n",
      "labels_7_name              15871\n",
      "labels_7_url               15871\n",
      "labels_8_color             15911\n",
      "labels_8_default           15911\n",
      "labels_8_description       15931\n",
      "labels_8_id                15911\n",
      "labels_8_name              15911\n",
      "labels_8_url               15911\n",
      "labels_9_color             15936\n",
      "labels_9_default           15936\n",
      "labels_9_description       15947\n",
      "labels_9_id                15936\n",
      "labels_9_name              15936\n",
      "labels_9_url               15936\n",
      "milestone                  15955\n",
      "milestone_description      15261\n",
      "milestone_due_on           15100\n",
      "milestone_title            13546\n"
     ]
    }
   ],
   "source": [
    "print(columns_with_missing.to_string())"
   ]
  },
  {
   "cell_type": "markdown",
   "id": "34383675-9679-46af-ad5a-99a605f06c02",
   "metadata": {},
   "source": [
    "**Note:** `Most of the columns have large number of missing values`"
   ]
  },
  {
   "cell_type": "code",
   "execution_count": null,
   "id": "9ffbd7b5-536d-4015-b3d4-446df2773ecb",
   "metadata": {},
   "outputs": [],
   "source": []
  },
  {
   "cell_type": "markdown",
   "id": "b50f1f8f-9791-4815-b742-b62dbaea685b",
   "metadata": {},
   "source": [
    "#### Check info of dataset"
   ]
  },
  {
   "cell_type": "code",
   "execution_count": 10,
   "id": "95cb4513-42ee-440a-985a-908af470fc8e",
   "metadata": {},
   "outputs": [
    {
     "name": "stdout",
     "output_type": "stream",
     "text": [
      "<class 'pandas.core.frame.DataFrame'>\n",
      "RangeIndex: 15955 entries, 0 to 15954\n",
      "Columns: 132 entries, answers_0_author to user_url\n",
      "dtypes: float64(15), int64(12), object(105)\n",
      "memory usage: 16.1+ MB\n"
     ]
    }
   ],
   "source": [
    "df.info()"
   ]
  },
  {
   "cell_type": "code",
   "execution_count": null,
   "id": "85c66079-283e-4b4a-a7f1-deea9f68f81f",
   "metadata": {},
   "outputs": [],
   "source": []
  },
  {
   "cell_type": "code",
   "execution_count": null,
   "id": "c79662b9-f89b-4386-9389-e13426d2357a",
   "metadata": {},
   "outputs": [],
   "source": []
  },
  {
   "cell_type": "markdown",
   "id": "e90c6f56-2c68-436d-8c17-f9d4fd8ce58d",
   "metadata": {},
   "source": [
    "#### Show reaction columns name"
   ]
  },
  {
   "cell_type": "code",
   "execution_count": 11,
   "id": "c8c4f21c-3da8-40bd-87f6-b0dbe864bc3a",
   "metadata": {},
   "outputs": [
    {
     "name": "stdout",
     "output_type": "stream",
     "text": [
      "reactions_confused, reactions_eyes, reactions_heart, reactions_hooray, reactions_laugh, reactions_minus_1, reactions_plus_1, reactions_rocket, reactions_total_count, reactions_url, "
     ]
    }
   ],
   "source": [
    "for i in range(112, 122):\n",
    "    print(df.columns[i], end=', ')"
   ]
  },
  {
   "cell_type": "code",
   "execution_count": null,
   "id": "04f90406-07c4-4a4e-afa9-d4d0d48f6ed2",
   "metadata": {},
   "outputs": [],
   "source": []
  },
  {
   "cell_type": "markdown",
   "id": "c8e59413-0820-410c-9910-3e0b2f9a5a40",
   "metadata": {},
   "source": [
    "## Let's Store Reactions columns in list"
   ]
  },
  {
   "cell_type": "code",
   "execution_count": 12,
   "id": "bdb809a5-12d2-4134-b947-119dff259f85",
   "metadata": {},
   "outputs": [],
   "source": [
    "reaction_columns = df.columns[112:121]"
   ]
  },
  {
   "cell_type": "code",
   "execution_count": null,
   "id": "851fd972-edf0-4e15-9781-3cb9185f5adf",
   "metadata": {},
   "outputs": [],
   "source": []
  },
  {
   "cell_type": "markdown",
   "id": "bb2b8306-e7c2-495e-ba4c-682895da7fb5",
   "metadata": {},
   "source": [
    "#### Show Maximum value of reaction"
   ]
  },
  {
   "cell_type": "code",
   "execution_count": 13,
   "id": "f05894ac-d8ef-450a-92a7-188519c415b8",
   "metadata": {},
   "outputs": [
    {
     "name": "stdout",
     "output_type": "stream",
     "text": [
      "1. reactions_confused 2\n",
      "2. reactions_eyes 8\n",
      "3. reactions_heart 5\n",
      "4. reactions_hooray 3\n",
      "5. reactions_laugh 3\n",
      "6. reactions_minus_1 3\n",
      "7. reactions_plus_1 46\n",
      "8. reactions_rocket 4\n",
      "9. reactions_total_count 46\n"
     ]
    }
   ],
   "source": [
    "i = 1\n",
    "for reaction in reaction_columns:\n",
    "    print(f'{i}. {reaction} {df[reaction].max()}')\n",
    "    i += 1\n",
    "del i"
   ]
  },
  {
   "cell_type": "code",
   "execution_count": null,
   "id": "f45878e8-3348-4b0d-8e8d-c6a45477429e",
   "metadata": {},
   "outputs": [],
   "source": []
  },
  {
   "cell_type": "markdown",
   "id": "812e1585-b18d-4c2d-be89-862149500950",
   "metadata": {},
   "source": [
    "#### Show Minimum value of reaction"
   ]
  },
  {
   "cell_type": "code",
   "execution_count": 14,
   "id": "68b85012-7f12-4869-9b87-2145af5e0bbf",
   "metadata": {},
   "outputs": [
    {
     "name": "stdout",
     "output_type": "stream",
     "text": [
      "1. reactions_confused 0\n",
      "2. reactions_eyes 0\n",
      "3. reactions_heart 0\n",
      "4. reactions_hooray 0\n",
      "5. reactions_laugh 0\n",
      "6. reactions_minus_1 0\n",
      "7. reactions_plus_1 0\n",
      "8. reactions_rocket 0\n",
      "9. reactions_total_count 0\n"
     ]
    }
   ],
   "source": [
    "i = 1\n",
    "for reaction in reaction_columns:\n",
    "    print(f'{i}. {reaction} {df[reaction].min()}')\n",
    "    i += 1\n",
    "del i"
   ]
  },
  {
   "cell_type": "code",
   "execution_count": null,
   "id": "e78427d9-7d7f-4957-8643-c5960fa60586",
   "metadata": {},
   "outputs": [],
   "source": []
  },
  {
   "cell_type": "markdown",
   "id": "cabb1298-5c1a-4ddd-bff1-a6c45d5488f8",
   "metadata": {},
   "source": [
    "#### Sort Dataset on the basis of reaction"
   ]
  },
  {
   "cell_type": "code",
   "execution_count": 15,
   "id": "03cb40af-09b0-4c03-ae0b-b598dfb31bdf",
   "metadata": {},
   "outputs": [],
   "source": [
    "df.sort_values(by='reactions_total_count', inplace=True)"
   ]
  },
  {
   "cell_type": "code",
   "execution_count": null,
   "id": "cb8176f1-7546-4d1d-a1b1-18efbe128355",
   "metadata": {},
   "outputs": [],
   "source": []
  },
  {
   "cell_type": "markdown",
   "id": "0a86af7c-562b-4a82-93cb-ec6218a7bb37",
   "metadata": {},
   "source": [
    "#### Show Top 5 Values"
   ]
  },
  {
   "cell_type": "code",
   "execution_count": 16,
   "id": "660e5a8a-ac7a-43e8-854a-b78820c858c9",
   "metadata": {},
   "outputs": [
    {
     "data": {
      "text/plain": [
       "8423     24\n",
       "10661    25\n",
       "7569     25\n",
       "5401     28\n",
       "2371     46\n",
       "Name: reactions_total_count, dtype: int64"
      ]
     },
     "execution_count": 16,
     "metadata": {},
     "output_type": "execute_result"
    }
   ],
   "source": [
    "df['reactions_total_count'].tail()"
   ]
  },
  {
   "cell_type": "code",
   "execution_count": null,
   "id": "a9a7c6ec-bcd6-48b4-874a-91d244c3162a",
   "metadata": {},
   "outputs": [],
   "source": []
  },
  {
   "cell_type": "markdown",
   "id": "cb47c77a-5be8-44c9-b0f4-6e6b81200208",
   "metadata": {},
   "source": [
    "#### Show Low reaction"
   ]
  },
  {
   "cell_type": "code",
   "execution_count": 17,
   "id": "c687a07f-ad03-471e-ad3c-1cbf07917583",
   "metadata": {},
   "outputs": [
    {
     "data": {
      "text/plain": [
       "0        0\n",
       "10218    0\n",
       "10219    0\n",
       "10220    0\n",
       "10221    0\n",
       "Name: reactions_total_count, dtype: int64"
      ]
     },
     "execution_count": 17,
     "metadata": {},
     "output_type": "execute_result"
    }
   ],
   "source": [
    "df['reactions_total_count'].head()"
   ]
  },
  {
   "cell_type": "code",
   "execution_count": null,
   "id": "1f997774-0eb8-4323-bd1f-42ab56e3e4d2",
   "metadata": {},
   "outputs": [],
   "source": []
  },
  {
   "cell_type": "markdown",
   "id": "bba692c5-4bfc-46ab-b77a-87de48a6c69b",
   "metadata": {},
   "source": [
    "#### Convert Date Into Date"
   ]
  },
  {
   "cell_type": "code",
   "execution_count": 18,
   "id": "2a5b5353-9ebf-4721-b4d9-3fdac7582813",
   "metadata": {},
   "outputs": [
    {
     "name": "stdout",
     "output_type": "stream",
     "text": [
      "Values which are not null in milestone_due_on are\n",
      "1. 2021-10-29T07:00:00Z\n",
      "2. 2020-10-31T07:00:00Z\n",
      "3. 2023-03-13T07:00:00Z\n",
      "4. 2023-01-07T08:00:00Z\n",
      "5. 2023-05-16T07:00:00Z\n"
     ]
    }
   ],
   "source": [
    "filtered_df = df[df['milestone_due_on'].notnull()]\n",
    "print('Values which are not null in milestone_due_on are')\n",
    "i = 1\n",
    "for row in filtered_df['milestone_due_on']:\n",
    "    print(f'{i}. {row}')\n",
    "    if i == 5:\n",
    "        break\n",
    "    i += 1\n",
    "del i"
   ]
  },
  {
   "cell_type": "code",
   "execution_count": 19,
   "id": "4ac08c1f-bc47-449b-a9b1-6cf0973ce002",
   "metadata": {},
   "outputs": [
    {
     "name": "stdout",
     "output_type": "stream",
     "text": [
      "<class 'pandas.core.series.Series'>\n",
      "Index: 15955 entries, 0 to 2371\n",
      "Series name: milestone_due_on\n",
      "Non-Null Count  Dtype \n",
      "--------------  ----- \n",
      "855 non-null    object\n",
      "dtypes: object(1)\n",
      "memory usage: 249.3+ KB\n"
     ]
    }
   ],
   "source": [
    "df['milestone_due_on'].info()"
   ]
  },
  {
   "cell_type": "code",
   "execution_count": 20,
   "id": "c1782c44-89e5-4c29-9083-5e077f57e918",
   "metadata": {},
   "outputs": [],
   "source": [
    "df['milestone_due_on'] = pd.to_datetime(df['milestone_due_on'], format='%Y-%m-%dT%H:%M:%SZ', errors='coerce')\n"
   ]
  },
  {
   "cell_type": "code",
   "execution_count": 21,
   "id": "164ecc7c-f701-4d0d-918c-94a98e397cf4",
   "metadata": {},
   "outputs": [
    {
     "name": "stdout",
     "output_type": "stream",
     "text": [
      "<class 'pandas.core.series.Series'>\n",
      "Index: 15955 entries, 0 to 2371\n",
      "Series name: milestone_due_on\n",
      "Non-Null Count  Dtype         \n",
      "--------------  -----         \n",
      "854 non-null    datetime64[ns]\n",
      "dtypes: datetime64[ns](1)\n",
      "memory usage: 249.3 KB\n"
     ]
    }
   ],
   "source": [
    "df['milestone_due_on'].info()"
   ]
  },
  {
   "cell_type": "code",
   "execution_count": null,
   "id": "a2fb9e45-53d5-497b-8aed-98db6e8602c0",
   "metadata": {},
   "outputs": [],
   "source": []
  }
 ],
 "metadata": {
  "kernelspec": {
   "display_name": "Python 3 (ipykernel)",
   "language": "python",
   "name": "python3"
  },
  "language_info": {
   "codemirror_mode": {
    "name": "ipython",
    "version": 3
   },
   "file_extension": ".py",
   "mimetype": "text/x-python",
   "name": "python",
   "nbconvert_exporter": "python",
   "pygments_lexer": "ipython3",
   "version": "3.12.4"
  }
 },
 "nbformat": 4,
 "nbformat_minor": 5
}
