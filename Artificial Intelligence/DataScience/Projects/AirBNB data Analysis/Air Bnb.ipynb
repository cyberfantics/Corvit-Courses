{
 "cells": [
  {
   "cell_type": "markdown",
   "id": "a7808e54-b614-475f-a27d-19e9f81e985b",
   "metadata": {},
   "source": [
    "## `Import Libraries`"
   ]
  },
  {
   "cell_type": "code",
   "execution_count": 1,
   "id": "9c6fd71d-82cd-421b-b3a3-4973cbe7d42b",
   "metadata": {},
   "outputs": [],
   "source": [
    "import pandas as pd\n",
    "import matplotlib.pyplot as plt\n",
    "import numpy as np\n",
    "import seaborn as sns\n",
    "import warnings as w"
   ]
  },
  {
   "cell_type": "code",
   "execution_count": null,
   "id": "b7e6069f-17cc-4780-94e9-d419a0a8881e",
   "metadata": {},
   "outputs": [],
   "source": []
  },
  {
   "cell_type": "markdown",
   "id": "70f259c6-9dc3-4baf-afac-c5f3c4644e6b",
   "metadata": {},
   "source": [
    "## `Load Data Set`"
   ]
  },
  {
   "cell_type": "code",
   "execution_count": 2,
   "id": "e7b86e72-5123-4245-99e4-c734397f95ad",
   "metadata": {},
   "outputs": [],
   "source": [
    "df = pd.read_csv('Airbnb_Open_Data.csv', low_memory=False)"
   ]
  },
  {
   "cell_type": "code",
   "execution_count": null,
   "id": "2ec03df2-e8d7-48d1-a8a0-a592c0141540",
   "metadata": {},
   "outputs": [],
   "source": []
  },
  {
   "cell_type": "markdown",
   "id": "cd615bd1-66d5-46dd-8b9a-b852a42a2e2c",
   "metadata": {},
   "source": [
    "## `Explore Datasets`"
   ]
  },
  {
   "cell_type": "markdown",
   "id": "78a3c439-1cd7-49f1-a8b7-4c68ff99afde",
   "metadata": {},
   "source": [
    "#### `Check Shape of Dataset`"
   ]
  },
  {
   "cell_type": "code",
   "execution_count": 3,
   "id": "44cbd842-4568-41c9-a116-019c718318be",
   "metadata": {},
   "outputs": [
    {
     "data": {
      "text/plain": [
       "(102599, 26)"
      ]
     },
     "execution_count": 3,
     "metadata": {},
     "output_type": "execute_result"
    }
   ],
   "source": [
    "df.shape"
   ]
  },
  {
   "cell_type": "code",
   "execution_count": null,
   "id": "ba962a31-2937-42a4-a7c6-185ac41b71de",
   "metadata": {},
   "outputs": [],
   "source": []
  },
  {
   "cell_type": "markdown",
   "id": "a6287e44-e006-4d1a-a001-624f02afb51b",
   "metadata": {},
   "source": [
    "#### Total Number of Missing Values"
   ]
  },
  {
   "cell_type": "code",
   "execution_count": 4,
   "id": "9fd95013-e79c-429a-99c9-2c0f1cd2ce1c",
   "metadata": {},
   "outputs": [
    {
     "data": {
      "text/plain": [
       "190769"
      ]
     },
     "execution_count": 4,
     "metadata": {},
     "output_type": "execute_result"
    }
   ],
   "source": [
    "df.isna().sum().sum()"
   ]
  },
  {
   "cell_type": "code",
   "execution_count": null,
   "id": "a51c7554-9b26-4cb7-88c2-eae63e2724e8",
   "metadata": {},
   "outputs": [],
   "source": []
  },
  {
   "cell_type": "markdown",
   "id": "c60096a2-8288-4e81-bc56-aae8d38005ca",
   "metadata": {},
   "source": [
    "#### Missing Values Column vise"
   ]
  },
  {
   "cell_type": "code",
   "execution_count": 5,
   "id": "e5f11d0f-6ffa-4204-ace9-9d4213879645",
   "metadata": {},
   "outputs": [
    {
     "data": {
      "text/plain": [
       "id                                     0\n",
       "NAME                                 250\n",
       "host id                                0\n",
       "host_identity_verified               289\n",
       "host name                            406\n",
       "neighbourhood group                   29\n",
       "neighbourhood                         16\n",
       "lat                                    8\n",
       "long                                   8\n",
       "country                              532\n",
       "country code                         131\n",
       "instant_bookable                     105\n",
       "cancellation_policy                   76\n",
       "room type                              0\n",
       "Construction year                    214\n",
       "price                                247\n",
       "service fee                          273\n",
       "minimum nights                       409\n",
       "number of reviews                    183\n",
       "last review                        15893\n",
       "reviews per month                  15879\n",
       "review rate number                   326\n",
       "calculated host listings count       319\n",
       "availability 365                     448\n",
       "house_rules                        52131\n",
       "license                           102597\n",
       "dtype: int64"
      ]
     },
     "execution_count": 5,
     "metadata": {},
     "output_type": "execute_result"
    }
   ],
   "source": [
    "df.isna().sum()"
   ]
  },
  {
   "cell_type": "code",
   "execution_count": null,
   "id": "cc093ea8-adf8-471c-b531-04e282ae304c",
   "metadata": {},
   "outputs": [],
   "source": []
  },
  {
   "cell_type": "markdown",
   "id": "0a04d2d0-02f0-4eca-935b-e6dd335f5ff8",
   "metadata": {},
   "source": [
    "## `Handle Missing Values`"
   ]
  },
  {
   "cell_type": "markdown",
   "id": "9af99962-ea9f-4fb1-8e34-3d35c3da33ea",
   "metadata": {},
   "source": [
    "#### Drop Columns With Alot Number Of Missing Values\n",
    "- Licence ---> More Than 99% Values are Missing\n",
    "- House_rules ----> More than 50% Values are Missing"
   ]
  },
  {
   "cell_type": "code",
   "execution_count": 6,
   "id": "5da87f0b-0c21-4d20-86b3-ec0e8a99825d",
   "metadata": {},
   "outputs": [],
   "source": [
    "df.drop(columns=['license','house_rules'], axis=1, inplace=True)"
   ]
  },
  {
   "cell_type": "markdown",
   "id": "bfff41c8-82ff-4a7a-a189-0625a113059f",
   "metadata": {},
   "source": [
    "#### Drop Columns Which Don't Provide Any Valuable Information For Analysis\n",
    "- id\n",
    "- NAME\n",
    "- host_id\n",
    "- host name\n",
    "- **These Columns are not valuable For Our Analysis**"
   ]
  },
  {
   "cell_type": "code",
   "execution_count": 7,
   "id": "e68b8af1-85b4-48b4-bd6d-2d8f7eaa5e90",
   "metadata": {},
   "outputs": [],
   "source": [
    "df.drop(columns=['id', 'NAME', 'host id', 'host name'], axis=1, inplace=True)"
   ]
  },
  {
   "cell_type": "markdown",
   "id": "cd735266-7a26-4f20-99fb-04d1870b925d",
   "metadata": {},
   "source": [
    "#### Varify Again Totat Number Of Missing Values"
   ]
  },
  {
   "cell_type": "code",
   "execution_count": 8,
   "id": "d38cdaf2-91b1-4216-a3d6-d28176217a39",
   "metadata": {},
   "outputs": [
    {
     "data": {
      "text/plain": [
       "35385"
      ]
     },
     "execution_count": 8,
     "metadata": {},
     "output_type": "execute_result"
    }
   ],
   "source": [
    "df.isna().sum().sum()"
   ]
  },
  {
   "cell_type": "markdown",
   "id": "8685c965-b85e-4b63-a505-46f0225512ef",
   "metadata": {},
   "source": [
    "#### For Handling With Other Columns, Check Their Data Type"
   ]
  },
  {
   "cell_type": "code",
   "execution_count": 9,
   "id": "e85b2610-5c1d-444d-a373-d3a27d5af355",
   "metadata": {},
   "outputs": [
    {
     "name": "stdout",
     "output_type": "stream",
     "text": [
      "<class 'pandas.core.frame.DataFrame'>\n",
      "RangeIndex: 102599 entries, 0 to 102598\n",
      "Data columns (total 20 columns):\n",
      " #   Column                          Non-Null Count   Dtype  \n",
      "---  ------                          --------------   -----  \n",
      " 0   host_identity_verified          102310 non-null  object \n",
      " 1   neighbourhood group             102570 non-null  object \n",
      " 2   neighbourhood                   102583 non-null  object \n",
      " 3   lat                             102591 non-null  float64\n",
      " 4   long                            102591 non-null  float64\n",
      " 5   country                         102067 non-null  object \n",
      " 6   country code                    102468 non-null  object \n",
      " 7   instant_bookable                102494 non-null  object \n",
      " 8   cancellation_policy             102523 non-null  object \n",
      " 9   room type                       102599 non-null  object \n",
      " 10  Construction year               102385 non-null  float64\n",
      " 11  price                           102352 non-null  object \n",
      " 12  service fee                     102326 non-null  object \n",
      " 13  minimum nights                  102190 non-null  float64\n",
      " 14  number of reviews               102416 non-null  float64\n",
      " 15  last review                     86706 non-null   object \n",
      " 16  reviews per month               86720 non-null   float64\n",
      " 17  review rate number              102273 non-null  float64\n",
      " 18  calculated host listings count  102280 non-null  float64\n",
      " 19  availability 365                102151 non-null  float64\n",
      "dtypes: float64(9), object(11)\n",
      "memory usage: 15.7+ MB\n"
     ]
    }
   ],
   "source": [
    "df.info()"
   ]
  },
  {
   "cell_type": "markdown",
   "id": "3725a719-6f9d-4af6-99a9-30b72dccae90",
   "metadata": {},
   "source": [
    "#### Last Review Is Object, And It have More Than 15000+ Missing Values\n",
    "- Check It's Rows"
   ]
  },
  {
   "cell_type": "code",
   "execution_count": 10,
   "id": "bbdbfb2f-284e-481a-9f95-f63a16af0094",
   "metadata": {},
   "outputs": [
    {
     "data": {
      "text/plain": [
       "0         10/19/2021\n",
       "1          5/21/2022\n",
       "2                NaN\n",
       "3           7/5/2019\n",
       "4         11/19/2018\n",
       "             ...    \n",
       "102594           NaN\n",
       "102595      7/6/2015\n",
       "102596           NaN\n",
       "102597    10/11/2015\n",
       "102598           NaN\n",
       "Name: last review, Length: 102599, dtype: object"
      ]
     },
     "execution_count": 10,
     "metadata": {},
     "output_type": "execute_result"
    }
   ],
   "source": [
    "df['last review']"
   ]
  },
  {
   "cell_type": "markdown",
   "id": "fb2c3f04-9316-4fae-8695-4efce410e579",
   "metadata": {},
   "source": [
    "#### As It is a Date Columns, So we cannot fill these values on The Base Of Prediction\n",
    "- Remove These Values"
   ]
  },
  {
   "cell_type": "code",
   "execution_count": 11,
   "id": "ce68d2ba-11c6-4502-9c2f-b24578034058",
   "metadata": {},
   "outputs": [],
   "source": [
    "df.dropna(subset=['last review'], inplace=True)"
   ]
  },
  {
   "cell_type": "markdown",
   "id": "3d012ea0-02f5-4df5-846d-6701629f83b0",
   "metadata": {},
   "source": [
    "#### Verify Total Number Of Missing Values Again"
   ]
  },
  {
   "cell_type": "code",
   "execution_count": 12,
   "id": "13238706-a0d0-40f2-82bf-463d3000f56f",
   "metadata": {},
   "outputs": [
    {
     "data": {
      "text/plain": [
       "2860"
      ]
     },
     "execution_count": 12,
     "metadata": {},
     "output_type": "execute_result"
    }
   ],
   "source": [
    "df.isna().sum().sum()"
   ]
  },
  {
   "cell_type": "markdown",
   "id": "0e71ecc4-0da5-4a69-bff0-70511b194f18",
   "metadata": {},
   "source": [
    "#### Check Missing Columns Again"
   ]
  },
  {
   "cell_type": "code",
   "execution_count": 13,
   "id": "c8a23e19-0204-4482-8969-81a070369423",
   "metadata": {},
   "outputs": [
    {
     "data": {
      "text/plain": [
       "host_identity_verified            247\n",
       "neighbourhood group                25\n",
       "neighbourhood                      16\n",
       "lat                                 7\n",
       "long                                7\n",
       "country                           489\n",
       "country code                      116\n",
       "instant_bookable                   93\n",
       "cancellation_policy                67\n",
       "room type                           0\n",
       "Construction year                 185\n",
       "price                             221\n",
       "service fee                       241\n",
       "minimum nights                    345\n",
       "number of reviews                  59\n",
       "last review                         0\n",
       "reviews per month                  13\n",
       "review rate number                288\n",
       "calculated host listings count    261\n",
       "availability 365                  180\n",
       "dtype: int64"
      ]
     },
     "execution_count": 13,
     "metadata": {},
     "output_type": "execute_result"
    }
   ],
   "source": [
    "df.isna().sum()"
   ]
  },
  {
   "cell_type": "markdown",
   "id": "b7015933-47ff-469a-84c9-1e07b5eda4be",
   "metadata": {},
   "source": [
    "#### Check Unique Values Of Country"
   ]
  },
  {
   "cell_type": "code",
   "execution_count": 14,
   "id": "b0bb254c-f587-4adf-b37c-88f628900baf",
   "metadata": {},
   "outputs": [
    {
     "data": {
      "text/plain": [
       "array(['United States', nan], dtype=object)"
      ]
     },
     "execution_count": 14,
     "metadata": {},
     "output_type": "execute_result"
    }
   ],
   "source": [
    "df.country.unique()"
   ]
  },
  {
   "cell_type": "markdown",
   "id": "abc911fe-d448-4cc1-bf05-2e7334e0c7fd",
   "metadata": {},
   "source": [
    "#### Check Unique Values Of Country Code"
   ]
  },
  {
   "cell_type": "code",
   "execution_count": 15,
   "id": "2458cf19-252a-4615-98dd-e626c240675b",
   "metadata": {},
   "outputs": [
    {
     "data": {
      "text/plain": [
       "array(['US', nan], dtype=object)"
      ]
     },
     "execution_count": 15,
     "metadata": {},
     "output_type": "execute_result"
    }
   ],
   "source": [
    "df['country code'].unique()"
   ]
  },
  {
   "cell_type": "markdown",
   "id": "d9f32d18-b8aa-4ab6-8078-fb8927586c94",
   "metadata": {},
   "source": [
    "#### Both Country and Country Code Provide Same Information So Drop One Column"
   ]
  },
  {
   "cell_type": "code",
   "execution_count": 16,
   "id": "39457d85-6972-46bc-9465-5f2807788296",
   "metadata": {},
   "outputs": [],
   "source": [
    "df.drop(columns=['country'], axis=1, inplace=True)"
   ]
  },
  {
   "cell_type": "markdown",
   "id": "f88677cb-ca71-497e-8234-25781d1111cd",
   "metadata": {},
   "source": [
    "#### Fill country code missing values with `US`"
   ]
  },
  {
   "cell_type": "code",
   "execution_count": 17,
   "id": "d627cbf1-d90b-444a-8679-d93c4b187b3b",
   "metadata": {},
   "outputs": [],
   "source": [
    "df['country code'] = df['country code'].fillna(value='US')"
   ]
  },
  {
   "cell_type": "markdown",
   "id": "95ba349f-04e7-402a-8532-8382de095604",
   "metadata": {},
   "source": [
    "#### Drop Missing Values of Minimum Nights Column and Correct Then"
   ]
  },
  {
   "cell_type": "code",
   "execution_count": 18,
   "id": "be96a1ea-1402-4ff3-906f-d98eaf7f1479",
   "metadata": {},
   "outputs": [],
   "source": [
    "df.dropna(subset=['minimum nights'], inplace=True)\n",
    "df['minimum nights'] = df['minimum nights'].astype(int)"
   ]
  },
  {
   "cell_type": "code",
   "execution_count": 19,
   "id": "4fe29673-0c6d-4463-b4d3-1dc787c6df4d",
   "metadata": {},
   "outputs": [
    {
     "data": {
      "text/plain": [
       "array([  10,   30,    3,   45,    2,    1,    5,    4,   90,   14,    7,\n",
       "        180,    9,   31,    6,   15,   29,    8,   47,   81,  144,  371,\n",
       "        149,  273,  131,  275,  323,   59,   99,  268,  -10,  189,  340,\n",
       "        128,  350,  166,  110,   57,  142,  366,   28,  200,   50,  399,\n",
       "         17,   11,  452,   25,   13,   -5,   21,   27,   18,  365,   -1,\n",
       "         20,  -12,   40,   44,  398,   -2,   65,   -3,   55,   60,  120,\n",
       "        122,   19,  240,   88,  115,  150,  370,   16,   80,  181,   26,\n",
       "        265,  300,  360,   12,   70,   39,   24,   32,  270,   22,   75,\n",
       "        250,   23, 1250,  364,   74,  198,  100,  500,   35,   91,   53,\n",
       "        160,  999,  186,   68,   93,   87,  183,  175,  133,   42,   33,\n",
       "         37,  105,  222,   58,  210,  954, 5645, 2645, -365, -200,   85,\n",
       "         48,  155,  307,  129,  145,   64,  182,  333,  119, -125,  125,\n",
       "        458,  825])"
      ]
     },
     "execution_count": 19,
     "metadata": {},
     "output_type": "execute_result"
    }
   ],
   "source": [
    "df['minimum nights'].unique()"
   ]
  },
  {
   "cell_type": "code",
   "execution_count": 20,
   "id": "0cee716c-ea79-4bdc-97bb-705c4bd6e464",
   "metadata": {},
   "outputs": [],
   "source": [
    "df['minimum nights'] = abs(df['minimum nights'])"
   ]
  },
  {
   "cell_type": "code",
   "execution_count": 21,
   "id": "4b4402a5-8c47-40e4-b6db-76cbb9b78bb5",
   "metadata": {},
   "outputs": [
    {
     "data": {
      "text/plain": [
       "array([  10,   30,    3,   45,    2,    1,    5,    4,   90,   14,    7,\n",
       "        180,    9,   31,    6,   15,   29,    8,   47,   81,  144,  371,\n",
       "        149,  273,  131,  275,  323,   59,   99,  268,  189,  340,  128,\n",
       "        350,  166,  110,   57,  142,  366,   28,  200,   50,  399,   17,\n",
       "         11,  452,   25,   13,   21,   27,   18,  365,   20,   12,   40,\n",
       "         44,  398,   65,   55,   60,  120,  122,   19,  240,   88,  115,\n",
       "        150,  370,   16,   80,  181,   26,  265,  300,  360,   70,   39,\n",
       "         24,   32,  270,   22,   75,  250,   23, 1250,  364,   74,  198,\n",
       "        100,  500,   35,   91,   53,  160,  999,  186,   68,   93,   87,\n",
       "        183,  175,  133,   42,   33,   37,  105,  222,   58,  210,  954,\n",
       "       5645, 2645,   85,   48,  155,  307,  129,  145,   64,  182,  333,\n",
       "        119,  125,  458,  825])"
      ]
     },
     "execution_count": 21,
     "metadata": {},
     "output_type": "execute_result"
    }
   ],
   "source": [
    "df['minimum nights'].unique()"
   ]
  },
  {
   "cell_type": "markdown",
   "id": "2598433b-fa89-4e1d-9c68-9172a66bd8a8",
   "metadata": {},
   "source": [
    "#### Analyze Neighborhood and neighborhood group column"
   ]
  },
  {
   "cell_type": "code",
   "execution_count": null,
   "id": "0d8dd390-5783-4612-ad5d-6b1c174803c9",
   "metadata": {},
   "outputs": [],
   "source": [
    "df['neighbourhood'].unique()"
   ]
  },
  {
   "cell_type": "code",
   "execution_count": 23,
   "id": "3b2971d7-a66d-4252-a6b6-7b81c250c2c1",
   "metadata": {},
   "outputs": [
    {
     "data": {
      "text/plain": [
       "array(['Brooklyn', 'Manhattan', 'brookln', 'manhatan', nan, 'Queens',\n",
       "       'Staten Island', 'Bronx'], dtype=object)"
      ]
     },
     "execution_count": 23,
     "metadata": {},
     "output_type": "execute_result"
    }
   ],
   "source": [
    "df['neighbourhood group'].unique()"
   ]
  },
  {
   "cell_type": "markdown",
   "id": "ea15b25b-f33e-47e2-b045-55d9a4e2b75a",
   "metadata": {},
   "source": [
    "#### Some Columns are Repeated In neighbourhood group Column, drop them"
   ]
  },
  {
   "cell_type": "code",
   "execution_count": 26,
   "id": "dd07a524-0003-42d7-b567-f230ca775cba",
   "metadata": {},
   "outputs": [],
   "source": [
    "df = df[(df['neighbourhood group'] != 'brookln') & (df['neighbourhood group'] != 'manhatan')]"
   ]
  },
  {
   "cell_type": "markdown",
   "id": "c0893534-36b8-493e-810c-d60054b6c38e",
   "metadata": {},
   "source": [
    "##### Explanation\n",
    "- In Pandas For Filtring we use & instead of and\n",
    "- We Need To Wrap Each Condition In Paranthesis"
   ]
  },
  {
   "cell_type": "markdown",
   "id": "45dfc88c-abca-4ee7-a1d1-35bd72e60675",
   "metadata": {},
   "source": [
    "#### Drop Neighbourhood Column"
   ]
  },
  {
   "cell_type": "code",
   "execution_count": 27,
   "id": "f062839d-fc90-4538-a18f-5b4764191505",
   "metadata": {},
   "outputs": [],
   "source": [
    "df.drop(columns=['neighbourhood'], axis=1, inplace=True)"
   ]
  },
  {
   "cell_type": "markdown",
   "id": "f085a187-457e-4c52-a942-c4a05b2582c4",
   "metadata": {},
   "source": [
    "#### Looks For Total Missing Values and Shape Of Data Again"
   ]
  },
  {
   "cell_type": "code",
   "execution_count": 28,
   "id": "5e4c9fa0-f54d-4bfa-9f80-88f5dc3c69c9",
   "metadata": {},
   "outputs": [
    {
     "data": {
      "text/plain": [
       "1822"
      ]
     },
     "execution_count": 28,
     "metadata": {},
     "output_type": "execute_result"
    }
   ],
   "source": [
    "df.isna().sum().sum()"
   ]
  },
  {
   "cell_type": "code",
   "execution_count": 29,
   "id": "4edaecf3-9d6d-4cb8-9146-c25af54c1ec0",
   "metadata": {},
   "outputs": [
    {
     "data": {
      "text/plain": [
       "host_identity_verified            237\n",
       "neighbourhood group                24\n",
       "lat                                 7\n",
       "long                                7\n",
       "country code                        0\n",
       "instant_bookable                   85\n",
       "cancellation_policy                67\n",
       "room type                           0\n",
       "Construction year                 175\n",
       "price                             221\n",
       "service fee                       240\n",
       "minimum nights                      0\n",
       "number of reviews                  58\n",
       "last review                         0\n",
       "reviews per month                  11\n",
       "review rate number                269\n",
       "calculated host listings count    261\n",
       "availability 365                  160\n",
       "dtype: int64"
      ]
     },
     "execution_count": 29,
     "metadata": {},
     "output_type": "execute_result"
    }
   ],
   "source": [
    "df.isna().sum()"
   ]
  },
  {
   "cell_type": "code",
   "execution_count": 30,
   "id": "914e0ecb-7a49-4425-9368-388e169f35f9",
   "metadata": {},
   "outputs": [
    {
     "data": {
      "text/plain": [
       "(86359, 18)"
      ]
     },
     "execution_count": 30,
     "metadata": {},
     "output_type": "execute_result"
    }
   ],
   "source": [
    "df.shape"
   ]
  },
  {
   "cell_type": "markdown",
   "id": "2d01cb9c-16f5-4a65-a87f-e7be55d1c40f",
   "metadata": {},
   "source": [
    "#### Analyze Host Identity Verified"
   ]
  },
  {
   "cell_type": "code",
   "execution_count": 31,
   "id": "ec2a4eec-8114-41dd-a149-156957a6b95e",
   "metadata": {},
   "outputs": [
    {
     "data": {
      "text/plain": [
       "0    unconfirmed\n",
       "1       verified\n",
       "3    unconfirmed\n",
       "4       verified\n",
       "5       verified\n",
       "Name: host_identity_verified, dtype: object"
      ]
     },
     "execution_count": 31,
     "metadata": {},
     "output_type": "execute_result"
    }
   ],
   "source": [
    "df['host_identity_verified'].head()"
   ]
  },
  {
   "cell_type": "code",
   "execution_count": 32,
   "id": "e5824192-5c98-4b4d-a89c-66c1a0b3a203",
   "metadata": {},
   "outputs": [
    {
     "data": {
      "text/plain": [
       "host_identity_verified\n",
       "unconfirmed    43097\n",
       "verified       43025\n",
       "Name: count, dtype: int64"
      ]
     },
     "execution_count": 32,
     "metadata": {},
     "output_type": "execute_result"
    }
   ],
   "source": [
    "df['host_identity_verified'].value_counts()"
   ]
  },
  {
   "cell_type": "markdown",
   "id": "0e7d61ba-a958-42a3-ab2b-82bf3608f118",
   "metadata": {},
   "source": [
    "#### Values are Too Close To Each Other So We Cannot Fill On The Base Of Mode\n",
    "- Drop Missing Values"
   ]
  },
  {
   "cell_type": "code",
   "execution_count": 33,
   "id": "35dcc52d-b1d8-4040-85e0-95f565978141",
   "metadata": {},
   "outputs": [],
   "source": [
    "df.dropna(subset=['host_identity_verified'], inplace=True)"
   ]
  },
  {
   "cell_type": "markdown",
   "id": "81ecd2bc-4732-4778-8c0a-f2d48a2235f4",
   "metadata": {},
   "source": [
    "#### Analyze Number Of Reviews"
   ]
  },
  {
   "cell_type": "code",
   "execution_count": 34,
   "id": "53da7639-ffaa-4d85-a8f4-adb6a01c480a",
   "metadata": {},
   "outputs": [
    {
     "data": {
      "text/plain": [
       "0      9.0\n",
       "1     45.0\n",
       "3    270.0\n",
       "4      9.0\n",
       "5     74.0\n",
       "Name: number of reviews, dtype: float64"
      ]
     },
     "execution_count": 34,
     "metadata": {},
     "output_type": "execute_result"
    }
   ],
   "source": [
    "df['number of reviews'].head()"
   ]
  },
  {
   "cell_type": "code",
   "execution_count": 35,
   "id": "2958c75f-7bcb-4c51-bce6-ed8374ee2a87",
   "metadata": {},
   "outputs": [
    {
     "data": {
      "text/plain": [
       "270.0"
      ]
     },
     "execution_count": 35,
     "metadata": {},
     "output_type": "execute_result"
    }
   ],
   "source": [
    "max(df['number of reviews'].head())"
   ]
  },
  {
   "cell_type": "code",
   "execution_count": 36,
   "id": "f21a6992-c660-47be-9878-393c07f2bdfe",
   "metadata": {},
   "outputs": [
    {
     "data": {
      "text/plain": [
       "9.0"
      ]
     },
     "execution_count": 36,
     "metadata": {},
     "output_type": "execute_result"
    }
   ],
   "source": [
    "min(df['number of reviews'].head())"
   ]
  },
  {
   "cell_type": "code",
   "execution_count": 39,
   "id": "068d157d-e223-4a37-b65c-f685e7412826",
   "metadata": {},
   "outputs": [],
   "source": [
    "df.dropna(subset=['number of reviews'], inplace=True)"
   ]
  },
  {
   "cell_type": "code",
   "execution_count": 40,
   "id": "fa70e9a9-e8c1-4b7e-a353-4b4e7dbf28fc",
   "metadata": {},
   "outputs": [],
   "source": [
    "df['number of reviews'] = df['number of reviews'].astype(int)"
   ]
  },
  {
   "cell_type": "markdown",
   "id": "3f5a8736-bd18-4614-a1bb-a2561118581f",
   "metadata": {},
   "source": [
    "#### Analyze Construction Year Columns"
   ]
  },
  {
   "cell_type": "code",
   "execution_count": 42,
   "id": "2850f1f1-ae74-4fdb-a307-d445e9825742",
   "metadata": {},
   "outputs": [
    {
     "data": {
      "text/plain": [
       "0    2020.0\n",
       "1    2007.0\n",
       "3    2005.0\n",
       "4    2009.0\n",
       "5    2013.0\n",
       "Name: Construction year, dtype: float64"
      ]
     },
     "execution_count": 42,
     "metadata": {},
     "output_type": "execute_result"
    }
   ],
   "source": [
    "df['Construction year'].head()"
   ]
  },
  {
   "cell_type": "code",
   "execution_count": 44,
   "id": "cb08e014-58c9-4a95-afab-79d0181bbfe9",
   "metadata": {},
   "outputs": [
    {
     "data": {
      "text/plain": [
       "Construction year\n",
       "2006.0    4423\n",
       "2008.0    4413\n",
       "2014.0    4394\n",
       "2019.0    4381\n",
       "2015.0    4318\n",
       "2018.0    4301\n",
       "2010.0    4300\n",
       "2003.0    4294\n",
       "2009.0    4291\n",
       "2005.0    4290\n",
       "2017.0    4285\n",
       "2011.0    4283\n",
       "2012.0    4283\n",
       "2020.0    4274\n",
       "2007.0    4268\n",
       "2022.0    4251\n",
       "2016.0    4249\n",
       "2021.0    4245\n",
       "2004.0    4229\n",
       "2013.0    4127\n",
       "Name: count, dtype: int64"
      ]
     },
     "execution_count": 44,
     "metadata": {},
     "output_type": "execute_result"
    }
   ],
   "source": [
    "df['Construction year'].value_counts()"
   ]
  },
  {
   "cell_type": "markdown",
   "id": "fee829c6-2978-45ad-8a1f-aff1f020d797",
   "metadata": {},
   "source": [
    "#### We have Two Options\n",
    "- As 175 values are missing and our all years have values greater than 4200, except 2013, we can fill missing with 2013\n",
    "- Drop Missing Values"
   ]
  },
  {
   "cell_type": "code",
   "execution_count": 45,
   "id": "6b2af7a4-e54f-46ec-a54e-3ae7902169ec",
   "metadata": {},
   "outputs": [],
   "source": [
    "df['Construction year'] = df['Construction year'].fillna(value='2013', axis=0)"
   ]
  },
  {
   "cell_type": "code",
   "execution_count": 46,
   "id": "c1dacb0e-f11d-4387-bc7f-1a7676868379",
   "metadata": {},
   "outputs": [],
   "source": [
    "df['Construction year'] = df['Construction year'].astype(int)"
   ]
  },
  {
   "cell_type": "markdown",
   "id": "b15072df-a23b-4014-9cf1-5b1eec5e6b60",
   "metadata": {},
   "source": [
    "#### Analyze Availability 365 Column"
   ]
  },
  {
   "cell_type": "code",
   "execution_count": 47,
   "id": "464dc2b7-0c72-4eb9-9354-6dfed439c84a",
   "metadata": {},
   "outputs": [
    {
     "data": {
      "text/plain": [
       "0    286.0\n",
       "1    228.0\n",
       "3    322.0\n",
       "4    289.0\n",
       "5    374.0\n",
       "Name: availability 365, dtype: float64"
      ]
     },
     "execution_count": 47,
     "metadata": {},
     "output_type": "execute_result"
    }
   ],
   "source": [
    "df['availability 365'].head()"
   ]
  },
  {
   "cell_type": "markdown",
   "id": "6c48b53a-e6f5-4b76-9bc0-fc025dd2cd66",
   "metadata": {},
   "source": [
    "#### Check Shape of Dataset and Total Number Of Missing Values"
   ]
  },
  {
   "cell_type": "code",
   "execution_count": 48,
   "id": "cfe738ae-e041-4f35-842b-804936162a9c",
   "metadata": {},
   "outputs": [
    {
     "data": {
      "text/plain": [
       "(86064, 18)"
      ]
     },
     "execution_count": 48,
     "metadata": {},
     "output_type": "execute_result"
    }
   ],
   "source": [
    "df.shape"
   ]
  },
  {
   "cell_type": "code",
   "execution_count": 50,
   "id": "80476ff8-16a6-4cac-a984-5e589b4da45c",
   "metadata": {},
   "outputs": [
    {
     "data": {
      "text/plain": [
       "1306"
      ]
     },
     "execution_count": 50,
     "metadata": {},
     "output_type": "execute_result"
    }
   ],
   "source": [
    "df.isna().sum().sum()"
   ]
  },
  {
   "cell_type": "markdown",
   "id": "3c2c5c9c-492b-4740-a960-623e3b2337ee",
   "metadata": {},
   "source": [
    "#### Drop All Missing Values b/c They Don't affect our Dataset Now"
   ]
  },
  {
   "cell_type": "code",
   "execution_count": 51,
   "id": "8afd999b-e5fd-487e-902a-eb6bef6a32f3",
   "metadata": {},
   "outputs": [],
   "source": [
    "df.dropna(inplace=True)"
   ]
  },
  {
   "cell_type": "code",
   "execution_count": null,
   "id": "f7fa6d75-d571-4483-9240-25747268e18a",
   "metadata": {},
   "outputs": [],
   "source": []
  },
  {
   "cell_type": "code",
   "execution_count": null,
   "id": "da743e05-9ac5-49fc-8aa5-437bda99f790",
   "metadata": {},
   "outputs": [],
   "source": []
  }
 ],
 "metadata": {
  "kernelspec": {
   "display_name": "Python 3 (ipykernel)",
   "language": "python",
   "name": "python3"
  },
  "language_info": {
   "codemirror_mode": {
    "name": "ipython",
    "version": 3
   },
   "file_extension": ".py",
   "mimetype": "text/x-python",
   "name": "python",
   "nbconvert_exporter": "python",
   "pygments_lexer": "ipython3",
   "version": "3.12.4"
  }
 },
 "nbformat": 4,
 "nbformat_minor": 5
}
