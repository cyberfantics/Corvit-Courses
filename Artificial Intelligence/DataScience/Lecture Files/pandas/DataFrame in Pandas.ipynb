{
 "cells": [
  {
   "cell_type": "code",
   "execution_count": 1,
   "id": "239ee430-796f-4212-bf53-85d2f770a5a0",
   "metadata": {},
   "outputs": [],
   "source": [
    "import pandas as pd"
   ]
  },
  {
   "cell_type": "markdown",
   "id": "d555a612-7426-4d41-a247-b05632b0c707",
   "metadata": {},
   "source": [
    "### DataFrame from dictionary"
   ]
  },
  {
   "cell_type": "code",
   "execution_count": 2,
   "id": "3058e071-df5a-4a6a-bb5c-04e94a057033",
   "metadata": {},
   "outputs": [],
   "source": [
    "data = {'Name': ['Alice', 'Bob', 'Charlie'],\n",
    "        'Age': [24, 30, 22],\n",
    "        'City': ['New York', 'Los Angeles', 'Chicago']}"
   ]
  },
  {
   "cell_type": "code",
   "execution_count": 3,
   "id": "cd844b2c-b294-4ac6-b1bb-aad969e661ba",
   "metadata": {},
   "outputs": [],
   "source": [
    "df = pd.DataFrame(data)"
   ]
  },
  {
   "cell_type": "code",
   "execution_count": 4,
   "id": "63f00196-879a-49ad-9dfe-1cc364d95348",
   "metadata": {},
   "outputs": [
    {
     "data": {
      "text/html": [
       "<div>\n",
       "<style scoped>\n",
       "    .dataframe tbody tr th:only-of-type {\n",
       "        vertical-align: middle;\n",
       "    }\n",
       "\n",
       "    .dataframe tbody tr th {\n",
       "        vertical-align: top;\n",
       "    }\n",
       "\n",
       "    .dataframe thead th {\n",
       "        text-align: right;\n",
       "    }\n",
       "</style>\n",
       "<table border=\"1\" class=\"dataframe\">\n",
       "  <thead>\n",
       "    <tr style=\"text-align: right;\">\n",
       "      <th></th>\n",
       "      <th>Name</th>\n",
       "      <th>Age</th>\n",
       "      <th>City</th>\n",
       "    </tr>\n",
       "  </thead>\n",
       "  <tbody>\n",
       "    <tr>\n",
       "      <th>0</th>\n",
       "      <td>Alice</td>\n",
       "      <td>24</td>\n",
       "      <td>New York</td>\n",
       "    </tr>\n",
       "    <tr>\n",
       "      <th>1</th>\n",
       "      <td>Bob</td>\n",
       "      <td>30</td>\n",
       "      <td>Los Angeles</td>\n",
       "    </tr>\n",
       "    <tr>\n",
       "      <th>2</th>\n",
       "      <td>Charlie</td>\n",
       "      <td>22</td>\n",
       "      <td>Chicago</td>\n",
       "    </tr>\n",
       "  </tbody>\n",
       "</table>\n",
       "</div>"
      ],
      "text/plain": [
       "      Name  Age         City\n",
       "0    Alice   24     New York\n",
       "1      Bob   30  Los Angeles\n",
       "2  Charlie   22      Chicago"
      ]
     },
     "execution_count": 4,
     "metadata": {},
     "output_type": "execute_result"
    }
   ],
   "source": [
    "df.head()"
   ]
  },
  {
   "cell_type": "markdown",
   "id": "4b272635-a393-4bd3-9416-41f6ba0cc573",
   "metadata": {},
   "source": [
    "### DataFrame from list of list"
   ]
  },
  {
   "cell_type": "code",
   "execution_count": 5,
   "id": "bfa117aa-b78b-4fb3-abcb-9e608e3fdc5a",
   "metadata": {},
   "outputs": [],
   "source": [
    "data = [['Alice', 24, 'New York'], \n",
    "        ['Bob', 30, 'Los Angeles'], \n",
    "        ['Charlie', 22, 'Chicago']]"
   ]
  },
  {
   "cell_type": "code",
   "execution_count": 6,
   "id": "f7cad0c6-0aea-4141-bd68-8cd4668e4e60",
   "metadata": {},
   "outputs": [],
   "source": [
    "df = pd.DataFrame(data, columns=['Name', 'Age', 'City'])"
   ]
  },
  {
   "cell_type": "code",
   "execution_count": 7,
   "id": "93db24e5-7a23-4287-a549-6f9f895f4e4f",
   "metadata": {},
   "outputs": [
    {
     "data": {
      "text/html": [
       "<div>\n",
       "<style scoped>\n",
       "    .dataframe tbody tr th:only-of-type {\n",
       "        vertical-align: middle;\n",
       "    }\n",
       "\n",
       "    .dataframe tbody tr th {\n",
       "        vertical-align: top;\n",
       "    }\n",
       "\n",
       "    .dataframe thead th {\n",
       "        text-align: right;\n",
       "    }\n",
       "</style>\n",
       "<table border=\"1\" class=\"dataframe\">\n",
       "  <thead>\n",
       "    <tr style=\"text-align: right;\">\n",
       "      <th></th>\n",
       "      <th>Name</th>\n",
       "      <th>Age</th>\n",
       "      <th>City</th>\n",
       "    </tr>\n",
       "  </thead>\n",
       "  <tbody>\n",
       "    <tr>\n",
       "      <th>0</th>\n",
       "      <td>Alice</td>\n",
       "      <td>24</td>\n",
       "      <td>New York</td>\n",
       "    </tr>\n",
       "    <tr>\n",
       "      <th>1</th>\n",
       "      <td>Bob</td>\n",
       "      <td>30</td>\n",
       "      <td>Los Angeles</td>\n",
       "    </tr>\n",
       "    <tr>\n",
       "      <th>2</th>\n",
       "      <td>Charlie</td>\n",
       "      <td>22</td>\n",
       "      <td>Chicago</td>\n",
       "    </tr>\n",
       "  </tbody>\n",
       "</table>\n",
       "</div>"
      ],
      "text/plain": [
       "      Name  Age         City\n",
       "0    Alice   24     New York\n",
       "1      Bob   30  Los Angeles\n",
       "2  Charlie   22      Chicago"
      ]
     },
     "execution_count": 7,
     "metadata": {},
     "output_type": "execute_result"
    }
   ],
   "source": [
    "df.head()"
   ]
  },
  {
   "cell_type": "markdown",
   "id": "1b01c002-e497-4380-9111-c3f796466d1f",
   "metadata": {},
   "source": [
    "### DataFrame from series"
   ]
  },
  {
   "cell_type": "code",
   "execution_count": 8,
   "id": "d3793738-25b1-4089-8552-fe0d9c201f45",
   "metadata": {},
   "outputs": [],
   "source": [
    "# Creating the Series\n",
    "s1 = pd.Series(['Mansoor', 'Ali', 'Sara', 'Ahmed', 'Fatima', 'Usman', 'Ayesha', 'Zain', 'Hassan', 'Rabia'])\n",
    "s2 = pd.Series([22, 25, 30, 28, 27, 24, 26, 29, 23, 31])\n",
    "s3 = pd.Series(['Peshawar', 'Lahore', 'Peshawar', 'Karachi', 'Quetta', 'Peshawar', 'Rawalpindi', 'Multan', 'Faisalabad', 'Sialkot'])\n",
    "s4 = pd.Series(['M', \"M\", 'F', 'M', 'F', 'M', 'F', 'M', 'M', 'F'])"
   ]
  },
  {
   "cell_type": "code",
   "execution_count": 9,
   "id": "b61c917d-b565-45b3-902b-197e65afda64",
   "metadata": {},
   "outputs": [],
   "source": [
    "df = pd.DataFrame({\"Name\":s1, \"Age\":s2, \"City\":s3, 'Gender':s4})"
   ]
  },
  {
   "cell_type": "code",
   "execution_count": 10,
   "id": "79fb7c28-eb10-48a3-89c4-c5f5295aebe8",
   "metadata": {},
   "outputs": [
    {
     "data": {
      "text/html": [
       "<div>\n",
       "<style scoped>\n",
       "    .dataframe tbody tr th:only-of-type {\n",
       "        vertical-align: middle;\n",
       "    }\n",
       "\n",
       "    .dataframe tbody tr th {\n",
       "        vertical-align: top;\n",
       "    }\n",
       "\n",
       "    .dataframe thead th {\n",
       "        text-align: right;\n",
       "    }\n",
       "</style>\n",
       "<table border=\"1\" class=\"dataframe\">\n",
       "  <thead>\n",
       "    <tr style=\"text-align: right;\">\n",
       "      <th></th>\n",
       "      <th>Name</th>\n",
       "      <th>Age</th>\n",
       "      <th>City</th>\n",
       "      <th>Gender</th>\n",
       "    </tr>\n",
       "  </thead>\n",
       "  <tbody>\n",
       "    <tr>\n",
       "      <th>0</th>\n",
       "      <td>Mansoor</td>\n",
       "      <td>22</td>\n",
       "      <td>Peshawar</td>\n",
       "      <td>M</td>\n",
       "    </tr>\n",
       "    <tr>\n",
       "      <th>1</th>\n",
       "      <td>Ali</td>\n",
       "      <td>25</td>\n",
       "      <td>Lahore</td>\n",
       "      <td>M</td>\n",
       "    </tr>\n",
       "    <tr>\n",
       "      <th>2</th>\n",
       "      <td>Sara</td>\n",
       "      <td>30</td>\n",
       "      <td>Peshawar</td>\n",
       "      <td>F</td>\n",
       "    </tr>\n",
       "    <tr>\n",
       "      <th>3</th>\n",
       "      <td>Ahmed</td>\n",
       "      <td>28</td>\n",
       "      <td>Karachi</td>\n",
       "      <td>M</td>\n",
       "    </tr>\n",
       "    <tr>\n",
       "      <th>4</th>\n",
       "      <td>Fatima</td>\n",
       "      <td>27</td>\n",
       "      <td>Quetta</td>\n",
       "      <td>F</td>\n",
       "    </tr>\n",
       "  </tbody>\n",
       "</table>\n",
       "</div>"
      ],
      "text/plain": [
       "      Name  Age      City Gender\n",
       "0  Mansoor   22  Peshawar      M\n",
       "1      Ali   25    Lahore      M\n",
       "2     Sara   30  Peshawar      F\n",
       "3    Ahmed   28   Karachi      M\n",
       "4   Fatima   27    Quetta      F"
      ]
     },
     "execution_count": 10,
     "metadata": {},
     "output_type": "execute_result"
    }
   ],
   "source": [
    "df.head()"
   ]
  },
  {
   "cell_type": "code",
   "execution_count": null,
   "id": "a8fa32dd-9403-4f08-9314-3d6f0b7702f6",
   "metadata": {},
   "outputs": [],
   "source": []
  },
  {
   "cell_type": "markdown",
   "id": "299fe44d-38bc-4572-bca3-03dcbd97e6d1",
   "metadata": {},
   "source": [
    "# `Display single column`"
   ]
  },
  {
   "cell_type": "code",
   "execution_count": 11,
   "id": "a9266ce3-2c21-46e1-99d2-7345e3176809",
   "metadata": {},
   "outputs": [
    {
     "data": {
      "text/plain": [
       "0    Mansoor\n",
       "1        Ali\n",
       "2       Sara\n",
       "3      Ahmed\n",
       "4     Fatima\n",
       "Name: Name, dtype: object"
      ]
     },
     "execution_count": 11,
     "metadata": {},
     "output_type": "execute_result"
    }
   ],
   "source": [
    "df['Name'].head()"
   ]
  },
  {
   "cell_type": "code",
   "execution_count": 12,
   "id": "e5857902-9a53-4987-bf53-11990d99431c",
   "metadata": {},
   "outputs": [
    {
     "data": {
      "text/html": [
       "<div>\n",
       "<style scoped>\n",
       "    .dataframe tbody tr th:only-of-type {\n",
       "        vertical-align: middle;\n",
       "    }\n",
       "\n",
       "    .dataframe tbody tr th {\n",
       "        vertical-align: top;\n",
       "    }\n",
       "\n",
       "    .dataframe thead th {\n",
       "        text-align: right;\n",
       "    }\n",
       "</style>\n",
       "<table border=\"1\" class=\"dataframe\">\n",
       "  <thead>\n",
       "    <tr style=\"text-align: right;\">\n",
       "      <th></th>\n",
       "      <th>Name</th>\n",
       "      <th>Age</th>\n",
       "    </tr>\n",
       "  </thead>\n",
       "  <tbody>\n",
       "    <tr>\n",
       "      <th>0</th>\n",
       "      <td>Mansoor</td>\n",
       "      <td>22</td>\n",
       "    </tr>\n",
       "    <tr>\n",
       "      <th>1</th>\n",
       "      <td>Ali</td>\n",
       "      <td>25</td>\n",
       "    </tr>\n",
       "    <tr>\n",
       "      <th>2</th>\n",
       "      <td>Sara</td>\n",
       "      <td>30</td>\n",
       "    </tr>\n",
       "    <tr>\n",
       "      <th>3</th>\n",
       "      <td>Ahmed</td>\n",
       "      <td>28</td>\n",
       "    </tr>\n",
       "    <tr>\n",
       "      <th>4</th>\n",
       "      <td>Fatima</td>\n",
       "      <td>27</td>\n",
       "    </tr>\n",
       "  </tbody>\n",
       "</table>\n",
       "</div>"
      ],
      "text/plain": [
       "      Name  Age\n",
       "0  Mansoor   22\n",
       "1      Ali   25\n",
       "2     Sara   30\n",
       "3    Ahmed   28\n",
       "4   Fatima   27"
      ]
     },
     "execution_count": 12,
     "metadata": {},
     "output_type": "execute_result"
    }
   ],
   "source": [
    "df[['Name', 'Age']].head()"
   ]
  },
  {
   "cell_type": "markdown",
   "id": "f08e9aa5-bcf1-4827-845a-3424dbba810c",
   "metadata": {},
   "source": [
    "#### Select row to display"
   ]
  },
  {
   "cell_type": "code",
   "execution_count": 13,
   "id": "2dc74f89-a4a7-443a-91b2-18a15bafdc0e",
   "metadata": {},
   "outputs": [
    {
     "data": {
      "text/plain": [
       "Name        Ahmed\n",
       "Age            28\n",
       "City      Karachi\n",
       "Gender          M\n",
       "Name: 3, dtype: object"
      ]
     },
     "execution_count": 13,
     "metadata": {},
     "output_type": "execute_result"
    }
   ],
   "source": [
    "df.loc[3]"
   ]
  },
  {
   "cell_type": "code",
   "execution_count": 14,
   "id": "5c26c914-df29-4f08-ad62-7b142296060d",
   "metadata": {},
   "outputs": [
    {
     "data": {
      "text/plain": [
       "Name        Ahmed\n",
       "Age            28\n",
       "City      Karachi\n",
       "Gender          M\n",
       "Name: 3, dtype: object"
      ]
     },
     "execution_count": 14,
     "metadata": {},
     "output_type": "execute_result"
    }
   ],
   "source": [
    "df.iloc[3]"
   ]
  },
  {
   "cell_type": "markdown",
   "id": "c19c3734-6084-4521-9d3d-5873571f2931",
   "metadata": {},
   "source": [
    "### Slicing"
   ]
  },
  {
   "cell_type": "code",
   "execution_count": 15,
   "id": "b89ce814-71a4-48f2-a866-1af5068786c2",
   "metadata": {},
   "outputs": [
    {
     "data": {
      "text/html": [
       "<div>\n",
       "<style scoped>\n",
       "    .dataframe tbody tr th:only-of-type {\n",
       "        vertical-align: middle;\n",
       "    }\n",
       "\n",
       "    .dataframe tbody tr th {\n",
       "        vertical-align: top;\n",
       "    }\n",
       "\n",
       "    .dataframe thead th {\n",
       "        text-align: right;\n",
       "    }\n",
       "</style>\n",
       "<table border=\"1\" class=\"dataframe\">\n",
       "  <thead>\n",
       "    <tr style=\"text-align: right;\">\n",
       "      <th></th>\n",
       "      <th>Name</th>\n",
       "      <th>Age</th>\n",
       "      <th>City</th>\n",
       "      <th>Gender</th>\n",
       "    </tr>\n",
       "  </thead>\n",
       "  <tbody>\n",
       "    <tr>\n",
       "      <th>1</th>\n",
       "      <td>Ali</td>\n",
       "      <td>25</td>\n",
       "      <td>Lahore</td>\n",
       "      <td>M</td>\n",
       "    </tr>\n",
       "    <tr>\n",
       "      <th>2</th>\n",
       "      <td>Sara</td>\n",
       "      <td>30</td>\n",
       "      <td>Peshawar</td>\n",
       "      <td>F</td>\n",
       "    </tr>\n",
       "    <tr>\n",
       "      <th>3</th>\n",
       "      <td>Ahmed</td>\n",
       "      <td>28</td>\n",
       "      <td>Karachi</td>\n",
       "      <td>M</td>\n",
       "    </tr>\n",
       "  </tbody>\n",
       "</table>\n",
       "</div>"
      ],
      "text/plain": [
       "    Name  Age      City Gender\n",
       "1    Ali   25    Lahore      M\n",
       "2   Sara   30  Peshawar      F\n",
       "3  Ahmed   28   Karachi      M"
      ]
     },
     "execution_count": 15,
     "metadata": {},
     "output_type": "execute_result"
    }
   ],
   "source": [
    "df.iloc[1:4]"
   ]
  },
  {
   "cell_type": "code",
   "execution_count": null,
   "id": "2a1ac259-7d93-4a1f-ab47-f6fa256ae38c",
   "metadata": {},
   "outputs": [],
   "source": []
  },
  {
   "cell_type": "markdown",
   "id": "05c75043-4327-472b-8cb0-94bddb94d291",
   "metadata": {},
   "source": [
    "# `Data Manipulation`"
   ]
  },
  {
   "cell_type": "markdown",
   "id": "4c666418-8810-4ba8-9c2f-5f2e080b900e",
   "metadata": {},
   "source": [
    "### Add new column"
   ]
  },
  {
   "cell_type": "code",
   "execution_count": 16,
   "id": "cb02e521-8641-45d3-8041-d04c4fb181d6",
   "metadata": {},
   "outputs": [],
   "source": [
    "saleries = pd.Series([230, 158, 543, 235, 678, 532, 678, 342, 500, 544])"
   ]
  },
  {
   "cell_type": "code",
   "execution_count": 17,
   "id": "c9b76586-5ea1-4732-a49b-0b6d87e659eb",
   "metadata": {},
   "outputs": [
    {
     "data": {
      "text/html": [
       "<div>\n",
       "<style scoped>\n",
       "    .dataframe tbody tr th:only-of-type {\n",
       "        vertical-align: middle;\n",
       "    }\n",
       "\n",
       "    .dataframe tbody tr th {\n",
       "        vertical-align: top;\n",
       "    }\n",
       "\n",
       "    .dataframe thead th {\n",
       "        text-align: right;\n",
       "    }\n",
       "</style>\n",
       "<table border=\"1\" class=\"dataframe\">\n",
       "  <thead>\n",
       "    <tr style=\"text-align: right;\">\n",
       "      <th></th>\n",
       "      <th>Name</th>\n",
       "      <th>Age</th>\n",
       "      <th>City</th>\n",
       "      <th>Gender</th>\n",
       "    </tr>\n",
       "  </thead>\n",
       "  <tbody>\n",
       "    <tr>\n",
       "      <th>0</th>\n",
       "      <td>Mansoor</td>\n",
       "      <td>22</td>\n",
       "      <td>Peshawar</td>\n",
       "      <td>M</td>\n",
       "    </tr>\n",
       "  </tbody>\n",
       "</table>\n",
       "</div>"
      ],
      "text/plain": [
       "      Name  Age      City Gender\n",
       "0  Mansoor   22  Peshawar      M"
      ]
     },
     "execution_count": 17,
     "metadata": {},
     "output_type": "execute_result"
    }
   ],
   "source": [
    "df.head(1)"
   ]
  },
  {
   "cell_type": "code",
   "execution_count": 18,
   "id": "529db460-e167-4de5-a436-6ede9696b667",
   "metadata": {},
   "outputs": [],
   "source": [
    "df['Saleries'] = saleries"
   ]
  },
  {
   "cell_type": "code",
   "execution_count": 19,
   "id": "de50f3e6-3d9e-4bf7-a58f-e9bf302c92a4",
   "metadata": {},
   "outputs": [
    {
     "data": {
      "text/html": [
       "<div>\n",
       "<style scoped>\n",
       "    .dataframe tbody tr th:only-of-type {\n",
       "        vertical-align: middle;\n",
       "    }\n",
       "\n",
       "    .dataframe tbody tr th {\n",
       "        vertical-align: top;\n",
       "    }\n",
       "\n",
       "    .dataframe thead th {\n",
       "        text-align: right;\n",
       "    }\n",
       "</style>\n",
       "<table border=\"1\" class=\"dataframe\">\n",
       "  <thead>\n",
       "    <tr style=\"text-align: right;\">\n",
       "      <th></th>\n",
       "      <th>Name</th>\n",
       "      <th>Age</th>\n",
       "      <th>City</th>\n",
       "      <th>Gender</th>\n",
       "      <th>Saleries</th>\n",
       "    </tr>\n",
       "  </thead>\n",
       "  <tbody>\n",
       "    <tr>\n",
       "      <th>0</th>\n",
       "      <td>Mansoor</td>\n",
       "      <td>22</td>\n",
       "      <td>Peshawar</td>\n",
       "      <td>M</td>\n",
       "      <td>230</td>\n",
       "    </tr>\n",
       "    <tr>\n",
       "      <th>1</th>\n",
       "      <td>Ali</td>\n",
       "      <td>25</td>\n",
       "      <td>Lahore</td>\n",
       "      <td>M</td>\n",
       "      <td>158</td>\n",
       "    </tr>\n",
       "  </tbody>\n",
       "</table>\n",
       "</div>"
      ],
      "text/plain": [
       "      Name  Age      City Gender  Saleries\n",
       "0  Mansoor   22  Peshawar      M       230\n",
       "1      Ali   25    Lahore      M       158"
      ]
     },
     "execution_count": 19,
     "metadata": {},
     "output_type": "execute_result"
    }
   ],
   "source": [
    "df.head(2)"
   ]
  },
  {
   "cell_type": "code",
   "execution_count": null,
   "id": "c509691b-41d5-4916-95d1-cb64b393ef61",
   "metadata": {},
   "outputs": [],
   "source": []
  },
  {
   "cell_type": "markdown",
   "id": "7e94a19c-3555-40f9-a468-77617855e512",
   "metadata": {},
   "source": [
    "### Modify a column.\n",
    "- We suppose that saleries are increased with 100$. So we add 100 in Saleries column"
   ]
  },
  {
   "cell_type": "code",
   "execution_count": 20,
   "id": "c3cb2b44-699f-4159-91a9-861d9a3da9cd",
   "metadata": {},
   "outputs": [],
   "source": [
    "df['Saleries'] = df['Saleries'] + 100"
   ]
  },
  {
   "cell_type": "code",
   "execution_count": 21,
   "id": "5880426d-9171-4686-bf11-29df7e4c40a9",
   "metadata": {},
   "outputs": [
    {
     "data": {
      "text/html": [
       "<div>\n",
       "<style scoped>\n",
       "    .dataframe tbody tr th:only-of-type {\n",
       "        vertical-align: middle;\n",
       "    }\n",
       "\n",
       "    .dataframe tbody tr th {\n",
       "        vertical-align: top;\n",
       "    }\n",
       "\n",
       "    .dataframe thead th {\n",
       "        text-align: right;\n",
       "    }\n",
       "</style>\n",
       "<table border=\"1\" class=\"dataframe\">\n",
       "  <thead>\n",
       "    <tr style=\"text-align: right;\">\n",
       "      <th></th>\n",
       "      <th>Name</th>\n",
       "      <th>Age</th>\n",
       "      <th>City</th>\n",
       "      <th>Gender</th>\n",
       "      <th>Saleries</th>\n",
       "    </tr>\n",
       "  </thead>\n",
       "  <tbody>\n",
       "    <tr>\n",
       "      <th>0</th>\n",
       "      <td>Mansoor</td>\n",
       "      <td>22</td>\n",
       "      <td>Peshawar</td>\n",
       "      <td>M</td>\n",
       "      <td>330</td>\n",
       "    </tr>\n",
       "    <tr>\n",
       "      <th>1</th>\n",
       "      <td>Ali</td>\n",
       "      <td>25</td>\n",
       "      <td>Lahore</td>\n",
       "      <td>M</td>\n",
       "      <td>258</td>\n",
       "    </tr>\n",
       "  </tbody>\n",
       "</table>\n",
       "</div>"
      ],
      "text/plain": [
       "      Name  Age      City Gender  Saleries\n",
       "0  Mansoor   22  Peshawar      M       330\n",
       "1      Ali   25    Lahore      M       258"
      ]
     },
     "execution_count": 21,
     "metadata": {},
     "output_type": "execute_result"
    }
   ],
   "source": [
    "df.head(2)"
   ]
  },
  {
   "cell_type": "code",
   "execution_count": null,
   "id": "fb79659e-a066-457e-9afb-e47809d50240",
   "metadata": {},
   "outputs": [],
   "source": []
  },
  {
   "cell_type": "markdown",
   "id": "93e21847-8d8e-4c5b-a3d6-087d6f109a45",
   "metadata": {},
   "source": [
    "### Deleting a column"
   ]
  },
  {
   "cell_type": "code",
   "execution_count": 22,
   "id": "8ef35294-ebf2-4a02-a738-5fd12c67a1b7",
   "metadata": {},
   "outputs": [],
   "source": [
    "df.drop('Saleries', axis=1, inplace=True)  # Removes the 'Salary' column"
   ]
  },
  {
   "cell_type": "code",
   "execution_count": 23,
   "id": "a16a581c-2b93-4007-a279-e13574ba79a5",
   "metadata": {},
   "outputs": [
    {
     "data": {
      "text/html": [
       "<div>\n",
       "<style scoped>\n",
       "    .dataframe tbody tr th:only-of-type {\n",
       "        vertical-align: middle;\n",
       "    }\n",
       "\n",
       "    .dataframe tbody tr th {\n",
       "        vertical-align: top;\n",
       "    }\n",
       "\n",
       "    .dataframe thead th {\n",
       "        text-align: right;\n",
       "    }\n",
       "</style>\n",
       "<table border=\"1\" class=\"dataframe\">\n",
       "  <thead>\n",
       "    <tr style=\"text-align: right;\">\n",
       "      <th></th>\n",
       "      <th>Name</th>\n",
       "      <th>Age</th>\n",
       "      <th>City</th>\n",
       "      <th>Gender</th>\n",
       "    </tr>\n",
       "  </thead>\n",
       "  <tbody>\n",
       "    <tr>\n",
       "      <th>0</th>\n",
       "      <td>Mansoor</td>\n",
       "      <td>22</td>\n",
       "      <td>Peshawar</td>\n",
       "      <td>M</td>\n",
       "    </tr>\n",
       "  </tbody>\n",
       "</table>\n",
       "</div>"
      ],
      "text/plain": [
       "      Name  Age      City Gender\n",
       "0  Mansoor   22  Peshawar      M"
      ]
     },
     "execution_count": 23,
     "metadata": {},
     "output_type": "execute_result"
    }
   ],
   "source": [
    "df.head(1)"
   ]
  },
  {
   "cell_type": "code",
   "execution_count": null,
   "id": "abec8493-07d8-4bcb-8044-e8f7b3406682",
   "metadata": {},
   "outputs": [],
   "source": []
  },
  {
   "cell_type": "markdown",
   "id": "cd6afa7a-c2f2-430b-a6b4-cb2206dc753a",
   "metadata": {},
   "source": [
    "### Filtering Rows"
   ]
  },
  {
   "cell_type": "code",
   "execution_count": 24,
   "id": "52de5bf2-86c9-467f-87aa-fe74fa8ea772",
   "metadata": {},
   "outputs": [
    {
     "data": {
      "text/html": [
       "<div>\n",
       "<style scoped>\n",
       "    .dataframe tbody tr th:only-of-type {\n",
       "        vertical-align: middle;\n",
       "    }\n",
       "\n",
       "    .dataframe tbody tr th {\n",
       "        vertical-align: top;\n",
       "    }\n",
       "\n",
       "    .dataframe thead th {\n",
       "        text-align: right;\n",
       "    }\n",
       "</style>\n",
       "<table border=\"1\" class=\"dataframe\">\n",
       "  <thead>\n",
       "    <tr style=\"text-align: right;\">\n",
       "      <th></th>\n",
       "      <th>Name</th>\n",
       "      <th>Age</th>\n",
       "      <th>City</th>\n",
       "      <th>Gender</th>\n",
       "    </tr>\n",
       "  </thead>\n",
       "  <tbody>\n",
       "    <tr>\n",
       "      <th>2</th>\n",
       "      <td>Sara</td>\n",
       "      <td>30</td>\n",
       "      <td>Peshawar</td>\n",
       "      <td>F</td>\n",
       "    </tr>\n",
       "    <tr>\n",
       "      <th>3</th>\n",
       "      <td>Ahmed</td>\n",
       "      <td>28</td>\n",
       "      <td>Karachi</td>\n",
       "      <td>M</td>\n",
       "    </tr>\n",
       "    <tr>\n",
       "      <th>4</th>\n",
       "      <td>Fatima</td>\n",
       "      <td>27</td>\n",
       "      <td>Quetta</td>\n",
       "      <td>F</td>\n",
       "    </tr>\n",
       "    <tr>\n",
       "      <th>6</th>\n",
       "      <td>Ayesha</td>\n",
       "      <td>26</td>\n",
       "      <td>Rawalpindi</td>\n",
       "      <td>F</td>\n",
       "    </tr>\n",
       "    <tr>\n",
       "      <th>7</th>\n",
       "      <td>Zain</td>\n",
       "      <td>29</td>\n",
       "      <td>Multan</td>\n",
       "      <td>M</td>\n",
       "    </tr>\n",
       "    <tr>\n",
       "      <th>9</th>\n",
       "      <td>Rabia</td>\n",
       "      <td>31</td>\n",
       "      <td>Sialkot</td>\n",
       "      <td>F</td>\n",
       "    </tr>\n",
       "  </tbody>\n",
       "</table>\n",
       "</div>"
      ],
      "text/plain": [
       "     Name  Age        City Gender\n",
       "2    Sara   30    Peshawar      F\n",
       "3   Ahmed   28     Karachi      M\n",
       "4  Fatima   27      Quetta      F\n",
       "6  Ayesha   26  Rawalpindi      F\n",
       "7    Zain   29      Multan      M\n",
       "9   Rabia   31     Sialkot      F"
      ]
     },
     "execution_count": 24,
     "metadata": {},
     "output_type": "execute_result"
    }
   ],
   "source": [
    "df[df['Age'] > 25] "
   ]
  },
  {
   "cell_type": "code",
   "execution_count": null,
   "id": "2f7678cd-555d-41b2-b5a6-2f8481776c8b",
   "metadata": {},
   "outputs": [],
   "source": []
  },
  {
   "cell_type": "markdown",
   "id": "7df245e4-3fe9-4e20-8e2f-f1fd45466c86",
   "metadata": {},
   "source": [
    "# `Sorting Data`"
   ]
  },
  {
   "cell_type": "markdown",
   "id": "456a6a5f-1a81-4c0e-9623-df58978bf158",
   "metadata": {},
   "source": [
    "### Sort by column"
   ]
  },
  {
   "cell_type": "code",
   "execution_count": 25,
   "id": "eefb25f1-e2cf-47b2-9345-fc3b62863694",
   "metadata": {},
   "outputs": [
    {
     "data": {
      "text/html": [
       "<div>\n",
       "<style scoped>\n",
       "    .dataframe tbody tr th:only-of-type {\n",
       "        vertical-align: middle;\n",
       "    }\n",
       "\n",
       "    .dataframe tbody tr th {\n",
       "        vertical-align: top;\n",
       "    }\n",
       "\n",
       "    .dataframe thead th {\n",
       "        text-align: right;\n",
       "    }\n",
       "</style>\n",
       "<table border=\"1\" class=\"dataframe\">\n",
       "  <thead>\n",
       "    <tr style=\"text-align: right;\">\n",
       "      <th></th>\n",
       "      <th>Name</th>\n",
       "      <th>Age</th>\n",
       "      <th>City</th>\n",
       "      <th>Gender</th>\n",
       "    </tr>\n",
       "  </thead>\n",
       "  <tbody>\n",
       "    <tr>\n",
       "      <th>0</th>\n",
       "      <td>Mansoor</td>\n",
       "      <td>22</td>\n",
       "      <td>Peshawar</td>\n",
       "      <td>M</td>\n",
       "    </tr>\n",
       "    <tr>\n",
       "      <th>8</th>\n",
       "      <td>Hassan</td>\n",
       "      <td>23</td>\n",
       "      <td>Faisalabad</td>\n",
       "      <td>M</td>\n",
       "    </tr>\n",
       "    <tr>\n",
       "      <th>5</th>\n",
       "      <td>Usman</td>\n",
       "      <td>24</td>\n",
       "      <td>Peshawar</td>\n",
       "      <td>M</td>\n",
       "    </tr>\n",
       "    <tr>\n",
       "      <th>1</th>\n",
       "      <td>Ali</td>\n",
       "      <td>25</td>\n",
       "      <td>Lahore</td>\n",
       "      <td>M</td>\n",
       "    </tr>\n",
       "    <tr>\n",
       "      <th>6</th>\n",
       "      <td>Ayesha</td>\n",
       "      <td>26</td>\n",
       "      <td>Rawalpindi</td>\n",
       "      <td>F</td>\n",
       "    </tr>\n",
       "    <tr>\n",
       "      <th>4</th>\n",
       "      <td>Fatima</td>\n",
       "      <td>27</td>\n",
       "      <td>Quetta</td>\n",
       "      <td>F</td>\n",
       "    </tr>\n",
       "    <tr>\n",
       "      <th>3</th>\n",
       "      <td>Ahmed</td>\n",
       "      <td>28</td>\n",
       "      <td>Karachi</td>\n",
       "      <td>M</td>\n",
       "    </tr>\n",
       "    <tr>\n",
       "      <th>7</th>\n",
       "      <td>Zain</td>\n",
       "      <td>29</td>\n",
       "      <td>Multan</td>\n",
       "      <td>M</td>\n",
       "    </tr>\n",
       "    <tr>\n",
       "      <th>2</th>\n",
       "      <td>Sara</td>\n",
       "      <td>30</td>\n",
       "      <td>Peshawar</td>\n",
       "      <td>F</td>\n",
       "    </tr>\n",
       "    <tr>\n",
       "      <th>9</th>\n",
       "      <td>Rabia</td>\n",
       "      <td>31</td>\n",
       "      <td>Sialkot</td>\n",
       "      <td>F</td>\n",
       "    </tr>\n",
       "  </tbody>\n",
       "</table>\n",
       "</div>"
      ],
      "text/plain": [
       "      Name  Age        City Gender\n",
       "0  Mansoor   22    Peshawar      M\n",
       "8   Hassan   23  Faisalabad      M\n",
       "5    Usman   24    Peshawar      M\n",
       "1      Ali   25      Lahore      M\n",
       "6   Ayesha   26  Rawalpindi      F\n",
       "4   Fatima   27      Quetta      F\n",
       "3    Ahmed   28     Karachi      M\n",
       "7     Zain   29      Multan      M\n",
       "2     Sara   30    Peshawar      F\n",
       "9    Rabia   31     Sialkot      F"
      ]
     },
     "execution_count": 25,
     "metadata": {},
     "output_type": "execute_result"
    }
   ],
   "source": [
    "df.sort_values('Age')  # Sorts DataFrame by 'Age' column in ascending order"
   ]
  },
  {
   "cell_type": "markdown",
   "id": "4706fb76-4cfb-4390-9493-e6c72b1ec198",
   "metadata": {},
   "source": [
    "### Sort by multiple columns"
   ]
  },
  {
   "cell_type": "code",
   "execution_count": 26,
   "id": "62849296-57e1-4af6-ad47-25ca10c30cd3",
   "metadata": {},
   "outputs": [],
   "source": [
    "df['Saleries'] = saleries # Add saleries again for comparison"
   ]
  },
  {
   "cell_type": "code",
   "execution_count": 27,
   "id": "336cc9dc-0d94-43df-95c1-85a638839a83",
   "metadata": {},
   "outputs": [
    {
     "data": {
      "text/html": [
       "<div>\n",
       "<style scoped>\n",
       "    .dataframe tbody tr th:only-of-type {\n",
       "        vertical-align: middle;\n",
       "    }\n",
       "\n",
       "    .dataframe tbody tr th {\n",
       "        vertical-align: top;\n",
       "    }\n",
       "\n",
       "    .dataframe thead th {\n",
       "        text-align: right;\n",
       "    }\n",
       "</style>\n",
       "<table border=\"1\" class=\"dataframe\">\n",
       "  <thead>\n",
       "    <tr style=\"text-align: right;\">\n",
       "      <th></th>\n",
       "      <th>Name</th>\n",
       "      <th>Age</th>\n",
       "      <th>City</th>\n",
       "      <th>Gender</th>\n",
       "      <th>Saleries</th>\n",
       "    </tr>\n",
       "  </thead>\n",
       "  <tbody>\n",
       "    <tr>\n",
       "      <th>9</th>\n",
       "      <td>Rabia</td>\n",
       "      <td>31</td>\n",
       "      <td>Sialkot</td>\n",
       "      <td>F</td>\n",
       "      <td>544</td>\n",
       "    </tr>\n",
       "    <tr>\n",
       "      <th>2</th>\n",
       "      <td>Sara</td>\n",
       "      <td>30</td>\n",
       "      <td>Peshawar</td>\n",
       "      <td>F</td>\n",
       "      <td>543</td>\n",
       "    </tr>\n",
       "    <tr>\n",
       "      <th>7</th>\n",
       "      <td>Zain</td>\n",
       "      <td>29</td>\n",
       "      <td>Multan</td>\n",
       "      <td>M</td>\n",
       "      <td>342</td>\n",
       "    </tr>\n",
       "    <tr>\n",
       "      <th>3</th>\n",
       "      <td>Ahmed</td>\n",
       "      <td>28</td>\n",
       "      <td>Karachi</td>\n",
       "      <td>M</td>\n",
       "      <td>235</td>\n",
       "    </tr>\n",
       "    <tr>\n",
       "      <th>4</th>\n",
       "      <td>Fatima</td>\n",
       "      <td>27</td>\n",
       "      <td>Quetta</td>\n",
       "      <td>F</td>\n",
       "      <td>678</td>\n",
       "    </tr>\n",
       "    <tr>\n",
       "      <th>6</th>\n",
       "      <td>Ayesha</td>\n",
       "      <td>26</td>\n",
       "      <td>Rawalpindi</td>\n",
       "      <td>F</td>\n",
       "      <td>678</td>\n",
       "    </tr>\n",
       "    <tr>\n",
       "      <th>1</th>\n",
       "      <td>Ali</td>\n",
       "      <td>25</td>\n",
       "      <td>Lahore</td>\n",
       "      <td>M</td>\n",
       "      <td>158</td>\n",
       "    </tr>\n",
       "    <tr>\n",
       "      <th>5</th>\n",
       "      <td>Usman</td>\n",
       "      <td>24</td>\n",
       "      <td>Peshawar</td>\n",
       "      <td>M</td>\n",
       "      <td>532</td>\n",
       "    </tr>\n",
       "    <tr>\n",
       "      <th>8</th>\n",
       "      <td>Hassan</td>\n",
       "      <td>23</td>\n",
       "      <td>Faisalabad</td>\n",
       "      <td>M</td>\n",
       "      <td>500</td>\n",
       "    </tr>\n",
       "    <tr>\n",
       "      <th>0</th>\n",
       "      <td>Mansoor</td>\n",
       "      <td>22</td>\n",
       "      <td>Peshawar</td>\n",
       "      <td>M</td>\n",
       "      <td>230</td>\n",
       "    </tr>\n",
       "  </tbody>\n",
       "</table>\n",
       "</div>"
      ],
      "text/plain": [
       "      Name  Age        City Gender  Saleries\n",
       "9    Rabia   31     Sialkot      F       544\n",
       "2     Sara   30    Peshawar      F       543\n",
       "7     Zain   29      Multan      M       342\n",
       "3    Ahmed   28     Karachi      M       235\n",
       "4   Fatima   27      Quetta      F       678\n",
       "6   Ayesha   26  Rawalpindi      F       678\n",
       "1      Ali   25      Lahore      M       158\n",
       "5    Usman   24    Peshawar      M       532\n",
       "8   Hassan   23  Faisalabad      M       500\n",
       "0  Mansoor   22    Peshawar      M       230"
      ]
     },
     "execution_count": 27,
     "metadata": {},
     "output_type": "execute_result"
    }
   ],
   "source": [
    "df.sort_values(['Age', 'Saleries'], ascending=[False, False])"
   ]
  },
  {
   "cell_type": "code",
   "execution_count": 28,
   "id": "697dec82-e936-4de8-98c2-457c93c0a558",
   "metadata": {},
   "outputs": [
    {
     "data": {
      "text/html": [
       "<div>\n",
       "<style scoped>\n",
       "    .dataframe tbody tr th:only-of-type {\n",
       "        vertical-align: middle;\n",
       "    }\n",
       "\n",
       "    .dataframe tbody tr th {\n",
       "        vertical-align: top;\n",
       "    }\n",
       "\n",
       "    .dataframe thead th {\n",
       "        text-align: right;\n",
       "    }\n",
       "</style>\n",
       "<table border=\"1\" class=\"dataframe\">\n",
       "  <thead>\n",
       "    <tr style=\"text-align: right;\">\n",
       "      <th></th>\n",
       "      <th>Name</th>\n",
       "      <th>Age</th>\n",
       "      <th>City</th>\n",
       "      <th>Gender</th>\n",
       "      <th>Saleries</th>\n",
       "    </tr>\n",
       "  </thead>\n",
       "  <tbody>\n",
       "    <tr>\n",
       "      <th>0</th>\n",
       "      <td>Mansoor</td>\n",
       "      <td>22</td>\n",
       "      <td>Peshawar</td>\n",
       "      <td>M</td>\n",
       "      <td>230</td>\n",
       "    </tr>\n",
       "    <tr>\n",
       "      <th>1</th>\n",
       "      <td>Ali</td>\n",
       "      <td>25</td>\n",
       "      <td>Lahore</td>\n",
       "      <td>M</td>\n",
       "      <td>158</td>\n",
       "    </tr>\n",
       "    <tr>\n",
       "      <th>2</th>\n",
       "      <td>Sara</td>\n",
       "      <td>30</td>\n",
       "      <td>Peshawar</td>\n",
       "      <td>F</td>\n",
       "      <td>543</td>\n",
       "    </tr>\n",
       "    <tr>\n",
       "      <th>3</th>\n",
       "      <td>Ahmed</td>\n",
       "      <td>28</td>\n",
       "      <td>Karachi</td>\n",
       "      <td>M</td>\n",
       "      <td>235</td>\n",
       "    </tr>\n",
       "    <tr>\n",
       "      <th>4</th>\n",
       "      <td>Fatima</td>\n",
       "      <td>27</td>\n",
       "      <td>Quetta</td>\n",
       "      <td>F</td>\n",
       "      <td>678</td>\n",
       "    </tr>\n",
       "    <tr>\n",
       "      <th>5</th>\n",
       "      <td>Usman</td>\n",
       "      <td>24</td>\n",
       "      <td>Peshawar</td>\n",
       "      <td>M</td>\n",
       "      <td>532</td>\n",
       "    </tr>\n",
       "    <tr>\n",
       "      <th>6</th>\n",
       "      <td>Ayesha</td>\n",
       "      <td>26</td>\n",
       "      <td>Rawalpindi</td>\n",
       "      <td>F</td>\n",
       "      <td>678</td>\n",
       "    </tr>\n",
       "    <tr>\n",
       "      <th>7</th>\n",
       "      <td>Zain</td>\n",
       "      <td>29</td>\n",
       "      <td>Multan</td>\n",
       "      <td>M</td>\n",
       "      <td>342</td>\n",
       "    </tr>\n",
       "    <tr>\n",
       "      <th>8</th>\n",
       "      <td>Hassan</td>\n",
       "      <td>23</td>\n",
       "      <td>Faisalabad</td>\n",
       "      <td>M</td>\n",
       "      <td>500</td>\n",
       "    </tr>\n",
       "    <tr>\n",
       "      <th>9</th>\n",
       "      <td>Rabia</td>\n",
       "      <td>31</td>\n",
       "      <td>Sialkot</td>\n",
       "      <td>F</td>\n",
       "      <td>544</td>\n",
       "    </tr>\n",
       "  </tbody>\n",
       "</table>\n",
       "</div>"
      ],
      "text/plain": [
       "      Name  Age        City Gender  Saleries\n",
       "0  Mansoor   22    Peshawar      M       230\n",
       "1      Ali   25      Lahore      M       158\n",
       "2     Sara   30    Peshawar      F       543\n",
       "3    Ahmed   28     Karachi      M       235\n",
       "4   Fatima   27      Quetta      F       678\n",
       "5    Usman   24    Peshawar      M       532\n",
       "6   Ayesha   26  Rawalpindi      F       678\n",
       "7     Zain   29      Multan      M       342\n",
       "8   Hassan   23  Faisalabad      M       500\n",
       "9    Rabia   31     Sialkot      F       544"
      ]
     },
     "execution_count": 28,
     "metadata": {},
     "output_type": "execute_result"
    }
   ],
   "source": [
    "df"
   ]
  },
  {
   "cell_type": "markdown",
   "id": "1c6676ad-e877-4985-924c-a334da2498bf",
   "metadata": {},
   "source": [
    "# `Grouping and Aggregating`\n",
    "- `Group By:` Grouping allows you to split the data into groups based on some criteria, and then you can apply aggregation or transformation."
   ]
  },
  {
   "cell_type": "code",
   "execution_count": 32,
   "id": "88292e7f-22f9-4e41-b42a-b0703e694b1a",
   "metadata": {},
   "outputs": [
    {
     "data": {
      "text/html": [
       "<div>\n",
       "<style scoped>\n",
       "    .dataframe tbody tr th:only-of-type {\n",
       "        vertical-align: middle;\n",
       "    }\n",
       "\n",
       "    .dataframe tbody tr th {\n",
       "        vertical-align: top;\n",
       "    }\n",
       "\n",
       "    .dataframe thead th {\n",
       "        text-align: right;\n",
       "    }\n",
       "</style>\n",
       "<table border=\"1\" class=\"dataframe\">\n",
       "  <thead>\n",
       "    <tr style=\"text-align: right;\">\n",
       "      <th></th>\n",
       "      <th>Age</th>\n",
       "      <th>Saleries</th>\n",
       "    </tr>\n",
       "    <tr>\n",
       "      <th>City</th>\n",
       "      <th></th>\n",
       "      <th></th>\n",
       "    </tr>\n",
       "  </thead>\n",
       "  <tbody>\n",
       "    <tr>\n",
       "      <th>Faisalabad</th>\n",
       "      <td>23.000000</td>\n",
       "      <td>500.0</td>\n",
       "    </tr>\n",
       "    <tr>\n",
       "      <th>Karachi</th>\n",
       "      <td>28.000000</td>\n",
       "      <td>235.0</td>\n",
       "    </tr>\n",
       "    <tr>\n",
       "      <th>Lahore</th>\n",
       "      <td>25.000000</td>\n",
       "      <td>158.0</td>\n",
       "    </tr>\n",
       "    <tr>\n",
       "      <th>Multan</th>\n",
       "      <td>29.000000</td>\n",
       "      <td>342.0</td>\n",
       "    </tr>\n",
       "    <tr>\n",
       "      <th>Peshawar</th>\n",
       "      <td>25.333333</td>\n",
       "      <td>435.0</td>\n",
       "    </tr>\n",
       "    <tr>\n",
       "      <th>Quetta</th>\n",
       "      <td>27.000000</td>\n",
       "      <td>678.0</td>\n",
       "    </tr>\n",
       "    <tr>\n",
       "      <th>Rawalpindi</th>\n",
       "      <td>26.000000</td>\n",
       "      <td>678.0</td>\n",
       "    </tr>\n",
       "    <tr>\n",
       "      <th>Sialkot</th>\n",
       "      <td>31.000000</td>\n",
       "      <td>544.0</td>\n",
       "    </tr>\n",
       "  </tbody>\n",
       "</table>\n",
       "</div>"
      ],
      "text/plain": [
       "                  Age  Saleries\n",
       "City                           \n",
       "Faisalabad  23.000000     500.0\n",
       "Karachi     28.000000     235.0\n",
       "Lahore      25.000000     158.0\n",
       "Multan      29.000000     342.0\n",
       "Peshawar    25.333333     435.0\n",
       "Quetta      27.000000     678.0\n",
       "Rawalpindi  26.000000     678.0\n",
       "Sialkot     31.000000     544.0"
      ]
     },
     "execution_count": 32,
     "metadata": {},
     "output_type": "execute_result"
    }
   ],
   "source": [
    "df.groupby('City').mean(numeric_only=True)  # Compute mean only for numeric columns"
   ]
  },
  {
   "cell_type": "code",
   "execution_count": 38,
   "id": "8e945fda-8444-406c-8862-480b189299c8",
   "metadata": {},
   "outputs": [
    {
     "data": {
      "text/html": [
       "<div>\n",
       "<style scoped>\n",
       "    .dataframe tbody tr th:only-of-type {\n",
       "        vertical-align: middle;\n",
       "    }\n",
       "\n",
       "    .dataframe tbody tr th {\n",
       "        vertical-align: top;\n",
       "    }\n",
       "\n",
       "    .dataframe thead th {\n",
       "        text-align: right;\n",
       "    }\n",
       "</style>\n",
       "<table border=\"1\" class=\"dataframe\">\n",
       "  <thead>\n",
       "    <tr style=\"text-align: right;\">\n",
       "      <th></th>\n",
       "      <th>Age</th>\n",
       "      <th>Saleries</th>\n",
       "      <th>Name</th>\n",
       "    </tr>\n",
       "    <tr>\n",
       "      <th>City</th>\n",
       "      <th></th>\n",
       "      <th></th>\n",
       "      <th></th>\n",
       "    </tr>\n",
       "  </thead>\n",
       "  <tbody>\n",
       "    <tr>\n",
       "      <th>Faisalabad</th>\n",
       "      <td>23.000000</td>\n",
       "      <td>500.0</td>\n",
       "      <td>[Hassan]</td>\n",
       "    </tr>\n",
       "    <tr>\n",
       "      <th>Karachi</th>\n",
       "      <td>28.000000</td>\n",
       "      <td>235.0</td>\n",
       "      <td>[Ahmed]</td>\n",
       "    </tr>\n",
       "    <tr>\n",
       "      <th>Lahore</th>\n",
       "      <td>25.000000</td>\n",
       "      <td>158.0</td>\n",
       "      <td>[Ali]</td>\n",
       "    </tr>\n",
       "    <tr>\n",
       "      <th>Multan</th>\n",
       "      <td>29.000000</td>\n",
       "      <td>342.0</td>\n",
       "      <td>[Zain]</td>\n",
       "    </tr>\n",
       "    <tr>\n",
       "      <th>Peshawar</th>\n",
       "      <td>25.333333</td>\n",
       "      <td>435.0</td>\n",
       "      <td>[Mansoor, Sara, Usman]</td>\n",
       "    </tr>\n",
       "    <tr>\n",
       "      <th>Quetta</th>\n",
       "      <td>27.000000</td>\n",
       "      <td>678.0</td>\n",
       "      <td>[Fatima]</td>\n",
       "    </tr>\n",
       "    <tr>\n",
       "      <th>Rawalpindi</th>\n",
       "      <td>26.000000</td>\n",
       "      <td>678.0</td>\n",
       "      <td>[Ayesha]</td>\n",
       "    </tr>\n",
       "    <tr>\n",
       "      <th>Sialkot</th>\n",
       "      <td>31.000000</td>\n",
       "      <td>544.0</td>\n",
       "      <td>[Rabia]</td>\n",
       "    </tr>\n",
       "  </tbody>\n",
       "</table>\n",
       "</div>"
      ],
      "text/plain": [
       "                  Age  Saleries                    Name\n",
       "City                                                   \n",
       "Faisalabad  23.000000     500.0                [Hassan]\n",
       "Karachi     28.000000     235.0                 [Ahmed]\n",
       "Lahore      25.000000     158.0                   [Ali]\n",
       "Multan      29.000000     342.0                  [Zain]\n",
       "Peshawar    25.333333     435.0  [Mansoor, Sara, Usman]\n",
       "Quetta      27.000000     678.0                [Fatima]\n",
       "Rawalpindi  26.000000     678.0                [Ayesha]\n",
       "Sialkot     31.000000     544.0                 [Rabia]"
      ]
     },
     "execution_count": 38,
     "metadata": {},
     "output_type": "execute_result"
    }
   ],
   "source": [
    "# Operation you can perorm on string during aggregate\n",
    "'''\n",
    "- first\n",
    "- last\n",
    "- nunique\n",
    "- unique\n",
    "- size\n",
    "- max\n",
    "'''\n",
    "df.groupby('City').agg({\n",
    "    'Age': 'mean',       # Numeric column, calculate the mean\n",
    "    'Saleries': 'mean',    # Another numeric column, calculate the mean\n",
    "    'Name': 'unique'      # Non-numeric column, return the first value (or any other string operation)\n",
    "})"
   ]
  },
  {
   "cell_type": "markdown",
   "id": "831b6c53-70fe-4a69-91b7-f63d38b49777",
   "metadata": {},
   "source": [
    "### Aggregation: You can use aggregate functions like sum(), mean(), count(), etc."
   ]
  },
  {
   "cell_type": "code",
   "execution_count": 29,
   "id": "b54207d2-94dd-4a8b-bceb-ebe7dd69a3f8",
   "metadata": {},
   "outputs": [
    {
     "data": {
      "text/html": [
       "<div>\n",
       "<style scoped>\n",
       "    .dataframe tbody tr th:only-of-type {\n",
       "        vertical-align: middle;\n",
       "    }\n",
       "\n",
       "    .dataframe tbody tr th {\n",
       "        vertical-align: top;\n",
       "    }\n",
       "\n",
       "    .dataframe thead th {\n",
       "        text-align: right;\n",
       "    }\n",
       "</style>\n",
       "<table border=\"1\" class=\"dataframe\">\n",
       "  <thead>\n",
       "    <tr style=\"text-align: right;\">\n",
       "      <th></th>\n",
       "      <th>Age</th>\n",
       "      <th>Saleries</th>\n",
       "    </tr>\n",
       "    <tr>\n",
       "      <th>City</th>\n",
       "      <th></th>\n",
       "      <th></th>\n",
       "    </tr>\n",
       "  </thead>\n",
       "  <tbody>\n",
       "    <tr>\n",
       "      <th>Faisalabad</th>\n",
       "      <td>23.000000</td>\n",
       "      <td>500</td>\n",
       "    </tr>\n",
       "    <tr>\n",
       "      <th>Karachi</th>\n",
       "      <td>28.000000</td>\n",
       "      <td>235</td>\n",
       "    </tr>\n",
       "    <tr>\n",
       "      <th>Lahore</th>\n",
       "      <td>25.000000</td>\n",
       "      <td>158</td>\n",
       "    </tr>\n",
       "    <tr>\n",
       "      <th>Multan</th>\n",
       "      <td>29.000000</td>\n",
       "      <td>342</td>\n",
       "    </tr>\n",
       "    <tr>\n",
       "      <th>Peshawar</th>\n",
       "      <td>25.333333</td>\n",
       "      <td>1305</td>\n",
       "    </tr>\n",
       "    <tr>\n",
       "      <th>Quetta</th>\n",
       "      <td>27.000000</td>\n",
       "      <td>678</td>\n",
       "    </tr>\n",
       "    <tr>\n",
       "      <th>Rawalpindi</th>\n",
       "      <td>26.000000</td>\n",
       "      <td>678</td>\n",
       "    </tr>\n",
       "    <tr>\n",
       "      <th>Sialkot</th>\n",
       "      <td>31.000000</td>\n",
       "      <td>544</td>\n",
       "    </tr>\n",
       "  </tbody>\n",
       "</table>\n",
       "</div>"
      ],
      "text/plain": [
       "                  Age  Saleries\n",
       "City                           \n",
       "Faisalabad  23.000000       500\n",
       "Karachi     28.000000       235\n",
       "Lahore      25.000000       158\n",
       "Multan      29.000000       342\n",
       "Peshawar    25.333333      1305\n",
       "Quetta      27.000000       678\n",
       "Rawalpindi  26.000000       678\n",
       "Sialkot     31.000000       544"
      ]
     },
     "execution_count": 29,
     "metadata": {},
     "output_type": "execute_result"
    }
   ],
   "source": [
    "df.groupby('City').agg({'Age': 'mean', 'Saleries': 'sum'})"
   ]
  },
  {
   "cell_type": "code",
   "execution_count": null,
   "id": "bf723313-85c7-4f7b-831b-0405296e48ff",
   "metadata": {},
   "outputs": [],
   "source": []
  },
  {
   "cell_type": "markdown",
   "id": "bfed679e-5f3a-43cf-b2f8-22c19f466663",
   "metadata": {},
   "source": [
    "### Pivot Tables"
   ]
  },
  {
   "cell_type": "markdown",
   "id": "c7411569-834f-4ccf-a5da-123462ee527f",
   "metadata": {},
   "source": [
    "#### Pandas also supports pivot tables for summarizing data."
   ]
  },
  {
   "cell_type": "code",
   "execution_count": 30,
   "id": "9a6557e8-8cdd-491c-bef0-d6aac025224f",
   "metadata": {},
   "outputs": [
    {
     "data": {
      "text/html": [
       "<div>\n",
       "<style scoped>\n",
       "    .dataframe tbody tr th:only-of-type {\n",
       "        vertical-align: middle;\n",
       "    }\n",
       "\n",
       "    .dataframe tbody tr th {\n",
       "        vertical-align: top;\n",
       "    }\n",
       "\n",
       "    .dataframe thead th {\n",
       "        text-align: right;\n",
       "    }\n",
       "</style>\n",
       "<table border=\"1\" class=\"dataframe\">\n",
       "  <thead>\n",
       "    <tr style=\"text-align: right;\">\n",
       "      <th>Gender</th>\n",
       "      <th>F</th>\n",
       "      <th>M</th>\n",
       "    </tr>\n",
       "    <tr>\n",
       "      <th>City</th>\n",
       "      <th></th>\n",
       "      <th></th>\n",
       "    </tr>\n",
       "  </thead>\n",
       "  <tbody>\n",
       "    <tr>\n",
       "      <th>Faisalabad</th>\n",
       "      <td>NaN</td>\n",
       "      <td>500.0</td>\n",
       "    </tr>\n",
       "    <tr>\n",
       "      <th>Karachi</th>\n",
       "      <td>NaN</td>\n",
       "      <td>235.0</td>\n",
       "    </tr>\n",
       "    <tr>\n",
       "      <th>Lahore</th>\n",
       "      <td>NaN</td>\n",
       "      <td>158.0</td>\n",
       "    </tr>\n",
       "    <tr>\n",
       "      <th>Multan</th>\n",
       "      <td>NaN</td>\n",
       "      <td>342.0</td>\n",
       "    </tr>\n",
       "    <tr>\n",
       "      <th>Peshawar</th>\n",
       "      <td>543.0</td>\n",
       "      <td>381.0</td>\n",
       "    </tr>\n",
       "    <tr>\n",
       "      <th>Quetta</th>\n",
       "      <td>678.0</td>\n",
       "      <td>NaN</td>\n",
       "    </tr>\n",
       "    <tr>\n",
       "      <th>Rawalpindi</th>\n",
       "      <td>678.0</td>\n",
       "      <td>NaN</td>\n",
       "    </tr>\n",
       "    <tr>\n",
       "      <th>Sialkot</th>\n",
       "      <td>544.0</td>\n",
       "      <td>NaN</td>\n",
       "    </tr>\n",
       "  </tbody>\n",
       "</table>\n",
       "</div>"
      ],
      "text/plain": [
       "Gender          F      M\n",
       "City                    \n",
       "Faisalabad    NaN  500.0\n",
       "Karachi       NaN  235.0\n",
       "Lahore        NaN  158.0\n",
       "Multan        NaN  342.0\n",
       "Peshawar    543.0  381.0\n",
       "Quetta      678.0    NaN\n",
       "Rawalpindi  678.0    NaN\n",
       "Sialkot     544.0    NaN"
      ]
     },
     "execution_count": 30,
     "metadata": {},
     "output_type": "execute_result"
    }
   ],
   "source": [
    "df.pivot_table(values='Saleries', index='City', columns='Gender', aggfunc='mean')"
   ]
  },
  {
   "cell_type": "code",
   "execution_count": null,
   "id": "0bedac8d-ad30-4025-9503-ff906b8e6464",
   "metadata": {},
   "outputs": [],
   "source": []
  }
 ],
 "metadata": {
  "kernelspec": {
   "display_name": "Python 3 (ipykernel)",
   "language": "python",
   "name": "python3"
  },
  "language_info": {
   "codemirror_mode": {
    "name": "ipython",
    "version": 3
   },
   "file_extension": ".py",
   "mimetype": "text/x-python",
   "name": "python",
   "nbconvert_exporter": "python",
   "pygments_lexer": "ipython3",
   "version": "3.12.4"
  }
 },
 "nbformat": 4,
 "nbformat_minor": 5
}
