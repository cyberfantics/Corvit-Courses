{
 "cells": [
  {
   "cell_type": "code",
   "execution_count": 1,
   "id": "92b5cc86-6701-4d62-8ce3-e2fb714c6c3a",
   "metadata": {},
   "outputs": [],
   "source": [
    "import pandas as pd"
   ]
  },
  {
   "cell_type": "markdown",
   "id": "1229eb18-0582-4301-9289-0a81f0da2204",
   "metadata": {},
   "source": [
    "### Pandas Series\n",
    "- A Pandas Series is a one-dimensional labeled array that holds data of any type (integer, string, float, etc.). It is similar to a column in a DataFrame or a list in Python, but with more capabilities. Below are detailed notes on the Series object."
   ]
  },
  {
   "cell_type": "markdown",
   "id": "3a4677bc-438b-4d91-986c-1142a9d25c90",
   "metadata": {},
   "source": [
    "#### Create a series from list"
   ]
  },
  {
   "cell_type": "code",
   "execution_count": 2,
   "id": "fd715f67-092a-4692-bf3d-a034e97f2ce1",
   "metadata": {},
   "outputs": [],
   "source": [
    "s = pd.Series([3,4,5,6])"
   ]
  },
  {
   "cell_type": "code",
   "execution_count": 3,
   "id": "5daf1227-a1ca-46ad-8d4f-81522894c99e",
   "metadata": {},
   "outputs": [
    {
     "data": {
      "text/plain": [
       "0    3\n",
       "1    4\n",
       "2    5\n",
       "3    6\n",
       "dtype: int64"
      ]
     },
     "execution_count": 3,
     "metadata": {},
     "output_type": "execute_result"
    }
   ],
   "source": [
    "s"
   ]
  },
  {
   "cell_type": "markdown",
   "id": "a5c096be-5ba6-4371-96d1-85c805431f58",
   "metadata": {},
   "source": [
    "#### Create series from dictionary"
   ]
  },
  {
   "cell_type": "code",
   "execution_count": 4,
   "id": "3e4f93b4-182a-4785-848c-bd9a7e4fe16f",
   "metadata": {},
   "outputs": [],
   "source": [
    "dict = {'a':5,'b':7,'c':85}"
   ]
  },
  {
   "cell_type": "code",
   "execution_count": 5,
   "id": "e5548675-2d1e-42eb-bcf9-fd7476421d1b",
   "metadata": {},
   "outputs": [],
   "source": [
    "d = pd.Series(dict)"
   ]
  },
  {
   "cell_type": "code",
   "execution_count": 6,
   "id": "4170c6fa-f467-44c7-bb60-ca5f122707a6",
   "metadata": {},
   "outputs": [
    {
     "data": {
      "text/plain": [
       "a     5\n",
       "b     7\n",
       "c    85\n",
       "dtype: int64"
      ]
     },
     "execution_count": 6,
     "metadata": {},
     "output_type": "execute_result"
    }
   ],
   "source": [
    "d"
   ]
  },
  {
   "cell_type": "code",
   "execution_count": null,
   "id": "cb8da18a-a891-482c-80f7-732a7c12ab11",
   "metadata": {},
   "outputs": [],
   "source": []
  },
  {
   "cell_type": "markdown",
   "id": "694be890-d16e-431d-9183-6a42a74840f6",
   "metadata": {},
   "source": [
    "### Indexing in Series:\n",
    "- Series are indexed like arrays but can have custom labels for indices.\n",
    "- **Default Indexing:** If no index is specified, Pandas automatically assigns a numerical index starting from 0.\n",
    "- **Custom Indexing:** You can specify custom index labels."
   ]
  },
  {
   "cell_type": "code",
   "execution_count": 7,
   "id": "292512b5-db83-4ffc-80d0-422847252781",
   "metadata": {},
   "outputs": [
    {
     "data": {
      "text/plain": [
       "0     7\n",
       "1     8\n",
       "2    45\n",
       "3    78\n",
       "dtype: int64"
      ]
     },
     "execution_count": 7,
     "metadata": {},
     "output_type": "execute_result"
    }
   ],
   "source": [
    "series = pd.Series([7,8,45,78]) # As no index is given. It auto assign neumerical index\n",
    "series"
   ]
  },
  {
   "cell_type": "code",
   "execution_count": 8,
   "id": "9e9391e9-a1db-4e28-b10c-7e9541052015",
   "metadata": {},
   "outputs": [
    {
     "data": {
      "text/plain": [
       "a    6\n",
       "b    7\n",
       "c    4\n",
       "d    6\n",
       "e    8\n",
       "dtype: int64"
      ]
     },
     "execution_count": 8,
     "metadata": {},
     "output_type": "execute_result"
    }
   ],
   "source": [
    "series = pd.Series([6,7,4,6,8], index=['a','b','c','d','e'])\n",
    "series"
   ]
  },
  {
   "cell_type": "code",
   "execution_count": null,
   "id": "835395ab-ad7e-4aac-bd24-4c85b4e26483",
   "metadata": {},
   "outputs": [],
   "source": []
  },
  {
   "cell_type": "markdown",
   "id": "8218fbb3-4343-404d-89bb-622906a4304e",
   "metadata": {},
   "source": [
    "### Data Access: \n",
    "- Data in a Series can be accessed using both integer index positions or label-based indexing."
   ]
  },
  {
   "cell_type": "markdown",
   "id": "293d31ae-0c30-429b-992a-e8012c0a3895",
   "metadata": {},
   "source": [
    "#### Access by Position"
   ]
  },
  {
   "cell_type": "code",
   "execution_count": 9,
   "id": "ad63cd33-e312-4a81-8049-255886e6bf46",
   "metadata": {},
   "outputs": [
    {
     "name": "stderr",
     "output_type": "stream",
     "text": [
      "C:\\Users\\Mansoor\\AppData\\Local\\Temp\\ipykernel_6576\\671429721.py:1: FutureWarning: Series.__getitem__ treating keys as positions is deprecated. In a future version, integer keys will always be treated as labels (consistent with DataFrame behavior). To access a value by position, use `ser.iloc[pos]`\n",
      "  series[1]\n"
     ]
    },
    {
     "data": {
      "text/plain": [
       "7"
      ]
     },
     "execution_count": 9,
     "metadata": {},
     "output_type": "execute_result"
    }
   ],
   "source": [
    "series[1]"
   ]
  },
  {
   "cell_type": "markdown",
   "id": "3dbdf715-5a52-4ba4-8778-53ae2d285ed2",
   "metadata": {},
   "source": [
    "#### Access by location"
   ]
  },
  {
   "cell_type": "code",
   "execution_count": 10,
   "id": "322c6d6e-b6d0-449f-a10c-c1253bc8d4d0",
   "metadata": {},
   "outputs": [
    {
     "data": {
      "text/plain": [
       "7"
      ]
     },
     "execution_count": 10,
     "metadata": {},
     "output_type": "execute_result"
    }
   ],
   "source": [
    "series.iloc[1]"
   ]
  },
  {
   "cell_type": "markdown",
   "id": "28568cc2-b8da-4ca5-a02f-ff1f24bb0aa8",
   "metadata": {},
   "source": [
    "#### Access by label"
   ]
  },
  {
   "cell_type": "code",
   "execution_count": 11,
   "id": "f70a53b8-5b72-4b99-b2d4-dfe6aea85ef0",
   "metadata": {},
   "outputs": [
    {
     "data": {
      "text/plain": [
       "6"
      ]
     },
     "execution_count": 11,
     "metadata": {},
     "output_type": "execute_result"
    }
   ],
   "source": [
    "series['a']"
   ]
  },
  {
   "cell_type": "code",
   "execution_count": null,
   "id": "3fd6a7c7-eeb6-4103-8776-f668c9f65482",
   "metadata": {},
   "outputs": [],
   "source": []
  },
  {
   "cell_type": "markdown",
   "id": "f09745fe-fa54-40af-9a35-eaf21db6bc16",
   "metadata": {},
   "source": [
    "## Slicing:"
   ]
  },
  {
   "cell_type": "code",
   "execution_count": 12,
   "id": "106ecbd5-c7ce-49dd-92c5-f24d3789d28e",
   "metadata": {},
   "outputs": [
    {
     "data": {
      "text/plain": [
       "b    7\n",
       "c    4\n",
       "dtype: int64"
      ]
     },
     "execution_count": 12,
     "metadata": {},
     "output_type": "execute_result"
    }
   ],
   "source": [
    "series[1:3] "
   ]
  },
  {
   "cell_type": "code",
   "execution_count": 13,
   "id": "39d24932-b73c-47ff-8101-25574c3d565d",
   "metadata": {},
   "outputs": [
    {
     "data": {
      "text/plain": [
       "a    6\n",
       "b    7\n",
       "c    4\n",
       "dtype: int64"
      ]
     },
     "execution_count": 13,
     "metadata": {},
     "output_type": "execute_result"
    }
   ],
   "source": [
    "series['a':'c']"
   ]
  },
  {
   "cell_type": "code",
   "execution_count": null,
   "id": "c9122dd2-2ad7-4ae4-95b7-3f641ea5ca50",
   "metadata": {},
   "outputs": [],
   "source": []
  },
  {
   "cell_type": "markdown",
   "id": "8f955525-970a-43a0-b118-e79a68cc502b",
   "metadata": {},
   "source": [
    "### Vectorized Operations:\n",
    "- Series support vectorized operations, meaning you can perform element-wise operations without using loops."
   ]
  },
  {
   "cell_type": "code",
   "execution_count": 14,
   "id": "d10e89e1-b5f2-4e0d-b5f7-07e449a159cc",
   "metadata": {},
   "outputs": [
    {
     "data": {
      "text/plain": [
       "a    6\n",
       "b    7\n",
       "c    4\n",
       "d    6\n",
       "e    8\n",
       "dtype: int64"
      ]
     },
     "execution_count": 14,
     "metadata": {},
     "output_type": "execute_result"
    }
   ],
   "source": [
    "series"
   ]
  },
  {
   "cell_type": "code",
   "execution_count": 15,
   "id": "22351744-0809-4e30-a18e-63cc24598406",
   "metadata": {},
   "outputs": [
    {
     "data": {
      "text/plain": [
       "a    12\n",
       "b    14\n",
       "c     8\n",
       "d    12\n",
       "e    16\n",
       "dtype: int64"
      ]
     },
     "execution_count": 15,
     "metadata": {},
     "output_type": "execute_result"
    }
   ],
   "source": [
    "series * 2"
   ]
  },
  {
   "cell_type": "code",
   "execution_count": null,
   "id": "6a82d4c7-07f5-4902-add4-87e4e56252ef",
   "metadata": {},
   "outputs": [],
   "source": []
  },
  {
   "cell_type": "markdown",
   "id": "e5e95607-2977-4162-9a32-c8db6cd784cf",
   "metadata": {},
   "source": [
    "### Basic statistical operation"
   ]
  },
  {
   "cell_type": "code",
   "execution_count": 16,
   "id": "7e649c41-2447-46a3-88df-6417e6230225",
   "metadata": {},
   "outputs": [
    {
     "data": {
      "text/plain": [
       "0"
      ]
     },
     "execution_count": 16,
     "metadata": {},
     "output_type": "execute_result"
    }
   ],
   "source": [
    "series.isna().sum()"
   ]
  },
  {
   "cell_type": "code",
   "execution_count": 17,
   "id": "e0f9533a-ea96-4201-831d-de4455414591",
   "metadata": {},
   "outputs": [
    {
     "data": {
      "text/plain": [
       "0    3\n",
       "1    4\n",
       "2    5\n",
       "3    6\n",
       "dtype: int64"
      ]
     },
     "execution_count": 17,
     "metadata": {},
     "output_type": "execute_result"
    }
   ],
   "source": [
    "s"
   ]
  },
  {
   "cell_type": "code",
   "execution_count": 18,
   "id": "b0048e84-1ae3-4869-a8dd-dfd621b800d7",
   "metadata": {},
   "outputs": [
    {
     "data": {
      "text/plain": [
       "4"
      ]
     },
     "execution_count": 18,
     "metadata": {},
     "output_type": "execute_result"
    }
   ],
   "source": [
    "s.count()"
   ]
  },
  {
   "cell_type": "code",
   "execution_count": 19,
   "id": "c144fedd-2941-4c41-bbda-f9002aa06b52",
   "metadata": {},
   "outputs": [
    {
     "data": {
      "text/plain": [
       "18"
      ]
     },
     "execution_count": 19,
     "metadata": {},
     "output_type": "execute_result"
    }
   ],
   "source": [
    "s.sum()"
   ]
  },
  {
   "cell_type": "code",
   "execution_count": 20,
   "id": "a1422de2-0309-442d-8c20-37d48f77638f",
   "metadata": {},
   "outputs": [
    {
     "data": {
      "text/plain": [
       "4.5"
      ]
     },
     "execution_count": 20,
     "metadata": {},
     "output_type": "execute_result"
    }
   ],
   "source": [
    "s.mean()"
   ]
  },
  {
   "cell_type": "code",
   "execution_count": null,
   "id": "20e0efe4-6e72-4383-b566-d7295550f053",
   "metadata": {},
   "outputs": [],
   "source": []
  },
  {
   "cell_type": "markdown",
   "id": "46c367af-499c-477c-876d-e3b21b744bdd",
   "metadata": {},
   "source": [
    "### Element-wise Operations:\n",
    "- You can apply functions to each element of a Series using .apply()"
   ]
  },
  {
   "cell_type": "markdown",
   "id": "a0531c27-dbc4-43fc-97da-d064cedaad07",
   "metadata": {},
   "source": [
    "####  Apply Functions with apply() and map():"
   ]
  },
  {
   "cell_type": "code",
   "execution_count": 21,
   "id": "13b29d3b-11c0-40a4-8bdc-997e19b7b4ee",
   "metadata": {},
   "outputs": [],
   "source": [
    "s = s.apply(lambda x:x**2)"
   ]
  },
  {
   "cell_type": "code",
   "execution_count": 22,
   "id": "8359f8e3-040b-46b9-88b0-c4a1fd67d9a0",
   "metadata": {},
   "outputs": [
    {
     "data": {
      "text/plain": [
       "0     9\n",
       "1    16\n",
       "2    25\n",
       "3    36\n",
       "dtype: int64"
      ]
     },
     "execution_count": 22,
     "metadata": {},
     "output_type": "execute_result"
    }
   ],
   "source": [
    "s"
   ]
  },
  {
   "cell_type": "code",
   "execution_count": 23,
   "id": "e7f12d16-fad3-47e2-b55b-746e18d69c9d",
   "metadata": {},
   "outputs": [],
   "source": [
    "def even(n):\n",
    "    if n%2==0:\n",
    "        return n"
   ]
  },
  {
   "cell_type": "code",
   "execution_count": 24,
   "id": "c31b1333-2511-477e-aa41-64e742da3d2a",
   "metadata": {},
   "outputs": [
    {
     "data": {
      "text/plain": [
       "0     NaN\n",
       "1    16.0\n",
       "2     NaN\n",
       "3    36.0\n",
       "dtype: float64"
      ]
     },
     "execution_count": 24,
     "metadata": {},
     "output_type": "execute_result"
    }
   ],
   "source": [
    "s.apply(even)"
   ]
  },
  {
   "cell_type": "code",
   "execution_count": 25,
   "id": "246f3c82-9138-4f1f-b1e1-92e51f5cef87",
   "metadata": {},
   "outputs": [
    {
     "data": {
      "text/plain": [
       "1    16\n",
       "3    36\n",
       "dtype: int64"
      ]
     },
     "execution_count": 25,
     "metadata": {},
     "output_type": "execute_result"
    }
   ],
   "source": [
    "result = s[s.apply(even).notnull()]\n",
    "result"
   ]
  },
  {
   "cell_type": "code",
   "execution_count": 26,
   "id": "337a94e3-7f18-4b99-b709-353ff554cc4c",
   "metadata": {},
   "outputs": [
    {
     "data": {
      "text/plain": [
       "0     9\n",
       "1    16\n",
       "2    25\n",
       "3    36\n",
       "dtype: int64"
      ]
     },
     "execution_count": 26,
     "metadata": {},
     "output_type": "execute_result"
    }
   ],
   "source": [
    "s"
   ]
  },
  {
   "cell_type": "code",
   "execution_count": 27,
   "id": "6b3eb965-300a-4989-be83-d06401693500",
   "metadata": {},
   "outputs": [
    {
     "data": {
      "text/plain": [
       "0    18\n",
       "1    32\n",
       "2    50\n",
       "3    72\n",
       "dtype: int64"
      ]
     },
     "execution_count": 27,
     "metadata": {},
     "output_type": "execute_result"
    }
   ],
   "source": [
    "s.map(lambda x: x * 2)"
   ]
  },
  {
   "cell_type": "code",
   "execution_count": null,
   "id": "38c042a6-38bf-4913-8278-32e57247691c",
   "metadata": {},
   "outputs": [],
   "source": []
  },
  {
   "cell_type": "markdown",
   "id": "58c5eaa1-7147-4a3d-9396-99361e8cb0ce",
   "metadata": {},
   "source": [
    "### Check data types in series"
   ]
  },
  {
   "cell_type": "code",
   "execution_count": 28,
   "id": "7482d9b4-0dfd-4379-a764-2f0a444657a4",
   "metadata": {},
   "outputs": [
    {
     "data": {
      "text/plain": [
       "dtype('int64')"
      ]
     },
     "execution_count": 28,
     "metadata": {},
     "output_type": "execute_result"
    }
   ],
   "source": [
    "s.dtypes"
   ]
  },
  {
   "cell_type": "code",
   "execution_count": 29,
   "id": "2d1f0bb4-72d2-4f76-b57a-3f1238d27218",
   "metadata": {},
   "outputs": [
    {
     "data": {
      "text/plain": [
       "0     9\n",
       "1    16\n",
       "2    25\n",
       "3    36\n",
       "dtype: int64"
      ]
     },
     "execution_count": 29,
     "metadata": {},
     "output_type": "execute_result"
    }
   ],
   "source": [
    "s.sort_values() "
   ]
  },
  {
   "cell_type": "code",
   "execution_count": 30,
   "id": "d72193d0-608f-4bc0-909d-e62a061d354d",
   "metadata": {},
   "outputs": [
    {
     "data": {
      "text/plain": [
       "0     9\n",
       "1    16\n",
       "2    25\n",
       "3    36\n",
       "dtype: int64"
      ]
     },
     "execution_count": 30,
     "metadata": {},
     "output_type": "execute_result"
    }
   ],
   "source": [
    "s.sort_index()"
   ]
  },
  {
   "cell_type": "code",
   "execution_count": 31,
   "id": "f6752b17-578c-40c5-b840-35fd5af8497c",
   "metadata": {},
   "outputs": [
    {
     "data": {
      "text/plain": [
       "1    16\n",
       "3    36\n",
       "dtype: int64"
      ]
     },
     "execution_count": 31,
     "metadata": {},
     "output_type": "execute_result"
    }
   ],
   "source": [
    "s[s % 2 == 0] "
   ]
  },
  {
   "cell_type": "code",
   "execution_count": 32,
   "id": "58421f87-0f31-4565-8556-f9bcc893eb2c",
   "metadata": {},
   "outputs": [],
   "source": [
    "s = s[s%2==0]"
   ]
  },
  {
   "cell_type": "code",
   "execution_count": 33,
   "id": "38ca4776-b871-4095-855b-fc38d01f32e1",
   "metadata": {},
   "outputs": [
    {
     "data": {
      "text/plain": [
       "1    16\n",
       "3    36\n",
       "dtype: int64"
      ]
     },
     "execution_count": 33,
     "metadata": {},
     "output_type": "execute_result"
    }
   ],
   "source": [
    "s"
   ]
  },
  {
   "cell_type": "code",
   "execution_count": null,
   "id": "18e526f8-da88-4d16-9839-c38a9a2a148c",
   "metadata": {},
   "outputs": [],
   "source": []
  },
  {
   "cell_type": "markdown",
   "id": "a186ff3d-de51-4bcf-9645-21f7024eb753",
   "metadata": {},
   "source": [
    "#### Name attribute in series\n",
    "- We use it to assign name to our series, To remember in future"
   ]
  },
  {
   "cell_type": "code",
   "execution_count": 34,
   "id": "c989dd83-609f-4a48-a1df-d91412c2529c",
   "metadata": {},
   "outputs": [],
   "source": [
    "s = pd.Series([1, 2, 3], name=\"Numbers\")"
   ]
  },
  {
   "cell_type": "code",
   "execution_count": 35,
   "id": "a3d809b0-41e9-400b-bdf5-5e415a14ebc0",
   "metadata": {},
   "outputs": [
    {
     "data": {
      "text/plain": [
       "0    1\n",
       "1    2\n",
       "2    3\n",
       "Name: Numbers, dtype: int64"
      ]
     },
     "execution_count": 35,
     "metadata": {},
     "output_type": "execute_result"
    }
   ],
   "source": [
    "s"
   ]
  },
  {
   "cell_type": "code",
   "execution_count": 36,
   "id": "8a354e4c-9325-4a48-aff0-3463e208904a",
   "metadata": {},
   "outputs": [
    {
     "data": {
      "text/plain": [
       "'Numbers'"
      ]
     },
     "execution_count": 36,
     "metadata": {},
     "output_type": "execute_result"
    }
   ],
   "source": [
    "s.name"
   ]
  },
  {
   "cell_type": "code",
   "execution_count": 37,
   "id": "177cb01c-a5f4-4f72-9336-4f9d29d118cf",
   "metadata": {},
   "outputs": [],
   "source": [
    "s.name = 'My Series'"
   ]
  },
  {
   "cell_type": "code",
   "execution_count": 38,
   "id": "4d60fcfa-e2e2-488f-b683-d01e13386d5a",
   "metadata": {},
   "outputs": [
    {
     "data": {
      "text/plain": [
       "'My Series'"
      ]
     },
     "execution_count": 38,
     "metadata": {},
     "output_type": "execute_result"
    }
   ],
   "source": [
    "s.name"
   ]
  },
  {
   "cell_type": "code",
   "execution_count": 39,
   "id": "20a64400-4a20-4cb9-aa01-f145dda92988",
   "metadata": {},
   "outputs": [
    {
     "data": {
      "text/plain": [
       "0    1\n",
       "1    2\n",
       "2    3\n",
       "Name: My Series, dtype: int64"
      ]
     },
     "execution_count": 39,
     "metadata": {},
     "output_type": "execute_result"
    }
   ],
   "source": [
    "s"
   ]
  },
  {
   "cell_type": "code",
   "execution_count": null,
   "id": "373e294b-0634-48bf-b260-c9fab37eafa1",
   "metadata": {},
   "outputs": [],
   "source": []
  },
  {
   "cell_type": "markdown",
   "id": "d0d2e08f-dfc3-4216-9749-f3a8dc61075b",
   "metadata": {},
   "source": [
    "### Changing the Data Type:"
   ]
  },
  {
   "cell_type": "code",
   "execution_count": 40,
   "id": "ddeae982-5497-47af-ad40-46ed5aaffc21",
   "metadata": {},
   "outputs": [
    {
     "data": {
      "text/plain": [
       "dtype('int64')"
      ]
     },
     "execution_count": 40,
     "metadata": {},
     "output_type": "execute_result"
    }
   ],
   "source": [
    "s.dtypes"
   ]
  },
  {
   "cell_type": "code",
   "execution_count": 41,
   "id": "6a787b51-d621-4ed6-b718-3f47ded44fa7",
   "metadata": {},
   "outputs": [],
   "source": [
    "s = s.astype(float)"
   ]
  },
  {
   "cell_type": "code",
   "execution_count": 42,
   "id": "00866967-23d0-42ed-b5df-2e08fa5fcbbf",
   "metadata": {},
   "outputs": [
    {
     "data": {
      "text/plain": [
       "dtype('float64')"
      ]
     },
     "execution_count": 42,
     "metadata": {},
     "output_type": "execute_result"
    }
   ],
   "source": [
    "s.dtypes"
   ]
  },
  {
   "cell_type": "code",
   "execution_count": 43,
   "id": "76c453de-c794-4679-ab72-535c370107ab",
   "metadata": {},
   "outputs": [
    {
     "data": {
      "text/plain": [
       "0    1.0\n",
       "1    2.0\n",
       "2    3.0\n",
       "Name: My Series, dtype: float64"
      ]
     },
     "execution_count": 43,
     "metadata": {},
     "output_type": "execute_result"
    }
   ],
   "source": [
    "s"
   ]
  },
  {
   "cell_type": "code",
   "execution_count": null,
   "id": "3d281f6a-8acf-4c38-830a-5294f3feac46",
   "metadata": {},
   "outputs": [],
   "source": []
  },
  {
   "cell_type": "markdown",
   "id": "a0e80cae-59c8-47e4-bf7f-bc92e681c284",
   "metadata": {},
   "source": [
    "### Value Counts\n",
    "- It count each uniques value from series. Useful for exploring frequency distributions or understanding the composition of data."
   ]
  },
  {
   "cell_type": "code",
   "execution_count": 44,
   "id": "99046503-4479-417c-b763-19fc4121c215",
   "metadata": {},
   "outputs": [
    {
     "data": {
      "text/plain": [
       "4    4\n",
       "3    3\n",
       "2    2\n",
       "1    1\n",
       "Name: count, dtype: int64"
      ]
     },
     "execution_count": 44,
     "metadata": {},
     "output_type": "execute_result"
    }
   ],
   "source": [
    "s = pd.Series([1, 2, 2, 3, 3, 3, 4, 4, 4, 4])\n",
    "s.value_counts()"
   ]
  },
  {
   "cell_type": "code",
   "execution_count": null,
   "id": "875165fe-a596-4ce1-a3f3-17afa0463a26",
   "metadata": {},
   "outputs": [],
   "source": []
  },
  {
   "cell_type": "markdown",
   "id": "b995481f-8850-4e73-bb2a-6f19593efbab",
   "metadata": {},
   "source": [
    "### Reindex"
   ]
  },
  {
   "cell_type": "code",
   "execution_count": 45,
   "id": "4e6e3b20-3f2c-4aea-89ea-050a80b31a59",
   "metadata": {},
   "outputs": [
    {
     "data": {
      "text/plain": [
       "RangeIndex(start=0, stop=10, step=1)"
      ]
     },
     "execution_count": 45,
     "metadata": {},
     "output_type": "execute_result"
    }
   ],
   "source": [
    "s.index"
   ]
  },
  {
   "cell_type": "code",
   "execution_count": 46,
   "id": "66d0beda-9761-4df3-b091-937ff8d82219",
   "metadata": {},
   "outputs": [
    {
     "data": {
      "text/plain": [
       "0    1\n",
       "1    2\n",
       "2    2\n",
       "3    3\n",
       "4    3\n",
       "5    3\n",
       "6    4\n",
       "7    4\n",
       "8    4\n",
       "9    4\n",
       "dtype: int64"
      ]
     },
     "execution_count": 46,
     "metadata": {},
     "output_type": "execute_result"
    }
   ],
   "source": [
    "s"
   ]
  },
  {
   "cell_type": "code",
   "execution_count": 47,
   "id": "63bf1e2c-0d3a-4967-b3c7-489f36fa5f37",
   "metadata": {},
   "outputs": [],
   "source": [
    "s = pd.Series([1, 2, 3], index=['a', 'b', 'c'])"
   ]
  },
  {
   "cell_type": "code",
   "execution_count": 48,
   "id": "eabbf97d-3851-4c99-a5c6-b8f813460782",
   "metadata": {},
   "outputs": [
    {
     "data": {
      "text/plain": [
       "Index(['a', 'b', 'c'], dtype='object')"
      ]
     },
     "execution_count": 48,
     "metadata": {},
     "output_type": "execute_result"
    }
   ],
   "source": [
    "s.index"
   ]
  },
  {
   "cell_type": "code",
   "execution_count": 49,
   "id": "3727b3fd-3f00-4ea3-9224-1736535102f5",
   "metadata": {},
   "outputs": [],
   "source": [
    "s = s.reindex(['a', 'b', 'd'])"
   ]
  },
  {
   "cell_type": "code",
   "execution_count": 50,
   "id": "1536b558-d1fd-44c8-82c3-900f9d841db9",
   "metadata": {},
   "outputs": [
    {
     "data": {
      "text/plain": [
       "Index(['a', 'b', 'd'], dtype='object')"
      ]
     },
     "execution_count": 50,
     "metadata": {},
     "output_type": "execute_result"
    }
   ],
   "source": [
    "s.index"
   ]
  },
  {
   "cell_type": "code",
   "execution_count": null,
   "id": "90772399-4b1d-4011-8c46-b3a02550089b",
   "metadata": {},
   "outputs": [],
   "source": []
  },
  {
   "cell_type": "markdown",
   "id": "31e51e61-f64b-4c7b-91d6-774efa3a4cd5",
   "metadata": {},
   "source": [
    "### String Operations:\n",
    "- To perform str operation we need to specify str command"
   ]
  },
  {
   "cell_type": "markdown",
   "id": "fd22fff6-dbd2-45ee-bed1-de02835c3e3a",
   "metadata": {},
   "source": [
    "#### Changing upper, lower and other"
   ]
  },
  {
   "cell_type": "code",
   "execution_count": 51,
   "id": "b2d8276e-a59e-4002-8523-e922d5c7be48",
   "metadata": {},
   "outputs": [
    {
     "data": {
      "text/plain": [
       "0    A\n",
       "1    B\n",
       "2    C\n",
       "dtype: object"
      ]
     },
     "execution_count": 51,
     "metadata": {},
     "output_type": "execute_result"
    }
   ],
   "source": [
    "s = pd.Series(['a', 'b', 'c'])\n",
    "s.str.upper()"
   ]
  },
  {
   "cell_type": "code",
   "execution_count": 52,
   "id": "170330dd-f0de-4221-bc68-6d3ab3611be3",
   "metadata": {},
   "outputs": [
    {
     "data": {
      "text/plain": [
       "0    a\n",
       "1    b\n",
       "2    c\n",
       "dtype: object"
      ]
     },
     "execution_count": 52,
     "metadata": {},
     "output_type": "execute_result"
    }
   ],
   "source": [
    "s.str.lower()"
   ]
  },
  {
   "cell_type": "code",
   "execution_count": null,
   "id": "c8969c9a-e799-4921-a4d5-5703a2ce514c",
   "metadata": {},
   "outputs": [],
   "source": []
  },
  {
   "cell_type": "markdown",
   "id": "b62d72d0-509b-44b0-89a1-71e6376e5e22",
   "metadata": {},
   "source": [
    "### Split"
   ]
  },
  {
   "cell_type": "code",
   "execution_count": 53,
   "id": "656b944f-e61d-4721-8bb2-8cc0013d7bb8",
   "metadata": {},
   "outputs": [
    {
     "data": {
      "text/plain": [
       "0    [a, b]\n",
       "1    [c, d]\n",
       "2    [e, f]\n",
       "dtype: object"
      ]
     },
     "execution_count": 53,
     "metadata": {},
     "output_type": "execute_result"
    }
   ],
   "source": [
    "s = pd.Series(['a-b', 'c-d', 'e-f'])\n",
    "s.str.split('-')"
   ]
  },
  {
   "cell_type": "code",
   "execution_count": null,
   "id": "c2a0e688-089f-4e90-b33b-37f5cc746e54",
   "metadata": {},
   "outputs": [],
   "source": []
  },
  {
   "cell_type": "code",
   "execution_count": 54,
   "id": "6e2118e0-615a-480d-8a13-279b666ca3e7",
   "metadata": {},
   "outputs": [
    {
     "data": {
      "text/plain": [
       "0    a-b\n",
       "1    c-d\n",
       "2    e-f\n",
       "dtype: object"
      ]
     },
     "execution_count": 54,
     "metadata": {},
     "output_type": "execute_result"
    }
   ],
   "source": [
    "s"
   ]
  },
  {
   "cell_type": "code",
   "execution_count": 55,
   "id": "1a2925e3-2e1f-4b6d-9ac3-91811a734458",
   "metadata": {},
   "outputs": [
    {
     "data": {
      "text/plain": [
       "dtype('O')"
      ]
     },
     "execution_count": 55,
     "metadata": {},
     "output_type": "execute_result"
    }
   ],
   "source": [
    "s.dtypes"
   ]
  },
  {
   "cell_type": "code",
   "execution_count": 56,
   "id": "8aa40d8b-0a63-472b-884d-8b1a07e4b176",
   "metadata": {},
   "outputs": [],
   "source": [
    "s = s.str.split('-')"
   ]
  },
  {
   "cell_type": "code",
   "execution_count": 57,
   "id": "46985843-85d5-4bf7-8d7d-b15843a95ec9",
   "metadata": {},
   "outputs": [
    {
     "data": {
      "text/plain": [
       "dtype('O')"
      ]
     },
     "execution_count": 57,
     "metadata": {},
     "output_type": "execute_result"
    }
   ],
   "source": [
    "s.dtypes"
   ]
  },
  {
   "cell_type": "code",
   "execution_count": 58,
   "id": "d6c50dfe-fc4a-4372-8aa9-a48e2ec6af51",
   "metadata": {},
   "outputs": [
    {
     "data": {
      "text/plain": [
       "0    [a, b]\n",
       "1    [c, d]\n",
       "2    [e, f]\n",
       "dtype: object"
      ]
     },
     "execution_count": 58,
     "metadata": {},
     "output_type": "execute_result"
    }
   ],
   "source": [
    "s"
   ]
  },
  {
   "cell_type": "code",
   "execution_count": null,
   "id": "5e236b90-1fc8-489e-8f41-926b39295aa9",
   "metadata": {},
   "outputs": [],
   "source": []
  },
  {
   "cell_type": "markdown",
   "id": "aacb24e0-2438-4028-9617-34eede950202",
   "metadata": {},
   "source": [
    "### Convert series into Data Frame"
   ]
  },
  {
   "cell_type": "code",
   "execution_count": 59,
   "id": "15fa1525-1dc5-4527-abbb-914abc794136",
   "metadata": {},
   "outputs": [],
   "source": [
    "s1 = pd.Series([1, 2, 3], name=\"A\")\n",
    "s2 = pd.Series([4, 5, 6], name=\"B\")"
   ]
  },
  {
   "cell_type": "code",
   "execution_count": 65,
   "id": "181e3efe-9838-42d1-acc4-f2829ada070c",
   "metadata": {},
   "outputs": [],
   "source": [
    "df = pd.DataFrame({'A': s1, 'B': s2})"
   ]
  },
  {
   "cell_type": "code",
   "execution_count": 66,
   "id": "a6c7ea7a-c098-4eba-be73-7139525b0514",
   "metadata": {},
   "outputs": [
    {
     "data": {
      "text/html": [
       "<div>\n",
       "<style scoped>\n",
       "    .dataframe tbody tr th:only-of-type {\n",
       "        vertical-align: middle;\n",
       "    }\n",
       "\n",
       "    .dataframe tbody tr th {\n",
       "        vertical-align: top;\n",
       "    }\n",
       "\n",
       "    .dataframe thead th {\n",
       "        text-align: right;\n",
       "    }\n",
       "</style>\n",
       "<table border=\"1\" class=\"dataframe\">\n",
       "  <thead>\n",
       "    <tr style=\"text-align: right;\">\n",
       "      <th></th>\n",
       "      <th>A</th>\n",
       "      <th>B</th>\n",
       "    </tr>\n",
       "  </thead>\n",
       "  <tbody>\n",
       "    <tr>\n",
       "      <th>0</th>\n",
       "      <td>1</td>\n",
       "      <td>4</td>\n",
       "    </tr>\n",
       "    <tr>\n",
       "      <th>1</th>\n",
       "      <td>2</td>\n",
       "      <td>5</td>\n",
       "    </tr>\n",
       "    <tr>\n",
       "      <th>2</th>\n",
       "      <td>3</td>\n",
       "      <td>6</td>\n",
       "    </tr>\n",
       "  </tbody>\n",
       "</table>\n",
       "</div>"
      ],
      "text/plain": [
       "   A  B\n",
       "0  1  4\n",
       "1  2  5\n",
       "2  3  6"
      ]
     },
     "execution_count": 66,
     "metadata": {},
     "output_type": "execute_result"
    }
   ],
   "source": [
    "df"
   ]
  },
  {
   "cell_type": "code",
   "execution_count": 68,
   "id": "1d1725fb-bfb1-480f-b064-b4509cc2c0f4",
   "metadata": {},
   "outputs": [],
   "source": [
    "row = [66,78]\n",
    "df.iloc[1] = row"
   ]
  },
  {
   "cell_type": "code",
   "execution_count": 69,
   "id": "3740c9dd-2422-421f-a5a1-30b925907727",
   "metadata": {},
   "outputs": [
    {
     "data": {
      "text/html": [
       "<div>\n",
       "<style scoped>\n",
       "    .dataframe tbody tr th:only-of-type {\n",
       "        vertical-align: middle;\n",
       "    }\n",
       "\n",
       "    .dataframe tbody tr th {\n",
       "        vertical-align: top;\n",
       "    }\n",
       "\n",
       "    .dataframe thead th {\n",
       "        text-align: right;\n",
       "    }\n",
       "</style>\n",
       "<table border=\"1\" class=\"dataframe\">\n",
       "  <thead>\n",
       "    <tr style=\"text-align: right;\">\n",
       "      <th></th>\n",
       "      <th>A</th>\n",
       "      <th>B</th>\n",
       "    </tr>\n",
       "  </thead>\n",
       "  <tbody>\n",
       "    <tr>\n",
       "      <th>0</th>\n",
       "      <td>1</td>\n",
       "      <td>4</td>\n",
       "    </tr>\n",
       "    <tr>\n",
       "      <th>1</th>\n",
       "      <td>66</td>\n",
       "      <td>78</td>\n",
       "    </tr>\n",
       "    <tr>\n",
       "      <th>2</th>\n",
       "      <td>3</td>\n",
       "      <td>6</td>\n",
       "    </tr>\n",
       "  </tbody>\n",
       "</table>\n",
       "</div>"
      ],
      "text/plain": [
       "    A   B\n",
       "0   1   4\n",
       "1  66  78\n",
       "2   3   6"
      ]
     },
     "execution_count": 69,
     "metadata": {},
     "output_type": "execute_result"
    }
   ],
   "source": [
    "df"
   ]
  },
  {
   "cell_type": "code",
   "execution_count": 72,
   "id": "c4fd4ed3-f7b7-41fa-aa29-a199167a81e1",
   "metadata": {},
   "outputs": [],
   "source": [
    "df.loc[1] = [6,7]"
   ]
  },
  {
   "cell_type": "code",
   "execution_count": 73,
   "id": "58bce3f7-f05e-4285-8903-5fc8e093c928",
   "metadata": {},
   "outputs": [
    {
     "data": {
      "text/html": [
       "<div>\n",
       "<style scoped>\n",
       "    .dataframe tbody tr th:only-of-type {\n",
       "        vertical-align: middle;\n",
       "    }\n",
       "\n",
       "    .dataframe tbody tr th {\n",
       "        vertical-align: top;\n",
       "    }\n",
       "\n",
       "    .dataframe thead th {\n",
       "        text-align: right;\n",
       "    }\n",
       "</style>\n",
       "<table border=\"1\" class=\"dataframe\">\n",
       "  <thead>\n",
       "    <tr style=\"text-align: right;\">\n",
       "      <th></th>\n",
       "      <th>A</th>\n",
       "      <th>B</th>\n",
       "    </tr>\n",
       "  </thead>\n",
       "  <tbody>\n",
       "    <tr>\n",
       "      <th>0</th>\n",
       "      <td>1</td>\n",
       "      <td>4</td>\n",
       "    </tr>\n",
       "    <tr>\n",
       "      <th>1</th>\n",
       "      <td>6</td>\n",
       "      <td>7</td>\n",
       "    </tr>\n",
       "    <tr>\n",
       "      <th>2</th>\n",
       "      <td>3</td>\n",
       "      <td>6</td>\n",
       "    </tr>\n",
       "  </tbody>\n",
       "</table>\n",
       "</div>"
      ],
      "text/plain": [
       "   A  B\n",
       "0  1  4\n",
       "1  6  7\n",
       "2  3  6"
      ]
     },
     "execution_count": 73,
     "metadata": {},
     "output_type": "execute_result"
    }
   ],
   "source": [
    "df"
   ]
  },
  {
   "cell_type": "code",
   "execution_count": 76,
   "id": "7483ea47-bc69-4ccf-b066-3746e810cc73",
   "metadata": {},
   "outputs": [],
   "source": [
    "# New row data (as a DataFrame)\n",
    "new_row = pd.DataFrame({'A': [7], 'B': [8]})\n",
    "\n",
    "# Add the new row using pd.concat() to avoid overwriting\n",
    "df = pd.concat([df, new_row], ignore_index=True)"
   ]
  },
  {
   "cell_type": "code",
   "execution_count": 77,
   "id": "03e14b1e-5e0a-45aa-8086-cc05c7f64d51",
   "metadata": {},
   "outputs": [
    {
     "data": {
      "text/html": [
       "<div>\n",
       "<style scoped>\n",
       "    .dataframe tbody tr th:only-of-type {\n",
       "        vertical-align: middle;\n",
       "    }\n",
       "\n",
       "    .dataframe tbody tr th {\n",
       "        vertical-align: top;\n",
       "    }\n",
       "\n",
       "    .dataframe thead th {\n",
       "        text-align: right;\n",
       "    }\n",
       "</style>\n",
       "<table border=\"1\" class=\"dataframe\">\n",
       "  <thead>\n",
       "    <tr style=\"text-align: right;\">\n",
       "      <th></th>\n",
       "      <th>A</th>\n",
       "      <th>B</th>\n",
       "    </tr>\n",
       "  </thead>\n",
       "  <tbody>\n",
       "    <tr>\n",
       "      <th>0</th>\n",
       "      <td>1</td>\n",
       "      <td>4</td>\n",
       "    </tr>\n",
       "    <tr>\n",
       "      <th>1</th>\n",
       "      <td>6</td>\n",
       "      <td>7</td>\n",
       "    </tr>\n",
       "    <tr>\n",
       "      <th>2</th>\n",
       "      <td>3</td>\n",
       "      <td>6</td>\n",
       "    </tr>\n",
       "    <tr>\n",
       "      <th>3</th>\n",
       "      <td>7</td>\n",
       "      <td>8</td>\n",
       "    </tr>\n",
       "  </tbody>\n",
       "</table>\n",
       "</div>"
      ],
      "text/plain": [
       "   A  B\n",
       "0  1  4\n",
       "1  6  7\n",
       "2  3  6\n",
       "3  7  8"
      ]
     },
     "execution_count": 77,
     "metadata": {},
     "output_type": "execute_result"
    }
   ],
   "source": [
    "df"
   ]
  },
  {
   "cell_type": "code",
   "execution_count": 78,
   "id": "fe0d5322-0a04-47a5-96f4-16f7b248625b",
   "metadata": {},
   "outputs": [],
   "source": [
    "# Insert at position 1 (between index 0 and 1)\n",
    "position = 1\n",
    "\n",
    "# Split the DataFrame\n",
    "df1 = df.iloc[:position]  # Part before the insertion\n",
    "df2 = df.iloc[position:]  # Part after the insertion\n",
    "\n",
    "# Concatenate the parts and the new row\n",
    "df = pd.concat([df1, new_row, df2], ignore_index=True)"
   ]
  },
  {
   "cell_type": "code",
   "execution_count": 79,
   "id": "dca13c31-1f6d-4883-b9ab-9207cd970547",
   "metadata": {},
   "outputs": [
    {
     "data": {
      "text/html": [
       "<div>\n",
       "<style scoped>\n",
       "    .dataframe tbody tr th:only-of-type {\n",
       "        vertical-align: middle;\n",
       "    }\n",
       "\n",
       "    .dataframe tbody tr th {\n",
       "        vertical-align: top;\n",
       "    }\n",
       "\n",
       "    .dataframe thead th {\n",
       "        text-align: right;\n",
       "    }\n",
       "</style>\n",
       "<table border=\"1\" class=\"dataframe\">\n",
       "  <thead>\n",
       "    <tr style=\"text-align: right;\">\n",
       "      <th></th>\n",
       "      <th>A</th>\n",
       "      <th>B</th>\n",
       "    </tr>\n",
       "  </thead>\n",
       "  <tbody>\n",
       "    <tr>\n",
       "      <th>0</th>\n",
       "      <td>1</td>\n",
       "      <td>4</td>\n",
       "    </tr>\n",
       "    <tr>\n",
       "      <th>1</th>\n",
       "      <td>7</td>\n",
       "      <td>8</td>\n",
       "    </tr>\n",
       "    <tr>\n",
       "      <th>2</th>\n",
       "      <td>6</td>\n",
       "      <td>7</td>\n",
       "    </tr>\n",
       "    <tr>\n",
       "      <th>3</th>\n",
       "      <td>3</td>\n",
       "      <td>6</td>\n",
       "    </tr>\n",
       "    <tr>\n",
       "      <th>4</th>\n",
       "      <td>7</td>\n",
       "      <td>8</td>\n",
       "    </tr>\n",
       "  </tbody>\n",
       "</table>\n",
       "</div>"
      ],
      "text/plain": [
       "   A  B\n",
       "0  1  4\n",
       "1  7  8\n",
       "2  6  7\n",
       "3  3  6\n",
       "4  7  8"
      ]
     },
     "execution_count": 79,
     "metadata": {},
     "output_type": "execute_result"
    }
   ],
   "source": [
    "df"
   ]
  },
  {
   "cell_type": "code",
   "execution_count": null,
   "id": "8ec7c140-80c3-449e-99ac-839e780a5800",
   "metadata": {},
   "outputs": [],
   "source": []
  },
  {
   "cell_type": "code",
   "execution_count": 80,
   "id": "6b08b82c-6090-4cdd-b160-0ab19e2fc046",
   "metadata": {},
   "outputs": [],
   "source": [
    "# Convert the DataFrame to a list of lists\n",
    "df_list = df.values.tolist()\n",
    "\n",
    "# Insert the new row at position 1\n",
    "df_list.insert(1, [17, 28])\n",
    "\n",
    "# Convert back to DataFrame\n",
    "df = pd.DataFrame(df_list, columns=df.columns)\n"
   ]
  },
  {
   "cell_type": "code",
   "execution_count": 81,
   "id": "0cb70b7e-d3d5-48ad-8ae8-470d4394b98b",
   "metadata": {},
   "outputs": [
    {
     "data": {
      "text/html": [
       "<div>\n",
       "<style scoped>\n",
       "    .dataframe tbody tr th:only-of-type {\n",
       "        vertical-align: middle;\n",
       "    }\n",
       "\n",
       "    .dataframe tbody tr th {\n",
       "        vertical-align: top;\n",
       "    }\n",
       "\n",
       "    .dataframe thead th {\n",
       "        text-align: right;\n",
       "    }\n",
       "</style>\n",
       "<table border=\"1\" class=\"dataframe\">\n",
       "  <thead>\n",
       "    <tr style=\"text-align: right;\">\n",
       "      <th></th>\n",
       "      <th>A</th>\n",
       "      <th>B</th>\n",
       "    </tr>\n",
       "  </thead>\n",
       "  <tbody>\n",
       "    <tr>\n",
       "      <th>0</th>\n",
       "      <td>1</td>\n",
       "      <td>4</td>\n",
       "    </tr>\n",
       "    <tr>\n",
       "      <th>1</th>\n",
       "      <td>17</td>\n",
       "      <td>28</td>\n",
       "    </tr>\n",
       "    <tr>\n",
       "      <th>2</th>\n",
       "      <td>7</td>\n",
       "      <td>8</td>\n",
       "    </tr>\n",
       "    <tr>\n",
       "      <th>3</th>\n",
       "      <td>6</td>\n",
       "      <td>7</td>\n",
       "    </tr>\n",
       "    <tr>\n",
       "      <th>4</th>\n",
       "      <td>3</td>\n",
       "      <td>6</td>\n",
       "    </tr>\n",
       "    <tr>\n",
       "      <th>5</th>\n",
       "      <td>7</td>\n",
       "      <td>8</td>\n",
       "    </tr>\n",
       "  </tbody>\n",
       "</table>\n",
       "</div>"
      ],
      "text/plain": [
       "    A   B\n",
       "0   1   4\n",
       "1  17  28\n",
       "2   7   8\n",
       "3   6   7\n",
       "4   3   6\n",
       "5   7   8"
      ]
     },
     "execution_count": 81,
     "metadata": {},
     "output_type": "execute_result"
    }
   ],
   "source": [
    "df"
   ]
  },
  {
   "cell_type": "code",
   "execution_count": 83,
   "id": "92d3b724-70b4-46b5-8d89-7b61766be43a",
   "metadata": {},
   "outputs": [
    {
     "name": "stdout",
     "output_type": "stream",
     "text": [
      "    A   B\n",
      "0   1   4\n",
      "1  17  28\n",
      "2   7   8\n",
      "3   6   7\n",
      "4   3   6\n",
      "5   7   8\n"
     ]
    }
   ],
   "source": [
    "print(df.to_string())"
   ]
  },
  {
   "cell_type": "code",
   "execution_count": null,
   "id": "bd00c249-85d8-4e4a-83d5-b121c7e1f216",
   "metadata": {},
   "outputs": [],
   "source": []
  }
 ],
 "metadata": {
  "kernelspec": {
   "display_name": "Python 3 (ipykernel)",
   "language": "python",
   "name": "python3"
  },
  "language_info": {
   "codemirror_mode": {
    "name": "ipython",
    "version": 3
   },
   "file_extension": ".py",
   "mimetype": "text/x-python",
   "name": "python",
   "nbconvert_exporter": "python",
   "pygments_lexer": "ipython3",
   "version": "3.12.4"
  }
 },
 "nbformat": 4,
 "nbformat_minor": 5
}
