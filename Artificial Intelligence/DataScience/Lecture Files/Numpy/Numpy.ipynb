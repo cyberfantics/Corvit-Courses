{
 "cells": [
  {
   "cell_type": "markdown",
   "id": "d06f9064-f382-4970-b521-9ab2a419c2b6",
   "metadata": {},
   "source": [
    "## Array: \n",
    "**An array is defined as a collection of items that are sorted at contigues memory location. It is container which can hold a fixed number of item and these items should be of the same data types.**"
   ]
  },
  {
   "cell_type": "markdown",
   "id": "ba5b8a03-b362-47d0-a684-4f27b171e5a7",
   "metadata": {},
   "source": [
    "## What is NumPy?\n",
    "- NumPy is a Python library used for working with arrays.\n",
    "- It also has functions for working in domain of linear algebra, fourier transform, and matrices.\n",
    "- NumPy stands for Numerical Python."
   ]
  },
  {
   "cell_type": "code",
   "execution_count": 1,
   "id": "e2229df1-924f-4520-a320-e3ae0372e089",
   "metadata": {},
   "outputs": [],
   "source": [
    "import numpy as np # import numpy library as np"
   ]
  },
  {
   "cell_type": "markdown",
   "id": "4143d323-2ff3-4bcf-a802-43534fa5d58e",
   "metadata": {},
   "source": [
    "## Why Use NumPy?\n",
    "In Python we have lists that serve the purpose of arrays, but they are slow to process.\n",
    "\n",
    "**NumPy aims to provide an array object that is up to 50x faster than traditional Python lists.**\n",
    "\n",
    "\r",
    "- \n",
    "The array object in NumPy is called\r\n",
    "ndarray,-  \r\n",
    "it provides a lot of supporting functios \r\n",
    "that make working with ndarray very es- y.\r\n",
    "\r\n",
    "Arrays are very frequently used indata \r\n",
    "sc- ience,\r\n",
    "where speed and resources ae very \r\n",
    "im\n",
    "## Why is NumPy Faster Than Lists?\r",
    "- \n",
    "NumPy arrays are stored at one continuous\r\n",
    "place in memory unlike lists, s \r\n",
    "processs \r\n",
    "can access and manipulate tem \r\n",
    "very efficien- ly.\r\n",
    "\r\n",
    "This behavior is called localty of \r\n",
    "reerence \r\n",
    "in computer - cience.\r\n",
    "\r\n",
    "This is the main reason wh NumPy s \r\n",
    "faster \r\n",
    "than lists. Also it is ptimied to \r\n",
    "work \r\n",
    "with latest CPU architectures.\r\n",
    "__________"
   ]
  },
  {
   "cell_type": "markdown",
   "id": "43491fe8-ec4f-493e-93bd-33f5b7a475c6",
   "metadata": {},
   "source": [
    "**Advantages**\n",
    "- Numpy library use much less memory to store data\n",
    "- Numpy make it extremly easy to perform a mathematical operation on it\n",
    "- Used for the creation of n-dimension array\n",
    "- Finding element in numpy array is easy"
   ]
  },
  {
   "cell_type": "code",
   "execution_count": 2,
   "id": "a8d1183f-0829-4735-9595-35b21ba5a0a8",
   "metadata": {},
   "outputs": [
    {
     "name": "stdout",
     "output_type": "stream",
     "text": [
      "[2, 3, 4, 4, 5, 6]\n"
     ]
    }
   ],
   "source": [
    "l1 = [2,3,4]\n",
    "l2 = [4,5,6]\n",
    "print(l1+l2) # It does not perform actual mathematical operation on list, instead it concatenate list"
   ]
  },
  {
   "cell_type": "code",
   "execution_count": 3,
   "id": "11fc2cf3-ae77-4c1e-85f8-8e3bcb205247",
   "metadata": {},
   "outputs": [
    {
     "name": "stdout",
     "output_type": "stream",
     "text": [
      "[ 6  8 10]\n"
     ]
    }
   ],
   "source": [
    "# For numpy case\n",
    "l1 = np.array(l1)\n",
    "l2 = np.array(l2)\n",
    "print(l1+l2) # It perform actual mathematiocal operation on it"
   ]
  },
  {
   "cell_type": "code",
   "execution_count": null,
   "id": "d8e55c9f-1c7d-4f9b-8ee7-260a33e25cb6",
   "metadata": {},
   "outputs": [],
   "source": []
  },
  {
   "cell_type": "code",
   "execution_count": 4,
   "id": "eb8be28f-aeb1-44dd-9bf0-6a1e9a5eaa9e",
   "metadata": {},
   "outputs": [],
   "source": [
    "# In case of n-dimension array\n",
    "l1 = np.array(range(1,100), ndmin=6)"
   ]
  },
  {
   "cell_type": "code",
   "execution_count": 5,
   "id": "062e3db8-fa3f-43ed-a276-2a44b486ea60",
   "metadata": {},
   "outputs": [
    {
     "data": {
      "text/plain": [
       "(1, 1, 1, 1, 1, 99)"
      ]
     },
     "execution_count": 5,
     "metadata": {},
     "output_type": "execute_result"
    }
   ],
   "source": [
    "l1.shape"
   ]
  },
  {
   "cell_type": "code",
   "execution_count": 6,
   "id": "14f2447c-cdbe-48bf-9a84-fd72892a78a1",
   "metadata": {},
   "outputs": [
    {
     "data": {
      "text/plain": [
       "6"
      ]
     },
     "execution_count": 6,
     "metadata": {},
     "output_type": "execute_result"
    }
   ],
   "source": [
    "l1.ndim"
   ]
  },
  {
   "cell_type": "code",
   "execution_count": null,
   "id": "20fe9440-f403-4242-aeed-0102b5b570a1",
   "metadata": {},
   "outputs": [],
   "source": []
  },
  {
   "cell_type": "markdown",
   "id": "af59c889-a8fa-4157-9997-fc98653d41b5",
   "metadata": {},
   "source": [
    "# Array vs List:\n",
    "- A list cannot handle mathematical operation direcctly\n",
    "- An array consumes less memory than a list\n",
    "- Using an array is faster than a list\n",
    "- A list can store multiple data types while an array cannot\n",
    "- A list is easy to modify since it store each elements individually\n",
    "- In nested a list can store data of different size while in array you cannot store"
   ]
  },
  {
   "cell_type": "code",
   "execution_count": 7,
   "id": "a57fd26e-3826-4ba9-8ef1-e8f07e675be4",
   "metadata": {},
   "outputs": [],
   "source": [
    "arr = np.array(range(1,10))"
   ]
  },
  {
   "cell_type": "code",
   "execution_count": null,
   "id": "66473b3e-05ab-4df3-9bb4-3fc15822eac9",
   "metadata": {},
   "outputs": [],
   "source": []
  },
  {
   "cell_type": "markdown",
   "id": "5e3d64b4-0d08-43d4-a580-0d750809df41",
   "metadata": {},
   "source": [
    "## Access Array Elements\n",
    "Array indexing is the same as accessing an array element.\n",
    "\n",
    "You can access an array element by referring to its index number.\n",
    "\n",
    "The indexes in NumPy arrays start with 0,meaning that the first element has index 0, and the second has index 1 etc."
   ]
  },
  {
   "cell_type": "code",
   "execution_count": null,
   "id": "4c238231-0e1a-42bb-ad96-3368734de815",
   "metadata": {},
   "outputs": [],
   "source": []
  },
  {
   "cell_type": "code",
   "execution_count": 8,
   "id": "153a2ea6-8489-4c77-bb69-cdc8d5d1b172",
   "metadata": {},
   "outputs": [
    {
     "data": {
      "text/plain": [
       "array([1, 2, 3])"
      ]
     },
     "execution_count": 8,
     "metadata": {},
     "output_type": "execute_result"
    }
   ],
   "source": [
    "arr[0:3]"
   ]
  },
  {
   "cell_type": "code",
   "execution_count": 9,
   "id": "672af4ee-f324-44ed-ac46-c18cb4044ff1",
   "metadata": {},
   "outputs": [
    {
     "data": {
      "text/plain": [
       "array([9, 8, 7, 6, 5, 4, 3, 2, 1])"
      ]
     },
     "execution_count": 9,
     "metadata": {},
     "output_type": "execute_result"
    }
   ],
   "source": [
    "arr[::-1]"
   ]
  },
  {
   "cell_type": "code",
   "execution_count": 10,
   "id": "fbbfdc74-ed5e-4211-8c77-9c012052e187",
   "metadata": {},
   "outputs": [
    {
     "data": {
      "text/plain": [
       "numpy.ndarray"
      ]
     },
     "execution_count": 10,
     "metadata": {},
     "output_type": "execute_result"
    }
   ],
   "source": [
    "type(arr)"
   ]
  },
  {
   "cell_type": "code",
   "execution_count": null,
   "id": "a5abdccb-df95-42fd-9595-0a28aa32750f",
   "metadata": {},
   "outputs": [],
   "source": []
  },
  {
   "cell_type": "markdown",
   "id": "c9a17bd7-1431-4cb8-bb60-a14c9634c949",
   "metadata": {},
   "source": [
    "**2D Array**"
   ]
  },
  {
   "cell_type": "code",
   "execution_count": 11,
   "id": "1957fad7-c8c2-4c58-8a75-f0b3d46860cc",
   "metadata": {},
   "outputs": [],
   "source": [
    "arr = np.array([\n",
    "    [1,2,3,4],\n",
    "    [5,6,7,8],\n",
    "    [8,9,54,34]\n",
    "])"
   ]
  },
  {
   "cell_type": "code",
   "execution_count": 12,
   "id": "0c4f0451-7a05-44b5-808f-c2c2866c7e67",
   "metadata": {},
   "outputs": [
    {
     "data": {
      "text/plain": [
       "1"
      ]
     },
     "execution_count": 12,
     "metadata": {},
     "output_type": "execute_result"
    }
   ],
   "source": [
    "arr[0,0]"
   ]
  },
  {
   "cell_type": "code",
   "execution_count": 13,
   "id": "8f632b3c-1e9c-4738-9df2-fb0110be2ec4",
   "metadata": {},
   "outputs": [
    {
     "data": {
      "text/plain": [
       "array([1, 2, 3, 4])"
      ]
     },
     "execution_count": 13,
     "metadata": {},
     "output_type": "execute_result"
    }
   ],
   "source": [
    "arr[0,]"
   ]
  },
  {
   "cell_type": "code",
   "execution_count": 14,
   "id": "89230a35-5604-42bf-8698-27a0a821e63f",
   "metadata": {},
   "outputs": [
    {
     "data": {
      "text/plain": [
       "4"
      ]
     },
     "execution_count": 14,
     "metadata": {},
     "output_type": "execute_result"
    }
   ],
   "source": [
    "arr[0,3]"
   ]
  },
  {
   "cell_type": "code",
   "execution_count": 15,
   "id": "4cddc1d3-1146-4ad9-966e-d3ba37b6bda3",
   "metadata": {},
   "outputs": [
    {
     "data": {
      "text/plain": [
       "array([[ 6,  7,  8],\n",
       "       [ 9, 54, 34]])"
      ]
     },
     "execution_count": 15,
     "metadata": {},
     "output_type": "execute_result"
    }
   ],
   "source": [
    "arr[1:,1:] # print  6,7,8 / 9 54 34"
   ]
  },
  {
   "cell_type": "markdown",
   "id": "0f7757f2-089b-4fff-840e-a4f64f5393d7",
   "metadata": {},
   "source": [
    "In 2D array we need to provide both position of column and row"
   ]
  },
  {
   "cell_type": "code",
   "execution_count": 16,
   "id": "64ed7302-7e4b-4201-ae66-0a43bcfca621",
   "metadata": {},
   "outputs": [
    {
     "data": {
      "text/plain": [
       "(3, 4)"
      ]
     },
     "execution_count": 16,
     "metadata": {},
     "output_type": "execute_result"
    }
   ],
   "source": [
    "# Check shape of the array\n",
    "arr.shape"
   ]
  },
  {
   "cell_type": "code",
   "execution_count": 17,
   "id": "15c03ffe-d1af-465e-99fb-0c473caf23b2",
   "metadata": {},
   "outputs": [
    {
     "data": {
      "text/plain": [
       "12"
      ]
     },
     "execution_count": 17,
     "metadata": {},
     "output_type": "execute_result"
    }
   ],
   "source": [
    "arr.size"
   ]
  },
  {
   "cell_type": "code",
   "execution_count": 18,
   "id": "ad60a70e-d828-4df5-b30a-bdd9acbfdf3f",
   "metadata": {},
   "outputs": [
    {
     "data": {
      "text/plain": [
       "dtype('int32')"
      ]
     },
     "execution_count": 18,
     "metadata": {},
     "output_type": "execute_result"
    }
   ],
   "source": [
    "arr.dtype"
   ]
  },
  {
   "cell_type": "code",
   "execution_count": 19,
   "id": "ba0eaf88-0377-4c34-be5d-5aafce03d45c",
   "metadata": {},
   "outputs": [
    {
     "data": {
      "text/plain": [
       "2"
      ]
     },
     "execution_count": 19,
     "metadata": {},
     "output_type": "execute_result"
    }
   ],
   "source": [
    "arr.ndim"
   ]
  },
  {
   "cell_type": "code",
   "execution_count": null,
   "id": "f70501ff-f2e2-4213-9243-32dad1967b4b",
   "metadata": {},
   "outputs": [],
   "source": []
  },
  {
   "cell_type": "markdown",
   "id": "3fdf7b10-3398-496f-a14d-eefdd8af4f5e",
   "metadata": {},
   "source": [
    "## Higher Dimensional Arrays\r\n",
    "An array can have any number of\r\n",
    "dimensions.\r\n",
    "\r\n",
    "When the array is created, you an \r\n",
    "define the number of dimensons \r\n",
    "by using the ndmin argument."
   ]
  },
  {
   "cell_type": "markdown",
   "id": "b2435a65-268d-4414-92ff-7f0223f1a49c",
   "metadata": {},
   "source": [
    "## Example\n",
    "Create an array with 5 dimensions and verify that it has 5 dimensions:"
   ]
  },
  {
   "cell_type": "code",
   "execution_count": 20,
   "id": "f4c4e205-57e7-47b9-a543-68a46eae9ccb",
   "metadata": {},
   "outputs": [
    {
     "name": "stdout",
     "output_type": "stream",
     "text": [
      "[[[[[1 2 3 4]]]]]\n",
      "number of dimensions : 5\n"
     ]
    }
   ],
   "source": [
    "arr = np.array([1, 2, 3, 4], ndmin=5)\n",
    "print(arr)\n",
    "print('number of dimensions :', arr.ndim)"
   ]
  },
  {
   "cell_type": "code",
   "execution_count": null,
   "id": "86025334-4c95-4dd7-952f-5ef9f0088301",
   "metadata": {},
   "outputs": [],
   "source": []
  },
  {
   "cell_type": "code",
   "execution_count": null,
   "id": "ab1ed5da-123d-430f-a71b-ac8da550fda9",
   "metadata": {},
   "outputs": [],
   "source": []
  },
  {
   "cell_type": "code",
   "execution_count": null,
   "id": "a7aedbfc-c9c7-425a-846d-46f8d2774e6f",
   "metadata": {},
   "outputs": [],
   "source": []
  },
  {
   "cell_type": "markdown",
   "id": "d4c97abd-6c39-4431-ad92-d2842c63e85f",
   "metadata": {},
   "source": [
    "## Inspecting an Array"
   ]
  },
  {
   "cell_type": "markdown",
   "id": "e1929258-6777-406a-8d26-a669cbc18fa3",
   "metadata": {},
   "source": [
    "Functions:\n",
    "- a.shape - Array dimension\n",
    "- len(a) - Length of an array\n",
    "- b.ndim - Give information about dimensions of array\n",
    "- e.size - Number of array element\n",
    "- b.dtype give information about datatype of array\n",
    "- a.astype(int) - Convert an array into another datatype"
   ]
  },
  {
   "cell_type": "code",
   "execution_count": 21,
   "id": "4f2b7c18-1e8a-4321-a826-19ed4acb4538",
   "metadata": {},
   "outputs": [],
   "source": [
    "a = np.array([[1,2,3],[3.4,5,'5']])"
   ]
  },
  {
   "cell_type": "code",
   "execution_count": 22,
   "id": "f427f8bf-3f00-41f9-bb31-ca3db136c24b",
   "metadata": {},
   "outputs": [
    {
     "data": {
      "text/plain": [
       "(2, 3)"
      ]
     },
     "execution_count": 22,
     "metadata": {},
     "output_type": "execute_result"
    }
   ],
   "source": [
    "a.shape # Check shape of array, rows and columns"
   ]
  },
  {
   "cell_type": "code",
   "execution_count": 23,
   "id": "6eaed894-cbaa-4644-90cc-48fd1b7b8446",
   "metadata": {},
   "outputs": [
    {
     "data": {
      "text/plain": [
       "2"
      ]
     },
     "execution_count": 23,
     "metadata": {},
     "output_type": "execute_result"
    }
   ],
   "source": [
    "len(a) # Total rows in array"
   ]
  },
  {
   "cell_type": "code",
   "execution_count": 24,
   "id": "26bd0758-2877-4aa3-be58-77b6ff8ffb4b",
   "metadata": {},
   "outputs": [
    {
     "data": {
      "text/plain": [
       "2"
      ]
     },
     "execution_count": 24,
     "metadata": {},
     "output_type": "execute_result"
    }
   ],
   "source": [
    "a.ndim # Dimension of array"
   ]
  },
  {
   "cell_type": "code",
   "execution_count": 25,
   "id": "5afb8ba1-178c-4654-8904-7ab0c81ae54a",
   "metadata": {},
   "outputs": [
    {
     "data": {
      "text/plain": [
       "6"
      ]
     },
     "execution_count": 25,
     "metadata": {},
     "output_type": "execute_result"
    }
   ],
   "source": [
    "a.size # Total elements in array"
   ]
  },
  {
   "cell_type": "code",
   "execution_count": 26,
   "id": "3c2d10f0-6ec4-4e3d-b6e7-eae89ef0b695",
   "metadata": {},
   "outputs": [
    {
     "data": {
      "text/plain": [
       "dtype('<U32')"
      ]
     },
     "execution_count": 26,
     "metadata": {},
     "output_type": "execute_result"
    }
   ],
   "source": [
    "a.dtype # Data type of elements, in array"
   ]
  },
  {
   "cell_type": "code",
   "execution_count": 27,
   "id": "ee873d42-79ad-4eea-b11e-8fc93b3801f2",
   "metadata": {},
   "outputs": [
    {
     "data": {
      "text/plain": [
       "numpy.ndarray"
      ]
     },
     "execution_count": 27,
     "metadata": {},
     "output_type": "execute_result"
    }
   ],
   "source": [
    "type(a) # Type of variable"
   ]
  },
  {
   "cell_type": "code",
   "execution_count": 28,
   "id": "6b579449-9276-423f-b465-b5d04e7f1d5f",
   "metadata": {},
   "outputs": [
    {
     "data": {
      "text/plain": [
       "array([[1. , 2. , 3. ],\n",
       "       [3.4, 5. , 5. ]])"
      ]
     },
     "execution_count": 28,
     "metadata": {},
     "output_type": "execute_result"
    }
   ],
   "source": [
    "a.astype(float) # Change data type from one into another"
   ]
  },
  {
   "cell_type": "code",
   "execution_count": null,
   "id": "54d22640-9c94-4d16-ac3e-7aa33931a2d8",
   "metadata": {},
   "outputs": [],
   "source": []
  },
  {
   "cell_type": "code",
   "execution_count": null,
   "id": "3b630fc0-ba6a-4c58-ba5d-961edc28cd71",
   "metadata": {},
   "outputs": [],
   "source": []
  },
  {
   "cell_type": "markdown",
   "id": "95f7d37a-3ad7-41f8-aedf-37269be72422",
   "metadata": {},
   "source": [
    "## Mathematical Operations and Functions on Array"
   ]
  },
  {
   "cell_type": "code",
   "execution_count": 29,
   "id": "9a12b40b-23b5-4026-afee-fa00e9c78918",
   "metadata": {},
   "outputs": [],
   "source": [
    "arr1 = np.array([[1,2,3],[5,6,7]])\n",
    "arr2 = np.array([[5,6,7],[75,34,22]])"
   ]
  },
  {
   "cell_type": "code",
   "execution_count": 30,
   "id": "6d067112-9afb-4675-a13d-28f9c980d365",
   "metadata": {},
   "outputs": [
    {
     "data": {
      "text/plain": [
       "array([[ 6,  8, 10],\n",
       "       [80, 40, 29]])"
      ]
     },
     "execution_count": 30,
     "metadata": {},
     "output_type": "execute_result"
    }
   ],
   "source": [
    "arr1+arr2 # Add Two Elements in array"
   ]
  },
  {
   "cell_type": "code",
   "execution_count": 31,
   "id": "4cbb90ab-3552-44b9-bd22-f609ed2254af",
   "metadata": {},
   "outputs": [
    {
     "data": {
      "text/plain": [
       "array([[ -4,  -4,  -4],\n",
       "       [-70, -28, -15]])"
      ]
     },
     "execution_count": 31,
     "metadata": {},
     "output_type": "execute_result"
    }
   ],
   "source": [
    "arr1-arr2 # Subtract two array"
   ]
  },
  {
   "cell_type": "code",
   "execution_count": 32,
   "id": "e959595e-a980-4619-b1b5-92f3ccb8e778",
   "metadata": {},
   "outputs": [
    {
     "data": {
      "text/plain": [
       "array([[ 5, 10, 15],\n",
       "       [25, 30, 35]])"
      ]
     },
     "execution_count": 32,
     "metadata": {},
     "output_type": "execute_result"
    }
   ],
   "source": [
    "arr1 * 5 # Multiply each element of arr1 with 5"
   ]
  },
  {
   "cell_type": "code",
   "execution_count": null,
   "id": "30379505-6bc9-4c74-8eb1-39c4dfe8e65e",
   "metadata": {},
   "outputs": [],
   "source": []
  },
  {
   "cell_type": "code",
   "execution_count": 33,
   "id": "438bdcae-2fa7-4ee5-8be5-75d6fb352bb1",
   "metadata": {},
   "outputs": [
    {
     "data": {
      "text/plain": [
       "array([[ 6,  8, 10],\n",
       "       [80, 40, 29]])"
      ]
     },
     "execution_count": 33,
     "metadata": {},
     "output_type": "execute_result"
    }
   ],
   "source": [
    "np.add(arr1,arr2)"
   ]
  },
  {
   "cell_type": "code",
   "execution_count": 34,
   "id": "31acf4c7-78e7-4691-8cdc-ded9371d97a6",
   "metadata": {},
   "outputs": [
    {
     "data": {
      "text/plain": [
       "array([[  5,  12,  21],\n",
       "       [375, 204, 154]])"
      ]
     },
     "execution_count": 34,
     "metadata": {},
     "output_type": "execute_result"
    }
   ],
   "source": [
    "np.multiply(arr1, arr2)"
   ]
  },
  {
   "cell_type": "code",
   "execution_count": 35,
   "id": "0dfb16ca-49d4-451a-919c-948d50ceb235",
   "metadata": {},
   "outputs": [
    {
     "data": {
      "text/plain": [
       "array([[ -4,  -4,  -4],\n",
       "       [-70, -28, -15]])"
      ]
     },
     "execution_count": 35,
     "metadata": {},
     "output_type": "execute_result"
    }
   ],
   "source": [
    "np.subtract(arr1,arr2)"
   ]
  },
  {
   "cell_type": "code",
   "execution_count": 36,
   "id": "f86f7df5-8bbf-4c96-9048-6d59ccb5e84c",
   "metadata": {},
   "outputs": [
    {
     "data": {
      "text/plain": [
       "array([[         1,         64,       2187],\n",
       "       [1178063325,          0, 1344430353]])"
      ]
     },
     "execution_count": 36,
     "metadata": {},
     "output_type": "execute_result"
    }
   ],
   "source": [
    "np.power(arr1,arr2)"
   ]
  },
  {
   "cell_type": "code",
   "execution_count": 37,
   "id": "f21b6bd2-d06b-4fae-b2fa-00182988195c",
   "metadata": {},
   "outputs": [
    {
     "data": {
      "text/plain": [
       "array([[1.        , 1.41421356, 1.73205081],\n",
       "       [2.23606798, 2.44948974, 2.64575131]])"
      ]
     },
     "execution_count": 37,
     "metadata": {},
     "output_type": "execute_result"
    }
   ],
   "source": [
    "np.sqrt(arr1)"
   ]
  },
  {
   "cell_type": "code",
   "execution_count": null,
   "id": "6cf814a7-9640-44d0-8d85-80f9a6259a22",
   "metadata": {},
   "outputs": [],
   "source": []
  },
  {
   "cell_type": "markdown",
   "id": "258fd7e5-32f0-48cb-975b-2b335897fe8c",
   "metadata": {},
   "source": [
    "## Combining and Splitting Array"
   ]
  },
  {
   "cell_type": "code",
   "execution_count": 38,
   "id": "96616921-ce59-4b0c-a738-02f8c489cb6b",
   "metadata": {},
   "outputs": [],
   "source": [
    "arr1 = np.array([1,2,34])\n",
    "arr2 = np.array([6,4,6])"
   ]
  },
  {
   "cell_type": "code",
   "execution_count": 39,
   "id": "8d848d13-805f-44ff-9ecb-88b658bc0523",
   "metadata": {},
   "outputs": [
    {
     "data": {
      "text/plain": [
       "array([ 1,  2, 34,  6,  4,  6])"
      ]
     },
     "execution_count": 39,
     "metadata": {},
     "output_type": "execute_result"
    }
   ],
   "source": [
    "np.concatenate((arr1,arr2),axis=0)"
   ]
  },
  {
   "cell_type": "code",
   "execution_count": 40,
   "id": "d7bcc462-ac63-4c70-9d6f-4b585fb1df84",
   "metadata": {},
   "outputs": [],
   "source": [
    "arr1 = np.array([[1,2,3],[3,4,5]])\n",
    "arr2 = np.array([[81,72,63],[53,44,52]])"
   ]
  },
  {
   "cell_type": "code",
   "execution_count": 41,
   "id": "674d82df-b7e6-4ecd-b351-69f0b8eaf722",
   "metadata": {},
   "outputs": [
    {
     "data": {
      "text/plain": [
       "array([[ 1,  2,  3, 81, 72, 63],\n",
       "       [ 3,  4,  5, 53, 44, 52]])"
      ]
     },
     "execution_count": 41,
     "metadata": {},
     "output_type": "execute_result"
    }
   ],
   "source": [
    "np.concatenate((arr1,arr2),axis=1)"
   ]
  },
  {
   "cell_type": "code",
   "execution_count": 42,
   "id": "9fee73ee-c6c7-4498-890b-5959fe212d2b",
   "metadata": {},
   "outputs": [
    {
     "data": {
      "text/plain": [
       "array([[ 1,  2,  3],\n",
       "       [ 3,  4,  5],\n",
       "       [81, 72, 63],\n",
       "       [53, 44, 52]])"
      ]
     },
     "execution_count": 42,
     "metadata": {},
     "output_type": "execute_result"
    }
   ],
   "source": [
    "np.concatenate((arr1,arr2),axis=0)"
   ]
  },
  {
   "cell_type": "code",
   "execution_count": null,
   "id": "72f02edc-f75d-4c45-ac2c-744ebea2cb29",
   "metadata": {},
   "outputs": [],
   "source": []
  },
  {
   "cell_type": "code",
   "execution_count": 43,
   "id": "05400627-a339-44a3-9801-921b087ab8b5",
   "metadata": {},
   "outputs": [
    {
     "data": {
      "text/plain": [
       "array([[ 1,  2,  3],\n",
       "       [ 3,  4,  5],\n",
       "       [81, 72, 63],\n",
       "       [53, 44, 52]])"
      ]
     },
     "execution_count": 43,
     "metadata": {},
     "output_type": "execute_result"
    }
   ],
   "source": [
    "## Vertical Concatenation\n",
    "np.vstack((arr1,arr2))"
   ]
  },
  {
   "cell_type": "code",
   "execution_count": 44,
   "id": "9b24024e-6281-4d9f-bfd8-31c2bae5e986",
   "metadata": {},
   "outputs": [
    {
     "data": {
      "text/plain": [
       "array([[ 1,  2,  3, 81, 72, 63],\n",
       "       [ 3,  4,  5, 53, 44, 52]])"
      ]
     },
     "execution_count": 44,
     "metadata": {},
     "output_type": "execute_result"
    }
   ],
   "source": [
    "## Horizantal Concatination\n",
    "np.hstack((arr1,arr2))"
   ]
  },
  {
   "cell_type": "code",
   "execution_count": null,
   "id": "a643bdf9-69d7-4f08-8bbe-2e0f925421e3",
   "metadata": {},
   "outputs": [],
   "source": []
  },
  {
   "cell_type": "code",
   "execution_count": 45,
   "id": "1f5d3023-0b0d-4ce8-90be-19a5f56be435",
   "metadata": {},
   "outputs": [],
   "source": [
    "# For Spliting\n",
    "a = np.array([1,2,3,4])"
   ]
  },
  {
   "cell_type": "code",
   "execution_count": 46,
   "id": "b561cbbd-60e7-4300-92e1-db2396616f25",
   "metadata": {},
   "outputs": [
    {
     "data": {
      "text/plain": [
       "[array([1, 2]), array([3, 4])]"
      ]
     },
     "execution_count": 46,
     "metadata": {},
     "output_type": "execute_result"
    }
   ],
   "source": [
    "np.split(a, 2)"
   ]
  },
  {
   "cell_type": "code",
   "execution_count": 47,
   "id": "868804bf-004c-465f-828e-fd35d5545d84",
   "metadata": {},
   "outputs": [],
   "source": [
    "a = np.array(range(20))"
   ]
  },
  {
   "cell_type": "code",
   "execution_count": 48,
   "id": "bfaf57e7-a7b6-45c0-86e7-84cc991b1c69",
   "metadata": {},
   "outputs": [],
   "source": [
    "b = np.split(a, 5)"
   ]
  },
  {
   "cell_type": "code",
   "execution_count": 49,
   "id": "8991b442-ebd7-44ff-87a6-c45b73ffd7cb",
   "metadata": {},
   "outputs": [
    {
     "data": {
      "text/plain": [
       "array([ 8,  9, 10, 11])"
      ]
     },
     "execution_count": 49,
     "metadata": {},
     "output_type": "execute_result"
    }
   ],
   "source": [
    "b[2]"
   ]
  },
  {
   "cell_type": "code",
   "execution_count": 50,
   "id": "4eaa9d96-602c-415b-af1b-531b9a2086cd",
   "metadata": {},
   "outputs": [
    {
     "data": {
      "text/plain": [
       "array([4, 5, 6, 7])"
      ]
     },
     "execution_count": 50,
     "metadata": {},
     "output_type": "execute_result"
    }
   ],
   "source": [
    "b[1]"
   ]
  },
  {
   "cell_type": "code",
   "execution_count": 51,
   "id": "d61dfa0b-3f86-4039-8d15-94b1cde0fcff",
   "metadata": {},
   "outputs": [
    {
     "data": {
      "text/plain": [
       "array([0, 1, 2, 3])"
      ]
     },
     "execution_count": 51,
     "metadata": {},
     "output_type": "execute_result"
    }
   ],
   "source": [
    "b[0]"
   ]
  },
  {
   "cell_type": "code",
   "execution_count": 52,
   "id": "89535cea-9e51-4b44-b396-dd6bf67dfa33",
   "metadata": {},
   "outputs": [
    {
     "data": {
      "text/plain": [
       "array([12, 13, 14, 15])"
      ]
     },
     "execution_count": 52,
     "metadata": {},
     "output_type": "execute_result"
    }
   ],
   "source": [
    "b[3]"
   ]
  },
  {
   "cell_type": "code",
   "execution_count": 53,
   "id": "42ab57b4-b49d-440d-92e6-45a8ab0b95a6",
   "metadata": {},
   "outputs": [
    {
     "data": {
      "text/plain": [
       "array([16, 17, 18, 19])"
      ]
     },
     "execution_count": 53,
     "metadata": {},
     "output_type": "execute_result"
    }
   ],
   "source": [
    "b[4]"
   ]
  },
  {
   "cell_type": "markdown",
   "id": "4e0ba1ba-5b13-44bb-87ec-6f9f09db8b0e",
   "metadata": {},
   "source": [
    "### 2D array"
   ]
  },
  {
   "cell_type": "code",
   "execution_count": 54,
   "id": "b1f45f1d-239c-4d9a-8f4f-09924a00d23f",
   "metadata": {},
   "outputs": [],
   "source": [
    "a = np.array([[1,2,3,4],[3,4,5,4],[7,8,9,8],[6,7,8,4]])"
   ]
  },
  {
   "cell_type": "code",
   "execution_count": 55,
   "id": "9b2c17ea-1466-4642-a260-e70f9dc98bbc",
   "metadata": {},
   "outputs": [
    {
     "data": {
      "text/plain": [
       "[array([[1, 2, 3, 4],\n",
       "        [3, 4, 5, 4]]),\n",
       " array([[7, 8, 9, 8],\n",
       "        [6, 7, 8, 4]])]"
      ]
     },
     "execution_count": 55,
     "metadata": {},
     "output_type": "execute_result"
    }
   ],
   "source": [
    "np.vsplit(a,2)"
   ]
  },
  {
   "cell_type": "code",
   "execution_count": 56,
   "id": "493b9b83-afac-48d9-acc8-9790cc692588",
   "metadata": {},
   "outputs": [
    {
     "data": {
      "text/plain": [
       "[array([[1, 2],\n",
       "        [3, 4],\n",
       "        [7, 8],\n",
       "        [6, 7]]),\n",
       " array([[3, 4],\n",
       "        [5, 4],\n",
       "        [9, 8],\n",
       "        [8, 4]])]"
      ]
     },
     "execution_count": 56,
     "metadata": {},
     "output_type": "execute_result"
    }
   ],
   "source": [
    "np.hsplit(a,2)"
   ]
  },
  {
   "cell_type": "code",
   "execution_count": null,
   "id": "34a61468-2c32-43ef-8c1a-883cc31b268b",
   "metadata": {},
   "outputs": [],
   "source": []
  },
  {
   "cell_type": "code",
   "execution_count": null,
   "id": "8f1c65c2-d8a1-43b7-8e64-92ff5094006b",
   "metadata": {},
   "outputs": [],
   "source": []
  },
  {
   "cell_type": "markdown",
   "id": "c4a8b51c-a93f-4f46-8034-980faa082413",
   "metadata": {},
   "source": [
    "## Adding and Removing Element in Array"
   ]
  },
  {
   "cell_type": "markdown",
   "id": "c95edecd-2ffb-425e-8ac7-f50529f2c19f",
   "metadata": {},
   "source": [
    "- np.append(h,g) # Append item to an array\n",
    "- np.insert(a,1,5) # Insert new item to an array\n",
    "- np.delete(a, [1]) # Delete item from an array"
   ]
  },
  {
   "cell_type": "code",
   "execution_count": null,
   "id": "177e0953-e2fa-42dd-afde-35a242b42749",
   "metadata": {},
   "outputs": [],
   "source": []
  },
  {
   "cell_type": "markdown",
   "id": "57a6c230-02c9-4846-b2d4-9d2b977d97e1",
   "metadata": {},
   "source": [
    "## Shape of an Array\n",
    "- The shape of an array is the \n",
    "number of elements in each dimension.\n",
    "- Get the Shape of an Array\n",
    "NumPy arrays have an attribute \n",
    "called shape that returns a tuple \n",
    "with each index having the number \n",
    "of corresponding elements."
   ]
  },
  {
   "cell_type": "code",
   "execution_count": 57,
   "id": "54bcc275-b940-47aa-8427-3a5bb04b11fe",
   "metadata": {},
   "outputs": [
    {
     "data": {
      "text/plain": [
       "(4, 4)"
      ]
     },
     "execution_count": 57,
     "metadata": {},
     "output_type": "execute_result"
    }
   ],
   "source": [
    "a.shape"
   ]
  },
  {
   "cell_type": "code",
   "execution_count": 58,
   "id": "57aff567-dbe7-4a14-a1a9-2f3108746b10",
   "metadata": {},
   "outputs": [],
   "source": [
    "b = np.array([3,4,5])"
   ]
  },
  {
   "cell_type": "code",
   "execution_count": 59,
   "id": "f1bdf0b8-939f-4917-85ea-58ed1aa4fbe5",
   "metadata": {},
   "outputs": [],
   "source": [
    "c = np.append(a,b) # Append convert array from 2D to 1D and then append at the end of array"
   ]
  },
  {
   "cell_type": "code",
   "execution_count": 60,
   "id": "c8a04d7d-0146-4522-94c7-5148ccd72efc",
   "metadata": {},
   "outputs": [
    {
     "data": {
      "text/plain": [
       "array([1, 2, 3, 4, 3, 4, 5, 4, 7, 8, 9, 8, 6, 7, 8, 4, 3, 4, 5])"
      ]
     },
     "execution_count": 60,
     "metadata": {},
     "output_type": "execute_result"
    }
   ],
   "source": [
    "c"
   ]
  },
  {
   "cell_type": "code",
   "execution_count": 61,
   "id": "001a37fe-2ce8-4991-9769-33b4c7862b0d",
   "metadata": {},
   "outputs": [
    {
     "data": {
      "text/plain": [
       "(19,)"
      ]
     },
     "execution_count": 61,
     "metadata": {},
     "output_type": "execute_result"
    }
   ],
   "source": [
    "c.shape"
   ]
  },
  {
   "cell_type": "code",
   "execution_count": null,
   "id": "97d88829-f4fe-40ca-9bd1-cb6136962f80",
   "metadata": {},
   "outputs": [],
   "source": []
  },
  {
   "cell_type": "code",
   "execution_count": 62,
   "id": "0af462c2-8169-4ea3-8821-0d9dc9dccb88",
   "metadata": {},
   "outputs": [
    {
     "data": {
      "text/plain": [
       "array([1, 5, 6, 7, 8, 2, 3, 4, 3, 4, 5, 4, 7, 8, 9, 8, 6, 7, 8, 4])"
      ]
     },
     "execution_count": 62,
     "metadata": {},
     "output_type": "execute_result"
    }
   ],
   "source": [
    "np.insert(a,1,[5,6,7,8]) # first parameter is array name. 2nd is index, and third is value\n",
    "# It also convert 2D into 1D if we dont pass index"
   ]
  },
  {
   "cell_type": "code",
   "execution_count": null,
   "id": "c3281aab-1ec7-457d-8d09-039384d24e26",
   "metadata": {},
   "outputs": [],
   "source": []
  },
  {
   "cell_type": "code",
   "execution_count": 63,
   "id": "53a84c28-e332-48c0-8373-22d0efb22cbc",
   "metadata": {},
   "outputs": [
    {
     "data": {
      "text/plain": [
       "(4, 4)"
      ]
     },
     "execution_count": 63,
     "metadata": {},
     "output_type": "execute_result"
    }
   ],
   "source": [
    "a.shape"
   ]
  },
  {
   "cell_type": "code",
   "execution_count": 64,
   "id": "b278e5fc-2e08-49ae-8669-af5570108139",
   "metadata": {},
   "outputs": [
    {
     "data": {
      "text/plain": [
       "array([[1, 4, 2, 3, 4],\n",
       "       [3, 5, 4, 5, 4],\n",
       "       [7, 6, 8, 9, 8],\n",
       "       [6, 7, 7, 8, 4]])"
      ]
     },
     "execution_count": 64,
     "metadata": {},
     "output_type": "execute_result"
    }
   ],
   "source": [
    "np.insert(a,1,[4,5,6,7],axis=1)"
   ]
  },
  {
   "cell_type": "code",
   "execution_count": 65,
   "id": "06066fb4-3cbc-4eff-992c-bd01107095e6",
   "metadata": {},
   "outputs": [
    {
     "data": {
      "text/plain": [
       "array([[1, 2, 3, 4],\n",
       "       [4, 5, 6, 7],\n",
       "       [3, 4, 5, 4],\n",
       "       [7, 8, 9, 8],\n",
       "       [6, 7, 8, 4]])"
      ]
     },
     "execution_count": 65,
     "metadata": {},
     "output_type": "execute_result"
    }
   ],
   "source": [
    "np.insert(a,1,[4,5,6,7], axis=0)"
   ]
  },
  {
   "cell_type": "code",
   "execution_count": null,
   "id": "f91430ab-0378-4580-9604-07b981e421cf",
   "metadata": {},
   "outputs": [],
   "source": []
  },
  {
   "cell_type": "code",
   "execution_count": 66,
   "id": "dc550003-7ab6-4a2e-8c1c-90f16e0fe296",
   "metadata": {},
   "outputs": [
    {
     "data": {
      "text/plain": [
       "array([1, 3, 4, 3, 4, 5, 4, 7, 8, 9, 8, 6, 7, 8, 4])"
      ]
     },
     "execution_count": 66,
     "metadata": {},
     "output_type": "execute_result"
    }
   ],
   "source": [
    "np.delete(a,1)"
   ]
  },
  {
   "cell_type": "code",
   "execution_count": 67,
   "id": "10c4c0bd-cec0-41fc-b10a-9cfbe0cc3723",
   "metadata": {},
   "outputs": [
    {
     "data": {
      "text/plain": [
       "array([[1, 2, 3, 4],\n",
       "       [7, 8, 9, 8],\n",
       "       [6, 7, 8, 4]])"
      ]
     },
     "execution_count": 67,
     "metadata": {},
     "output_type": "execute_result"
    }
   ],
   "source": [
    "np.delete(a,1,axis=0)"
   ]
  },
  {
   "cell_type": "code",
   "execution_count": 68,
   "id": "7810f6a5-b50e-48db-b6ef-70404c5478ec",
   "metadata": {},
   "outputs": [
    {
     "data": {
      "text/plain": [
       "array([[1, 2, 3, 4],\n",
       "       [3, 4, 5, 4],\n",
       "       [7, 8, 9, 8],\n",
       "       [6, 7, 8, 4]])"
      ]
     },
     "execution_count": 68,
     "metadata": {},
     "output_type": "execute_result"
    }
   ],
   "source": [
    "a"
   ]
  },
  {
   "cell_type": "code",
   "execution_count": 69,
   "id": "d62a6418-abd8-4b1d-a371-254b8e0a4235",
   "metadata": {},
   "outputs": [],
   "source": [
    "b = np.delete(a,1,axis=1)"
   ]
  },
  {
   "cell_type": "code",
   "execution_count": 70,
   "id": "9297062b-7923-4c03-b18a-803c9b1e6c7e",
   "metadata": {},
   "outputs": [
    {
     "data": {
      "text/plain": [
       "array([[1, 3, 4],\n",
       "       [3, 5, 4],\n",
       "       [7, 9, 8],\n",
       "       [6, 8, 4]])"
      ]
     },
     "execution_count": 70,
     "metadata": {},
     "output_type": "execute_result"
    }
   ],
   "source": [
    "b"
   ]
  },
  {
   "cell_type": "code",
   "execution_count": 71,
   "id": "46c4f11c-485d-41b9-8eb7-f58f849fb15c",
   "metadata": {},
   "outputs": [
    {
     "data": {
      "text/plain": [
       "array([[1, 2, 3, 4],\n",
       "       [3, 4, 5, 4],\n",
       "       [7, 8, 9, 8],\n",
       "       [6, 7, 8, 4]])"
      ]
     },
     "execution_count": 71,
     "metadata": {},
     "output_type": "execute_result"
    }
   ],
   "source": [
    "a"
   ]
  },
  {
   "cell_type": "code",
   "execution_count": null,
   "id": "ea04100b-98ea-446f-8704-0ab297ca22a2",
   "metadata": {},
   "outputs": [],
   "source": []
  },
  {
   "cell_type": "code",
   "execution_count": null,
   "id": "f1b67f08-7715-4610-97c9-a9a596990863",
   "metadata": {},
   "outputs": [],
   "source": []
  },
  {
   "cell_type": "markdown",
   "id": "2867a780-1539-4808-a7ca-ea1ff3ff0233",
   "metadata": {},
   "source": [
    "## Search, Sort and Filter"
   ]
  },
  {
   "cell_type": "code",
   "execution_count": 72,
   "id": "167c5282-38a4-4e51-b494-da21a22cdafe",
   "metadata": {},
   "outputs": [],
   "source": [
    "arr = np.array([13,45,65,3,12,2,0,23])"
   ]
  },
  {
   "cell_type": "code",
   "execution_count": 73,
   "id": "d37c93b0-10c0-42b7-b620-ddaa1a851c0e",
   "metadata": {},
   "outputs": [
    {
     "data": {
      "text/plain": [
       "array([ 0,  2,  3, 12, 13, 23, 45, 65])"
      ]
     },
     "execution_count": 73,
     "metadata": {},
     "output_type": "execute_result"
    }
   ],
   "source": [
    "np.sort(arr)"
   ]
  },
  {
   "cell_type": "code",
   "execution_count": 74,
   "id": "5efcd8c9-cd8e-4fac-a82f-4d47a21843b3",
   "metadata": {},
   "outputs": [
    {
     "data": {
      "text/plain": [
       "array([65, 45, 23, 13, 12,  3,  2,  0])"
      ]
     },
     "execution_count": 74,
     "metadata": {},
     "output_type": "execute_result"
    }
   ],
   "source": [
    "np.sort(arr)[::-1]"
   ]
  },
  {
   "cell_type": "code",
   "execution_count": null,
   "id": "93063ad8-b2dd-4ba4-8269-051972f554a2",
   "metadata": {},
   "outputs": [],
   "source": []
  },
  {
   "cell_type": "code",
   "execution_count": 75,
   "id": "0952f761-0b27-428a-ac2c-fec9d7824645",
   "metadata": {},
   "outputs": [],
   "source": [
    "# Same Rule apply for 2D\n",
    "arr = np.array([[1,2,5,6,3,5],[8,64,43,2,1,9]])"
   ]
  },
  {
   "cell_type": "code",
   "execution_count": 76,
   "id": "a6794238-20a2-471d-b077-2847dcb6f0ae",
   "metadata": {},
   "outputs": [
    {
     "data": {
      "text/plain": [
       "array([[ 1,  2,  3,  5,  5,  6],\n",
       "       [ 1,  2,  8,  9, 43, 64]])"
      ]
     },
     "execution_count": 76,
     "metadata": {},
     "output_type": "execute_result"
    }
   ],
   "source": [
    "np.sort(arr)"
   ]
  },
  {
   "cell_type": "code",
   "execution_count": 77,
   "id": "8d70505c-549b-4f87-abf3-077f9c21dd1f",
   "metadata": {},
   "outputs": [
    {
     "data": {
      "text/plain": [
       "array([[ 1,  2,  5,  2,  1,  5],\n",
       "       [ 8, 64, 43,  6,  3,  9]])"
      ]
     },
     "execution_count": 77,
     "metadata": {},
     "output_type": "execute_result"
    }
   ],
   "source": [
    "np.sort(arr,axis=0)"
   ]
  },
  {
   "cell_type": "code",
   "execution_count": 78,
   "id": "8b017f9a-4035-4ccb-ad68-0e610bd694aa",
   "metadata": {},
   "outputs": [
    {
     "data": {
      "text/plain": [
       "array([[ 1,  2,  3,  5,  5,  6],\n",
       "       [ 1,  2,  8,  9, 43, 64]])"
      ]
     },
     "execution_count": 78,
     "metadata": {},
     "output_type": "execute_result"
    }
   ],
   "source": [
    "np.sort(arr,axis=1)"
   ]
  },
  {
   "cell_type": "code",
   "execution_count": 79,
   "id": "70c5935c-24d9-42ba-82d8-af45f67e7bdb",
   "metadata": {},
   "outputs": [
    {
     "data": {
      "text/plain": [
       "array([[ 1,  2,  8,  9, 43, 64],\n",
       "       [ 1,  2,  3,  5,  5,  6]])"
      ]
     },
     "execution_count": 79,
     "metadata": {},
     "output_type": "execute_result"
    }
   ],
   "source": [
    "np.sort(arr)[::-1]"
   ]
  },
  {
   "cell_type": "code",
   "execution_count": null,
   "id": "0bca03e2-5e08-41ee-aac9-0ac2525fb4d0",
   "metadata": {},
   "outputs": [],
   "source": []
  },
  {
   "cell_type": "code",
   "execution_count": 80,
   "id": "fd7c44d8-b134-46be-b21f-903ba0b39e88",
   "metadata": {},
   "outputs": [
    {
     "data": {
      "text/plain": [
       "(array([0, 0], dtype=int64), array([2, 5], dtype=int64))"
      ]
     },
     "execution_count": 80,
     "metadata": {},
     "output_type": "execute_result"
    }
   ],
   "source": [
    "np.where(arr==5)"
   ]
  },
  {
   "cell_type": "code",
   "execution_count": 81,
   "id": "5d7f55ae-a871-4373-8444-b72420c9f72f",
   "metadata": {},
   "outputs": [
    {
     "data": {
      "text/plain": [
       "(array([0, 0, 1, 1, 1], dtype=int64), array([1, 3, 0, 1, 3], dtype=int64))"
      ]
     },
     "execution_count": 81,
     "metadata": {},
     "output_type": "execute_result"
    }
   ],
   "source": [
    "np.where(arr%2==0)"
   ]
  },
  {
   "cell_type": "markdown",
   "id": "cd5392c1-7ffb-49ca-8f89-84e8ea8f7bc9",
   "metadata": {},
   "source": [
    "##### Same as SQL, in numpy we use where to search, find index"
   ]
  },
  {
   "cell_type": "code",
   "execution_count": null,
   "id": "379c72d0-79ce-432c-8e75-2b4938f61758",
   "metadata": {},
   "outputs": [],
   "source": []
  },
  {
   "cell_type": "markdown",
   "id": "350e898e-d43c-41bf-8e06-c3c9449c65b7",
   "metadata": {},
   "source": [
    "## Aggregating Function in Numpy "
   ]
  },
  {
   "cell_type": "code",
   "execution_count": 82,
   "id": "95fd0979-6b3d-4f18-94e5-adbe38a44d20",
   "metadata": {},
   "outputs": [],
   "source": [
    "a = np.array([3,4,5,6])"
   ]
  },
  {
   "cell_type": "code",
   "execution_count": 83,
   "id": "6d262964-667d-4db6-acaa-0dabcefbcbf4",
   "metadata": {},
   "outputs": [
    {
     "data": {
      "text/plain": [
       "18"
      ]
     },
     "execution_count": 83,
     "metadata": {},
     "output_type": "execute_result"
    }
   ],
   "source": [
    "np.sum(a)"
   ]
  },
  {
   "cell_type": "code",
   "execution_count": 84,
   "id": "12635bf5-8bdb-464a-8090-c78c1995b00b",
   "metadata": {},
   "outputs": [
    {
     "data": {
      "text/plain": [
       "3"
      ]
     },
     "execution_count": 84,
     "metadata": {},
     "output_type": "execute_result"
    }
   ],
   "source": [
    "np.min(a)"
   ]
  },
  {
   "cell_type": "code",
   "execution_count": 85,
   "id": "2451efa2-c829-4b37-a21b-427e34a89ecc",
   "metadata": {},
   "outputs": [
    {
     "data": {
      "text/plain": [
       "6"
      ]
     },
     "execution_count": 85,
     "metadata": {},
     "output_type": "execute_result"
    }
   ],
   "source": [
    "np.max(a)"
   ]
  },
  {
   "cell_type": "code",
   "execution_count": 86,
   "id": "31ec5abc-8b78-4cb1-a11e-1245b3bbf9c6",
   "metadata": {},
   "outputs": [
    {
     "data": {
      "text/plain": [
       "4"
      ]
     },
     "execution_count": 86,
     "metadata": {},
     "output_type": "execute_result"
    }
   ],
   "source": [
    "np.size(a)"
   ]
  },
  {
   "cell_type": "code",
   "execution_count": 87,
   "id": "e5db262e-b023-4bd1-b3bc-fdd41f60d850",
   "metadata": {},
   "outputs": [
    {
     "data": {
      "text/plain": [
       "4.5"
      ]
     },
     "execution_count": 87,
     "metadata": {},
     "output_type": "execute_result"
    }
   ],
   "source": [
    "np.mean(a)"
   ]
  },
  {
   "cell_type": "code",
   "execution_count": 88,
   "id": "fdd169f2-5497-44a4-a360-9ba6f6981098",
   "metadata": {},
   "outputs": [
    {
     "data": {
      "text/plain": [
       "4.5"
      ]
     },
     "execution_count": 88,
     "metadata": {},
     "output_type": "execute_result"
    }
   ],
   "source": [
    "np.median(a)"
   ]
  },
  {
   "cell_type": "code",
   "execution_count": 89,
   "id": "237c1d59-9c37-46aa-bf4c-2b00862523f1",
   "metadata": {},
   "outputs": [
    {
     "name": "stdout",
     "output_type": "stream",
     "text": [
      "[ 3  7 12 18]\n"
     ]
    }
   ],
   "source": [
    "s = np.cumsum(a) # It add current value with all previous\n",
    "\n",
    "'''\n",
    "For Example\n",
    "[20 30 40 50]\n",
    "20 is first value so it comes as it is :20\n",
    "30 is second value and previous is 20 so 30+20 = 50\n",
    "40 is 3rd and previous is 30 and previous is 20 so 40+30+20 = 70\n",
    "50 + 40 + 30 + 20 = 140 so cumsum is\n",
    "20 50 70 140\n",
    "\n",
    "'''\n",
    "print(s)"
   ]
  },
  {
   "cell_type": "code",
   "execution_count": null,
   "id": "c458a459-2ce6-4395-9431-227212d40744",
   "metadata": {},
   "outputs": [],
   "source": []
  },
  {
   "cell_type": "code",
   "execution_count": 90,
   "id": "ac1e8e67-fc65-421a-9361-ba282775dd21",
   "metadata": {},
   "outputs": [
    {
     "data": {
      "text/plain": [
       "array([ 20,  50,  90, 140])"
      ]
     },
     "execution_count": 90,
     "metadata": {},
     "output_type": "execute_result"
    }
   ],
   "source": [
    "a = np.array([20,30,40,50])\n",
    "np.cumsum(a)"
   ]
  },
  {
   "cell_type": "code",
   "execution_count": 91,
   "id": "0ee92e67-0b9e-4752-81cf-0c9d6631d31b",
   "metadata": {},
   "outputs": [
    {
     "data": {
      "text/plain": [
       "array([     20,     600,   24000, 1200000])"
      ]
     },
     "execution_count": 91,
     "metadata": {},
     "output_type": "execute_result"
    }
   ],
   "source": [
    "np.cumproduct(a)"
   ]
  },
  {
   "cell_type": "code",
   "execution_count": 92,
   "id": "3eb1ef54-c69d-429e-a1df-89ea91ad6664",
   "metadata": {},
   "outputs": [
    {
     "data": {
      "text/plain": [
       "array([     20,     600,   24000, 1200000])"
      ]
     },
     "execution_count": 92,
     "metadata": {},
     "output_type": "execute_result"
    }
   ],
   "source": [
    "np.cumprod(a)"
   ]
  },
  {
   "cell_type": "code",
   "execution_count": null,
   "id": "e859b692-2dd8-451c-9bb8-1f14298b951f",
   "metadata": {},
   "outputs": [],
   "source": []
  },
  {
   "cell_type": "code",
   "execution_count": 93,
   "id": "0764842a-308b-4f64-a3ff-e5fa88f21f8d",
   "metadata": {},
   "outputs": [
    {
     "name": "stdout",
     "output_type": "stream",
     "text": [
      "[100 150 190 200 250 130] [10 50 30 40 30 10]\n",
      "[1000 7500 5700 8000 7500 1300]\n",
      "Total Sum is 31000\n"
     ]
    }
   ],
   "source": [
    "a = [100, 150 ,190, 200, 250, 130]\n",
    "b = [10, 50, 30, 40, 30, 10]\n",
    "price = np.array(a)\n",
    "quantity = np.array(b)\n",
    "\n",
    "print(price, quantity)\n",
    "total_sum = np.multiply(price, quantity)\n",
    "\n",
    "print(total_sum)\n",
    "print(f'Total Sum is {sum(total_sum)}')"
   ]
  },
  {
   "cell_type": "code",
   "execution_count": 94,
   "id": "cafe2268-71b0-428b-b750-c29b15916437",
   "metadata": {},
   "outputs": [
    {
     "data": {
      "text/plain": [
       "array([[1.        , 0.48514675],\n",
       "       [0.48514675, 1.        ]])"
      ]
     },
     "execution_count": 94,
     "metadata": {},
     "output_type": "execute_result"
    }
   ],
   "source": [
    "np.corrcoef([b,a])"
   ]
  },
  {
   "cell_type": "code",
   "execution_count": null,
   "id": "1a47765c-e4f0-4cc2-ac06-12caa79cf866",
   "metadata": {},
   "outputs": [],
   "source": []
  },
  {
   "cell_type": "markdown",
   "id": "eba0eef5-b20e-4fe1-b30e-f0790464470f",
   "metadata": {},
   "source": [
    "## NumPy Data Types\r\n",
    "\r\n",
    "### Data Types in Python\r\n",
    "\r\n",
    "By default, Python has the following data types:\r\n",
    "\r\n",
    "- **Strings**: Used to represent text data. The text is given under quote marks.  \r\n",
    "  Example: `\"ABCD\"`\r\n",
    "  \r\n",
    "- **Integer**: Used to represent integer numbers.  \r\n",
    "  Example: `-1, -2, -3`\r\n",
    "  \r\n",
    "- **Float**: Used to represent real numbers.  \r\n",
    "  Example: `1.2, 42.42`\r\n",
    "  \r\n",
    "- **Boolean**: Used to represent `True` or `False`.\r\n",
    "  \r\n",
    "- **Complex**: Used to represent complex numbers.  \r\n",
    "  Example: `1.0 + 2.0j, 1.5 + 2.5j`\r\n",
    "\r\n",
    "### Data Types in NumPy\r\n",
    "\r\n",
    "NumPy offers additional data types and refers to them with a single character. Below is a list of all data types in NumPy and their respective characters:\r\n",
    "\r\n",
    "- **i** - Integer\r\n",
    "- **b** - Boolean\r\n",
    "- **u** - Unsigned Integer\r\n",
    "- **f** - Float\r\n",
    "- **c** - Complex Float\r\n",
    "- **m** - Timedelta\r\n",
    "- **M** - Datetime\r\n",
    "- **O** - Object\r\n",
    "- **S** - String\r\n",
    "- **U** - Unicode String\r\n",
    "- **V** - Fixed Chunk of Memory for Other Types (Void)\r\n",
    "k of memory for other type ( void )\r\n"
   ]
  },
  {
   "cell_type": "code",
   "execution_count": 95,
   "id": "80e70784-9515-47ca-86ff-8bcf81ac61ef",
   "metadata": {},
   "outputs": [
    {
     "name": "stdout",
     "output_type": "stream",
     "text": [
      "<class 'int'>\n"
     ]
    }
   ],
   "source": [
    "# Integer\n",
    "number = -1\n",
    "print(type(number))  # Output: <class 'int'>\n"
   ]
  },
  {
   "cell_type": "code",
   "execution_count": 96,
   "id": "bf3ed0d7-69b0-4f8e-ba29-9f74ce10c3ca",
   "metadata": {},
   "outputs": [
    {
     "name": "stdout",
     "output_type": "stream",
     "text": [
      "<class 'float'>\n"
     ]
    }
   ],
   "source": [
    "# Float\n",
    "real_number = 1.2\n",
    "print(type(real_number))  # Output: <class 'float'>"
   ]
  },
  {
   "cell_type": "code",
   "execution_count": 97,
   "id": "9b9ec696-7b9b-4e1c-b203-a405d0d15984",
   "metadata": {},
   "outputs": [
    {
     "name": "stdout",
     "output_type": "stream",
     "text": [
      "<class 'bool'>\n"
     ]
    }
   ],
   "source": [
    "# Boolean\n",
    "flag = True\n",
    "print(type(flag))  # Output: <class 'bool'>"
   ]
  },
  {
   "cell_type": "code",
   "execution_count": 98,
   "id": "e08ba015-dc56-47fd-96b6-561413591653",
   "metadata": {},
   "outputs": [
    {
     "name": "stdout",
     "output_type": "stream",
     "text": [
      "<class 'complex'>\n"
     ]
    }
   ],
   "source": [
    "# Complex\n",
    "complex_number = 1.0 + 2.0j\n",
    "print(type(complex_number))  # Output: <class 'complex'>"
   ]
  },
  {
   "cell_type": "code",
   "execution_count": null,
   "id": "9c71c8f2-791f-42c4-aad5-4d555f841101",
   "metadata": {},
   "outputs": [],
   "source": []
  },
  {
   "cell_type": "markdown",
   "id": "c8ef8491-67a3-4bf8-8ee3-2804fca321fe",
   "metadata": {},
   "source": [
    "### Data Type In Numpy"
   ]
  },
  {
   "cell_type": "code",
   "execution_count": 99,
   "id": "c0786681-d4db-4e5c-a072-ad72807cfbce",
   "metadata": {},
   "outputs": [
    {
     "name": "stdout",
     "output_type": "stream",
     "text": [
      "int32\n"
     ]
    }
   ],
   "source": [
    "# i- integer\n",
    "integer_array = np.array([1, 2, 3], dtype=np.int32)\n",
    "print(integer_array.dtype)  # Output: int32"
   ]
  },
  {
   "cell_type": "code",
   "execution_count": 100,
   "id": "4d1f17fa-25f1-4149-ae29-060f68df5e66",
   "metadata": {},
   "outputs": [
    {
     "name": "stdout",
     "output_type": "stream",
     "text": [
      "bool\n"
     ]
    }
   ],
   "source": [
    "# b- bool\n",
    "boolean_array = np.array([True, False, True], dtype=np.bool_)\n",
    "print(boolean_array.dtype)  # Output: bool"
   ]
  },
  {
   "cell_type": "code",
   "execution_count": 101,
   "id": "5389b14b-f227-49b5-9f9a-5a5f0637aaa9",
   "metadata": {},
   "outputs": [
    {
     "name": "stdout",
     "output_type": "stream",
     "text": [
      "uint8\n"
     ]
    }
   ],
   "source": [
    "# u- unsigned integer\n",
    "unsigned_integer_array = np.array([1, 2, 3], dtype=np.uint8)\n",
    "print(unsigned_integer_array.dtype)  # Output: uint8"
   ]
  },
  {
   "cell_type": "code",
   "execution_count": 102,
   "id": "63e3c6b5-ab8c-4e17-9982-40f96458d173",
   "metadata": {},
   "outputs": [
    {
     "name": "stdout",
     "output_type": "stream",
     "text": [
      "float32\n"
     ]
    }
   ],
   "source": [
    "# f- Float\n",
    "float_array = np.array([1.1, 2.2, 3.3], dtype=np.float32)\n",
    "print(float_array.dtype)  # Output: float32"
   ]
  },
  {
   "cell_type": "code",
   "execution_count": 103,
   "id": "69afe33e-890c-435c-8f44-8fba063882bf",
   "metadata": {},
   "outputs": [
    {
     "name": "stdout",
     "output_type": "stream",
     "text": [
      "complex64\n"
     ]
    }
   ],
   "source": [
    "# c- Complex Float\n",
    "complex_float_array = np.array([1+2j, 3+4j], dtype=np.complex64)\n",
    "print(complex_float_array.dtype)  # Output: complex64"
   ]
  },
  {
   "cell_type": "code",
   "execution_count": 104,
   "id": "575eb855-202d-4c6c-89f9-b6aa7a51f928",
   "metadata": {},
   "outputs": [
    {
     "name": "stdout",
     "output_type": "stream",
     "text": [
      "timedelta64[D]\n"
     ]
    }
   ],
   "source": [
    "# m- timeDelta\n",
    "timedelta_array = np.array([np.timedelta64(1, 'D'), np.timedelta64(2, 'D')], dtype='m')\n",
    "print(timedelta_array.dtype)  # Output: timedelta64[D]"
   ]
  },
  {
   "cell_type": "code",
   "execution_count": 105,
   "id": "54fbb82d-17dc-467c-8ca1-1bbf8a8d9405",
   "metadata": {},
   "outputs": [
    {
     "name": "stdout",
     "output_type": "stream",
     "text": [
      "datetime64[D]\n"
     ]
    }
   ],
   "source": [
    "# M- DateTime\n",
    "datetime_array = np.array([np.datetime64('2024-01-01'), np.datetime64('2024-01-02')], dtype='M')\n",
    "print(datetime_array.dtype)  # Output: datetime64[D]"
   ]
  },
  {
   "cell_type": "code",
   "execution_count": 106,
   "id": "70f10f10-5134-4da1-9ea1-eef133463e1d",
   "metadata": {},
   "outputs": [
    {
     "name": "stdout",
     "output_type": "stream",
     "text": [
      "object\n"
     ]
    }
   ],
   "source": [
    "# O- Object\n",
    "object_array = np.array([1, \"text\", 3.0], dtype=np.object_)\n",
    "print(object_array.dtype)  # Output: object"
   ]
  },
  {
   "cell_type": "code",
   "execution_count": 107,
   "id": "9b54b1ed-cf42-4481-b29b-819d791d3ffc",
   "metadata": {},
   "outputs": [
    {
     "name": "stdout",
     "output_type": "stream",
     "text": [
      "|S3\n"
     ]
    }
   ],
   "source": [
    "# S- String\n",
    "string_array = np.array([b'abc', b'def'], dtype='S')\n",
    "print(string_array.dtype)  # Output: |S3"
   ]
  },
  {
   "cell_type": "code",
   "execution_count": 108,
   "id": "53afd8a1-a251-43de-b6f1-5c79d25da720",
   "metadata": {},
   "outputs": [
    {
     "name": "stdout",
     "output_type": "stream",
     "text": [
      "<U3\n"
     ]
    }
   ],
   "source": [
    "# U- Unicode String\n",
    "unicode_array = np.array(['abc', 'def'], dtype='U')\n",
    "print(unicode_array.dtype)  # Output: <U3"
   ]
  },
  {
   "cell_type": "code",
   "execution_count": null,
   "id": "f1688a59-979b-4b34-9df3-a68c477076d5",
   "metadata": {},
   "outputs": [],
   "source": []
  },
  {
   "cell_type": "markdown",
   "id": "f7f92da9-f5b4-4aab-91a5-acdaca1a26a4",
   "metadata": {},
   "source": [
    "## Checking the Data Type of an Array\n",
    "The NumPy array object has a property \n",
    "called dtype that returns the data type \n",
    "of the array:\n"
   ]
  },
  {
   "cell_type": "code",
   "execution_count": 109,
   "id": "b54f4dd8-058a-42c9-89c3-076d099a4287",
   "metadata": {},
   "outputs": [
    {
     "name": "stdout",
     "output_type": "stream",
     "text": [
      "int32\n"
     ]
    }
   ],
   "source": [
    "arr = np.array([1, 2, 3, 4])\n",
    "print(arr.dtype)\n"
   ]
  },
  {
   "cell_type": "code",
   "execution_count": 110,
   "id": "5bccda3f-0b1c-4ff5-8157-5b1592f4fdc5",
   "metadata": {},
   "outputs": [
    {
     "name": "stdout",
     "output_type": "stream",
     "text": [
      "[1 2 3 4]\n",
      "int32\n"
     ]
    }
   ],
   "source": [
    "'''Example\n",
    "Create an array with data type 4 bytes \n",
    "integer:\n",
    "'''\n",
    "arr = np.array([1, 2, 3, 4], dtype='i4')\n",
    "\n",
    "print(arr)\n",
    "print(arr.dtype)\n"
   ]
  },
  {
   "cell_type": "code",
   "execution_count": 111,
   "id": "a398f9a6-506d-4b18-b2a5-252b4a6a1adc",
   "metadata": {},
   "outputs": [
    {
     "name": "stdout",
     "output_type": "stream",
     "text": [
      "[1 2 3]\n",
      "int32\n"
     ]
    }
   ],
   "source": [
    "'''Example\n",
    "A non integer string like 'a' cannot \n",
    "be converted to integer \n",
    "(will raise an error):\n",
    "'''\n",
    "arr = np.array(['1', '2', '3'], dtype='i')\n",
    "print(arr)\n",
    "print(arr.dtype)"
   ]
  },
  {
   "cell_type": "code",
   "execution_count": 112,
   "id": "317411cb-e310-4ace-8cca-46bc352e794e",
   "metadata": {},
   "outputs": [
    {
     "name": "stdout",
     "output_type": "stream",
     "text": [
      "[1 2 3]\n",
      "int32\n"
     ]
    }
   ],
   "source": [
    "'''Example\n",
    "Change data type from float to \n",
    "integer by using 'i' as parameter value:\n",
    "'''\n",
    "\n",
    "arr = np.array([1.1, 2.1, 3.1])\n",
    "\n",
    "newarr = arr.astype('i')\n",
    "\n",
    "print(newarr)\n",
    "print(newarr.dtype)"
   ]
  },
  {
   "cell_type": "code",
   "execution_count": null,
   "id": "107c278e-2765-4c52-a185-3bb47d7065a5",
   "metadata": {},
   "outputs": [],
   "source": []
  }
 ],
 "metadata": {
  "kernelspec": {
   "display_name": "Python 3 (ipykernel)",
   "language": "python",
   "name": "python3"
  },
  "language_info": {
   "codemirror_mode": {
    "name": "ipython",
    "version": 3
   },
   "file_extension": ".py",
   "mimetype": "text/x-python",
   "name": "python",
   "nbconvert_exporter": "python",
   "pygments_lexer": "ipython3",
   "version": "3.12.4"
  }
 },
 "nbformat": 4,
 "nbformat_minor": 5
}
